{
    "cells": [
        {
            "cell_type": "code",
            "execution_count": 7,
            "metadata": {},
            "outputs": [
                {
                    "name": "stdout",
                    "output_type": "stream",
                    "text": [
                        "The autoreload extension is already loaded. To reload it, use:\n",
                        "  %reload_ext autoreload\n"
                    ]
                }
            ],
            "source": [
                "%load_ext autoreload\n",
                "%autoreload 2"
            ]
        },
        {
            "cell_type": "markdown",
            "metadata": {},
            "source": [
                "# Purpose\n",
                "\n",
                "This notebook demonstrates the model experimentation and finalization. It covers EDA, outlier treatment, transformation, training and model evaluation."
            ]
        },
        {
            "cell_type": "markdown",
            "metadata": {},
            "source": [
                "# Imports"
            ]
        },
        {
            "cell_type": "code",
            "execution_count": 8,
            "metadata": {},
            "outputs": [
                {
                    "name": "stderr",
                    "output_type": "stream",
                    "text": [
                        "WARNING:param.panel_extension: bokeh extension not recognized and will be skipped.\n"
                    ]
                },
                {
                    "data": {
                        "application/javascript": "(function(root) {\n  function now() {\n    return new Date();\n  }\n\n  var force = true;\n\n  if (typeof root._bokeh_onload_callbacks === \"undefined\" || force === true) {\n    root._bokeh_onload_callbacks = [];\n    root._bokeh_is_loading = undefined;\n  }\n\n  if (typeof (root._bokeh_timeout) === \"undefined\" || force === true) {\n    root._bokeh_timeout = Date.now() + 5000;\n    root._bokeh_failed_load = false;\n  }\n\n  function run_callbacks() {\n    try {\n      root._bokeh_onload_callbacks.forEach(function(callback) {\n        if (callback != null)\n          callback();\n      });\n    } finally {\n      delete root._bokeh_onload_callbacks\n    }\n    console.debug(\"Bokeh: all callbacks have finished\");\n  }\n\n  function load_libs(css_urls, js_urls, js_modules, callback) {\n    if (css_urls == null) css_urls = [];\n    if (js_urls == null) js_urls = [];\n    if (js_modules == null) js_modules = [];\n\n    root._bokeh_onload_callbacks.push(callback);\n    if (root._bokeh_is_loading > 0) {\n      console.debug(\"Bokeh: BokehJS is being loaded, scheduling callback at\", now());\n      return null;\n    }\n    if (js_urls.length === 0 && js_modules.length === 0) {\n      run_callbacks();\n      return null;\n    }\n    console.debug(\"Bokeh: BokehJS not loaded, scheduling load and callback at\", now());\n\n    function on_load() {\n      root._bokeh_is_loading--;\n      if (root._bokeh_is_loading === 0) {\n        console.debug(\"Bokeh: all BokehJS libraries/stylesheets loaded\");\n        run_callbacks()\n      }\n    }\n\n    function on_error() {\n      console.error(\"failed to load \" + url);\n    }\n\n    for (var i = 0; i < css_urls.length; i++) {\n      var url = css_urls[i];\n      const element = document.createElement(\"link\");\n      element.onload = on_load;\n      element.onerror = on_error;\n      element.rel = \"stylesheet\";\n      element.type = \"text/css\";\n      element.href = url;\n      console.debug(\"Bokeh: injecting link tag for BokehJS stylesheet: \", url);\n      document.body.appendChild(element);\n    }\n\n    var skip = [];\n    if (window.requirejs) {\n      window.requirejs.config({'packages': {}, 'paths': {'gridstack': 'https://cdn.jsdelivr.net/npm/gridstack@4.2.5/dist/gridstack-h5', 'notyf': 'https://cdn.jsdelivr.net/npm/notyf@3/notyf.min'}, 'shim': {'gridstack': {'exports': 'GridStack'}}});\n      require([\"gridstack\"], function(GridStack) {\n\twindow.GridStack = GridStack\n\ton_load()\n      })\n      require([\"notyf\"], function() {\n\ton_load()\n      })\n      root._bokeh_is_loading = css_urls.length + 2;\n    } else {\n      root._bokeh_is_loading = css_urls.length + js_urls.length + js_modules.length;\n    }    if (((window['GridStack'] !== undefined) && (!(window['GridStack'] instanceof HTMLElement))) || window.requirejs) {\n      var urls = ['https://cdn.holoviz.org/panel/0.14.4/dist/bundled/gridstack/gridstack@4.2.5/dist/gridstack-h5.js'];\n      for (var i = 0; i < urls.length; i++) {\n        skip.push(urls[i])\n      }\n    }    if (((window['Notyf'] !== undefined) && (!(window['Notyf'] instanceof HTMLElement))) || window.requirejs) {\n      var urls = ['https://cdn.holoviz.org/panel/0.14.4/dist/bundled/notificationarea/notyf@3/notyf.min.js'];\n      for (var i = 0; i < urls.length; i++) {\n        skip.push(urls[i])\n      }\n    }    for (var i = 0; i < js_urls.length; i++) {\n      var url = js_urls[i];\n      if (skip.indexOf(url) >= 0) {\n\tif (!window.requirejs) {\n\t  on_load();\n\t}\n\tcontinue;\n      }\n      var element = document.createElement('script');\n      element.onload = on_load;\n      element.onerror = on_error;\n      element.async = false;\n      element.src = url;\n      console.debug(\"Bokeh: injecting script tag for BokehJS library: \", url);\n      document.head.appendChild(element);\n    }\n    for (var i = 0; i < js_modules.length; i++) {\n      var url = js_modules[i];\n      if (skip.indexOf(url) >= 0) {\n\tif (!window.requirejs) {\n\t  on_load();\n\t}\n\tcontinue;\n      }\n      var element = document.createElement('script');\n      element.onload = on_load;\n      element.onerror = on_error;\n      element.async = false;\n      element.src = url;\n      element.type = \"module\";\n      console.debug(\"Bokeh: injecting script tag for BokehJS library: \", url);\n      document.head.appendChild(element);\n    }\n    if (!js_urls.length && !js_modules.length) {\n      on_load()\n    }\n  };\n\n  function inject_raw_css(css) {\n    const element = document.createElement(\"style\");\n    element.appendChild(document.createTextNode(css));\n    document.body.appendChild(element);\n  }\n\n  var js_urls = [\"https://cdn.bokeh.org/bokeh/release/bokeh-2.4.3.min.js\", \"https://cdn.bokeh.org/bokeh/release/bokeh-gl-2.4.3.min.js\", \"https://cdn.bokeh.org/bokeh/release/bokeh-widgets-2.4.3.min.js\", \"https://cdn.bokeh.org/bokeh/release/bokeh-tables-2.4.3.min.js\", \"https://cdn.bokeh.org/bokeh/release/bokeh-mathjax-2.4.3.min.js\", \"https://unpkg.com/@holoviz/panel@0.14.4/dist/panel.min.js\"];\n  var js_modules = [];\n  var css_urls = [\"https://cdn.holoviz.org/panel/0.14.4/dist/css/card.css\", \"https://cdn.holoviz.org/panel/0.14.4/dist/css/loading.css\", \"https://cdn.holoviz.org/panel/0.14.4/dist/css/dataframe.css\", \"https://cdn.holoviz.org/panel/0.14.4/dist/css/alerts.css\", \"https://cdn.holoviz.org/panel/0.14.4/dist/css/json.css\", \"https://cdn.holoviz.org/panel/0.14.4/dist/css/widgets.css\", \"https://cdn.holoviz.org/panel/0.14.4/dist/css/markdown.css\", \"https://cdn.holoviz.org/panel/0.14.4/dist/css/debugger.css\"];\n  var inline_js = [    function(Bokeh) {\n      inject_raw_css(\"\\n    .bk.pn-loading.arc:before {\\n      background-image: url(\\\"data:image/svg+xml;base64,PHN2ZyB4bWxucz0iaHR0cDovL3d3dy53My5vcmcvMjAwMC9zdmciIHN0eWxlPSJtYXJnaW46IGF1dG87IGJhY2tncm91bmQ6IG5vbmU7IGRpc3BsYXk6IGJsb2NrOyBzaGFwZS1yZW5kZXJpbmc6IGF1dG87IiB2aWV3Qm94PSIwIDAgMTAwIDEwMCIgcHJlc2VydmVBc3BlY3RSYXRpbz0ieE1pZFlNaWQiPiAgPGNpcmNsZSBjeD0iNTAiIGN5PSI1MCIgZmlsbD0ibm9uZSIgc3Ryb2tlPSIjYzNjM2MzIiBzdHJva2Utd2lkdGg9IjEwIiByPSIzNSIgc3Ryb2tlLWRhc2hhcnJheT0iMTY0LjkzMzYxNDMxMzQ2NDE1IDU2Ljk3Nzg3MTQzNzgyMTM4Ij4gICAgPGFuaW1hdGVUcmFuc2Zvcm0gYXR0cmlidXRlTmFtZT0idHJhbnNmb3JtIiB0eXBlPSJyb3RhdGUiIHJlcGVhdENvdW50PSJpbmRlZmluaXRlIiBkdXI9IjFzIiB2YWx1ZXM9IjAgNTAgNTA7MzYwIDUwIDUwIiBrZXlUaW1lcz0iMDsxIj48L2FuaW1hdGVUcmFuc2Zvcm0+ICA8L2NpcmNsZT48L3N2Zz4=\\\");\\n      background-size: auto calc(min(50%, 400px));\\n    }\\n    \");\n    },    function(Bokeh) {\n      Bokeh.set_log_level(\"info\");\n    },\nfunction(Bokeh) {} // ensure no trailing comma for IE\n  ];\n\n  function run_inline_js() {\n    if ((root.Bokeh !== undefined) || (force === true)) {\n      for (var i = 0; i < inline_js.length; i++) {\n        inline_js[i].call(root, root.Bokeh);\n      }} else if (Date.now() < root._bokeh_timeout) {\n      setTimeout(run_inline_js, 100);\n    } else if (!root._bokeh_failed_load) {\n      console.log(\"Bokeh: BokehJS failed to load within specified timeout.\");\n      root._bokeh_failed_load = true;\n    }\n  }\n\n  if (root._bokeh_is_loading === 0) {\n    console.debug(\"Bokeh: BokehJS loaded, going straight to plotting\");\n    run_inline_js();\n  } else {\n    load_libs(css_urls, js_urls, js_modules, function() {\n      console.debug(\"Bokeh: BokehJS plotting callback run at\", now());\n      run_inline_js();\n    });\n  }\n}(window));",
                        "application/vnd.holoviews_load.v0+json": ""
                    },
                    "metadata": {},
                    "output_type": "display_data"
                },
                {
                    "data": {
                        "application/javascript": "\nif ((window.PyViz === undefined) || (window.PyViz instanceof HTMLElement)) {\n  window.PyViz = {comms: {}, comm_status:{}, kernels:{}, receivers: {}, plot_index: []}\n}\n\n\n    function JupyterCommManager() {\n    }\n\n    JupyterCommManager.prototype.register_target = function(plot_id, comm_id, msg_handler) {\n      if (window.comm_manager || ((window.Jupyter !== undefined) && (Jupyter.notebook.kernel != null))) {\n        var comm_manager = window.comm_manager || Jupyter.notebook.kernel.comm_manager;\n        comm_manager.register_target(comm_id, function(comm) {\n          comm.on_msg(msg_handler);\n        });\n      } else if ((plot_id in window.PyViz.kernels) && (window.PyViz.kernels[plot_id])) {\n        window.PyViz.kernels[plot_id].registerCommTarget(comm_id, function(comm) {\n          comm.onMsg = msg_handler;\n        });\n      } else if (typeof google != 'undefined' && google.colab.kernel != null) {\n        google.colab.kernel.comms.registerTarget(comm_id, (comm) => {\n          var messages = comm.messages[Symbol.asyncIterator]();\n          function processIteratorResult(result) {\n            var message = result.value;\n            console.log(message)\n            var content = {data: message.data, comm_id};\n            var buffers = []\n            for (var buffer of message.buffers || []) {\n              buffers.push(new DataView(buffer))\n            }\n            var metadata = message.metadata || {};\n            var msg = {content, buffers, metadata}\n            msg_handler(msg);\n            return messages.next().then(processIteratorResult);\n          }\n          return messages.next().then(processIteratorResult);\n        })\n      }\n    }\n\n    JupyterCommManager.prototype.get_client_comm = function(plot_id, comm_id, msg_handler) {\n      if (comm_id in window.PyViz.comms) {\n        return window.PyViz.comms[comm_id];\n      } else if (window.comm_manager || ((window.Jupyter !== undefined) && (Jupyter.notebook.kernel != null))) {\n        var comm_manager = window.comm_manager || Jupyter.notebook.kernel.comm_manager;\n        var comm = comm_manager.new_comm(comm_id, {}, {}, {}, comm_id);\n        if (msg_handler) {\n          comm.on_msg(msg_handler);\n        }\n      } else if ((plot_id in window.PyViz.kernels) && (window.PyViz.kernels[plot_id])) {\n        var comm = window.PyViz.kernels[plot_id].connectToComm(comm_id);\n        comm.open();\n        if (msg_handler) {\n          comm.onMsg = msg_handler;\n        }\n      } else if (typeof google != 'undefined' && google.colab.kernel != null) {\n        var comm_promise = google.colab.kernel.comms.open(comm_id)\n        comm_promise.then((comm) => {\n          window.PyViz.comms[comm_id] = comm;\n          if (msg_handler) {\n            var messages = comm.messages[Symbol.asyncIterator]();\n            function processIteratorResult(result) {\n              var message = result.value;\n              var content = {data: message.data};\n              var metadata = message.metadata || {comm_id};\n              var msg = {content, metadata}\n              msg_handler(msg);\n              return messages.next().then(processIteratorResult);\n            }\n            return messages.next().then(processIteratorResult);\n          }\n        }) \n        var sendClosure = (data, metadata, buffers, disposeOnDone) => {\n          return comm_promise.then((comm) => {\n            comm.send(data, metadata, buffers, disposeOnDone);\n          });\n        };\n        var comm = {\n          send: sendClosure\n        };\n      }\n      window.PyViz.comms[comm_id] = comm;\n      return comm;\n    }\n    window.PyViz.comm_manager = new JupyterCommManager();\n    \n\n\nvar JS_MIME_TYPE = 'application/javascript';\nvar HTML_MIME_TYPE = 'text/html';\nvar EXEC_MIME_TYPE = 'application/vnd.holoviews_exec.v0+json';\nvar CLASS_NAME = 'output';\n\n/**\n * Render data to the DOM node\n */\nfunction render(props, node) {\n  var div = document.createElement(\"div\");\n  var script = document.createElement(\"script\");\n  node.appendChild(div);\n  node.appendChild(script);\n}\n\n/**\n * Handle when a new output is added\n */\nfunction handle_add_output(event, handle) {\n  var output_area = handle.output_area;\n  var output = handle.output;\n  if ((output.data == undefined) || (!output.data.hasOwnProperty(EXEC_MIME_TYPE))) {\n    return\n  }\n  var id = output.metadata[EXEC_MIME_TYPE][\"id\"];\n  var toinsert = output_area.element.find(\".\" + CLASS_NAME.split(' ')[0]);\n  if (id !== undefined) {\n    var nchildren = toinsert.length;\n    var html_node = toinsert[nchildren-1].children[0];\n    html_node.innerHTML = output.data[HTML_MIME_TYPE];\n    var scripts = [];\n    var nodelist = html_node.querySelectorAll(\"script\");\n    for (var i in nodelist) {\n      if (nodelist.hasOwnProperty(i)) {\n        scripts.push(nodelist[i])\n      }\n    }\n\n    scripts.forEach( function (oldScript) {\n      var newScript = document.createElement(\"script\");\n      var attrs = [];\n      var nodemap = oldScript.attributes;\n      for (var j in nodemap) {\n        if (nodemap.hasOwnProperty(j)) {\n          attrs.push(nodemap[j])\n        }\n      }\n      attrs.forEach(function(attr) { newScript.setAttribute(attr.name, attr.value) });\n      newScript.appendChild(document.createTextNode(oldScript.innerHTML));\n      oldScript.parentNode.replaceChild(newScript, oldScript);\n    });\n    if (JS_MIME_TYPE in output.data) {\n      toinsert[nchildren-1].children[1].textContent = output.data[JS_MIME_TYPE];\n    }\n    output_area._hv_plot_id = id;\n    if ((window.Bokeh !== undefined) && (id in Bokeh.index)) {\n      window.PyViz.plot_index[id] = Bokeh.index[id];\n    } else {\n      window.PyViz.plot_index[id] = null;\n    }\n  } else if (output.metadata[EXEC_MIME_TYPE][\"server_id\"] !== undefined) {\n    var bk_div = document.createElement(\"div\");\n    bk_div.innerHTML = output.data[HTML_MIME_TYPE];\n    var script_attrs = bk_div.children[0].attributes;\n    for (var i = 0; i < script_attrs.length; i++) {\n      toinsert[toinsert.length - 1].childNodes[1].setAttribute(script_attrs[i].name, script_attrs[i].value);\n    }\n    // store reference to server id on output_area\n    output_area._bokeh_server_id = output.metadata[EXEC_MIME_TYPE][\"server_id\"];\n  }\n}\n\n/**\n * Handle when an output is cleared or removed\n */\nfunction handle_clear_output(event, handle) {\n  var id = handle.cell.output_area._hv_plot_id;\n  var server_id = handle.cell.output_area._bokeh_server_id;\n  if (((id === undefined) || !(id in PyViz.plot_index)) && (server_id !== undefined)) { return; }\n  var comm = window.PyViz.comm_manager.get_client_comm(\"hv-extension-comm\", \"hv-extension-comm\", function () {});\n  if (server_id !== null) {\n    comm.send({event_type: 'server_delete', 'id': server_id});\n    return;\n  } else if (comm !== null) {\n    comm.send({event_type: 'delete', 'id': id});\n  }\n  delete PyViz.plot_index[id];\n  if ((window.Bokeh !== undefined) & (id in window.Bokeh.index)) {\n    var doc = window.Bokeh.index[id].model.document\n    doc.clear();\n    const i = window.Bokeh.documents.indexOf(doc);\n    if (i > -1) {\n      window.Bokeh.documents.splice(i, 1);\n    }\n  }\n}\n\n/**\n * Handle kernel restart event\n */\nfunction handle_kernel_cleanup(event, handle) {\n  delete PyViz.comms[\"hv-extension-comm\"];\n  window.PyViz.plot_index = {}\n}\n\n/**\n * Handle update_display_data messages\n */\nfunction handle_update_output(event, handle) {\n  handle_clear_output(event, {cell: {output_area: handle.output_area}})\n  handle_add_output(event, handle)\n}\n\nfunction register_renderer(events, OutputArea) {\n  function append_mime(data, metadata, element) {\n    // create a DOM node to render to\n    var toinsert = this.create_output_subarea(\n    metadata,\n    CLASS_NAME,\n    EXEC_MIME_TYPE\n    );\n    this.keyboard_manager.register_events(toinsert);\n    // Render to node\n    var props = {data: data, metadata: metadata[EXEC_MIME_TYPE]};\n    render(props, toinsert[0]);\n    element.append(toinsert);\n    return toinsert\n  }\n\n  events.on('output_added.OutputArea', handle_add_output);\n  events.on('output_updated.OutputArea', handle_update_output);\n  events.on('clear_output.CodeCell', handle_clear_output);\n  events.on('delete.Cell', handle_clear_output);\n  events.on('kernel_ready.Kernel', handle_kernel_cleanup);\n\n  OutputArea.prototype.register_mime_type(EXEC_MIME_TYPE, append_mime, {\n    safe: true,\n    index: 0\n  });\n}\n\nif (window.Jupyter !== undefined) {\n  try {\n    var events = require('base/js/events');\n    var OutputArea = require('notebook/js/outputarea').OutputArea;\n    if (OutputArea.prototype.mime_types().indexOf(EXEC_MIME_TYPE) == -1) {\n      register_renderer(events, OutputArea);\n    }\n  } catch(err) {\n  }\n}\n",
                        "application/vnd.holoviews_load.v0+json": ""
                    },
                    "metadata": {},
                    "output_type": "display_data"
                },
                {
                    "data": {
                        "text/html": [
                            "<style>.bk-root, .bk-root .bk:before, .bk-root .bk:after {\n",
                            "  font-family: var(--jp-ui-font-size1);\n",
                            "  font-size: var(--jp-ui-font-size1);\n",
                            "  color: var(--jp-ui-font-color1);\n",
                            "}\n",
                            "</style>"
                        ]
                    },
                    "metadata": {},
                    "output_type": "display_data"
                }
            ],
            "source": [
                "# Standard library Imports\n",
                "import sys\n",
                "import time\n",
                "import os\n",
                "import warnings\n",
                "import re\n",
                "import random\n",
                "import os.path as op\n",
                "\n",
                "\n",
                "# Third Party Imports\n",
                "import yaml\n",
                "import hvplot\n",
                "import pandas as pd\n",
                "import numpy as np\n",
                "import panel as pn\n",
                "import holoviews as hv\n",
                "from pyspark_dist_explore import Histogram, hist, distplot, pandas_histogram\n",
                "from IPython.display import display,display_html\n",
                "\n",
                "\n",
                "\n",
                "# Spark Imports\n",
                "from pyspark.sql import (\n",
                "    types as DT,\n",
                "    functions as F,\n",
                "    Window\n",
                ")\n",
                "\n",
                "from pyspark.ml import Pipeline\n",
                "from pyspark.ml.regression import RandomForestRegressor\n",
                "from pyspark.ml.evaluation import RegressionEvaluator\n",
                "from pyspark.mllib.evaluation import RegressionMetrics\n",
                "from pyspark.ml.tuning import (\n",
                "    ParamGridBuilder,\n",
                "    CrossValidator,\n",
                "    CrossValidatorModel\n",
                ")\n",
                "from pyspark.ml.feature import (\n",
                "    VectorAssembler,\n",
                "    StandardScaler,\n",
                "    StringIndexer,\n",
                "    OneHotEncoder,\n",
                "    Imputer\n",
                ")\n",
                "\n",
                "# Project Imports\n",
                "from ta_lib.pyspark import (\n",
                "    dp,\n",
                "    features,\n",
                "    model_gen,\n",
                "    model_eval,\n",
                "    eda,\n",
                "    handy_spark_cd\n",
                ")\n",
                "\n",
                "# Project Imports\n",
                "from ta_lib.pyspark.core import (\n",
                "    utils,\n",
                "    context\n",
                ")\n",
                "\n",
                "from ta_lib.pyspark.core.utils import save_model\n",
                "from ta_lib.pyspark.core.constants import DEFAULT_ARTIFACTS_PATH\n",
                "\n",
                "# Options\n",
                "random.seed(0)\n",
                "pn.extension('bokeh')\n",
                "pd.set_option('display.max_columns', None)\n",
                "warnings.filterwarnings('ignore')"
            ]
        },
        {
            "cell_type": "markdown",
            "metadata": {},
            "source": [
                "# Initialization\n",
                "\n",
                "`config.yml` is used to store all the parameters required for the template"
            ]
        },
        {
            "cell_type": "code",
            "execution_count": 9,
            "metadata": {},
            "outputs": [],
            "source": [
                "artifacts_folder = DEFAULT_ARTIFACTS_PATH"
            ]
        },
        {
            "cell_type": "code",
            "execution_count": 10,
            "metadata": {},
            "outputs": [
                {
                    "data": {
                        "text/plain": [
                            "{'all': {'core': 'default',\n",
                            "  'log_catalog': 'production',\n",
                            "  'data_catalog': 'remote',\n",
                            "  'job_catalog': 'local'},\n",
                            " 'spark': {'spark.executer.cores': 4, 'spark.cores.max': 4}}"
                        ]
                    },
                    "execution_count": 10,
                    "metadata": {},
                    "output_type": "execute_result"
                }
            ],
            "source": [
                "config_path = op.join(os.getcwd(),'conf', 'config.yml')\n",
                "with open(config_path, 'r') as fp:\n",
                "    config = yaml.safe_load(fp)\n",
                "config"
            ]
        },
        {
            "cell_type": "code",
            "execution_count": 11,
            "metadata": {},
            "outputs": [
                {
                    "data": {
                        "text/plain": [
                            "{'reference_date': datetime.date(2020, 8, 31),\n",
                            " 'num_days_prediction': 7,\n",
                            " 'raw': {'filesystem': 'file',\n",
                            "  'base_path': './../../data/raw/',\n",
                            "  'carrier_data_path': 'carrier_data.csv',\n",
                            "  'fuel_prices_data_path': 'fuel_prices.csv',\n",
                            "  'market_carrier_rates_data_path': 'market_carrier_rates_data.csv',\n",
                            "  'route_mapping_data_path': 'route_mapping.csv'},\n",
                            " 'clean': {'filesystem': 'file',\n",
                            "  'base_path': './../../data/cleaned/',\n",
                            "  'carrier_data_path': 'carrier_data',\n",
                            "  'fuel_prices_data_path': 'fuel_prices',\n",
                            "  'market_carrier_rates_data_path': 'market_carrier_rates',\n",
                            "  'final_routes_data_path': 'final_data',\n",
                            "  'trasnformed_routes_data_path': 'transformed_data'},\n",
                            " 'processed': {'filesystem': 'file',\n",
                            "  'base_path': './../../data/processed/',\n",
                            "  'train': 'train_carrier',\n",
                            "  'test': 'test_carrier',\n",
                            "  'preds': 'predictions_carrier'},\n",
                            " 'spark': {'spark.executer.cores': 4, 'spark.cores.max': 4}}"
                        ]
                    },
                    "execution_count": 11,
                    "metadata": {},
                    "output_type": "execute_result"
                }
            ],
            "source": [
                "data_config_path = op.join(os.getcwd(),'conf/data_catalog', 'local.yml')\n",
                "with open(data_config_path, 'r') as fp:\n",
                "    data_config = yaml.safe_load(fp)\n",
                "data_config"
            ]
        },
        {
            "cell_type": "markdown",
            "metadata": {},
            "source": [
                "## Create spark session\n",
                "\n",
                "`talib.pyspark.context` module is leveraged to build the sparksession so as to consider the spark session related params in the config file while building the session."
            ]
        },
        {
            "cell_type": "code",
            "execution_count": 12,
            "metadata": {},
            "outputs": [
                {
                    "name": "stdout",
                    "output_type": "stream",
                    "text": [
                        "CPU times: user 16.2 ms, sys: 0 ns, total: 16.2 ms\n",
                        "Wall time: 35.1 ms\n"
                    ]
                }
            ],
            "source": [
                "%%time\n",
                "session = context.CustomSparkSession(config)\n",
                "session.CreateSparkSession()\n",
                "spark = session.spark\n",
                "sc = session.sc.setLogLevel(\"ERROR\")\n"
            ]
        },
        {
            "attachments": {},
            "cell_type": "markdown",
            "metadata": {},
            "source": [
                "# Read the Train and Test Data"
            ]
        },
        {
            "cell_type": "code",
            "execution_count": 13,
            "metadata": {},
            "outputs": [
                {
                    "name": "stderr",
                    "output_type": "stream",
                    "text": [
                        "                                                                                \r"
                    ]
                },
                {
                    "data": {
                        "text/plain": [
                            "(100848, 43100)"
                        ]
                    },
                    "execution_count": 13,
                    "metadata": {},
                    "output_type": "execute_result"
                }
            ],
            "source": [
                "### %%time\n",
                "train_data_path = data_config['processed']['base_path'] + data_config['processed']['train']\n",
                "test_data_path = data_config['processed']['base_path'] + data_config['processed']['test']\n",
                "\n",
                "\n",
                "train_df = utils.read_data(\n",
                "    spark=spark,\n",
                "    paths=[train_data_path],\n",
                "    fs=data_config['processed']['filesystem'],\n",
                "    fmt=\"parquet\",\n",
                "    header=\"true\",\n",
                "    inferschema=\"true\"\n",
                ")\n",
                "test_df = utils.read_data(\n",
                "    spark=spark,\n",
                "    paths=[test_data_path],\n",
                "    fs=data_config['processed']['filesystem'],\n",
                "    fmt=\"parquet\",\n",
                "    header=\"true\",\n",
                "    inferschema=\"true\"\n",
                ")\n",
                "cols_to_drop = ['pickup_date']\n",
                "train_df = train_df.drop(*cols_to_drop)\n",
                "test_df = test_df.drop(*cols_to_drop)\n",
                "train_df.count(), test_df.count()"
            ]
        },
        {
            "cell_type": "markdown",
            "metadata": {},
            "source": [
                "# Identification of columns types in the Final dataframe"
            ]
        },
        {
            "cell_type": "code",
            "execution_count": 14,
            "metadata": {},
            "outputs": [
                {
                    "data": {},
                    "metadata": {},
                    "output_type": "display_data"
                },
                {
                    "data": {
                        "application/vnd.holoviews_exec.v0+json": "",
                        "text/html": [
                            "<div id='1002'>\n",
                            "  <div class=\"bk-root\" id=\"e2069778-809a-4bc5-a670-d9bc18869583\" data-root-id=\"1002\"></div>\n",
                            "</div>\n",
                            "<script type=\"application/javascript\">(function(root) {\n",
                            "  function embed_document(root) {\n",
                            "    var docs_json = {\"6b8a0d99-ad7e-4feb-a44e-e82ad6178832\":{\"defs\":[{\"extends\":null,\"module\":null,\"name\":\"ReactiveHTML1\",\"overrides\":[],\"properties\":[]},{\"extends\":null,\"module\":null,\"name\":\"FlexBox1\",\"overrides\":[],\"properties\":[{\"default\":\"flex-start\",\"kind\":null,\"name\":\"align_content\"},{\"default\":\"flex-start\",\"kind\":null,\"name\":\"align_items\"},{\"default\":\"row\",\"kind\":null,\"name\":\"flex_direction\"},{\"default\":\"wrap\",\"kind\":null,\"name\":\"flex_wrap\"},{\"default\":\"flex-start\",\"kind\":null,\"name\":\"justify_content\"}]},{\"extends\":null,\"module\":null,\"name\":\"GridStack1\",\"overrides\":[],\"properties\":[{\"default\":\"warn\",\"kind\":null,\"name\":\"mode\"},{\"default\":null,\"kind\":null,\"name\":\"ncols\"},{\"default\":null,\"kind\":null,\"name\":\"nrows\"},{\"default\":true,\"kind\":null,\"name\":\"allow_resize\"},{\"default\":true,\"kind\":null,\"name\":\"allow_drag\"},{\"default\":[],\"kind\":null,\"name\":\"state\"}]},{\"extends\":null,\"module\":null,\"name\":\"click1\",\"overrides\":[],\"properties\":[{\"default\":\"\",\"kind\":null,\"name\":\"terminal_output\"},{\"default\":\"\",\"kind\":null,\"name\":\"debug_name\"},{\"default\":0,\"kind\":null,\"name\":\"clears\"}]},{\"extends\":null,\"module\":null,\"name\":\"NotificationAreaBase1\",\"overrides\":[],\"properties\":[{\"default\":\"bottom-right\",\"kind\":null,\"name\":\"position\"},{\"default\":0,\"kind\":null,\"name\":\"_clear\"}]},{\"extends\":null,\"module\":null,\"name\":\"NotificationArea1\",\"overrides\":[],\"properties\":[{\"default\":[],\"kind\":null,\"name\":\"notifications\"},{\"default\":\"bottom-right\",\"kind\":null,\"name\":\"position\"},{\"default\":0,\"kind\":null,\"name\":\"_clear\"},{\"default\":[{\"background\":\"#ffc107\",\"icon\":{\"className\":\"fas fa-exclamation-triangle\",\"color\":\"white\",\"tagName\":\"i\"},\"type\":\"warning\"},{\"background\":\"#007bff\",\"icon\":{\"className\":\"fas fa-info-circle\",\"color\":\"white\",\"tagName\":\"i\"},\"type\":\"info\"}],\"kind\":null,\"name\":\"types\"}]},{\"extends\":null,\"module\":null,\"name\":\"Notification\",\"overrides\":[],\"properties\":[{\"default\":null,\"kind\":null,\"name\":\"background\"},{\"default\":3000,\"kind\":null,\"name\":\"duration\"},{\"default\":null,\"kind\":null,\"name\":\"icon\"},{\"default\":\"\",\"kind\":null,\"name\":\"message\"},{\"default\":null,\"kind\":null,\"name\":\"notification_type\"},{\"default\":false,\"kind\":null,\"name\":\"_destroyed\"}]},{\"extends\":null,\"module\":null,\"name\":\"TemplateActions1\",\"overrides\":[],\"properties\":[{\"default\":0,\"kind\":null,\"name\":\"open_modal\"},{\"default\":0,\"kind\":null,\"name\":\"close_modal\"}]},{\"extends\":null,\"module\":null,\"name\":\"MaterialTemplateActions1\",\"overrides\":[],\"properties\":[{\"default\":0,\"kind\":null,\"name\":\"open_modal\"},{\"default\":0,\"kind\":null,\"name\":\"close_modal\"}]}],\"roots\":{\"references\":[{\"attributes\":{\"margin\":[5,20,5,5],\"name\":\"numerical\",\"text\":\"[\\\"trip_id\\\", \\\"distance\\\", \\\"market_rate_per_mile\\\", \\\"national_price\\\", \\\"pastmonth_avg\\\", \\\"pastweek_avg\\\", \\\"carrier_price\\\"]\"},\"id\":\"1003\",\"type\":\"panel.models.markup.JSON\"},{\"attributes\":{\"margin\":[5,20,5,5],\"name\":\"cat_cols\",\"text\":\"[\\\"vehicle_type\\\", \\\"origin_zip\\\", \\\"destination_zip\\\", \\\"origin_market_id\\\", \\\"destination_market_id\\\"]\"},\"id\":\"1005\",\"type\":\"panel.models.markup.JSON\"},{\"attributes\":{\"child\":{\"id\":\"1009\"},\"name\":\"bool_cols\",\"title\":\"bool_cols\"},\"id\":\"1010\",\"type\":\"Panel\"},{\"attributes\":{\"reload\":false},\"id\":\"1012\",\"type\":\"panel.models.location.Location\"},{\"attributes\":{\"child\":{\"id\":\"1007\"},\"name\":\"date_cols\",\"title\":\"date_cols\"},\"id\":\"1008\",\"type\":\"Panel\"},{\"attributes\":{\"child\":{\"id\":\"1005\"},\"name\":\"cat_cols\",\"title\":\"cat_cols\"},\"id\":\"1006\",\"type\":\"Panel\"},{\"attributes\":{\"margin\":[5,20,5,5],\"name\":\"bool_cols\",\"text\":\"{}\"},\"id\":\"1009\",\"type\":\"panel.models.markup.JSON\"},{\"attributes\":{\"margin\":[0,0,0,0],\"tabs\":[{\"id\":\"1004\"},{\"id\":\"1006\"},{\"id\":\"1008\"},{\"id\":\"1010\"}]},\"id\":\"1002\",\"type\":\"panel.models.tabs.Tabs\"},{\"attributes\":{\"client_comm_id\":\"dfc3c61c2bf148c29d520d144400be9d\",\"comm_id\":\"55e5d9c0fe6d45969d608c39d852f05c\",\"plot_id\":\"1002\"},\"id\":\"1011\",\"type\":\"panel.models.comm_manager.CommManager\"},{\"attributes\":{\"child\":{\"id\":\"1003\"},\"name\":\"numerical\",\"title\":\"numerical\"},\"id\":\"1004\",\"type\":\"Panel\"},{\"attributes\":{\"margin\":[5,20,5,5],\"name\":\"date_cols\",\"text\":\"{}\"},\"id\":\"1007\",\"type\":\"panel.models.markup.JSON\"}],\"root_ids\":[\"1002\",\"1011\",\"1012\"]},\"title\":\"Bokeh Application\",\"version\":\"2.4.3\"}};\n",
                            "    var render_items = [{\"docid\":\"6b8a0d99-ad7e-4feb-a44e-e82ad6178832\",\"root_ids\":[\"1002\"],\"roots\":{\"1002\":\"e2069778-809a-4bc5-a670-d9bc18869583\"}}];\n",
                            "    root.Bokeh.embed.embed_items_notebook(docs_json, render_items);\n",
                            "    for (const render_item of render_items) {\n",
                            "      for (const root_id of render_item.root_ids) {\n",
                            "\tconst id_el = document.getElementById(root_id)\n",
                            "\tif (id_el.children.length && (id_el.children[0].className === 'bk-root')) {\n",
                            "\t  const root_el = id_el.children[0]\n",
                            "\t  root_el.id = root_el.id + '-rendered'\n",
                            "\t}\n",
                            "      }\n",
                            "    }\n",
                            "  }\n",
                            "  if (root.Bokeh !== undefined && root.Bokeh.Panel !== undefined) {\n",
                            "    embed_document(root);\n",
                            "  } else {\n",
                            "    var attempts = 0;\n",
                            "    var timer = setInterval(function(root) {\n",
                            "      if (root.Bokeh !== undefined && root.Bokeh.Panel !== undefined) {\n",
                            "        clearInterval(timer);\n",
                            "        embed_document(root);\n",
                            "      } else if (document.readyState == \"complete\") {\n",
                            "        attempts++;\n",
                            "        if (attempts > 200) {\n",
                            "          clearInterval(timer);\n",
                            "          console.log(\"Bokeh: ERROR: Unable to run BokehJS code because BokehJS library is missing\");\n",
                            "        }\n",
                            "      }\n",
                            "    }, 25, root)\n",
                            "  }\n",
                            "})(window);</script>"
                        ],
                        "text/plain": [
                            "Tabs\n",
                            "    [0] JSON(list, name='numerical')\n",
                            "    [1] JSON(list, name='cat_cols')\n",
                            "    [2] JSON(list, name='date_cols')\n",
                            "    [3] JSON(list, name='bool_cols')"
                        ]
                    },
                    "execution_count": 14,
                    "metadata": {
                        "application/vnd.holoviews_exec.v0+json": {
                            "id": "1002"
                        }
                    },
                    "output_type": "execute_result"
                }
            ],
            "source": [
                "### %%time\n",
                "types = {\n",
                "    'numerical': dp.list_numerical_columns,\n",
                "    'cat_cols': dp.list_categorical_columns,\n",
                "    'date_cols': dp.list_datelike_columns,\n",
                "    'bool_cols': dp.list_boolean_columns\n",
                "}\n",
                "utils.display_as_tabs([(k,v(train_df)) for k,v in types.items()])"
            ]
        },
        {
            "cell_type": "code",
            "execution_count": 15,
            "metadata": {},
            "outputs": [],
            "source": [
                "id_cols = 'trip_id'\n",
                "num_cols = types['numerical'](train_df)\n",
                "num_cols = [x for x in num_cols if x not in id_cols]\n",
                "cat_cols = types['cat_cols'](train_df)"
            ]
        },
        {
            "cell_type": "markdown",
            "metadata": {},
            "source": [
                "# Feature Analysis of the data"
            ]
        },
        {
            "cell_type": "code",
            "execution_count": 16,
            "metadata": {},
            "outputs": [
                {
                    "name": "stderr",
                    "output_type": "stream",
                    "text": [
                        "[Stage 164:===========>                                             (1 + 4) / 5]\r"
                    ]
                },
                {
                    "name": "stdout",
                    "output_type": "stream",
                    "text": [
                        "CPU times: user 1.4 s, sys: 1.35 s, total: 2.75 s\n",
                        "Wall time: 1min 59s\n"
                    ]
                },
                {
                    "name": "stderr",
                    "output_type": "stream",
                    "text": [
                        "                                                                                \r"
                    ]
                },
                {
                    "data": {},
                    "metadata": {},
                    "output_type": "display_data"
                },
                {
                    "data": {
                        "application/vnd.holoviews_exec.v0+json": "",
                        "text/html": [
                            "<div id='1013'>\n",
                            "  <div class=\"bk-root\" id=\"79d76d7f-77fd-40f1-a80b-b39886cc53c3\" data-root-id=\"1013\"></div>\n",
                            "</div>\n",
                            "<script type=\"application/javascript\">(function(root) {\n",
                            "  function embed_document(root) {\n",
                            "    var docs_json = {\"4431caba-f7f8-4869-847b-7bb28a1a8487\":{\"defs\":[{\"extends\":null,\"module\":null,\"name\":\"ReactiveHTML1\",\"overrides\":[],\"properties\":[]},{\"extends\":null,\"module\":null,\"name\":\"FlexBox1\",\"overrides\":[],\"properties\":[{\"default\":\"flex-start\",\"kind\":null,\"name\":\"align_content\"},{\"default\":\"flex-start\",\"kind\":null,\"name\":\"align_items\"},{\"default\":\"row\",\"kind\":null,\"name\":\"flex_direction\"},{\"default\":\"wrap\",\"kind\":null,\"name\":\"flex_wrap\"},{\"default\":\"flex-start\",\"kind\":null,\"name\":\"justify_content\"}]},{\"extends\":null,\"module\":null,\"name\":\"GridStack1\",\"overrides\":[],\"properties\":[{\"default\":\"warn\",\"kind\":null,\"name\":\"mode\"},{\"default\":null,\"kind\":null,\"name\":\"ncols\"},{\"default\":null,\"kind\":null,\"name\":\"nrows\"},{\"default\":true,\"kind\":null,\"name\":\"allow_resize\"},{\"default\":true,\"kind\":null,\"name\":\"allow_drag\"},{\"default\":[],\"kind\":null,\"name\":\"state\"}]},{\"extends\":null,\"module\":null,\"name\":\"click1\",\"overrides\":[],\"properties\":[{\"default\":\"\",\"kind\":null,\"name\":\"terminal_output\"},{\"default\":\"\",\"kind\":null,\"name\":\"debug_name\"},{\"default\":0,\"kind\":null,\"name\":\"clears\"}]},{\"extends\":null,\"module\":null,\"name\":\"NotificationAreaBase1\",\"overrides\":[],\"properties\":[{\"default\":\"bottom-right\",\"kind\":null,\"name\":\"position\"},{\"default\":0,\"kind\":null,\"name\":\"_clear\"}]},{\"extends\":null,\"module\":null,\"name\":\"NotificationArea1\",\"overrides\":[],\"properties\":[{\"default\":[],\"kind\":null,\"name\":\"notifications\"},{\"default\":\"bottom-right\",\"kind\":null,\"name\":\"position\"},{\"default\":0,\"kind\":null,\"name\":\"_clear\"},{\"default\":[{\"background\":\"#ffc107\",\"icon\":{\"className\":\"fas fa-exclamation-triangle\",\"color\":\"white\",\"tagName\":\"i\"},\"type\":\"warning\"},{\"background\":\"#007bff\",\"icon\":{\"className\":\"fas fa-info-circle\",\"color\":\"white\",\"tagName\":\"i\"},\"type\":\"info\"}],\"kind\":null,\"name\":\"types\"}]},{\"extends\":null,\"module\":null,\"name\":\"Notification\",\"overrides\":[],\"properties\":[{\"default\":null,\"kind\":null,\"name\":\"background\"},{\"default\":3000,\"kind\":null,\"name\":\"duration\"},{\"default\":null,\"kind\":null,\"name\":\"icon\"},{\"default\":\"\",\"kind\":null,\"name\":\"message\"},{\"default\":null,\"kind\":null,\"name\":\"notification_type\"},{\"default\":false,\"kind\":null,\"name\":\"_destroyed\"}]},{\"extends\":null,\"module\":null,\"name\":\"TemplateActions1\",\"overrides\":[],\"properties\":[{\"default\":0,\"kind\":null,\"name\":\"open_modal\"},{\"default\":0,\"kind\":null,\"name\":\"close_modal\"}]},{\"extends\":null,\"module\":null,\"name\":\"MaterialTemplateActions1\",\"overrides\":[],\"properties\":[{\"default\":0,\"kind\":null,\"name\":\"open_modal\"},{\"default\":0,\"kind\":null,\"name\":\"close_modal\"}]}],\"roots\":{\"references\":[{\"attributes\":{},\"id\":\"1110\",\"type\":\"UnionRenderers\"},{\"attributes\":{},\"id\":\"1100\",\"type\":\"StringFormatter\"},{\"attributes\":{},\"id\":\"1101\",\"type\":\"StringEditor\"},{\"attributes\":{},\"id\":\"1047\",\"type\":\"StringFormatter\"},{\"attributes\":{\"editor\":{\"id\":\"1086\"},\"field\":\"nunique\",\"formatter\":{\"id\":\"1085\"},\"title\":\"nunique\",\"width\":0},\"id\":\"1087\",\"type\":\"TableColumn\"},{\"attributes\":{},\"id\":\"1062\",\"type\":\"StringFormatter\"},{\"attributes\":{},\"id\":\"1090\",\"type\":\"StringFormatter\"},{\"attributes\":{\"editor\":{\"id\":\"1048\"},\"field\":\"samples\",\"formatter\":{\"id\":\"1047\"},\"title\":\"samples\",\"width\":0},\"id\":\"1049\",\"type\":\"TableColumn\"},{\"attributes\":{\"editor\":{\"id\":\"1058\"},\"field\":\"25%\",\"formatter\":{\"id\":\"1057\"},\"title\":\"25%\",\"width\":0},\"id\":\"1059\",\"type\":\"TableColumn\"},{\"attributes\":{},\"id\":\"1052\",\"type\":\"StringFormatter\"},{\"attributes\":{\"editor\":{\"id\":\"1023\"},\"field\":\"count\",\"formatter\":{\"id\":\"1022\"},\"title\":\"count\",\"width\":0},\"id\":\"1024\",\"type\":\"TableColumn\"},{\"attributes\":{\"child\":{\"id\":\"1105\"},\"name\":\"categorical_analysis\",\"title\":\"categorical_analysis\"},\"id\":\"1109\",\"type\":\"Panel\"},{\"attributes\":{},\"id\":\"1058\",\"type\":\"StringEditor\"},{\"attributes\":{\"child\":{\"id\":\"1072\"},\"name\":\"numerical_analysis\",\"title\":\"numerical_analysis\"},\"id\":\"1076\",\"type\":\"Panel\"},{\"attributes\":{},\"id\":\"1032\",\"type\":\"StringFormatter\"},{\"attributes\":{},\"id\":\"1081\",\"type\":\"CellEditor\"},{\"attributes\":{\"editor\":{\"id\":\"1028\"},\"field\":\"mean\",\"formatter\":{\"id\":\"1027\"},\"title\":\"mean\",\"width\":0},\"id\":\"1029\",\"type\":\"TableColumn\"},{\"attributes\":{\"source\":{\"id\":\"1014\"}},\"id\":\"1074\",\"type\":\"CDSView\"},{\"attributes\":{},\"id\":\"1091\",\"type\":\"StringEditor\"},{\"attributes\":{\"editor\":{\"id\":\"1081\"},\"field\":\"index\",\"formatter\":{\"id\":\"1079\"},\"title\":\"index\",\"width\":0},\"id\":\"1082\",\"type\":\"TableColumn\"},{\"attributes\":{},\"id\":\"1057\",\"type\":\"StringFormatter\"},{\"attributes\":{},\"id\":\"1079\",\"type\":\"StringFormatter\"},{\"attributes\":{\"editor\":{\"id\":\"1063\"},\"field\":\"50%\",\"formatter\":{\"id\":\"1062\"},\"title\":\"50%\",\"width\":0},\"id\":\"1064\",\"type\":\"TableColumn\"},{\"attributes\":{},\"id\":\"1048\",\"type\":\"StringEditor\"},{\"attributes\":{},\"id\":\"1086\",\"type\":\"StringEditor\"},{\"attributes\":{},\"id\":\"1028\",\"type\":\"StringEditor\"},{\"attributes\":{\"source\":{\"id\":\"1077\"}},\"id\":\"1107\",\"type\":\"CDSView\"},{\"attributes\":{},\"id\":\"1016\",\"type\":\"StringFormatter\"},{\"attributes\":{\"editor\":{\"id\":\"1038\"},\"field\":\"min\",\"formatter\":{\"id\":\"1037\"},\"title\":\"min\",\"width\":0},\"id\":\"1039\",\"type\":\"TableColumn\"},{\"attributes\":{\"editor\":{\"id\":\"1053\"},\"field\":\"nunique\",\"formatter\":{\"id\":\"1052\"},\"title\":\"nunique\",\"width\":0},\"id\":\"1054\",\"type\":\"TableColumn\"},{\"attributes\":{\"margin\":[0,0,0,0],\"tabs\":[{\"id\":\"1076\"},{\"id\":\"1109\"}]},\"id\":\"1013\",\"type\":\"panel.models.tabs.Tabs\"},{\"attributes\":{},\"id\":\"1033\",\"type\":\"StringEditor\"},{\"attributes\":{},\"id\":\"1023\",\"type\":\"StringEditor\"},{\"attributes\":{\"editor\":{\"id\":\"1018\"},\"field\":\"index\",\"formatter\":{\"id\":\"1016\"},\"title\":\"index\",\"width\":0},\"id\":\"1019\",\"type\":\"TableColumn\"},{\"attributes\":{\"editor\":{\"id\":\"1033\"},\"field\":\"stddev\",\"formatter\":{\"id\":\"1032\"},\"title\":\"stddev\",\"width\":0},\"id\":\"1034\",\"type\":\"TableColumn\"},{\"attributes\":{},\"id\":\"1112\",\"type\":\"UnionRenderers\"},{\"attributes\":{},\"id\":\"1022\",\"type\":\"StringFormatter\"},{\"attributes\":{},\"id\":\"1067\",\"type\":\"StringFormatter\"},{\"attributes\":{},\"id\":\"1053\",\"type\":\"StringEditor\"},{\"attributes\":{},\"id\":\"1068\",\"type\":\"StringEditor\"},{\"attributes\":{\"client_comm_id\":\"2b5ec556c87d4790978060ce6bf44d32\",\"comm_id\":\"3edb6da5481c44dba5da95f4800b3ff3\",\"plot_id\":\"1013\"},\"id\":\"1122\",\"type\":\"panel.models.comm_manager.CommManager\"},{\"attributes\":{\"data\":{\"index\":[\"destination_market_id\",\"destination_zip\",\"origin_market_id\",\"origin_zip\",\"vehicle_type\"],\"mode\":[\"TX_HOU\",\"77029\",\"PA_PHI\",\"74066\",\"1\"],\"mode_freq\":[\"6370\",\"2576\",\"8504\",\"7389\",\"93873\"],\"nunique\":[\"131\",\"5763\",\"130\",\"3889\",\"3\"],\"samples\":[\"['IN_TER', 'NC_CHA', 'FL_JAX', 'SD_SXF', 'TN_MEM']\",\"['97128', '66616', '28675', '28117', '55321']\",\"['IN_TER', 'FL_JAX', 'NC_CHA', 'SD_SXF', 'TN_MEM']\",\"['66616', '90022', '1436', '38672', '29210']\",\"['3', '1', '2']\"]},\"selected\":{\"id\":\"1078\"},\"selection_policy\":{\"id\":\"1112\"}},\"id\":\"1077\",\"type\":\"ColumnDataSource\"},{\"attributes\":{},\"id\":\"1042\",\"type\":\"StringFormatter\"},{\"attributes\":{},\"id\":\"1037\",\"type\":\"StringFormatter\"},{\"attributes\":{},\"id\":\"1096\",\"type\":\"StringEditor\"},{\"attributes\":{\"editor\":{\"id\":\"1101\"},\"field\":\"mode_freq\",\"formatter\":{\"id\":\"1100\"},\"title\":\"mode_freq\",\"width\":0},\"id\":\"1102\",\"type\":\"TableColumn\"},{\"attributes\":{\"indices\":[]},\"id\":\"1078\",\"type\":\"Selection\"},{\"attributes\":{\"editor\":{\"id\":\"1091\"},\"field\":\"samples\",\"formatter\":{\"id\":\"1090\"},\"title\":\"samples\",\"width\":0},\"id\":\"1092\",\"type\":\"TableColumn\"},{\"attributes\":{},\"id\":\"1038\",\"type\":\"StringEditor\"},{\"attributes\":{\"editor\":{\"id\":\"1068\"},\"field\":\"75%\",\"formatter\":{\"id\":\"1067\"},\"title\":\"75%\",\"width\":0},\"id\":\"1069\",\"type\":\"TableColumn\"},{\"attributes\":{\"columns\":[{\"id\":\"1019\"},{\"id\":\"1024\"},{\"id\":\"1029\"},{\"id\":\"1034\"},{\"id\":\"1039\"},{\"id\":\"1044\"},{\"id\":\"1049\"},{\"id\":\"1054\"},{\"id\":\"1059\"},{\"id\":\"1064\"},{\"id\":\"1069\"}],\"editable\":true,\"height\":300,\"index_position\":null,\"margin\":[5,10,5,10],\"name\":\"numerical_analysis\",\"row_height\":40,\"sizing_mode\":\"fixed\",\"source\":{\"id\":\"1014\"},\"view\":{\"id\":\"1074\"},\"width\":1500},\"id\":\"1072\",\"type\":\"DataTable\"},{\"attributes\":{},\"id\":\"1043\",\"type\":\"StringEditor\"},{\"attributes\":{\"indices\":[]},\"id\":\"1015\",\"type\":\"Selection\"},{\"attributes\":{\"editor\":{\"id\":\"1043\"},\"field\":\"max\",\"formatter\":{\"id\":\"1042\"},\"title\":\"max\",\"width\":0},\"id\":\"1044\",\"type\":\"TableColumn\"},{\"attributes\":{},\"id\":\"1063\",\"type\":\"StringEditor\"},{\"attributes\":{\"columns\":[{\"id\":\"1082\"},{\"id\":\"1087\"},{\"id\":\"1092\"},{\"id\":\"1097\"},{\"id\":\"1102\"}],\"editable\":true,\"height\":300,\"index_position\":null,\"margin\":[5,10,5,10],\"name\":\"categorical_analysis\",\"row_height\":40,\"sizing_mode\":\"fixed\",\"source\":{\"id\":\"1077\"},\"view\":{\"id\":\"1107\"},\"width\":1500},\"id\":\"1105\",\"type\":\"DataTable\"},{\"attributes\":{\"editor\":{\"id\":\"1096\"},\"field\":\"mode\",\"formatter\":{\"id\":\"1095\"},\"title\":\"mode\",\"width\":0},\"id\":\"1097\",\"type\":\"TableColumn\"},{\"attributes\":{},\"id\":\"1027\",\"type\":\"StringFormatter\"},{\"attributes\":{\"data\":{\"25%\":[\"781.6175\",\"782.9844687500001\",\"55314\",\"773.7\",\"1.5299999999999998\",\"2.5069999999999997\",\"372.0\"],\"50%\":[\"1123.98\",\"1125.687547375\",\"111085\",\"1121.12\",\"1.93\",\"3.0060000000000002\",\"620.0\"],\"75%\":[\"1753.7055555555555\",\"1758.9166666666667\",\"157828\",\"1755.25\",\"2.45\",\"3.069\",\"921.98\"],\"count\":[\"100848\",\"100848\",\"100848\",\"100848\",\"100848\",\"100848\",\"100848\"],\"index\":[\"pastweek_avg\",\"pastmonth_avg\",\"trip_id\",\"carrier_price\",\"market_rate_per_mile\",\"national_price\",\"distance\"],\"max\":[\"19699.2\",\"19699.2\",\"217181\",\"23364.0\",\"491.07000000000005\",\"3.1710000000000003\",\"40700.0\"],\"mean\":[\"1413.6122850219015\",\"1415.503004428705\",\"108562.97317745518\",\"1410.5657380948908\",\"4.327257576071804\",\"2.856895684594586\",\"751.2604322346378\"],\"min\":[\"0.0\",\"0.0\",\"4\",\"-400.08\",\"0.8099999999999999\",\"2.386\",\"150.1\"],\"nunique\":[\"92932\",\"92810\",\"100848\",\"46856\",\"3151\",\"71\",\"18042\"],\"samples\":[\"[2055.1555555555556, 1773.7958333333333, 595.6382055555556, 996.9433333333333, 1011.508]\",\"[2059.545185185185, 1773.7958333333333, 996.9433333333333, 1011.508, 643.2950000000001]\",\"[1088, 2659, 4818, 10206, 16386]\",\"[2021.4, 930.42, 2324.84, 3803.23, 2306.92]\",\"[2.1000000000000005, 1.3900000000000001, 2.86, 1.4800000000000002, 2.6599999999999993]\",\"[3.08, 2.983, 2.441, 3.0439999999999996, 3.1180000000000003]\",\"[165.39, 1193.86, 305.0, 1158.64, 220.7]\"],\"stddev\":[\"935.8378791094689\",\"935.8733925775734\",\"61331.25677461557\",\"949.4765534589008\",\"24.950270077127602\",\"0.27954480210805743\",\"571.5127569346209\"]},\"selected\":{\"id\":\"1015\"},\"selection_policy\":{\"id\":\"1110\"}},\"id\":\"1014\",\"type\":\"ColumnDataSource\"},{\"attributes\":{},\"id\":\"1018\",\"type\":\"CellEditor\"},{\"attributes\":{},\"id\":\"1095\",\"type\":\"StringFormatter\"},{\"attributes\":{},\"id\":\"1085\",\"type\":\"StringFormatter\"}],\"root_ids\":[\"1013\",\"1122\"]},\"title\":\"Bokeh Application\",\"version\":\"2.4.3\"}};\n",
                            "    var render_items = [{\"docid\":\"4431caba-f7f8-4869-847b-7bb28a1a8487\",\"root_ids\":[\"1013\"],\"roots\":{\"1013\":\"79d76d7f-77fd-40f1-a80b-b39886cc53c3\"}}];\n",
                            "    root.Bokeh.embed.embed_items_notebook(docs_json, render_items);\n",
                            "    for (const render_item of render_items) {\n",
                            "      for (const root_id of render_item.root_ids) {\n",
                            "\tconst id_el = document.getElementById(root_id)\n",
                            "\tif (id_el.children.length && (id_el.children[0].className === 'bk-root')) {\n",
                            "\t  const root_el = id_el.children[0]\n",
                            "\t  root_el.id = root_el.id + '-rendered'\n",
                            "\t}\n",
                            "      }\n",
                            "    }\n",
                            "  }\n",
                            "  if (root.Bokeh !== undefined && root.Bokeh.Panel !== undefined) {\n",
                            "    embed_document(root);\n",
                            "  } else {\n",
                            "    var attempts = 0;\n",
                            "    var timer = setInterval(function(root) {\n",
                            "      if (root.Bokeh !== undefined && root.Bokeh.Panel !== undefined) {\n",
                            "        clearInterval(timer);\n",
                            "        embed_document(root);\n",
                            "      } else if (document.readyState == \"complete\") {\n",
                            "        attempts++;\n",
                            "        if (attempts > 200) {\n",
                            "          clearInterval(timer);\n",
                            "          console.log(\"Bokeh: ERROR: Unable to run BokehJS code because BokehJS library is missing\");\n",
                            "        }\n",
                            "      }\n",
                            "    }, 25, root)\n",
                            "  }\n",
                            "})(window);</script>"
                        ],
                        "text/plain": [
                            "Tabs\n",
                            "    [0] DataFrame(height=300, name='numerical_analysis', sizing_mode='fixed', value=                       cou..., width=1500)\n",
                            "    [1] DataFrame(height=300, name='categorical_analysis', sizing_mode='fixed', value=                      nuni..., width=1500)"
                        ]
                    },
                    "execution_count": 16,
                    "metadata": {
                        "application/vnd.holoviews_exec.v0+json": {
                            "id": "1013"
                        }
                    },
                    "output_type": "execute_result"
                }
            ],
            "source": [
                "%%time\n",
                "numerical_analysis, categorical_analysis = eda.feature_analysis_table(train_df)\n",
                "utils.display_as_tabs([(\"numerical_analysis\", numerical_analysis),\n",
                "                       (\"categorical_analysis\", categorical_analysis)], width=1500)"
            ]
        },
        {
            "cell_type": "markdown",
            "metadata": {},
            "source": [
                "# Distributions of numerical and categorical variables\n",
                "\n",
                "The below plots contain the distribution of each of the variables present in the data. "
            ]
        },
        {
            "cell_type": "code",
            "execution_count": 17,
            "metadata": {},
            "outputs": [
                {
                    "name": "stderr",
                    "output_type": "stream",
                    "text": [
                        "                                                                                \r"
                    ]
                },
                {
                    "name": "stdout",
                    "output_type": "stream",
                    "text": [
                        "CPU times: user 24.1 s, sys: 2.92 s, total: 27 s\n",
                        "Wall time: 1min 46s\n"
                    ]
                },
                {
                    "data": {},
                    "metadata": {},
                    "output_type": "display_data"
                },
                {
                    "data": {
                        "application/vnd.holoviews_exec.v0+json": "",
                        "text/html": [
                            "<div id='1143'>\n",
                            "  <div class=\"bk-root\" id=\"771a7307-2fd7-45b3-a4a6-b08dc2847378\" data-root-id=\"1143\"></div>\n",
                            "</div>\n",
                            "<script type=\"application/javascript\">(function(root) {\n",
                            "  function embed_document(root) {\n",
                            "    var docs_json = {\"d0c524ee-8b38-48d6-b89c-48b445cc7bfe\":{\"defs\":[{\"extends\":null,\"module\":null,\"name\":\"ReactiveHTML1\",\"overrides\":[],\"properties\":[]},{\"extends\":null,\"module\":null,\"name\":\"FlexBox1\",\"overrides\":[],\"properties\":[{\"default\":\"flex-start\",\"kind\":null,\"name\":\"align_content\"},{\"default\":\"flex-start\",\"kind\":null,\"name\":\"align_items\"},{\"default\":\"row\",\"kind\":null,\"name\":\"flex_direction\"},{\"default\":\"wrap\",\"kind\":null,\"name\":\"flex_wrap\"},{\"default\":\"flex-start\",\"kind\":null,\"name\":\"justify_content\"}]},{\"extends\":null,\"module\":null,\"name\":\"GridStack1\",\"overrides\":[],\"properties\":[{\"default\":\"warn\",\"kind\":null,\"name\":\"mode\"},{\"default\":null,\"kind\":null,\"name\":\"ncols\"},{\"default\":null,\"kind\":null,\"name\":\"nrows\"},{\"default\":true,\"kind\":null,\"name\":\"allow_resize\"},{\"default\":true,\"kind\":null,\"name\":\"allow_drag\"},{\"default\":[],\"kind\":null,\"name\":\"state\"}]},{\"extends\":null,\"module\":null,\"name\":\"click1\",\"overrides\":[],\"properties\":[{\"default\":\"\",\"kind\":null,\"name\":\"terminal_output\"},{\"default\":\"\",\"kind\":null,\"name\":\"debug_name\"},{\"default\":0,\"kind\":null,\"name\":\"clears\"}]},{\"extends\":null,\"module\":null,\"name\":\"NotificationAreaBase1\",\"overrides\":[],\"properties\":[{\"default\":\"bottom-right\",\"kind\":null,\"name\":\"position\"},{\"default\":0,\"kind\":null,\"name\":\"_clear\"}]},{\"extends\":null,\"module\":null,\"name\":\"NotificationArea1\",\"overrides\":[],\"properties\":[{\"default\":[],\"kind\":null,\"name\":\"notifications\"},{\"default\":\"bottom-right\",\"kind\":null,\"name\":\"position\"},{\"default\":0,\"kind\":null,\"name\":\"_clear\"},{\"default\":[{\"background\":\"#ffc107\",\"icon\":{\"className\":\"fas fa-exclamation-triangle\",\"color\":\"white\",\"tagName\":\"i\"},\"type\":\"warning\"},{\"background\":\"#007bff\",\"icon\":{\"className\":\"fas fa-info-circle\",\"color\":\"white\",\"tagName\":\"i\"},\"type\":\"info\"}],\"kind\":null,\"name\":\"types\"}]},{\"extends\":null,\"module\":null,\"name\":\"Notification\",\"overrides\":[],\"properties\":[{\"default\":null,\"kind\":null,\"name\":\"background\"},{\"default\":3000,\"kind\":null,\"name\":\"duration\"},{\"default\":null,\"kind\":null,\"name\":\"icon\"},{\"default\":\"\",\"kind\":null,\"name\":\"message\"},{\"default\":null,\"kind\":null,\"name\":\"notification_type\"},{\"default\":false,\"kind\":null,\"name\":\"_destroyed\"}]},{\"extends\":null,\"module\":null,\"name\":\"TemplateActions1\",\"overrides\":[],\"properties\":[{\"default\":0,\"kind\":null,\"name\":\"open_modal\"},{\"default\":0,\"kind\":null,\"name\":\"close_modal\"}]},{\"extends\":null,\"module\":null,\"name\":\"MaterialTemplateActions1\",\"overrides\":[],\"properties\":[{\"default\":0,\"kind\":null,\"name\":\"open_modal\"},{\"default\":0,\"kind\":null,\"name\":\"close_modal\"}]}],\"roots\":{\"references\":[{\"attributes\":{\"margin\":[5,5,5,5],\"name\":\"categorical features distribution\",\"text\":\"&lt;pre&gt;{&#x27;destination_market_id&#x27;: :Layout\\n   .Bars.Destination_market_id :Bars   [index]   (destination_market_id)\\n   .Table.I                    :Table   [count,mean,stddev,min,max], &#x27;destination_zip&#x27;: :Layout\\n   .Bars.Destination_zip :Bars   [index]   (destination_zip)\\n   .Table.I              :Table   [count,mean,stddev,min,max], &#x27;origin_market_id&#x27;: :Layout\\n   .Bars.Origin_market_id :Bars   [index]   (origin_market_id)\\n   .Table.I               :Table   [count,mean,stddev,min,max], &#x27;origin_zip&#x27;: :Layout\\n   .Bars.Origin_zip :Bars   [index]   (origin_zip)\\n   .Table.I         :Table   [count,mean,stddev,min,max], &#x27;vehicle_type&#x27;: :Layout\\n   .Bars.Vehicle_type :Bars   [index]   (vehicle_type)\\n   .Table.I           :Table   [count,mean,stddev,min,max]}&lt;/pre&gt;\"},\"id\":\"1146\",\"type\":\"panel.models.markup.HTML\"},{\"attributes\":{\"child\":{\"id\":\"1146\"},\"name\":\"categorical features distribution\",\"title\":\"categorical features distribution\"},\"id\":\"1147\",\"type\":\"Panel\"},{\"attributes\":{\"client_comm_id\":\"e9715df83b06442b8500875cbec67364\",\"comm_id\":\"728aa2823bd044598d58eb75c805099a\",\"plot_id\":\"1143\"},\"id\":\"1148\",\"type\":\"panel.models.comm_manager.CommManager\"},{\"attributes\":{\"margin\":[0,0,0,0],\"tabs\":[{\"id\":\"1145\"},{\"id\":\"1147\"}]},\"id\":\"1143\",\"type\":\"panel.models.tabs.Tabs\"},{\"attributes\":{\"child\":{\"id\":\"1144\"},\"name\":\"numerical feature distributions\",\"title\":\"numerical feature distributions\"},\"id\":\"1145\",\"type\":\"Panel\"},{\"attributes\":{\"margin\":[5,5,5,5],\"name\":\"numerical feature distributions\",\"text\":\"&lt;pre&gt;{&#x27;carrier_price&#x27;: :Layout\\n   .Overlay.I :Overlay\\n      .Histogram.I    :Histogram   [x]   (Frequency)\\n      .Distribution.I :Distribution   [carrier_price]   (Density)\\n   .Table.I   :Table   [count,mean,stddev,min,max], &#x27;distance&#x27;: :Layout\\n   .Overlay.I :Overlay\\n      .Histogram.I    :Histogram   [x]   (Frequency)\\n      .Distribution.I :Distribution   [distance]   (Density)\\n   .Table.I   :Table   [count,mean,stddev,min,max], &#x27;market_rate_per_mile&#x27;: :Layout\\n   .Overlay.I :Overlay\\n      .Histogram.I    :Histogram   [x]   (Frequency)\\n      .Distribution.I :Distribution   [market_rate_per_mile]   (Density)\\n   .Table.I   :Table   [count,mean,stddev,min,max], &#x27;national_price&#x27;: :Layout\\n   .Overlay.I :Overlay\\n      .Histogram.I    :Histogram   [x]   (Frequency)\\n      .Distribution.I :Distribution   [national_price]   (Density)\\n   .Table.I   :Table   [count,mean,stddev,min,max], &#x27;pastmonth_avg&#x27;: :Layout\\n   .Overlay.I :Overlay\\n      .Histogram.I    :Histogram   [x]   (Frequency)\\n      .Distribution.I :Distribution   [pastmonth_avg]   (Density)\\n   .Table.I   :Table   [count,mean,stddev,min,max], &#x27;pastweek_avg&#x27;: :Layout\\n   .Overlay.I :Overlay\\n      .Histogram.I    :Histogram   [x]   (Frequency)\\n      .Distribution.I :Distribution   [pastweek_avg]   (Density)\\n   .Table.I   :Table   [count,mean,stddev,min,max], &#x27;trip_id&#x27;: :Layout\\n   .Overlay.I :Overlay\\n      .Histogram.I    :Histogram   [x]   (Frequency)\\n      .Distribution.I :Distribution   [trip_id]   (Density)\\n   .Table.I   :Table   [count,mean,stddev,min,max]}&lt;/pre&gt;\"},\"id\":\"1144\",\"type\":\"panel.models.markup.HTML\"}],\"root_ids\":[\"1143\",\"1148\"]},\"title\":\"Bokeh Application\",\"version\":\"2.4.3\"}};\n",
                            "    var render_items = [{\"docid\":\"d0c524ee-8b38-48d6-b89c-48b445cc7bfe\",\"root_ids\":[\"1143\"],\"roots\":{\"1143\":\"771a7307-2fd7-45b3-a4a6-b08dc2847378\"}}];\n",
                            "    root.Bokeh.embed.embed_items_notebook(docs_json, render_items);\n",
                            "    for (const render_item of render_items) {\n",
                            "      for (const root_id of render_item.root_ids) {\n",
                            "\tconst id_el = document.getElementById(root_id)\n",
                            "\tif (id_el.children.length && (id_el.children[0].className === 'bk-root')) {\n",
                            "\t  const root_el = id_el.children[0]\n",
                            "\t  root_el.id = root_el.id + '-rendered'\n",
                            "\t}\n",
                            "      }\n",
                            "    }\n",
                            "  }\n",
                            "  if (root.Bokeh !== undefined && root.Bokeh.Panel !== undefined) {\n",
                            "    embed_document(root);\n",
                            "  } else {\n",
                            "    var attempts = 0;\n",
                            "    var timer = setInterval(function(root) {\n",
                            "      if (root.Bokeh !== undefined && root.Bokeh.Panel !== undefined) {\n",
                            "        clearInterval(timer);\n",
                            "        embed_document(root);\n",
                            "      } else if (document.readyState == \"complete\") {\n",
                            "        attempts++;\n",
                            "        if (attempts > 200) {\n",
                            "          clearInterval(timer);\n",
                            "          console.log(\"Bokeh: ERROR: Unable to run BokehJS code because BokehJS library is missing\");\n",
                            "        }\n",
                            "      }\n",
                            "    }, 25, root)\n",
                            "  }\n",
                            "})(window);</script>"
                        ],
                        "text/plain": [
                            "Tabs\n",
                            "    [0] Str(dict, name='numerical feature d...)\n",
                            "    [1] Str(dict, name='categorical f...)"
                        ]
                    },
                    "execution_count": 17,
                    "metadata": {
                        "application/vnd.holoviews_exec.v0+json": {
                            "id": "1143"
                        }
                    },
                    "output_type": "execute_result"
                }
            ],
            "source": [
                "%%time\n",
                "numerical, categorical = eda.feature_density_plots(train_df, num_cols, cat_cols)\n",
                "utils.display_as_tabs([(\"numerical feature distributions\", numerical), (\"categorical features distribution\", categorical)])"
            ]
        },
        {
            "cell_type": "markdown",
            "metadata": {},
            "source": [
                "# Feature Interactions\n",
                "## Correlation Table and Heat Map\n",
                "\n",
                "The below plots provide overviews of correlation between variables and can be helpful to understand multicollinearity in the data."
            ]
        },
        {
            "cell_type": "code",
            "execution_count": 18,
            "metadata": {},
            "outputs": [
                {
                    "name": "stderr",
                    "output_type": "stream",
                    "text": [
                        "                                                                                \r"
                    ]
                },
                {
                    "name": "stdout",
                    "output_type": "stream",
                    "text": [
                        "CPU times: user 714 ms, sys: 399 ms, total: 1.11 s\n",
                        "Wall time: 51 s\n"
                    ]
                },
                {
                    "data": {},
                    "metadata": {},
                    "output_type": "display_data"
                },
                {
                    "data": {},
                    "metadata": {},
                    "output_type": "display_data"
                },
                {
                    "data": {
                        "application/vnd.holoviews_exec.v0+json": "",
                        "text/html": [
                            "<div id='1149'>\n",
                            "  <div class=\"bk-root\" id=\"28208dd9-87b5-4fb4-bf03-084f24c7b800\" data-root-id=\"1149\"></div>\n",
                            "</div>\n",
                            "<script type=\"application/javascript\">(function(root) {\n",
                            "  function embed_document(root) {\n",
                            "    var docs_json = {\"018aa762-7fa2-4e7f-a9f6-89ae3225e6c6\":{\"defs\":[{\"extends\":null,\"module\":null,\"name\":\"ReactiveHTML1\",\"overrides\":[],\"properties\":[]},{\"extends\":null,\"module\":null,\"name\":\"FlexBox1\",\"overrides\":[],\"properties\":[{\"default\":\"flex-start\",\"kind\":null,\"name\":\"align_content\"},{\"default\":\"flex-start\",\"kind\":null,\"name\":\"align_items\"},{\"default\":\"row\",\"kind\":null,\"name\":\"flex_direction\"},{\"default\":\"wrap\",\"kind\":null,\"name\":\"flex_wrap\"},{\"default\":\"flex-start\",\"kind\":null,\"name\":\"justify_content\"}]},{\"extends\":null,\"module\":null,\"name\":\"GridStack1\",\"overrides\":[],\"properties\":[{\"default\":\"warn\",\"kind\":null,\"name\":\"mode\"},{\"default\":null,\"kind\":null,\"name\":\"ncols\"},{\"default\":null,\"kind\":null,\"name\":\"nrows\"},{\"default\":true,\"kind\":null,\"name\":\"allow_resize\"},{\"default\":true,\"kind\":null,\"name\":\"allow_drag\"},{\"default\":[],\"kind\":null,\"name\":\"state\"}]},{\"extends\":null,\"module\":null,\"name\":\"click1\",\"overrides\":[],\"properties\":[{\"default\":\"\",\"kind\":null,\"name\":\"terminal_output\"},{\"default\":\"\",\"kind\":null,\"name\":\"debug_name\"},{\"default\":0,\"kind\":null,\"name\":\"clears\"}]},{\"extends\":null,\"module\":null,\"name\":\"NotificationAreaBase1\",\"overrides\":[],\"properties\":[{\"default\":\"bottom-right\",\"kind\":null,\"name\":\"position\"},{\"default\":0,\"kind\":null,\"name\":\"_clear\"}]},{\"extends\":null,\"module\":null,\"name\":\"NotificationArea1\",\"overrides\":[],\"properties\":[{\"default\":[],\"kind\":null,\"name\":\"notifications\"},{\"default\":\"bottom-right\",\"kind\":null,\"name\":\"position\"},{\"default\":0,\"kind\":null,\"name\":\"_clear\"},{\"default\":[{\"background\":\"#ffc107\",\"icon\":{\"className\":\"fas fa-exclamation-triangle\",\"color\":\"white\",\"tagName\":\"i\"},\"type\":\"warning\"},{\"background\":\"#007bff\",\"icon\":{\"className\":\"fas fa-info-circle\",\"color\":\"white\",\"tagName\":\"i\"},\"type\":\"info\"}],\"kind\":null,\"name\":\"types\"}]},{\"extends\":null,\"module\":null,\"name\":\"Notification\",\"overrides\":[],\"properties\":[{\"default\":null,\"kind\":null,\"name\":\"background\"},{\"default\":3000,\"kind\":null,\"name\":\"duration\"},{\"default\":null,\"kind\":null,\"name\":\"icon\"},{\"default\":\"\",\"kind\":null,\"name\":\"message\"},{\"default\":null,\"kind\":null,\"name\":\"notification_type\"},{\"default\":false,\"kind\":null,\"name\":\"_destroyed\"}]},{\"extends\":null,\"module\":null,\"name\":\"TemplateActions1\",\"overrides\":[],\"properties\":[{\"default\":0,\"kind\":null,\"name\":\"open_modal\"},{\"default\":0,\"kind\":null,\"name\":\"close_modal\"}]},{\"extends\":null,\"module\":null,\"name\":\"MaterialTemplateActions1\",\"overrides\":[],\"properties\":[{\"default\":0,\"kind\":null,\"name\":\"open_modal\"},{\"default\":0,\"kind\":null,\"name\":\"close_modal\"}]}],\"roots\":{\"references\":[{\"attributes\":{},\"id\":\"1235\",\"type\":\"UnionRenderers\"},{\"attributes\":{\"margin\":[0,0,0,0],\"tabs\":[{\"id\":\"1177\"},{\"id\":\"1238\"}]},\"id\":\"1149\",\"type\":\"panel.models.tabs.Tabs\"},{\"attributes\":{\"factors\":[\"trip_id\",\"distance\",\"market_rate_per_mile\",\"national_price\",\"pastmonth_avg\",\"pastweek_avg\",\"carrier_price\",\"label_encoded_vehicle_type\",\"label_encoded_origin_zip\",\"label_encoded_destination_zip\",\"label_encoded_origin_market_id\",\"label_encoded_destination_market_id\"],\"tags\":[[[\"columns\",\"columns\",null]]]},\"id\":\"1178\",\"type\":\"FactorRange\"},{\"attributes\":{},\"id\":\"1158\",\"type\":\"StringFormatter\"},{\"attributes\":{},\"id\":\"1164\",\"type\":\"StringEditor\"},{\"attributes\":{\"bottom_units\":\"screen\",\"coordinates\":null,\"fill_alpha\":0.5,\"fill_color\":\"lightgrey\",\"group\":null,\"left_units\":\"screen\",\"level\":\"overlay\",\"line_alpha\":1.0,\"line_color\":\"black\",\"line_dash\":[4,4],\"line_width\":2,\"right_units\":\"screen\",\"syncable\":false,\"top_units\":\"screen\"},\"id\":\"1201\",\"type\":\"BoxAnnotation\"},{\"attributes\":{},\"id\":\"1226\",\"type\":\"AllLabels\"},{\"attributes\":{\"child\":{\"id\":\"1181\"},\"name\":\"correlation_heatmap\",\"title\":\"correlation_heatmap\"},\"id\":\"1238\",\"type\":\"Panel\"},{\"attributes\":{},\"id\":\"1225\",\"type\":\"CategoricalTickFormatter\"},{\"attributes\":{\"axis_label\":\"\",\"coordinates\":null,\"formatter\":{\"id\":\"1225\"},\"group\":null,\"major_label_policy\":{\"id\":\"1226\"},\"ticker\":{\"id\":\"1194\"}},\"id\":\"1193\",\"type\":\"CategoricalAxis\"},{\"attributes\":{},\"id\":\"1240\",\"type\":\"UnionRenderers\"},{\"attributes\":{\"callback\":null,\"renderers\":[{\"id\":\"1217\"}],\"tags\":[\"hv_created\"],\"tooltips\":[[\"columns\",\"@{columns}\"],[\"index\",\"@{index}\"],[\"value\",\"@{value}\"]]},\"id\":\"1180\",\"type\":\"HoverTool\"},{\"attributes\":{\"data\":{\"corr_coef\":{\"__ndarray__\":\"AAAAAAAA8D+z/SEVdQ+Cv/1fdG8x9oe/41hgPyhror/o8l26sfqkvyZVn3ySHKW/GqYK4MZVpb94V32NNFi7P8GgOKVHG7w/cp+JARp+qT+ZO4zUQTO2P3Y77XjfcKY/AAAAAAAA8D801mDF0Du2vyF/V4hQ46O/cXJJYMkM6T8eP32UfQnpP6xhpMLun+g/H8mvDIREnb/lYRt3M0iXP0eTvtBorpk/+FAOErMRnL/Zm0fKoryvvwAAAAAAAPA/qR50WdEZbj8xNhFKKRCzv5x0n+Rz/7K/fB2yiAubsr+DvCWAOPN6vxb5XdA8d4+/IZkV1nwml7/3s9TKBQdovy5xfx1Hx6i/AAAAAAAA8D+E44m0LLuqvwoltEaZ2Ke/dzDTpLBCo7+6GndJQtGMPyBv2kTL0Ju/sXGDh7JJor8ZBbD8MYqZv4i8KbSZ6aO/AAAAAAAA8D9zztWKlervP9QL/sEkT+8/jXXJfv50kT+6fOy6IhucP5AWrqESCZk/3Y1S4ZBFoj8C/VnD6WGKvwAAAAAAAPA/vty2ij5q7z/+717IEuSSP+d34rYzw5w/hJqNBQgemT8QAdldqcmiPwzeSpOYsIy/AAAAAAAA8D9gBEumMm6UP0jYEJVmEJ0/jjIJhHDhlz9rzG8reZGiP1cLhomKIo6/AAAAAAAA8D9NqKLkEcDBP/66+7DhdcA/FpykMY51sD8/Z0USO6uMPwAAAAAAAPA/1hdVjzkO0D8ubFNwX53YPwTuy+xCW7M/AAAAAAAA8D/vvW57hkyxP+X4Y3qfWtQ/AAAAAAAA8D/IUcR6IbCOPwAAAAAAAPA/\",\"dtype\":\"float64\",\"order\":\"little\",\"shape\":[78]},\"index\":[0,1,2,3,4,5,6,7,8,9,10,11,12,13,14,15,16,17,18,19,20,21,22,23,24,25,26,27,28,29,30,31,32,33,34,35,36,37,38,39,40,41,42,43,44,45,46,47,48,49,50,51,52,53,54,55,56,57,58,59,60,61,62,63,64,65,66,67,68,69,70,71,72,73,74,75,76,77],\"var1\":[\"trip_id\",\"trip_id\",\"trip_id\",\"trip_id\",\"trip_id\",\"trip_id\",\"trip_id\",\"trip_id\",\"trip_id\",\"trip_id\",\"trip_id\",\"trip_id\",\"distance\",\"distance\",\"distance\",\"distance\",\"distance\",\"distance\",\"distance\",\"distance\",\"distance\",\"distance\",\"distance\",\"market_rate_per_mile\",\"market_rate_per_mile\",\"market_rate_per_mile\",\"market_rate_per_mile\",\"market_rate_per_mile\",\"market_rate_per_mile\",\"market_rate_per_mile\",\"market_rate_per_mile\",\"market_rate_per_mile\",\"market_rate_per_mile\",\"national_price\",\"national_price\",\"national_price\",\"national_price\",\"national_price\",\"national_price\",\"national_price\",\"national_price\",\"national_price\",\"pastmonth_avg\",\"pastmonth_avg\",\"pastmonth_avg\",\"pastmonth_avg\",\"pastmonth_avg\",\"pastmonth_avg\",\"pastmonth_avg\",\"pastmonth_avg\",\"pastweek_avg\",\"pastweek_avg\",\"pastweek_avg\",\"pastweek_avg\",\"pastweek_avg\",\"pastweek_avg\",\"pastweek_avg\",\"carrier_price\",\"carrier_price\",\"carrier_price\",\"carrier_price\",\"carrier_price\",\"carrier_price\",\"label_encoded_vehicle_type\",\"label_encoded_vehicle_type\",\"label_encoded_vehicle_type\",\"label_encoded_vehicle_type\",\"label_encoded_vehicle_type\",\"label_encoded_origin_zip\",\"label_encoded_origin_zip\",\"label_encoded_origin_zip\",\"label_encoded_origin_zip\",\"label_encoded_destination_zip\",\"label_encoded_destination_zip\",\"label_encoded_destination_zip\",\"label_encoded_origin_market_id\",\"label_encoded_origin_market_id\",\"label_encoded_destination_market_id\"],\"var2\":[\"trip_id\",\"distance\",\"market_rate_per_mile\",\"national_price\",\"pastmonth_avg\",\"pastweek_avg\",\"carrier_price\",\"label_encoded_vehicle_type\",\"label_encoded_origin_zip\",\"label_encoded_destination_zip\",\"label_encoded_origin_market_id\",\"label_encoded_destination_market_id\",\"distance\",\"market_rate_per_mile\",\"national_price\",\"pastmonth_avg\",\"pastweek_avg\",\"carrier_price\",\"label_encoded_vehicle_type\",\"label_encoded_origin_zip\",\"label_encoded_destination_zip\",\"label_encoded_origin_market_id\",\"label_encoded_destination_market_id\",\"market_rate_per_mile\",\"national_price\",\"pastmonth_avg\",\"pastweek_avg\",\"carrier_price\",\"label_encoded_vehicle_type\",\"label_encoded_origin_zip\",\"label_encoded_destination_zip\",\"label_encoded_origin_market_id\",\"label_encoded_destination_market_id\",\"national_price\",\"pastmonth_avg\",\"pastweek_avg\",\"carrier_price\",\"label_encoded_vehicle_type\",\"label_encoded_origin_zip\",\"label_encoded_destination_zip\",\"label_encoded_origin_market_id\",\"label_encoded_destination_market_id\",\"pastmonth_avg\",\"pastweek_avg\",\"carrier_price\",\"label_encoded_vehicle_type\",\"label_encoded_origin_zip\",\"label_encoded_destination_zip\",\"label_encoded_origin_market_id\",\"label_encoded_destination_market_id\",\"pastweek_avg\",\"carrier_price\",\"label_encoded_vehicle_type\",\"label_encoded_origin_zip\",\"label_encoded_destination_zip\",\"label_encoded_origin_market_id\",\"label_encoded_destination_market_id\",\"carrier_price\",\"label_encoded_vehicle_type\",\"label_encoded_origin_zip\",\"label_encoded_destination_zip\",\"label_encoded_origin_market_id\",\"label_encoded_destination_market_id\",\"label_encoded_vehicle_type\",\"label_encoded_origin_zip\",\"label_encoded_destination_zip\",\"label_encoded_origin_market_id\",\"label_encoded_destination_market_id\",\"label_encoded_origin_zip\",\"label_encoded_destination_zip\",\"label_encoded_origin_market_id\",\"label_encoded_destination_market_id\",\"label_encoded_destination_zip\",\"label_encoded_origin_market_id\",\"label_encoded_destination_market_id\",\"label_encoded_origin_market_id\",\"label_encoded_destination_market_id\",\"label_encoded_destination_market_id\"]},\"selected\":{\"id\":\"1151\"},\"selection_policy\":{\"id\":\"1240\"}},\"id\":\"1150\",\"type\":\"ColumnDataSource\"},{\"attributes\":{\"fill_color\":{\"field\":\"zvalues\",\"transform\":{\"id\":\"1209\"}},\"height\":{\"value\":1},\"line_alpha\":{\"value\":0},\"line_color\":{\"value\":\"#1f77b4\"},\"width\":{\"value\":1},\"x\":{\"field\":\"columns\"},\"y\":{\"field\":\"index\"}},\"id\":\"1215\",\"type\":\"Rect\"},{\"attributes\":{\"axis_label\":\"\",\"coordinates\":null,\"formatter\":{\"id\":\"1222\"},\"group\":null,\"major_label_orientation\":0.7853981633974483,\"major_label_policy\":{\"id\":\"1223\"},\"ticker\":{\"id\":\"1191\"}},\"id\":\"1190\",\"type\":\"CategoricalAxis\"},{\"attributes\":{},\"id\":\"1159\",\"type\":\"StringEditor\"},{\"attributes\":{},\"id\":\"1191\",\"type\":\"CategoricalTicker\"},{\"attributes\":{\"tools\":[{\"id\":\"1180\"},{\"id\":\"1196\"},{\"id\":\"1197\"},{\"id\":\"1198\"},{\"id\":\"1199\"},{\"id\":\"1200\"}]},\"id\":\"1202\",\"type\":\"Toolbar\"},{\"attributes\":{\"factors\":[\"trip_id\",\"distance\",\"market_rate_per_mile\",\"national_price\",\"pastmonth_avg\",\"pastweek_avg\",\"carrier_price\",\"label_encoded_vehicle_type\",\"label_encoded_origin_zip\",\"label_encoded_destination_zip\",\"label_encoded_origin_market_id\",\"label_encoded_destination_market_id\"],\"tags\":[[[\"index\",\"index\",null]]]},\"id\":\"1179\",\"type\":\"FactorRange\"},{\"attributes\":{},\"id\":\"1163\",\"type\":\"StringFormatter\"},{\"attributes\":{\"child\":{\"id\":\"1173\"},\"name\":\"correlation_table\",\"title\":\"correlation_table\"},\"id\":\"1177\",\"type\":\"Panel\"},{\"attributes\":{},\"id\":\"1188\",\"type\":\"CategoricalScale\"},{\"attributes\":{\"source\":{\"id\":\"1210\"}},\"id\":\"1218\",\"type\":\"CDSView\"},{\"attributes\":{\"axis\":{\"id\":\"1193\"},\"coordinates\":null,\"dimension\":1,\"grid_line_color\":null,\"group\":null,\"ticker\":null},\"id\":\"1195\",\"type\":\"Grid\"},{\"attributes\":{\"editor\":{\"id\":\"1154\"},\"field\":\"index\",\"formatter\":{\"id\":\"1152\"},\"title\":\"index\",\"width\":0},\"id\":\"1155\",\"type\":\"TableColumn\"},{\"attributes\":{\"high\":1.0,\"low\":-0.08685021227651002,\"nan_color\":\"white\",\"palette\":[\"#b3fef5\",\"#b0fef5\",\"#adfdf5\",\"#a9fcf5\",\"#a6fbf6\",\"#a3faf6\",\"#a0faf6\",\"#9df9f6\",\"#9af8f6\",\"#97f7f6\",\"#93f7f6\",\"#90f6f6\",\"#8df5f6\",\"#8af4f7\",\"#87f3f7\",\"#83f2f7\",\"#80f2f7\",\"#7df1f7\",\"#79f0f7\",\"#76eff7\",\"#73eef7\",\"#6fedf8\",\"#6cecf8\",\"#68ecf8\",\"#65ebf8\",\"#61eaf8\",\"#5ee9f8\",\"#5ae8f8\",\"#57e7f8\",\"#53e6f8\",\"#50e5f9\",\"#4ce4f9\",\"#49e3f9\",\"#45e2f9\",\"#42e1f9\",\"#3ee0f9\",\"#3bdff9\",\"#38def9\",\"#35ddf9\",\"#32dcf9\",\"#30dbfa\",\"#2ed9fa\",\"#2dd8fa\",\"#2cd7fa\",\"#2bd6fa\",\"#2bd5fa\",\"#2ad3fa\",\"#2ad2fa\",\"#29d1fa\",\"#29d0fb\",\"#29cffb\",\"#28cdfb\",\"#28ccfb\",\"#28cbfb\",\"#28cafb\",\"#28c8fb\",\"#28c7fb\",\"#29c6fb\",\"#29c5fb\",\"#29c4fb\",\"#29c2fb\",\"#2ac1fb\",\"#2ac0fb\",\"#2bbffb\",\"#2bbdfc\",\"#2cbcfc\",\"#2dbbfc\",\"#2db9fc\",\"#2eb8fc\",\"#2fb7fc\",\"#2fb6fc\",\"#30b4fc\",\"#31b3fc\",\"#32b2fc\",\"#32b0fc\",\"#33affc\",\"#33aefc\",\"#34adfc\",\"#34abfc\",\"#34aafc\",\"#35a9fc\",\"#35a8fc\",\"#35a6fc\",\"#35a5fc\",\"#35a4fc\",\"#35a3fc\",\"#35a1fc\",\"#35a0fc\",\"#359ffc\",\"#359dfc\",\"#359cfc\",\"#359bfc\",\"#349afd\",\"#3498fd\",\"#3497fd\",\"#3396fd\",\"#3395fd\",\"#3293fd\",\"#3292fd\",\"#3191fd\",\"#3090fd\",\"#308ffd\",\"#2f8dfd\",\"#2f8cfd\",\"#2e8bfd\",\"#2e8afd\",\"#2d88fd\",\"#2d87fd\",\"#2c86fd\",\"#2c84fd\",\"#2c83fd\",\"#2c82fd\",\"#2b81fd\",\"#2b7ffd\",\"#2b7efd\",\"#2b7dfd\",\"#2b7bfd\",\"#2b7afd\",\"#2b79fd\",\"#2b77fd\",\"#2b76fd\",\"#2b75fd\",\"#2b73fd\",\"#2c72fd\",\"#2c71fd\",\"#2c6ffd\",\"#2c6efd\",\"#2d6cfd\",\"#2d6bfd\",\"#2d6afc\",\"#2e68fc\",\"#2e67fc\",\"#2e65fc\",\"#2e64fc\",\"#2f62fc\",\"#2f61fc\",\"#2f5ffc\",\"#2f5efc\",\"#2f5dfc\",\"#2f5bfc\",\"#2f5afc\",\"#2f58fb\",\"#2f57fb\",\"#2f55fb\",\"#2f53fb\",\"#2f52fb\",\"#2f50fb\",\"#2f4ffb\",\"#2f4dfb\",\"#2e4cfb\",\"#2e4afb\",\"#2e48fb\",\"#2e47fa\",\"#2d45fa\",\"#2d43fa\",\"#2d42fa\",\"#2d40fa\",\"#2c3efa\",\"#2c3dfa\",\"#2b3bf9\",\"#2b39f9\",\"#2a37f9\",\"#2a36f8\",\"#2934f8\",\"#2832f7\",\"#2831f7\",\"#272ff6\",\"#262ef5\",\"#252cf5\",\"#252af4\",\"#2429f3\",\"#2327f2\",\"#2226f1\",\"#2124f0\",\"#2023ef\",\"#1f22ee\",\"#1e20ed\",\"#1d1feb\",\"#1c1eea\",\"#1b1ce9\",\"#1a1be7\",\"#181ae6\",\"#1719e5\",\"#1618e3\",\"#1417e1\",\"#1316e0\",\"#1215de\",\"#1014dc\",\"#0f13db\",\"#0e12d9\",\"#0d11d7\",\"#0c10d5\",\"#0b0fd3\",\"#0a0ed1\",\"#090dd0\",\"#080dce\",\"#080ccc\",\"#070bca\",\"#070ac8\",\"#0709c6\",\"#0708c4\",\"#0707c2\",\"#0707bf\",\"#0806bd\",\"#0806bb\",\"#0905b9\",\"#0904b7\",\"#0a04b5\",\"#0a04b2\",\"#0b03b0\",\"#0c03ae\",\"#0d02ab\",\"#0e02a9\",\"#0e02a7\",\"#0f02a4\",\"#0f01a2\",\"#1001a0\",\"#10019d\",\"#10019b\",\"#100199\",\"#100197\",\"#100194\",\"#0f0192\",\"#0f0190\",\"#0f018e\",\"#0e018b\",\"#0e0189\",\"#0d0187\",\"#0d0185\",\"#0c0183\",\"#0b0181\",\"#0b017e\",\"#0a017c\",\"#09017a\",\"#090178\",\"#080276\",\"#070274\",\"#060272\",\"#060270\",\"#05026e\",\"#04026c\",\"#030269\",\"#030267\",\"#020265\",\"#010263\",\"#010261\",\"#00025f\",\"#00025d\",\"#00025b\",\"#000259\",\"#000257\",\"#000255\",\"#000154\",\"#000152\",\"#000150\",\"#00004e\"]},\"id\":\"1209\",\"type\":\"LinearColorMapper\"},{\"attributes\":{},\"id\":\"1223\",\"type\":\"AllLabels\"},{\"attributes\":{\"data\":{\"columns\":[\"trip_id\",\"trip_id\",\"trip_id\",\"trip_id\",\"trip_id\",\"trip_id\",\"trip_id\",\"trip_id\",\"trip_id\",\"trip_id\",\"trip_id\",\"trip_id\",\"distance\",\"distance\",\"distance\",\"distance\",\"distance\",\"distance\",\"distance\",\"distance\",\"distance\",\"distance\",\"distance\",\"distance\",\"market_rate_per_mile\",\"market_rate_per_mile\",\"market_rate_per_mile\",\"market_rate_per_mile\",\"market_rate_per_mile\",\"market_rate_per_mile\",\"market_rate_per_mile\",\"market_rate_per_mile\",\"market_rate_per_mile\",\"market_rate_per_mile\",\"market_rate_per_mile\",\"market_rate_per_mile\",\"national_price\",\"national_price\",\"national_price\",\"national_price\",\"national_price\",\"national_price\",\"national_price\",\"national_price\",\"national_price\",\"national_price\",\"national_price\",\"national_price\",\"pastmonth_avg\",\"pastmonth_avg\",\"pastmonth_avg\",\"pastmonth_avg\",\"pastmonth_avg\",\"pastmonth_avg\",\"pastmonth_avg\",\"pastmonth_avg\",\"pastmonth_avg\",\"pastmonth_avg\",\"pastmonth_avg\",\"pastmonth_avg\",\"pastweek_avg\",\"pastweek_avg\",\"pastweek_avg\",\"pastweek_avg\",\"pastweek_avg\",\"pastweek_avg\",\"pastweek_avg\",\"pastweek_avg\",\"pastweek_avg\",\"pastweek_avg\",\"pastweek_avg\",\"pastweek_avg\",\"carrier_price\",\"carrier_price\",\"carrier_price\",\"carrier_price\",\"carrier_price\",\"carrier_price\",\"carrier_price\",\"carrier_price\",\"carrier_price\",\"carrier_price\",\"carrier_price\",\"carrier_price\",\"label_encoded_vehicle_type\",\"label_encoded_vehicle_type\",\"label_encoded_vehicle_type\",\"label_encoded_vehicle_type\",\"label_encoded_vehicle_type\",\"label_encoded_vehicle_type\",\"label_encoded_vehicle_type\",\"label_encoded_vehicle_type\",\"label_encoded_vehicle_type\",\"label_encoded_vehicle_type\",\"label_encoded_vehicle_type\",\"label_encoded_vehicle_type\",\"label_encoded_origin_zip\",\"label_encoded_origin_zip\",\"label_encoded_origin_zip\",\"label_encoded_origin_zip\",\"label_encoded_origin_zip\",\"label_encoded_origin_zip\",\"label_encoded_origin_zip\",\"label_encoded_origin_zip\",\"label_encoded_origin_zip\",\"label_encoded_origin_zip\",\"label_encoded_origin_zip\",\"label_encoded_origin_zip\",\"label_encoded_destination_zip\",\"label_encoded_destination_zip\",\"label_encoded_destination_zip\",\"label_encoded_destination_zip\",\"label_encoded_destination_zip\",\"label_encoded_destination_zip\",\"label_encoded_destination_zip\",\"label_encoded_destination_zip\",\"label_encoded_destination_zip\",\"label_encoded_destination_zip\",\"label_encoded_destination_zip\",\"label_encoded_destination_zip\",\"label_encoded_origin_market_id\",\"label_encoded_origin_market_id\",\"label_encoded_origin_market_id\",\"label_encoded_origin_market_id\",\"label_encoded_origin_market_id\",\"label_encoded_origin_market_id\",\"label_encoded_origin_market_id\",\"label_encoded_origin_market_id\",\"label_encoded_origin_market_id\",\"label_encoded_origin_market_id\",\"label_encoded_origin_market_id\",\"label_encoded_origin_market_id\",\"label_encoded_destination_market_id\",\"label_encoded_destination_market_id\",\"label_encoded_destination_market_id\",\"label_encoded_destination_market_id\",\"label_encoded_destination_market_id\",\"label_encoded_destination_market_id\",\"label_encoded_destination_market_id\",\"label_encoded_destination_market_id\",\"label_encoded_destination_market_id\",\"label_encoded_destination_market_id\",\"label_encoded_destination_market_id\",\"label_encoded_destination_market_id\"],\"index\":[\"trip_id\",\"distance\",\"market_rate_per_mile\",\"national_price\",\"pastmonth_avg\",\"pastweek_avg\",\"carrier_price\",\"label_encoded_vehicle_type\",\"label_encoded_origin_zip\",\"label_encoded_destination_zip\",\"label_encoded_origin_market_id\",\"label_encoded_destination_market_id\",\"trip_id\",\"distance\",\"market_rate_per_mile\",\"national_price\",\"pastmonth_avg\",\"pastweek_avg\",\"carrier_price\",\"label_encoded_vehicle_type\",\"label_encoded_origin_zip\",\"label_encoded_destination_zip\",\"label_encoded_origin_market_id\",\"label_encoded_destination_market_id\",\"trip_id\",\"distance\",\"market_rate_per_mile\",\"national_price\",\"pastmonth_avg\",\"pastweek_avg\",\"carrier_price\",\"label_encoded_vehicle_type\",\"label_encoded_origin_zip\",\"label_encoded_destination_zip\",\"label_encoded_origin_market_id\",\"label_encoded_destination_market_id\",\"trip_id\",\"distance\",\"market_rate_per_mile\",\"national_price\",\"pastmonth_avg\",\"pastweek_avg\",\"carrier_price\",\"label_encoded_vehicle_type\",\"label_encoded_origin_zip\",\"label_encoded_destination_zip\",\"label_encoded_origin_market_id\",\"label_encoded_destination_market_id\",\"trip_id\",\"distance\",\"market_rate_per_mile\",\"national_price\",\"pastmonth_avg\",\"pastweek_avg\",\"carrier_price\",\"label_encoded_vehicle_type\",\"label_encoded_origin_zip\",\"label_encoded_destination_zip\",\"label_encoded_origin_market_id\",\"label_encoded_destination_market_id\",\"trip_id\",\"distance\",\"market_rate_per_mile\",\"national_price\",\"pastmonth_avg\",\"pastweek_avg\",\"carrier_price\",\"label_encoded_vehicle_type\",\"label_encoded_origin_zip\",\"label_encoded_destination_zip\",\"label_encoded_origin_market_id\",\"label_encoded_destination_market_id\",\"trip_id\",\"distance\",\"market_rate_per_mile\",\"national_price\",\"pastmonth_avg\",\"pastweek_avg\",\"carrier_price\",\"label_encoded_vehicle_type\",\"label_encoded_origin_zip\",\"label_encoded_destination_zip\",\"label_encoded_origin_market_id\",\"label_encoded_destination_market_id\",\"trip_id\",\"distance\",\"market_rate_per_mile\",\"national_price\",\"pastmonth_avg\",\"pastweek_avg\",\"carrier_price\",\"label_encoded_vehicle_type\",\"label_encoded_origin_zip\",\"label_encoded_destination_zip\",\"label_encoded_origin_market_id\",\"label_encoded_destination_market_id\",\"trip_id\",\"distance\",\"market_rate_per_mile\",\"national_price\",\"pastmonth_avg\",\"pastweek_avg\",\"carrier_price\",\"label_encoded_vehicle_type\",\"label_encoded_origin_zip\",\"label_encoded_destination_zip\",\"label_encoded_origin_market_id\",\"label_encoded_destination_market_id\",\"trip_id\",\"distance\",\"market_rate_per_mile\",\"national_price\",\"pastmonth_avg\",\"pastweek_avg\",\"carrier_price\",\"label_encoded_vehicle_type\",\"label_encoded_origin_zip\",\"label_encoded_destination_zip\",\"label_encoded_origin_market_id\",\"label_encoded_destination_market_id\",\"trip_id\",\"distance\",\"market_rate_per_mile\",\"national_price\",\"pastmonth_avg\",\"pastweek_avg\",\"carrier_price\",\"label_encoded_vehicle_type\",\"label_encoded_origin_zip\",\"label_encoded_destination_zip\",\"label_encoded_origin_market_id\",\"label_encoded_destination_market_id\",\"trip_id\",\"distance\",\"market_rate_per_mile\",\"national_price\",\"pastmonth_avg\",\"pastweek_avg\",\"carrier_price\",\"label_encoded_vehicle_type\",\"label_encoded_origin_zip\",\"label_encoded_destination_zip\",\"label_encoded_origin_market_id\",\"label_encoded_destination_market_id\"],\"value\":[\"1\",\"-0.0088185\",\"-0.0117\",\"-0.035974\",\"-0.040975\",\"-0.041234\",\"-0.04167\",\"0.10681\",\"0.10979\",\"0.04979\",\"0.08672\",\"0.04383\",\"-0.0088185\",\"1\",\"-0.08685\",\"-0.038844\",\"0.78281\",\"0.78241\",\"0.76952\",\"-0.028582\",\"0.022736\",\"0.025079\",\"-0.027411\",\"-0.061986\",\"-0.0117\",\"-0.08685\",\"1\",\"0.0036744\",\"-0.074465\",\"-0.07421\",\"-0.072678\",\"-0.0065796\",\"-0.015364\",\"-0.022608\",\"-0.002933\",\"-0.048395\",\"-0.035974\",\"-0.038844\",\"0.0036744\",\"1\",\"-0.052209\",\"-0.046574\",\"-0.037618\",\"0.014071\",\"-0.027164\",\"-0.035719\",\"-0.024941\",\"-0.038892\",\"-0.040975\",\"0.78281\",\"-0.074465\",\"-0.052209\",\"1\",\"0.99739\",\"0.97841\",\"0.017048\",\"0.027447\",\"0.024449\",\"0.035687\",\"-0.012882\",\"-0.041234\",\"0.78241\",\"-0.07421\",\"-0.046574\",\"0.99739\",\"1\",\"0.98172\",\"0.018448\",\"0.028088\",\"0.024529\",\"0.036695\",\"-0.014009\",\"-0.04167\",\"0.76952\",\"-0.072678\",\"-0.037618\",\"0.97841\",\"0.98172\",\"1\",\"0.019952\",\"0.028383\",\"0.023321\",\"0.036266\",\"-0.014714\",\"0.10681\",\"-0.028582\",\"-0.0065796\",\"0.014071\",\"0.017048\",\"0.018448\",\"0.019952\",\"1\",\"0.13867\",\"0.1286\",\"0.064294\",\"0.013998\",\"0.10979\",\"0.022736\",\"-0.015364\",\"-0.027164\",\"0.027447\",\"0.028088\",\"0.028383\",\"0.13867\",\"1\",\"0.25087\",\"0.38461\",\"0.075611\",\"0.04979\",\"0.025079\",\"-0.022608\",\"-0.035719\",\"0.024449\",\"0.024529\",\"0.023321\",\"0.1286\",\"0.25087\",\"1\",\"0.067574\",\"0.31803\",\"0.08672\",\"-0.027411\",\"-0.002933\",\"-0.024941\",\"0.035687\",\"0.036695\",\"0.036266\",\"0.064294\",\"0.38461\",\"0.067574\",\"1\",\"0.014984\",\"0.04383\",\"-0.061986\",\"-0.048395\",\"-0.038892\",\"-0.012882\",\"-0.014009\",\"-0.014714\",\"0.013998\",\"0.075611\",\"0.31803\",\"0.014984\",\"1\"],\"zvalues\":{\"__ndarray__\":\"AAAAAAAA8D+v/SEVdQ+Cv/1fdG8x9oe/41hgPyhror/o8l26sfqkvyZVn3ySHKW/GqYK4MZVpb94V32NNFi7P8GgOKVHG7w/c5+JARp+qT+ZO4zUQTO2P3U77XjfcKY/r/0hFXUPgr8AAAAAAADwPzDWYMXQO7a/F39XiFDjo79rcklgyQzpPxo/fZR9Cek/pmGkwu6f6D8Tya8MhESdv+ZhG3czSJc/VJO+0GiumT/0UA4SsxGcv9ubR8qivK+//V90bzH2h78w1mDF0Du2vwAAAAAAAPA/qR50WdEZbj8xNhFKKRCzv5x0n+Rz/7K/fB2yiAubsr+BvCWAOPN6vxb5XdA8d4+/HpkV1nwml7/3s9TKBQdovy5xfx1Hx6i/41hgPyhror8Xf1eIUOOjv6kedFnRGW4/AAAAAAAA8D+E44m0LLuqvwoltEaZ2Ke/dzDTpLBCo7+2GndJQtGMPyBv2kTL0Ju/snGDh7JJor8ZBbD8MYqZv4m8KbSZ6aO/6PJdurH6pL9rcklgyQzpPzE2EUopELO/hOOJtCy7qr8AAAAAAADwP3PO1YqV6u8/1Av+wSRP7z+Mdcl+/nSRP7p87LoiG5w/kRauoRIJmT/djVLhkEWiPwP9WcPpYYq/JlWffJIcpb8aP32UfQnpP5x0n+Rz/7K/CiW0RpnYp79zztWKlervPwAAAAAAAPA/vty2ij5q7z/+717IEuSSP+d34rYzw5w/gZqNBQgemT8QAdldqcmiPwfeSpOYsIy/GqYK4MZVpb+mYaTC7p/oP3wdsogLm7K/dzDTpLBCo7/UC/7BJE/vP77ctoo+au8/AAAAAAAA8D9jBEumMm6UP0jYEJVmEJ0/jTIJhHDhlz9rzG8reZGiP14LhomKIo6/eFd9jTRYuz8Tya8MhESdv4G8JYA483q/thp3SULRjD+Mdcl+/nSRP/7vXsgS5JI/YwRLpjJulD8AAAAAAADwP02oouQRwME//7r7sOF1wD8WnKQxjnWwP/pmRRI7q4w/waA4pUcbvD/mYRt3M0iXPxb5XdA8d4+/IG/aRMvQm7+6fOy6IhucP+d34rYzw5w/SNgQlWYQnT9NqKLkEcDBPwAAAAAAAPA/1hdVjzkO0D8ubFNwX53YPwPuy+xCW7M/c5+JARp+qT9Uk77QaK6ZPx6ZFdZ8Jpe/snGDh7JJor+RFq6hEgmZP4GajQUIHpk/jTIJhHDhlz//uvuw4XXAP9YXVY85DtA/AAAAAAAA8D/0vW57hkyxP+X4Y3qfWtQ/mTuM1EEztj/0UA4SsxGcv/ez1MoFB2i/GQWw/DGKmb/djVLhkEWiPxAB2V2pyaI/a8xvK3mRoj8WnKQxjnWwPy5sU3Bfndg/9L1ue4ZMsT8AAAAAAADwP7FRxHohsI4/dTvteN9wpj/bm0fKoryvvy5xfx1Hx6i/ibwptJnpo78D/VnD6WGKvwfeSpOYsIy/XguGiYoijr/6ZkUSO6uMPwPuy+xCW7M/5fhjep9a1D+xUcR6IbCOPwAAAAAAAPA/\",\"dtype\":\"float64\",\"order\":\"little\",\"shape\":[144]}},\"selected\":{\"id\":\"1211\"},\"selection_policy\":{\"id\":\"1235\"}},\"id\":\"1210\",\"type\":\"ColumnDataSource\"},{\"attributes\":{},\"id\":\"1154\",\"type\":\"CellEditor\"},{\"attributes\":{\"client_comm_id\":\"25d375fc64de443884640d2904c7974f\",\"comm_id\":\"d8aea2d961ed4871bc9673e416de4ed9\",\"plot_id\":\"1149\"},\"id\":\"1278\",\"type\":\"panel.models.comm_manager.CommManager\"},{\"attributes\":{\"source\":{\"id\":\"1150\"}},\"id\":\"1175\",\"type\":\"CDSView\"},{\"attributes\":{\"coordinates\":null,\"data_source\":{\"id\":\"1210\"},\"glyph\":{\"id\":\"1213\"},\"group\":null,\"hover_glyph\":null,\"muted_glyph\":{\"id\":\"1216\"},\"nonselection_glyph\":{\"id\":\"1214\"},\"selection_glyph\":{\"id\":\"1215\"},\"view\":{\"id\":\"1218\"}},\"id\":\"1217\",\"type\":\"GlyphRenderer\"},{\"attributes\":{\"text_align\":\"left\"},\"id\":\"1152\",\"type\":\"NumberFormatter\"},{\"attributes\":{},\"id\":\"1198\",\"type\":\"WheelZoomTool\"},{\"attributes\":{\"overlay\":{\"id\":\"1201\"}},\"id\":\"1199\",\"type\":\"BoxZoomTool\"},{\"attributes\":{\"fill_alpha\":{\"value\":0.1},\"fill_color\":{\"field\":\"zvalues\",\"transform\":{\"id\":\"1209\"}},\"hatch_alpha\":{\"value\":0.1},\"height\":{\"value\":1},\"line_alpha\":{\"value\":0},\"line_color\":{\"value\":\"#1f77b4\"},\"width\":{\"value\":1},\"x\":{\"field\":\"columns\"},\"y\":{\"field\":\"index\"}},\"id\":\"1214\",\"type\":\"Rect\"},{\"attributes\":{\"editor\":{\"id\":\"1169\"},\"field\":\"corr_coef\",\"formatter\":{\"id\":\"1168\"},\"title\":\"corr_coef\",\"width\":0},\"id\":\"1170\",\"type\":\"TableColumn\"},{\"attributes\":{},\"id\":\"1186\",\"type\":\"CategoricalScale\"},{\"attributes\":{\"indices\":[]},\"id\":\"1151\",\"type\":\"Selection\"},{\"attributes\":{\"bar_line_color\":\"black\",\"color_mapper\":{\"id\":\"1209\"},\"coordinates\":null,\"group\":null,\"label_standoff\":8,\"location\":[0,0],\"major_label_policy\":{\"id\":\"1231\"},\"major_tick_line_color\":\"black\",\"ticker\":{\"id\":\"1219\"}},\"id\":\"1220\",\"type\":\"ColorBar\"},{\"attributes\":{},\"id\":\"1200\",\"type\":\"ResetTool\"},{\"attributes\":{\"columns\":[{\"id\":\"1155\"},{\"id\":\"1160\"},{\"id\":\"1165\"},{\"id\":\"1170\"}],\"editable\":true,\"height\":300,\"index_position\":null,\"margin\":[5,10,5,10],\"name\":\"correlation_table\",\"row_height\":40,\"sizing_mode\":\"fixed\",\"source\":{\"id\":\"1150\"},\"view\":{\"id\":\"1175\"},\"width\":300},\"id\":\"1173\",\"type\":\"DataTable\"},{\"attributes\":{\"axis\":{\"id\":\"1190\"},\"coordinates\":null,\"grid_line_color\":null,\"group\":null,\"ticker\":null},\"id\":\"1192\",\"type\":\"Grid\"},{\"attributes\":{},\"id\":\"1222\",\"type\":\"CategoricalTickFormatter\"},{\"attributes\":{},\"id\":\"1219\",\"type\":\"BasicTicker\"},{\"attributes\":{\"fill_color\":{\"field\":\"zvalues\",\"transform\":{\"id\":\"1209\"}},\"height\":{\"value\":1},\"line_alpha\":{\"value\":0},\"line_color\":{\"value\":\"#1f77b4\"},\"width\":{\"value\":1},\"x\":{\"field\":\"columns\"},\"y\":{\"field\":\"index\"}},\"id\":\"1213\",\"type\":\"Rect\"},{\"attributes\":{\"editor\":{\"id\":\"1159\"},\"field\":\"var1\",\"formatter\":{\"id\":\"1158\"},\"title\":\"var1\",\"width\":0},\"id\":\"1160\",\"type\":\"TableColumn\"},{\"attributes\":{\"below\":[{\"id\":\"1190\"}],\"center\":[{\"id\":\"1192\"},{\"id\":\"1195\"}],\"height\":450,\"left\":[{\"id\":\"1193\"}],\"margin\":[5,5,5,5],\"min_border_bottom\":10,\"min_border_left\":10,\"min_border_right\":10,\"min_border_top\":10,\"name\":\"correlation_heatmap\",\"renderers\":[{\"id\":\"1217\"}],\"right\":[{\"id\":\"1220\"}],\"sizing_mode\":\"fixed\",\"title\":{\"id\":\"1182\"},\"toolbar\":{\"id\":\"1202\"},\"width\":700,\"x_range\":{\"id\":\"1178\"},\"x_scale\":{\"id\":\"1186\"},\"y_range\":{\"id\":\"1179\"},\"y_scale\":{\"id\":\"1188\"}},\"id\":\"1181\",\"subtype\":\"Figure\",\"type\":\"Plot\"},{\"attributes\":{\"coordinates\":null,\"group\":null,\"text_color\":\"black\",\"text_font_size\":\"12pt\"},\"id\":\"1182\",\"type\":\"Title\"},{\"attributes\":{},\"id\":\"1231\",\"type\":\"NoOverlap\"},{\"attributes\":{},\"id\":\"1196\",\"type\":\"SaveTool\"},{\"attributes\":{\"editor\":{\"id\":\"1164\"},\"field\":\"var2\",\"formatter\":{\"id\":\"1163\"},\"title\":\"var2\",\"width\":0},\"id\":\"1165\",\"type\":\"TableColumn\"},{\"attributes\":{\"fill_alpha\":{\"value\":0.2},\"fill_color\":{\"field\":\"zvalues\",\"transform\":{\"id\":\"1209\"}},\"hatch_alpha\":{\"value\":0.2},\"height\":{\"value\":1},\"line_alpha\":{\"value\":0},\"line_color\":{\"value\":\"#1f77b4\"},\"width\":{\"value\":1},\"x\":{\"field\":\"columns\"},\"y\":{\"field\":\"index\"}},\"id\":\"1216\",\"type\":\"Rect\"},{\"attributes\":{},\"id\":\"1169\",\"type\":\"NumberEditor\"},{\"attributes\":{},\"id\":\"1211\",\"type\":\"Selection\"},{\"attributes\":{\"format\":\"0,0.0[00000]\",\"text_align\":\"right\"},\"id\":\"1168\",\"type\":\"NumberFormatter\"},{\"attributes\":{},\"id\":\"1194\",\"type\":\"CategoricalTicker\"},{\"attributes\":{},\"id\":\"1197\",\"type\":\"PanTool\"}],\"root_ids\":[\"1149\",\"1278\"]},\"title\":\"Bokeh Application\",\"version\":\"2.4.3\"}};\n",
                            "    var render_items = [{\"docid\":\"018aa762-7fa2-4e7f-a9f6-89ae3225e6c6\",\"root_ids\":[\"1149\"],\"roots\":{\"1149\":\"28208dd9-87b5-4fb4-bf03-084f24c7b800\"}}];\n",
                            "    root.Bokeh.embed.embed_items_notebook(docs_json, render_items);\n",
                            "    for (const render_item of render_items) {\n",
                            "      for (const root_id of render_item.root_ids) {\n",
                            "\tconst id_el = document.getElementById(root_id)\n",
                            "\tif (id_el.children.length && (id_el.children[0].className === 'bk-root')) {\n",
                            "\t  const root_el = id_el.children[0]\n",
                            "\t  root_el.id = root_el.id + '-rendered'\n",
                            "\t}\n",
                            "      }\n",
                            "    }\n",
                            "  }\n",
                            "  if (root.Bokeh !== undefined && root.Bokeh.Panel !== undefined) {\n",
                            "    embed_document(root);\n",
                            "  } else {\n",
                            "    var attempts = 0;\n",
                            "    var timer = setInterval(function(root) {\n",
                            "      if (root.Bokeh !== undefined && root.Bokeh.Panel !== undefined) {\n",
                            "        clearInterval(timer);\n",
                            "        embed_document(root);\n",
                            "      } else if (document.readyState == \"complete\") {\n",
                            "        attempts++;\n",
                            "        if (attempts > 200) {\n",
                            "          clearInterval(timer);\n",
                            "          console.log(\"Bokeh: ERROR: Unable to run BokehJS code because BokehJS library is missing\");\n",
                            "        }\n",
                            "      }\n",
                            "    }, 25, root)\n",
                            "  }\n",
                            "})(window);</script>"
                        ],
                        "text/plain": [
                            "Tabs\n",
                            "    [0] DataFrame(height=300, name='correlation_table', sizing_mode='fixed', value=              ..., width=300)\n",
                            "    [1] HoloViews(HeatMap, height=450, name='correlation_heatmap', sizing_mode='fixed', width=700)"
                        ]
                    },
                    "execution_count": 18,
                    "metadata": {
                        "application/vnd.holoviews_exec.v0+json": {
                            "id": "1149"
                        }
                    },
                    "output_type": "execute_result"
                }
            ],
            "source": [
                "%%time\n",
                "corr_table=eda.correlation_table(train_df, plot='table')\n",
                "corr_heatmap=eda.correlation_table(train_df,plot='plot')\n",
                "utils.display_as_tabs([('correlation_table', corr_table), ('correlation_heatmap', corr_heatmap)])"
            ]
        },
        {
            "cell_type": "markdown",
            "metadata": {},
            "source": [
                "# Key Drivers\n",
                "## Correlation of Features wrt with target variable"
            ]
        },
        {
            "cell_type": "code",
            "execution_count": 19,
            "metadata": {},
            "outputs": [
                {
                    "name": "stderr",
                    "output_type": "stream",
                    "text": [
                        "                                                                                \r"
                    ]
                },
                {
                    "name": "stdout",
                    "output_type": "stream",
                    "text": [
                        "CPU times: user 169 ms, sys: 22.7 ms, total: 191 ms\n",
                        "Wall time: 6.32 s\n"
                    ]
                },
                {
                    "data": {},
                    "metadata": {},
                    "output_type": "display_data"
                },
                {
                    "data": {},
                    "metadata": {},
                    "output_type": "display_data"
                },
                {
                    "data": {
                        "application/vnd.holoviews_exec.v0+json": "",
                        "text/html": [
                            "<div id='1344'>\n",
                            "  <div class=\"bk-root\" id=\"5afb8af2-b5eb-4b67-9236-70ff7fd962d2\" data-root-id=\"1344\"></div>\n",
                            "</div>\n",
                            "<script type=\"application/javascript\">(function(root) {\n",
                            "  function embed_document(root) {\n",
                            "    var docs_json = {\"f2710e09-9238-4707-87db-928bb34dcf91\":{\"defs\":[{\"extends\":null,\"module\":null,\"name\":\"ReactiveHTML1\",\"overrides\":[],\"properties\":[]},{\"extends\":null,\"module\":null,\"name\":\"FlexBox1\",\"overrides\":[],\"properties\":[{\"default\":\"flex-start\",\"kind\":null,\"name\":\"align_content\"},{\"default\":\"flex-start\",\"kind\":null,\"name\":\"align_items\"},{\"default\":\"row\",\"kind\":null,\"name\":\"flex_direction\"},{\"default\":\"wrap\",\"kind\":null,\"name\":\"flex_wrap\"},{\"default\":\"flex-start\",\"kind\":null,\"name\":\"justify_content\"}]},{\"extends\":null,\"module\":null,\"name\":\"GridStack1\",\"overrides\":[],\"properties\":[{\"default\":\"warn\",\"kind\":null,\"name\":\"mode\"},{\"default\":null,\"kind\":null,\"name\":\"ncols\"},{\"default\":null,\"kind\":null,\"name\":\"nrows\"},{\"default\":true,\"kind\":null,\"name\":\"allow_resize\"},{\"default\":true,\"kind\":null,\"name\":\"allow_drag\"},{\"default\":[],\"kind\":null,\"name\":\"state\"}]},{\"extends\":null,\"module\":null,\"name\":\"click1\",\"overrides\":[],\"properties\":[{\"default\":\"\",\"kind\":null,\"name\":\"terminal_output\"},{\"default\":\"\",\"kind\":null,\"name\":\"debug_name\"},{\"default\":0,\"kind\":null,\"name\":\"clears\"}]},{\"extends\":null,\"module\":null,\"name\":\"NotificationAreaBase1\",\"overrides\":[],\"properties\":[{\"default\":\"bottom-right\",\"kind\":null,\"name\":\"position\"},{\"default\":0,\"kind\":null,\"name\":\"_clear\"}]},{\"extends\":null,\"module\":null,\"name\":\"NotificationArea1\",\"overrides\":[],\"properties\":[{\"default\":[],\"kind\":null,\"name\":\"notifications\"},{\"default\":\"bottom-right\",\"kind\":null,\"name\":\"position\"},{\"default\":0,\"kind\":null,\"name\":\"_clear\"},{\"default\":[{\"background\":\"#ffc107\",\"icon\":{\"className\":\"fas fa-exclamation-triangle\",\"color\":\"white\",\"tagName\":\"i\"},\"type\":\"warning\"},{\"background\":\"#007bff\",\"icon\":{\"className\":\"fas fa-info-circle\",\"color\":\"white\",\"tagName\":\"i\"},\"type\":\"info\"}],\"kind\":null,\"name\":\"types\"}]},{\"extends\":null,\"module\":null,\"name\":\"Notification\",\"overrides\":[],\"properties\":[{\"default\":null,\"kind\":null,\"name\":\"background\"},{\"default\":3000,\"kind\":null,\"name\":\"duration\"},{\"default\":null,\"kind\":null,\"name\":\"icon\"},{\"default\":\"\",\"kind\":null,\"name\":\"message\"},{\"default\":null,\"kind\":null,\"name\":\"notification_type\"},{\"default\":false,\"kind\":null,\"name\":\"_destroyed\"}]},{\"extends\":null,\"module\":null,\"name\":\"TemplateActions1\",\"overrides\":[],\"properties\":[{\"default\":0,\"kind\":null,\"name\":\"open_modal\"},{\"default\":0,\"kind\":null,\"name\":\"close_modal\"}]},{\"extends\":null,\"module\":null,\"name\":\"MaterialTemplateActions1\",\"overrides\":[],\"properties\":[{\"default\":0,\"kind\":null,\"name\":\"open_modal\"},{\"default\":0,\"kind\":null,\"name\":\"close_modal\"}]}],\"roots\":{\"references\":[{\"attributes\":{\"below\":[{\"id\":\"1357\"}],\"center\":[{\"id\":\"1360\"},{\"id\":\"1363\"}],\"height\":300,\"left\":[{\"id\":\"1361\"}],\"margin\":[5,5,5,5],\"min_border_bottom\":10,\"min_border_left\":10,\"min_border_right\":10,\"min_border_top\":10,\"name\":\"key_drivers\",\"renderers\":[{\"id\":\"1383\"}],\"sizing_mode\":\"fixed\",\"title\":{\"id\":\"1349\"},\"toolbar\":{\"id\":\"1370\"},\"width\":700,\"x_range\":{\"id\":\"1345\"},\"x_scale\":{\"id\":\"1353\"},\"y_range\":{\"id\":\"1346\"},\"y_scale\":{\"id\":\"1355\"}},\"id\":\"1348\",\"subtype\":\"Figure\",\"type\":\"Plot\"},{\"attributes\":{},\"id\":\"1368\",\"type\":\"ResetTool\"},{\"attributes\":{},\"id\":\"1355\",\"type\":\"CategoricalScale\"},{\"attributes\":{\"axis_label\":\"\",\"coordinates\":null,\"formatter\":{\"id\":\"1390\"},\"group\":null,\"major_label_policy\":{\"id\":\"1391\"},\"ticker\":{\"id\":\"1362\"}},\"id\":\"1361\",\"type\":\"CategoricalAxis\"},{\"attributes\":{\"coordinates\":null,\"data_source\":{\"id\":\"1377\"},\"glyph\":{\"id\":\"1380\"},\"group\":null,\"hover_glyph\":null,\"muted_glyph\":{\"id\":\"1382\"},\"nonselection_glyph\":{\"id\":\"1381\"},\"selection_glyph\":{\"id\":\"1385\"},\"view\":{\"id\":\"1384\"}},\"id\":\"1383\",\"type\":\"GlyphRenderer\"},{\"attributes\":{\"overlay\":{\"id\":\"1369\"}},\"id\":\"1367\",\"type\":\"BoxZoomTool\"},{\"attributes\":{\"fill_alpha\":{\"value\":0.1},\"fill_color\":{\"value\":\"#30a2da\"},\"hatch_alpha\":{\"value\":0.1},\"hatch_color\":{\"value\":\"#30a2da\"},\"height\":{\"value\":0.8},\"line_alpha\":{\"value\":0.1},\"right\":{\"field\":\"Pearson_correlation_with_Target\"},\"y\":{\"field\":\"index\"}},\"id\":\"1381\",\"type\":\"HBar\"},{\"attributes\":{\"axis\":{\"id\":\"1357\"},\"coordinates\":null,\"grid_line_color\":null,\"group\":null,\"ticker\":null},\"id\":\"1360\",\"type\":\"Grid\"},{\"attributes\":{\"coordinates\":null,\"group\":null,\"text\":\"Feature Correlation with Target Function\",\"text_color\":\"black\",\"text_font_size\":\"12pt\"},\"id\":\"1349\",\"type\":\"Title\"},{\"attributes\":{\"child\":{\"id\":\"1348\"},\"name\":\"key_drivers\",\"title\":\"key_drivers\"},\"id\":\"1402\",\"type\":\"Panel\"},{\"attributes\":{\"factors\":[\"market_rate_per_mile\",\"national_price\",\"distance\",\"pastmonth_avg\",\"pastweek_avg\"],\"tags\":[[[\"index\",\"index\",null]]]},\"id\":\"1346\",\"type\":\"FactorRange\"},{\"attributes\":{\"fill_alpha\":{\"value\":1.0},\"fill_color\":{\"value\":\"#30a2da\"},\"hatch_alpha\":{\"value\":1.0},\"hatch_color\":{\"value\":\"#30a2da\"},\"hatch_scale\":{\"value\":12.0},\"hatch_weight\":{\"value\":1.0},\"height\":{\"value\":0.8},\"left\":{\"value\":0},\"line_alpha\":{\"value\":1.0},\"line_cap\":{\"value\":\"butt\"},\"line_color\":{\"value\":\"black\"},\"line_dash\":{\"value\":[]},\"line_dash_offset\":{\"value\":0},\"line_join\":{\"value\":\"bevel\"},\"line_width\":{\"value\":1},\"right\":{\"field\":\"Pearson_correlation_with_Target\"},\"y\":{\"field\":\"index\"}},\"id\":\"1385\",\"type\":\"HBar\"},{\"attributes\":{},\"id\":\"1399\",\"type\":\"UnionRenderers\"},{\"attributes\":{\"tools\":[{\"id\":\"1347\"},{\"id\":\"1364\"},{\"id\":\"1365\"},{\"id\":\"1366\"},{\"id\":\"1367\"},{\"id\":\"1368\"}]},\"id\":\"1370\",\"type\":\"Toolbar\"},{\"attributes\":{},\"id\":\"1387\",\"type\":\"BasicTickFormatter\"},{\"attributes\":{\"axis\":{\"id\":\"1361\"},\"coordinates\":null,\"dimension\":1,\"grid_line_color\":null,\"group\":null,\"ticker\":null},\"id\":\"1363\",\"type\":\"Grid\"},{\"attributes\":{\"source\":{\"id\":\"1377\"}},\"id\":\"1384\",\"type\":\"CDSView\"},{\"attributes\":{},\"id\":\"1378\",\"type\":\"Selection\"},{\"attributes\":{},\"id\":\"1390\",\"type\":\"CategoricalTickFormatter\"},{\"attributes\":{},\"id\":\"1365\",\"type\":\"PanTool\"},{\"attributes\":{},\"id\":\"1358\",\"type\":\"BasicTicker\"},{\"attributes\":{\"fill_alpha\":{\"value\":0.2},\"fill_color\":{\"value\":\"#30a2da\"},\"hatch_alpha\":{\"value\":0.2},\"hatch_color\":{\"value\":\"#30a2da\"},\"height\":{\"value\":0.8},\"line_alpha\":{\"value\":0.2},\"right\":{\"field\":\"Pearson_correlation_with_Target\"},\"y\":{\"field\":\"index\"}},\"id\":\"1382\",\"type\":\"HBar\"},{\"attributes\":{\"bottom_units\":\"screen\",\"coordinates\":null,\"fill_alpha\":0.5,\"fill_color\":\"lightgrey\",\"group\":null,\"left_units\":\"screen\",\"level\":\"overlay\",\"line_alpha\":1.0,\"line_color\":\"black\",\"line_dash\":[4,4],\"line_width\":2,\"right_units\":\"screen\",\"syncable\":false,\"top_units\":\"screen\"},\"id\":\"1369\",\"type\":\"BoxAnnotation\"},{\"attributes\":{\"axis_label\":\"Pearson_correlation_with_Target\",\"coordinates\":null,\"formatter\":{\"id\":\"1387\"},\"group\":null,\"major_label_policy\":{\"id\":\"1388\"},\"ticker\":{\"id\":\"1358\"}},\"id\":\"1357\",\"type\":\"LinearAxis\"},{\"attributes\":{\"fill_color\":{\"value\":\"#30a2da\"},\"hatch_color\":{\"value\":\"#30a2da\"},\"height\":{\"value\":0.8},\"right\":{\"field\":\"Pearson_correlation_with_Target\"},\"y\":{\"field\":\"index\"}},\"id\":\"1380\",\"type\":\"HBar\"},{\"attributes\":{},\"id\":\"1366\",\"type\":\"WheelZoomTool\"},{\"attributes\":{},\"id\":\"1388\",\"type\":\"AllLabels\"},{\"attributes\":{},\"id\":\"1391\",\"type\":\"AllLabels\"},{\"attributes\":{},\"id\":\"1353\",\"type\":\"LinearScale\"},{\"attributes\":{},\"id\":\"1362\",\"type\":\"CategoricalTicker\"},{\"attributes\":{\"data\":{\"Pearson_correlation_with_Target\":{\"__ndarray__\":\"fB2yiAubsr93MNOksEKjv6ZhpMLun+g/1gv+wSRP7z/A3LaKPmrvPw==\",\"dtype\":\"float64\",\"order\":\"little\",\"shape\":[5]},\"index\":[\"market_rate_per_mile\",\"national_price\",\"distance\",\"pastmonth_avg\",\"pastweek_avg\"]},\"selected\":{\"id\":\"1378\"},\"selection_policy\":{\"id\":\"1399\"}},\"id\":\"1377\",\"type\":\"ColumnDataSource\"},{\"attributes\":{\"callback\":null,\"renderers\":[{\"id\":\"1383\"}],\"tags\":[\"hv_created\"],\"tooltips\":[[\"index\",\"@{index}\"],[\"Pearson_correlation_with_Target\",\"@{Pearson_correlation_with_Target}\"]]},\"id\":\"1347\",\"type\":\"HoverTool\"},{\"attributes\":{\"client_comm_id\":\"751a720025544446870cdc5537b0663c\",\"comm_id\":\"323ecd1c4835492eab8d3afdae165f8c\",\"plot_id\":\"1344\"},\"id\":\"1433\",\"type\":\"panel.models.comm_manager.CommManager\"},{\"attributes\":{},\"id\":\"1364\",\"type\":\"SaveTool\"},{\"attributes\":{\"end\":1.0871590329230456,\"reset_end\":1.0871590329230456,\"reset_start\":-0.17811805730145036,\"start\":-0.17811805730145036,\"tags\":[[[\"Pearson_correlation_with_Target\",\"Pearson_correlation_with_Target\",null]]]},\"id\":\"1345\",\"type\":\"Range1d\"},{\"attributes\":{\"margin\":[0,0,0,0],\"tabs\":[{\"id\":\"1402\"}]},\"id\":\"1344\",\"type\":\"panel.models.tabs.Tabs\"}],\"root_ids\":[\"1344\",\"1433\"]},\"title\":\"Bokeh Application\",\"version\":\"2.4.3\"}};\n",
                            "    var render_items = [{\"docid\":\"f2710e09-9238-4707-87db-928bb34dcf91\",\"root_ids\":[\"1344\"],\"roots\":{\"1344\":\"5afb8af2-b5eb-4b67-9236-70ff7fd962d2\"}}];\n",
                            "    root.Bokeh.embed.embed_items_notebook(docs_json, render_items);\n",
                            "    for (const render_item of render_items) {\n",
                            "      for (const root_id of render_item.root_ids) {\n",
                            "\tconst id_el = document.getElementById(root_id)\n",
                            "\tif (id_el.children.length && (id_el.children[0].className === 'bk-root')) {\n",
                            "\t  const root_el = id_el.children[0]\n",
                            "\t  root_el.id = root_el.id + '-rendered'\n",
                            "\t}\n",
                            "      }\n",
                            "    }\n",
                            "  }\n",
                            "  if (root.Bokeh !== undefined && root.Bokeh.Panel !== undefined) {\n",
                            "    embed_document(root);\n",
                            "  } else {\n",
                            "    var attempts = 0;\n",
                            "    var timer = setInterval(function(root) {\n",
                            "      if (root.Bokeh !== undefined && root.Bokeh.Panel !== undefined) {\n",
                            "        clearInterval(timer);\n",
                            "        embed_document(root);\n",
                            "      } else if (document.readyState == \"complete\") {\n",
                            "        attempts++;\n",
                            "        if (attempts > 200) {\n",
                            "          clearInterval(timer);\n",
                            "          console.log(\"Bokeh: ERROR: Unable to run BokehJS code because BokehJS library is missing\");\n",
                            "        }\n",
                            "      }\n",
                            "    }, 25, root)\n",
                            "  }\n",
                            "})(window);</script>"
                        ],
                        "text/plain": [
                            "Tabs\n",
                            "    [0] HoloViews(Bars, height=300, name='key_drivers', sizing_mode='fixed', width=700)"
                        ]
                    },
                    "execution_count": 19,
                    "metadata": {
                        "application/vnd.holoviews_exec.v0+json": {
                            "id": "1344"
                        }
                    },
                    "output_type": "execute_result"
                }
            ],
            "source": [
                "%%time\n",
                "target_var='carrier_price'\n",
                "target_corr_table=eda.correlation_with_target(train_df, target_var, cols=num_cols)\n",
                "utils.display_as_tabs([('key_drivers', target_corr_table)])"
            ]
        },
        {
            "cell_type": "markdown",
            "metadata": {},
            "source": [
                "## Outlier Identification and Handling\n",
                "\n",
                "A Custom Transformer is used to handle outliers.  \n",
                "An option to either drop or cap the outliers can be passed during the transform call. \n"
            ]
        },
        {
            "cell_type": "code",
            "execution_count": 20,
            "metadata": {},
            "outputs": [
                {
                    "name": "stderr",
                    "output_type": "stream",
                    "text": [
                        "                                                                                \r"
                    ]
                },
                {
                    "name": "stdout",
                    "output_type": "stream",
                    "text": [
                        "{'distance': {'q1': 372.21, 'q3': 921.98, 'min_b': -452.445, 'max_b': 1746.635}, 'market_rate_per_mile': {'q1': 1.5299999999999998, 'q3': 2.45, 'min_b': 0.14999999999999925, 'max_b': 3.830000000000001}, 'carrier_price': {'q1': 773.775, 'q3': 1755.59, 'min_b': -698.9474999999999, 'max_b': 3228.3125}, 'pastweek_avg': {'q1': 781.6175, 'q3': 1753.9516666666668, 'min_b': -676.8837500000003, 'max_b': 3212.452916666667}, 'pastmonth_avg': {'q1': 782.9852272727271, 'q3': 1759.3066666666666, 'min_b': -681.496931818182, 'max_b': 3223.788825757576}}\n",
                        "CPU times: user 202 ms, sys: 131 ms, total: 333 ms\n",
                        "Wall time: 21.2 s\n"
                    ]
                }
            ],
            "source": [
                "%%time\n",
                "outlier=dp.Outlier_Treatment(\n",
                "    cols=['distance','market_rate_per_mile', 'carrier_price', 'pastweek_avg', 'pastmonth_avg'], \n",
                "    drop=True,\n",
                "    cap=False,\n",
                "    method='iqr',\n",
                "    iqr_multiplier=1.5\n",
                ")\n",
                "outlier.fit(train_df)\n",
                "train_df = outlier.transform(train_df)"
            ]
        },
        {
            "cell_type": "markdown",
            "metadata": {},
            "source": [
                "## Encoding Categorical Features\n",
                "\n",
                "An example showcasing how to create column specific pipelines and integrating them overall is presented below.\n",
                "\n",
                "Commonly target encoding is done for categorical variables with too many levels.\n",
                "We can also group sparse levels. For fewer levels one hot encoding/label encoding is preferred.\n",
                "If there is one dominant level, we can use binary encoding.\n"
            ]
        },
        {
            "cell_type": "code",
            "execution_count": 21,
            "metadata": {},
            "outputs": [
                {
                    "name": "stdout",
                    "output_type": "stream",
                    "text": [
                        "vehicle_type {'method': 'onehot'}\n"
                    ]
                },
                {
                    "name": "stderr",
                    "output_type": "stream",
                    "text": [
                        "                                                                                \r"
                    ]
                },
                {
                    "name": "stdout",
                    "output_type": "stream",
                    "text": [
                        "{'mapper': PipelineModel_39e29bd785d8, 'prefix': 'onehot'}\n",
                        "origin_zip {'method': 'onehot'}\n"
                    ]
                },
                {
                    "name": "stderr",
                    "output_type": "stream",
                    "text": [
                        "                                                                                \r"
                    ]
                },
                {
                    "name": "stdout",
                    "output_type": "stream",
                    "text": [
                        "{'mapper': PipelineModel_15e1d0b67520, 'prefix': 'onehot'}\n",
                        "destination_zip {'method': 'onehot'}\n"
                    ]
                },
                {
                    "name": "stderr",
                    "output_type": "stream",
                    "text": [
                        "                                                                                \r"
                    ]
                },
                {
                    "name": "stdout",
                    "output_type": "stream",
                    "text": [
                        "{'mapper': PipelineModel_3c5d03d4b7fc, 'prefix': 'onehot'}\n",
                        "CPU times: user 252 ms, sys: 217 ms, total: 468 ms\n",
                        "Wall time: 11.3 s\n"
                    ]
                }
            ],
            "source": [
                "%%time\n",
                "encoder=features.Encoder(\n",
                "    cols=['vehicle_type', 'origin_zip', 'destination_zip'],\n",
                "    rules={'vehicle_type':{'method':'onehot'},\n",
                "          'origin_zip':{'method':'onehot'},\n",
                "          'destination_zip':{'method':'onehot'}}\n",
                ")\n",
                "encoder.fit(train_df)\n",
                "train_df = encoder.transform(train_df)\n",
                "test_df = encoder.transform(test_df)"
            ]
        },
        {
            "cell_type": "markdown",
            "metadata": {},
            "source": [
                "## Model DataPrep and Vector Generation"
            ]
        },
        {
            "cell_type": "markdown",
            "metadata": {},
            "source": [
                "### Obtaining List of Feature Columns\n",
                "\n",
                "We use customer functions from `ta_lib.pyspark.dp` for identifying the data types of each column. We then group the columns for use as features in the model."
            ]
        },
        {
            "cell_type": "code",
            "execution_count": 22,
            "metadata": {},
            "outputs": [
                {
                    "name": "stdout",
                    "output_type": "stream",
                    "text": [
                        "num_cols: ['trip_id', 'distance', 'market_rate_per_mile', 'national_price', 'pastmonth_avg', 'pastweek_avg', 'carrier_price', 'vehicle_type_index', 'onehot_encoded_vehicle_type', 'origin_zip_index', 'onehot_encoded_origin_zip', 'destination_zip_index', 'onehot_encoded_destination_zip'] \n",
                        ", cat_cols: ['vehicle_type', 'origin_zip', 'destination_zip', 'origin_market_id', 'destination_market_id'] \n",
                        ", date_cols: [] \n",
                        ", bool_cols: []\n",
                        "feature_cols: ['distance', 'market_rate_per_mile', 'national_price', 'pastmonth_avg', 'pastweek_avg', 'onehot_encoded_vehicle_type', 'onehot_encoded_origin_zip', 'onehot_encoded_destination_zip']\n"
                    ]
                }
            ],
            "source": [
                "num_cols = dp.list_numerical_columns(train_df)\n",
                "cat_cols = dp.list_categorical_columns(train_df)\n",
                "date_cols = dp.list_datelike_columns(train_df)\n",
                "bool_cols = dp.list_boolean_columns(train_df)\n",
                "print(f\"num_cols: {num_cols} \\n, cat_cols: {cat_cols} \\n, date_cols: {date_cols} \\n, bool_cols: {bool_cols}\")\n",
                "\n",
                "target_col = 'carrier_price'\n",
                "id_cols = 'trip_id'\n",
                "non_relevant_cat_cols = []\n",
                "non_relevant_num_cols = [x for x in num_cols if 'index' in x]\n",
                "feature_cols = train_df.columns\n",
                "feature_cols.remove(target_col)\n",
                "feature_cols = [x for x in feature_cols if x not in cat_cols]\n",
                "feature_cols = [x for x in feature_cols if x not in date_cols]\n",
                "feature_cols = [x for x in feature_cols if x not in bool_cols]\n",
                "feature_cols = [x for x in feature_cols if x not in id_cols]\n",
                "feature_cols = [x for x in feature_cols if x not in non_relevant_num_cols]\n",
                "print(f\"feature_cols: {feature_cols}\")"
            ]
        },
        {
            "cell_type": "markdown",
            "metadata": {},
            "source": [
                "### Generating the Features Vector"
            ]
        },
        {
            "cell_type": "code",
            "execution_count": 23,
            "metadata": {},
            "outputs": [
                {
                    "name": "stdout",
                    "output_type": "stream",
                    "text": [
                        "CPU times: user 41.6 ms, sys: 10.4 ms, total: 52 ms\n",
                        "Wall time: 463 ms\n"
                    ]
                }
            ],
            "source": [
                "%%time\n",
                "train_df = dp.generate_features_vector(spark, train_df, feature_cols, output_col=\"features\")\n",
                "test_df = dp.generate_features_vector(spark, test_df, feature_cols, output_col=\"features\")"
            ]
        },
        {
            "cell_type": "markdown",
            "metadata": {},
            "source": [
                "# Model Train and Eval"
            ]
        },
        {
            "cell_type": "code",
            "execution_count": 24,
            "metadata": {},
            "outputs": [
                {
                    "name": "stdout",
                    "output_type": "stream",
                    "text": [
                        "CPU times: user 4.69 ms, sys: 3.44 ms, total: 8.13 ms\n",
                        "Wall time: 30.3 ms\n"
                    ]
                }
            ],
            "source": [
                "%%time\n",
                "# renaming target col as y\n",
                "train_df = train_df.withColumnRenamed(target_col, \"y\")\n",
                "test_df = test_df.withColumnRenamed(target_col, \"y\")"
            ]
        },
        {
            "cell_type": "code",
            "execution_count": 25,
            "metadata": {},
            "outputs": [
                {
                    "name": "stderr",
                    "output_type": "stream",
                    "text": [
                        "                                                                                \r"
                    ]
                }
            ],
            "source": [
                "# estimator declaration\n",
                "m = RandomForestRegressor(featuresCol=\"features\", labelCol=\"y\", predictionCol='yhat')\n",
                "model = m.fit(train_df)\n",
                "\n",
                "save_model(model, artifacts_folder)"
            ]
        },
        {
            "cell_type": "code",
            "execution_count": 26,
            "metadata": {},
            "outputs": [
                {
                    "name": "stderr",
                    "output_type": "stream",
                    "text": [
                        "                                                                                \r"
                    ]
                }
            ],
            "source": [
                "from pyspark.ml.regression import RandomForestRegressionModel\n",
                "model = RandomForestRegressionModel.load(artifacts_folder)\n",
                "preds_df = model.transform(test_df)\n",
                "# Save the predictions \n",
                "utils.save_data(preds_df, path = data_config[\"processed\"][\"base_path\"]+ data_config[\"processed\"][\"preds\"])"
            ]
        },
        {
            "cell_type": "code",
            "execution_count": 27,
            "metadata": {},
            "outputs": [
                {
                    "name": "stderr",
                    "output_type": "stream",
                    "text": [
                        "                                                                                \r"
                    ]
                }
            ],
            "source": [
                "preds_df = utils.read_data(\n",
                "    spark=spark,\n",
                "    paths=[data_config[\"processed\"][\"base_path\"]+ data_config[\"processed\"][\"preds\"]],\n",
                "    fs=data_config['processed']['filesystem'],\n",
                "    fmt=\"parquet\",\n",
                "    header=\"true\",\n",
                "    inferschema=\"true\"\n",
                ")"
            ]
        },
        {
            "attachments": {},
            "cell_type": "markdown",
            "metadata": {},
            "source": [
                "# Model Evaluation Metrics"
            ]
        },
        {
            "cell_type": "code",
            "execution_count": 28,
            "metadata": {},
            "outputs": [
                {
                    "name": "stderr",
                    "output_type": "stream",
                    "text": [
                        "[Stage 347:>                                                        (0 + 5) / 5]\r"
                    ]
                },
                {
                    "name": "stdout",
                    "output_type": "stream",
                    "text": [
                        "CPU times: user 143 ms, sys: 105 ms, total: 248 ms\n",
                        "Wall time: 12.9 s\n"
                    ]
                },
                {
                    "name": "stderr",
                    "output_type": "stream",
                    "text": [
                        "                                                                                \r"
                    ]
                },
                {
                    "data": {
                        "text/html": [
                            "<div>\n",
                            "<style scoped>\n",
                            "    .dataframe tbody tr th:only-of-type {\n",
                            "        vertical-align: middle;\n",
                            "    }\n",
                            "\n",
                            "    .dataframe tbody tr th {\n",
                            "        vertical-align: top;\n",
                            "    }\n",
                            "\n",
                            "    .dataframe thead th {\n",
                            "        text-align: right;\n",
                            "    }\n",
                            "</style>\n",
                            "<table border=\"1\" class=\"dataframe\">\n",
                            "  <thead>\n",
                            "    <tr style=\"text-align: right;\">\n",
                            "      <th></th>\n",
                            "      <th>Metric</th>\n",
                            "      <th>Train</th>\n",
                            "    </tr>\n",
                            "  </thead>\n",
                            "  <tbody>\n",
                            "    <tr>\n",
                            "      <th>0</th>\n",
                            "      <td>Explained Variance</td>\n",
                            "      <td>0.22</td>\n",
                            "    </tr>\n",
                            "    <tr>\n",
                            "      <th>1</th>\n",
                            "      <td>RMSE</td>\n",
                            "      <td>457.25</td>\n",
                            "    </tr>\n",
                            "    <tr>\n",
                            "      <th>2</th>\n",
                            "      <td>MAE</td>\n",
                            "      <td>180.92</td>\n",
                            "    </tr>\n",
                            "    <tr>\n",
                            "      <th>3</th>\n",
                            "      <td>MSE</td>\n",
                            "      <td>209073.28</td>\n",
                            "    </tr>\n",
                            "    <tr>\n",
                            "      <th>4</th>\n",
                            "      <td>MAPE</td>\n",
                            "      <td>13.55</td>\n",
                            "    </tr>\n",
                            "    <tr>\n",
                            "      <th>5</th>\n",
                            "      <td>WMAPE</td>\n",
                            "      <td>0.13</td>\n",
                            "    </tr>\n",
                            "    <tr>\n",
                            "      <th>6</th>\n",
                            "      <td>R.Sq</td>\n",
                            "      <td>0.77</td>\n",
                            "    </tr>\n",
                            "  </tbody>\n",
                            "</table>\n",
                            "</div>"
                        ],
                        "text/plain": [
                            "               Metric      Train\n",
                            "0  Explained Variance       0.22\n",
                            "1                RMSE     457.25\n",
                            "2                 MAE     180.92\n",
                            "3                 MSE  209073.28\n",
                            "4                MAPE      13.55\n",
                            "5               WMAPE       0.13\n",
                            "6                R.Sq       0.77"
                        ]
                    },
                    "execution_count": 28,
                    "metadata": {},
                    "output_type": "execute_result"
                }
            ],
            "source": [
                "%%time\n",
                "rf_metrics = model_eval.get_regression_metrics(\n",
                "    spark,\n",
                "    data=preds_df,\n",
                "    y_col='y',\n",
                "    y_pred_col='yhat',\n",
                ")\n",
                "rf_metrics"
            ]
        },
        {
            "cell_type": "markdown",
            "metadata": {},
            "source": [
                "# Regression Plots"
            ]
        },
        {
            "cell_type": "markdown",
            "metadata": {},
            "source": [
                "### Regression Plots \n",
                "\n",
                "We can evaluate the model performance with some residual plots. Make sure you evaluate the suitability of the plots for your data, as scatter plots would be memory intensive for very large datasets.\n",
                "\n",
                "For the residual plots, instead of plotting all the data points, we plot only a subset based a certain `threshold` passed to `ta_lib.pyspark.model_eval.get_regression_plots`. In the example below, we set the threshold as 0.5, which means that the below are plotted:\n",
                "* __Overpredictions__: When $Prediction > 1.5*Actual$\n",
                "* __Underpredictions__:When $Prediction < 0.5*Actual $ "
            ]
        },
        {
            "cell_type": "code",
            "execution_count": 29,
            "metadata": {},
            "outputs": [
                {
                    "name": "stderr",
                    "output_type": "stream",
                    "text": [
                        "[Stage 357:>                                                        (0 + 5) / 5]\r"
                    ]
                },
                {
                    "name": "stdout",
                    "output_type": "stream",
                    "text": [
                        "CPU times: user 599 ms, sys: 77.7 ms, total: 677 ms\n",
                        "Wall time: 20.9 s\n"
                    ]
                },
                {
                    "name": "stderr",
                    "output_type": "stream",
                    "text": [
                        "                                                                                \r"
                    ]
                },
                {
                    "data": {
                        "text/plain": [
                            "{'Residual Histogram': <Figure size 640x480 with 1 Axes>,\n",
                            " 'Actual vs Predicted': <Figure size 640x480 with 1 Axes>,\n",
                            " 'Residual vs Predicted': <Figure size 640x480 with 1 Axes>}"
                        ]
                    },
                    "execution_count": 29,
                    "metadata": {},
                    "output_type": "execute_result"
                },
                {
                    "data": {
                        "image/png": "[encoded data removed]",
                        "text/plain": [
                            "<Figure size 640x480 with 1 Axes>"
                        ]
                    },
                    "metadata": {},
                    "output_type": "display_data"
                },
                {
                    "data": {
                        "image/png": "[encoded data removed]",
                        "text/plain": [
                            "<Figure size 640x480 with 1 Axes>"
                        ]
                    },
                    "metadata": {},
                    "output_type": "display_data"
                },
                {
                    "data": {
                        "image/png": "[encoded data removed]",
                        "text/plain": [
                            "<Figure size 640x480 with 1 Axes>"
                        ]
                    },
                    "metadata": {},
                    "output_type": "display_data"
                }
            ],
            "source": [
                "%%time\n",
                "model_eval.get_regression_plots(\n",
                "    spark, \n",
                "    data=preds_df,\n",
                "    y_col='y',\n",
                "    y_pred_col='yhat', \n",
                "    threshold=0.5)"
            ]
        }
    ],
    "metadata": {
        "kernelspec": {
            "display_name": "ta-lib-pyspark-test-1.1.4-dev",
            "language": "python",
            "name": "python3"
        },
        "language_info": {
            "codemirror_mode": {
                "name": "ipython",
                "version": 3
            },
            "file_extension": ".py",
            "mimetype": "text/x-python",
            "name": "python",
            "nbconvert_exporter": "python",
            "pygments_lexer": "ipython3",
            "version": "3.9.16"
        }
    },
    "nbformat": 4,
    "nbformat_minor": 4
}
