{
 "cells": [
  {
   "cell_type": "code",
   "execution_count": 6,
   "metadata": {},
   "outputs": [
    {
     "name": "stdout",
     "output_type": "stream",
     "text": [
      "The autoreload extension is already loaded. To reload it, use:\n",
      "  %reload_ext autoreload\n"
     ]
    }
   ],
   "source": [
    "%load_ext autoreload\n",
    "%autoreload 2"
   ]
  },
  {
   "cell_type": "markdown",
   "metadata": {},
   "source": [
    "# Purpose\n",
    "This notebook describes the typical activities carried out at the beginning of a project/thread when a customer shares new data. We will be trying to understand the tables, columns and information flow. Typically we also look for data issues and confirm with respective owners for resolution. At the end of this activity, the data sources and their treatment is finalized. Code in this notebook will not be part of the production code.\n",
    "\n",
    "This data is stored currently in the tiger databricks storage. The notebooks are configured to connect directly to the Databricks fielstore and pull/save relevant files, therefore it is not required to download the files. \n",
    "\n",
    "Contact [code templates support](code-templates-support@tigeranalytics.com) for access to databricks."
   ]
  },
  {
   "cell_type": "markdown",
   "metadata": {},
   "source": [
    "# Imports"
   ]
  },
  {
   "cell_type": "code",
   "execution_count": 7,
   "metadata": {},
   "outputs": [
    {
     "name": "stderr",
     "output_type": "stream",
     "text": [
      "WARNING:param.panel_extension: bokeh extension not recognized and will be skipped.\n"
     ]
    },
    {
     "data": {
      "application/javascript": "(function(root) {\n  function now() {\n    return new Date();\n  }\n\n  var force = true;\n\n  if (typeof root._bokeh_onload_callbacks === \"undefined\" || force === true) {\n    root._bokeh_onload_callbacks = [];\n    root._bokeh_is_loading = undefined;\n  }\n\n  if (typeof (root._bokeh_timeout) === \"undefined\" || force === true) {\n    root._bokeh_timeout = Date.now() + 5000;\n    root._bokeh_failed_load = false;\n  }\n\n  function run_callbacks() {\n    try {\n      root._bokeh_onload_callbacks.forEach(function(callback) {\n        if (callback != null)\n          callback();\n      });\n    } finally {\n      delete root._bokeh_onload_callbacks\n    }\n    console.debug(\"Bokeh: all callbacks have finished\");\n  }\n\n  function load_libs(css_urls, js_urls, js_modules, callback) {\n    if (css_urls == null) css_urls = [];\n    if (js_urls == null) js_urls = [];\n    if (js_modules == null) js_modules = [];\n\n    root._bokeh_onload_callbacks.push(callback);\n    if (root._bokeh_is_loading > 0) {\n      console.debug(\"Bokeh: BokehJS is being loaded, scheduling callback at\", now());\n      return null;\n    }\n    if (js_urls.length === 0 && js_modules.length === 0) {\n      run_callbacks();\n      return null;\n    }\n    console.debug(\"Bokeh: BokehJS not loaded, scheduling load and callback at\", now());\n\n    function on_load() {\n      root._bokeh_is_loading--;\n      if (root._bokeh_is_loading === 0) {\n        console.debug(\"Bokeh: all BokehJS libraries/stylesheets loaded\");\n        run_callbacks()\n      }\n    }\n\n    function on_error() {\n      console.error(\"failed to load \" + url);\n    }\n\n    for (var i = 0; i < css_urls.length; i++) {\n      var url = css_urls[i];\n      const element = document.createElement(\"link\");\n      element.onload = on_load;\n      element.onerror = on_error;\n      element.rel = \"stylesheet\";\n      element.type = \"text/css\";\n      element.href = url;\n      console.debug(\"Bokeh: injecting link tag for BokehJS stylesheet: \", url);\n      document.body.appendChild(element);\n    }\n\n    var skip = [];\n    if (window.requirejs) {\n      window.requirejs.config({'packages': {}, 'paths': {'gridstack': 'https://cdn.jsdelivr.net/npm/gridstack@4.2.5/dist/gridstack-h5', 'notyf': 'https://cdn.jsdelivr.net/npm/notyf@3/notyf.min'}, 'shim': {'gridstack': {'exports': 'GridStack'}}});\n      require([\"gridstack\"], function(GridStack) {\n\twindow.GridStack = GridStack\n\ton_load()\n      })\n      require([\"notyf\"], function() {\n\ton_load()\n      })\n      root._bokeh_is_loading = css_urls.length + 2;\n    } else {\n      root._bokeh_is_loading = css_urls.length + js_urls.length + js_modules.length;\n    }    if (((window['GridStack'] !== undefined) && (!(window['GridStack'] instanceof HTMLElement))) || window.requirejs) {\n      var urls = ['https://cdn.holoviz.org/panel/0.14.4/dist/bundled/gridstack/gridstack@4.2.5/dist/gridstack-h5.js'];\n      for (var i = 0; i < urls.length; i++) {\n        skip.push(urls[i])\n      }\n    }    if (((window['Notyf'] !== undefined) && (!(window['Notyf'] instanceof HTMLElement))) || window.requirejs) {\n      var urls = ['https://cdn.holoviz.org/panel/0.14.4/dist/bundled/notificationarea/notyf@3/notyf.min.js'];\n      for (var i = 0; i < urls.length; i++) {\n        skip.push(urls[i])\n      }\n    }    for (var i = 0; i < js_urls.length; i++) {\n      var url = js_urls[i];\n      if (skip.indexOf(url) >= 0) {\n\tif (!window.requirejs) {\n\t  on_load();\n\t}\n\tcontinue;\n      }\n      var element = document.createElement('script');\n      element.onload = on_load;\n      element.onerror = on_error;\n      element.async = false;\n      element.src = url;\n      console.debug(\"Bokeh: injecting script tag for BokehJS library: \", url);\n      document.head.appendChild(element);\n    }\n    for (var i = 0; i < js_modules.length; i++) {\n      var url = js_modules[i];\n      if (skip.indexOf(url) >= 0) {\n\tif (!window.requirejs) {\n\t  on_load();\n\t}\n\tcontinue;\n      }\n      var element = document.createElement('script');\n      element.onload = on_load;\n      element.onerror = on_error;\n      element.async = false;\n      element.src = url;\n      element.type = \"module\";\n      console.debug(\"Bokeh: injecting script tag for BokehJS library: \", url);\n      document.head.appendChild(element);\n    }\n    if (!js_urls.length && !js_modules.length) {\n      on_load()\n    }\n  };\n\n  function inject_raw_css(css) {\n    const element = document.createElement(\"style\");\n    element.appendChild(document.createTextNode(css));\n    document.body.appendChild(element);\n  }\n\n  var js_urls = [\"https://cdn.bokeh.org/bokeh/release/bokeh-2.4.3.min.js\", \"https://cdn.bokeh.org/bokeh/release/bokeh-gl-2.4.3.min.js\", \"https://cdn.bokeh.org/bokeh/release/bokeh-widgets-2.4.3.min.js\", \"https://cdn.bokeh.org/bokeh/release/bokeh-tables-2.4.3.min.js\", \"https://cdn.bokeh.org/bokeh/release/bokeh-mathjax-2.4.3.min.js\", \"https://unpkg.com/@holoviz/panel@0.14.4/dist/panel.min.js\"];\n  var js_modules = [];\n  var css_urls = [\"https://cdn.holoviz.org/panel/0.14.4/dist/css/card.css\", \"https://cdn.holoviz.org/panel/0.14.4/dist/css/loading.css\", \"https://cdn.holoviz.org/panel/0.14.4/dist/css/dataframe.css\", \"https://cdn.holoviz.org/panel/0.14.4/dist/css/alerts.css\", \"https://cdn.holoviz.org/panel/0.14.4/dist/css/json.css\", \"https://cdn.holoviz.org/panel/0.14.4/dist/css/widgets.css\", \"https://cdn.holoviz.org/panel/0.14.4/dist/css/markdown.css\", \"https://cdn.holoviz.org/panel/0.14.4/dist/css/debugger.css\"];\n  var inline_js = [    function(Bokeh) {\n      inject_raw_css(\"\\n    .bk.pn-loading.arc:before {\\n      background-image: url(\\\"data:image/svg+xml;base64,PHN2ZyB4bWxucz0iaHR0cDovL3d3dy53My5vcmcvMjAwMC9zdmciIHN0eWxlPSJtYXJnaW46IGF1dG87IGJhY2tncm91bmQ6IG5vbmU7IGRpc3BsYXk6IGJsb2NrOyBzaGFwZS1yZW5kZXJpbmc6IGF1dG87IiB2aWV3Qm94PSIwIDAgMTAwIDEwMCIgcHJlc2VydmVBc3BlY3RSYXRpbz0ieE1pZFlNaWQiPiAgPGNpcmNsZSBjeD0iNTAiIGN5PSI1MCIgZmlsbD0ibm9uZSIgc3Ryb2tlPSIjYzNjM2MzIiBzdHJva2Utd2lkdGg9IjEwIiByPSIzNSIgc3Ryb2tlLWRhc2hhcnJheT0iMTY0LjkzMzYxNDMxMzQ2NDE1IDU2Ljk3Nzg3MTQzNzgyMTM4Ij4gICAgPGFuaW1hdGVUcmFuc2Zvcm0gYXR0cmlidXRlTmFtZT0idHJhbnNmb3JtIiB0eXBlPSJyb3RhdGUiIHJlcGVhdENvdW50PSJpbmRlZmluaXRlIiBkdXI9IjFzIiB2YWx1ZXM9IjAgNTAgNTA7MzYwIDUwIDUwIiBrZXlUaW1lcz0iMDsxIj48L2FuaW1hdGVUcmFuc2Zvcm0+ICA8L2NpcmNsZT48L3N2Zz4=\\\");\\n      background-size: auto calc(min(50%, 400px));\\n    }\\n    \");\n    },    function(Bokeh) {\n      Bokeh.set_log_level(\"info\");\n    },\nfunction(Bokeh) {} // ensure no trailing comma for IE\n  ];\n\n  function run_inline_js() {\n    if ((root.Bokeh !== undefined) || (force === true)) {\n      for (var i = 0; i < inline_js.length; i++) {\n        inline_js[i].call(root, root.Bokeh);\n      }} else if (Date.now() < root._bokeh_timeout) {\n      setTimeout(run_inline_js, 100);\n    } else if (!root._bokeh_failed_load) {\n      console.log(\"Bokeh: BokehJS failed to load within specified timeout.\");\n      root._bokeh_failed_load = true;\n    }\n  }\n\n  if (root._bokeh_is_loading === 0) {\n    console.debug(\"Bokeh: BokehJS loaded, going straight to plotting\");\n    run_inline_js();\n  } else {\n    load_libs(css_urls, js_urls, js_modules, function() {\n      console.debug(\"Bokeh: BokehJS plotting callback run at\", now());\n      run_inline_js();\n    });\n  }\n}(window));",
      "application/vnd.holoviews_load.v0+json": ""
     },
     "metadata": {},
     "output_type": "display_data"
    },
    {
     "data": {
      "application/javascript": "\nif ((window.PyViz === undefined) || (window.PyViz instanceof HTMLElement)) {\n  window.PyViz = {comms: {}, comm_status:{}, kernels:{}, receivers: {}, plot_index: []}\n}\n\n\n    function JupyterCommManager() {\n    }\n\n    JupyterCommManager.prototype.register_target = function(plot_id, comm_id, msg_handler) {\n      if (window.comm_manager || ((window.Jupyter !== undefined) && (Jupyter.notebook.kernel != null))) {\n        var comm_manager = window.comm_manager || Jupyter.notebook.kernel.comm_manager;\n        comm_manager.register_target(comm_id, function(comm) {\n          comm.on_msg(msg_handler);\n        });\n      } else if ((plot_id in window.PyViz.kernels) && (window.PyViz.kernels[plot_id])) {\n        window.PyViz.kernels[plot_id].registerCommTarget(comm_id, function(comm) {\n          comm.onMsg = msg_handler;\n        });\n      } else if (typeof google != 'undefined' && google.colab.kernel != null) {\n        google.colab.kernel.comms.registerTarget(comm_id, (comm) => {\n          var messages = comm.messages[Symbol.asyncIterator]();\n          function processIteratorResult(result) {\n            var message = result.value;\n            console.log(message)\n            var content = {data: message.data, comm_id};\n            var buffers = []\n            for (var buffer of message.buffers || []) {\n              buffers.push(new DataView(buffer))\n            }\n            var metadata = message.metadata || {};\n            var msg = {content, buffers, metadata}\n            msg_handler(msg);\n            return messages.next().then(processIteratorResult);\n          }\n          return messages.next().then(processIteratorResult);\n        })\n      }\n    }\n\n    JupyterCommManager.prototype.get_client_comm = function(plot_id, comm_id, msg_handler) {\n      if (comm_id in window.PyViz.comms) {\n        return window.PyViz.comms[comm_id];\n      } else if (window.comm_manager || ((window.Jupyter !== undefined) && (Jupyter.notebook.kernel != null))) {\n        var comm_manager = window.comm_manager || Jupyter.notebook.kernel.comm_manager;\n        var comm = comm_manager.new_comm(comm_id, {}, {}, {}, comm_id);\n        if (msg_handler) {\n          comm.on_msg(msg_handler);\n        }\n      } else if ((plot_id in window.PyViz.kernels) && (window.PyViz.kernels[plot_id])) {\n        var comm = window.PyViz.kernels[plot_id].connectToComm(comm_id);\n        comm.open();\n        if (msg_handler) {\n          comm.onMsg = msg_handler;\n        }\n      } else if (typeof google != 'undefined' && google.colab.kernel != null) {\n        var comm_promise = google.colab.kernel.comms.open(comm_id)\n        comm_promise.then((comm) => {\n          window.PyViz.comms[comm_id] = comm;\n          if (msg_handler) {\n            var messages = comm.messages[Symbol.asyncIterator]();\n            function processIteratorResult(result) {\n              var message = result.value;\n              var content = {data: message.data};\n              var metadata = message.metadata || {comm_id};\n              var msg = {content, metadata}\n              msg_handler(msg);\n              return messages.next().then(processIteratorResult);\n            }\n            return messages.next().then(processIteratorResult);\n          }\n        }) \n        var sendClosure = (data, metadata, buffers, disposeOnDone) => {\n          return comm_promise.then((comm) => {\n            comm.send(data, metadata, buffers, disposeOnDone);\n          });\n        };\n        var comm = {\n          send: sendClosure\n        };\n      }\n      window.PyViz.comms[comm_id] = comm;\n      return comm;\n    }\n    window.PyViz.comm_manager = new JupyterCommManager();\n    \n\n\nvar JS_MIME_TYPE = 'application/javascript';\nvar HTML_MIME_TYPE = 'text/html';\nvar EXEC_MIME_TYPE = 'application/vnd.holoviews_exec.v0+json';\nvar CLASS_NAME = 'output';\n\n/**\n * Render data to the DOM node\n */\nfunction render(props, node) {\n  var div = document.createElement(\"div\");\n  var script = document.createElement(\"script\");\n  node.appendChild(div);\n  node.appendChild(script);\n}\n\n/**\n * Handle when a new output is added\n */\nfunction handle_add_output(event, handle) {\n  var output_area = handle.output_area;\n  var output = handle.output;\n  if ((output.data == undefined) || (!output.data.hasOwnProperty(EXEC_MIME_TYPE))) {\n    return\n  }\n  var id = output.metadata[EXEC_MIME_TYPE][\"id\"];\n  var toinsert = output_area.element.find(\".\" + CLASS_NAME.split(' ')[0]);\n  if (id !== undefined) {\n    var nchildren = toinsert.length;\n    var html_node = toinsert[nchildren-1].children[0];\n    html_node.innerHTML = output.data[HTML_MIME_TYPE];\n    var scripts = [];\n    var nodelist = html_node.querySelectorAll(\"script\");\n    for (var i in nodelist) {\n      if (nodelist.hasOwnProperty(i)) {\n        scripts.push(nodelist[i])\n      }\n    }\n\n    scripts.forEach( function (oldScript) {\n      var newScript = document.createElement(\"script\");\n      var attrs = [];\n      var nodemap = oldScript.attributes;\n      for (var j in nodemap) {\n        if (nodemap.hasOwnProperty(j)) {\n          attrs.push(nodemap[j])\n        }\n      }\n      attrs.forEach(function(attr) { newScript.setAttribute(attr.name, attr.value) });\n      newScript.appendChild(document.createTextNode(oldScript.innerHTML));\n      oldScript.parentNode.replaceChild(newScript, oldScript);\n    });\n    if (JS_MIME_TYPE in output.data) {\n      toinsert[nchildren-1].children[1].textContent = output.data[JS_MIME_TYPE];\n    }\n    output_area._hv_plot_id = id;\n    if ((window.Bokeh !== undefined) && (id in Bokeh.index)) {\n      window.PyViz.plot_index[id] = Bokeh.index[id];\n    } else {\n      window.PyViz.plot_index[id] = null;\n    }\n  } else if (output.metadata[EXEC_MIME_TYPE][\"server_id\"] !== undefined) {\n    var bk_div = document.createElement(\"div\");\n    bk_div.innerHTML = output.data[HTML_MIME_TYPE];\n    var script_attrs = bk_div.children[0].attributes;\n    for (var i = 0; i < script_attrs.length; i++) {\n      toinsert[toinsert.length - 1].childNodes[1].setAttribute(script_attrs[i].name, script_attrs[i].value);\n    }\n    // store reference to server id on output_area\n    output_area._bokeh_server_id = output.metadata[EXEC_MIME_TYPE][\"server_id\"];\n  }\n}\n\n/**\n * Handle when an output is cleared or removed\n */\nfunction handle_clear_output(event, handle) {\n  var id = handle.cell.output_area._hv_plot_id;\n  var server_id = handle.cell.output_area._bokeh_server_id;\n  if (((id === undefined) || !(id in PyViz.plot_index)) && (server_id !== undefined)) { return; }\n  var comm = window.PyViz.comm_manager.get_client_comm(\"hv-extension-comm\", \"hv-extension-comm\", function () {});\n  if (server_id !== null) {\n    comm.send({event_type: 'server_delete', 'id': server_id});\n    return;\n  } else if (comm !== null) {\n    comm.send({event_type: 'delete', 'id': id});\n  }\n  delete PyViz.plot_index[id];\n  if ((window.Bokeh !== undefined) & (id in window.Bokeh.index)) {\n    var doc = window.Bokeh.index[id].model.document\n    doc.clear();\n    const i = window.Bokeh.documents.indexOf(doc);\n    if (i > -1) {\n      window.Bokeh.documents.splice(i, 1);\n    }\n  }\n}\n\n/**\n * Handle kernel restart event\n */\nfunction handle_kernel_cleanup(event, handle) {\n  delete PyViz.comms[\"hv-extension-comm\"];\n  window.PyViz.plot_index = {}\n}\n\n/**\n * Handle update_display_data messages\n */\nfunction handle_update_output(event, handle) {\n  handle_clear_output(event, {cell: {output_area: handle.output_area}})\n  handle_add_output(event, handle)\n}\n\nfunction register_renderer(events, OutputArea) {\n  function append_mime(data, metadata, element) {\n    // create a DOM node to render to\n    var toinsert = this.create_output_subarea(\n    metadata,\n    CLASS_NAME,\n    EXEC_MIME_TYPE\n    );\n    this.keyboard_manager.register_events(toinsert);\n    // Render to node\n    var props = {data: data, metadata: metadata[EXEC_MIME_TYPE]};\n    render(props, toinsert[0]);\n    element.append(toinsert);\n    return toinsert\n  }\n\n  events.on('output_added.OutputArea', handle_add_output);\n  events.on('output_updated.OutputArea', handle_update_output);\n  events.on('clear_output.CodeCell', handle_clear_output);\n  events.on('delete.Cell', handle_clear_output);\n  events.on('kernel_ready.Kernel', handle_kernel_cleanup);\n\n  OutputArea.prototype.register_mime_type(EXEC_MIME_TYPE, append_mime, {\n    safe: true,\n    index: 0\n  });\n}\n\nif (window.Jupyter !== undefined) {\n  try {\n    var events = require('base/js/events');\n    var OutputArea = require('notebook/js/outputarea').OutputArea;\n    if (OutputArea.prototype.mime_types().indexOf(EXEC_MIME_TYPE) == -1) {\n      register_renderer(events, OutputArea);\n    }\n  } catch(err) {\n  }\n}\n",
      "application/vnd.holoviews_load.v0+json": ""
     },
     "metadata": {},
     "output_type": "display_data"
    },
    {
     "data": {
      "text/html": [
       "<style>.bk-root, .bk-root .bk:before, .bk-root .bk:after {\n",
       "  font-family: var(--jp-ui-font-size1);\n",
       "  font-size: var(--jp-ui-font-size1);\n",
       "  color: var(--jp-ui-font-color1);\n",
       "}\n",
       "</style>"
      ]
     },
     "metadata": {},
     "output_type": "display_data"
    }
   ],
   "source": [
    "# Standard Library Imports\n",
    "import os\n",
    "import os.path as op\n",
    "import sys\n",
    "import time\n",
    "import warnings\n",
    "import re\n",
    "import random\n",
    "\n",
    "# Third Party imports\n",
    "import yaml\n",
    "import hvplot\n",
    "import pandas as pd\n",
    "import numpy as np\n",
    "import holoviews as hv\n",
    "import panel as pn\n",
    "from pyspark_dist_explore import (\n",
    "    Histogram,\n",
    "    hist,\n",
    "    distplot,\n",
    "    pandas_histogram\n",
    ")\n",
    "from IPython.display import (\n",
    "    display,\n",
    "    display_html\n",
    ")\n",
    "\n",
    "# Spark imports\n",
    "from pyspark.sql import (\n",
    "    types as DT,\n",
    "    functions as F,\n",
    "    Window\n",
    ")\n",
    "from pyspark.ml import Pipeline\n",
    "from pyspark.ml.tuning import (\n",
    "    ParamGridBuilder,\n",
    "    CrossValidator,\n",
    "    CrossValidatorModel\n",
    ")\n",
    "from pyspark.ml.feature import (\n",
    "    VectorAssembler,\n",
    "    StandardScaler,\n",
    "    StringIndexer,\n",
    "    OneHotEncoder,\n",
    "    Imputer\n",
    ")\n",
    "from pyspark.ml.evaluation import RegressionEvaluator\n",
    "\n",
    "# Project Imports\n",
    "from ta_lib.pyspark import (\n",
    "    dp,\n",
    "    features,\n",
    "    eda,\n",
    ")\n",
    "# Project Imports\n",
    "from ta_lib.pyspark.core import (\n",
    "    utils,\n",
    "    context\n",
    ")\n",
    "# Setting Options\n",
    "random_seed = 0\n",
    "pn.extension('bokeh')\n",
    "warnings.filterwarnings('ignore')\n",
    "pd.set_option('display.max_columns', None)"
   ]
  },
  {
   "cell_type": "markdown",
   "metadata": {},
   "source": [
    "# Initialization\n",
    "\n",
    "`config.yml` is used to store all the parameters required for the template"
   ]
  },
  {
   "cell_type": "code",
   "execution_count": 8,
   "metadata": {},
   "outputs": [
    {
     "data": {
      "text/plain": [
       "{'all': {'core': 'default',\n",
       "  'log_catalog': 'production',\n",
       "  'data_catalog': 'remote',\n",
       "  'job_catalog': 'local'},\n",
       " 'spark': {'spark.executer.cores': 4, 'spark.cores.max': 4}}"
      ]
     },
     "execution_count": 8,
     "metadata": {},
     "output_type": "execute_result"
    }
   ],
   "source": [
    "config_path = op.join(os.getcwd(),'conf', 'config.yml')\n",
    "with open(config_path, 'r') as fp:\n",
    "    config = yaml.safe_load(fp)\n",
    "config"
   ]
  },
  {
   "cell_type": "code",
   "execution_count": 9,
   "metadata": {},
   "outputs": [
    {
     "data": {
      "text/plain": [
       "{'reference_date': datetime.date(2020, 8, 31),\n",
       " 'num_days_prediction': 7,\n",
       " 'raw': {'filesystem': 'file',\n",
       "  'base_path': './../../data/raw/',\n",
       "  'carrier_data_path': 'carrier_data.csv',\n",
       "  'fuel_prices_data_path': 'fuel_prices.csv',\n",
       "  'market_carrier_rates_data_path': 'market_carrier_rates_data.csv',\n",
       "  'route_mapping_data_path': 'route_mapping.csv'},\n",
       " 'clean': {'filesystem': 'file',\n",
       "  'base_path': './../../data/cleaned/',\n",
       "  'carrier_data_path': 'carrier_data',\n",
       "  'fuel_prices_data_path': 'fuel_prices',\n",
       "  'market_carrier_rates_data_path': 'market_carrier_rates',\n",
       "  'final_routes_data_path': 'final_data',\n",
       "  'trasnformed_routes_data_path': 'transformed_data'},\n",
       " 'processed': {'filesystem': 'file',\n",
       "  'base_path': './../../data/processed/',\n",
       "  'train': 'train_carrier',\n",
       "  'test': 'test_carrier',\n",
       "  'preds': 'predictions_carrier'},\n",
       " 'spark': {'spark.executer.cores': 4, 'spark.cores.max': 4}}"
      ]
     },
     "execution_count": 9,
     "metadata": {},
     "output_type": "execute_result"
    }
   ],
   "source": [
    "data_config_path = op.join(os.getcwd(),'conf/data_catalog', 'local.yml')\n",
    "with open(data_config_path, 'r') as fp:\n",
    "    data_config = yaml.safe_load(fp)\n",
    "data_config"
   ]
  },
  {
   "cell_type": "markdown",
   "metadata": {},
   "source": [
    "## Create spark session\n",
    "\n",
    "`talib.pyspark.context` module is leveraged to build the sparksession so as to consider the spark session related params in the config file while building the session."
   ]
  },
  {
   "cell_type": "code",
   "execution_count": 10,
   "metadata": {},
   "outputs": [
    {
     "name": "stdout",
     "output_type": "stream",
     "text": [
      "CPU times: user 13.4 ms, sys: 22.6 ms, total: 36 ms\n",
      "Wall time: 55.6 ms\n"
     ]
    }
   ],
   "source": [
    "%%time\n",
    "session = context.CustomSparkSession(config)\n",
    "session.CreateSparkSession()\n",
    "spark = session.spark\n",
    "sc = session.sc.setLogLevel(\"ERROR\")\n"
   ]
  },
  {
   "cell_type": "markdown",
   "metadata": {},
   "source": [
    "# Background\n",
    "The client is a goods carrier serving multiple trade lanes across cities. They set the carrier price for each trip based on the distance of the trip and the prevailing fuel price in the market, and negotiate with their customers to arrive at the final trip price. The client wants to understand if they can determine optimal price for each trip using machine learning. "
   ]
  },
  {
   "cell_type": "markdown",
   "metadata": {},
   "source": [
    "# Data Read"
   ]
  },
  {
   "cell_type": "markdown",
   "metadata": {},
   "source": [
    "### Carrier data\n",
    "\n",
    "The `carrier_data` dataset contains information about the price for trips completed by the client across various routes. For every trip `trip_id` covering a certain `distance` between `origin_zip` and `destination_zip` with a specific type of vehicle (`vehicle_type`), the price for that trip is provided in column `carrier_price`."
   ]
  },
  {
   "cell_type": "code",
   "execution_count": 11,
   "metadata": {},
   "outputs": [
    {
     "name": "stderr",
     "output_type": "stream",
     "text": [
      "                                                                                \r"
     ]
    },
    {
     "name": "stdout",
     "output_type": "stream",
     "text": [
      "root\n",
      " |-- trip_id: integer (nullable = true)\n",
      " |-- distance: double (nullable = true)\n",
      " |-- vehicle_type: integer (nullable = true)\n",
      " |-- pickup_date: string (nullable = true)\n",
      " |-- origin_city: string (nullable = true)\n",
      " |-- origin_state: string (nullable = true)\n",
      " |-- origin_zip: string (nullable = true)\n",
      " |-- origin_country: string (nullable = true)\n",
      " |-- destination_city: string (nullable = true)\n",
      " |-- destination_state: string (nullable = true)\n",
      " |-- destination_zip: string (nullable = true)\n",
      " |-- destination_country: string (nullable = true)\n",
      " |-- carrier_price: double (nullable = true)\n",
      "\n"
     ]
    }
   ],
   "source": [
    "df_carrier_data = utils.read_data(\n",
    "    spark=spark,\n",
    "    paths=[data_config['raw']['base_path'] + data_config['raw']['carrier_data_path']],\n",
    "    fmt=\"csv\",\n",
    "    fs=data_config['raw']['filesystem'],\n",
    ")\n",
    "df_carrier_data.printSchema()"
   ]
  },
  {
   "cell_type": "markdown",
   "metadata": {},
   "source": [
    "### Fuel prices Data\n",
    "The fuel prices dataset contains the prevailing market fuel price on a given date. These prices are reported on a weekly basis, on the first Monday of each week. For any trips that the client schedules during a given week, the reference fuel price would be the price prevailing as of the Monday of that week."
   ]
  },
  {
   "cell_type": "code",
   "execution_count": 12,
   "metadata": {},
   "outputs": [
    {
     "name": "stderr",
     "output_type": "stream",
     "text": [
      "[Stage 3:>                                                          (0 + 1) / 1]\r"
     ]
    },
    {
     "name": "stdout",
     "output_type": "stream",
     "text": [
      "root\n",
      " |-- date: string (nullable = true)\n",
      " |-- national_price: double (nullable = true)\n",
      "\n"
     ]
    },
    {
     "name": "stderr",
     "output_type": "stream",
     "text": [
      "                                                                                \r"
     ]
    }
   ],
   "source": [
    "df_fuel_prices_data = utils.read_data(\n",
    "    spark=spark,\n",
    "    paths=[data_config['raw']['base_path'] + data_config['raw']['fuel_prices_data_path']],\n",
    "    fmt=\"csv\",\n",
    "    fs=data_config['raw']['filesystem'],\n",
    ")\n",
    "df_fuel_prices_data.printSchema()"
   ]
  },
  {
   "cell_type": "markdown",
   "metadata": {},
   "source": [
    "### Market carrier rates data\n",
    "\n",
    "This is a third-party market dataset consolidated across competing carrier providers in the freight market, containing information on the total cost and total distance serviced by each `vehicle_type` across all carrier providers in the geography. "
   ]
  },
  {
   "cell_type": "code",
   "execution_count": 13,
   "metadata": {},
   "outputs": [
    {
     "name": "stderr",
     "output_type": "stream",
     "text": [
      "[Stage 5:===================================================>       (7 + 1) / 8]\r"
     ]
    },
    {
     "name": "stdout",
     "output_type": "stream",
     "text": [
      "root\n",
      " |-- week_ending_date: string (nullable = true)\n",
      " |-- origin_city: string (nullable = true)\n",
      " |-- origin_state: string (nullable = true)\n",
      " |-- origin_zip: string (nullable = true)\n",
      " |-- destination_city: string (nullable = true)\n",
      " |-- destination_state: string (nullable = true)\n",
      " |-- destination_zip: string (nullable = true)\n",
      " |-- vehicle_type: integer (nullable = true)\n",
      " |-- first_monday_of_week: string (nullable = true)\n",
      " |-- total_cost_all_providers: double (nullable = true)\n",
      " |-- total_distance_all_providers: double (nullable = true)\n",
      "\n"
     ]
    },
    {
     "name": "stderr",
     "output_type": "stream",
     "text": [
      "                                                                                \r"
     ]
    }
   ],
   "source": [
    "df_market_carrier_rates_data = utils.read_data(\n",
    "    spark=spark,\n",
    "    paths=[data_config['raw']['base_path'] + data_config['raw']['market_carrier_rates_data_path']],\n",
    "    fmt=\"csv\",\n",
    "    fs=data_config['raw']['filesystem'],\n",
    ")\n",
    "df_market_carrier_rates_data.printSchema()"
   ]
  },
  {
   "cell_type": "markdown",
   "metadata": {},
   "source": [
    "### Route mapping\n",
    "\n",
    "This contains a mapping of each zip code to a custom market `market_id`. "
   ]
  },
  {
   "cell_type": "code",
   "execution_count": 14,
   "metadata": {},
   "outputs": [
    {
     "name": "stderr",
     "output_type": "stream",
     "text": [
      "[Stage 7:>                                                          (0 + 1) / 1]\r"
     ]
    },
    {
     "name": "stdout",
     "output_type": "stream",
     "text": [
      "root\n",
      " |-- reference_state: string (nullable = true)\n",
      " |-- market_id: string (nullable = true)\n",
      " |-- zipcode: integer (nullable = true)\n",
      " |-- city: string (nullable = true)\n",
      " |-- state: string (nullable = true)\n",
      "\n"
     ]
    },
    {
     "name": "stderr",
     "output_type": "stream",
     "text": [
      "                                                                                \r"
     ]
    }
   ],
   "source": [
    "df_route_mapping_data = utils.read_data(\n",
    "    spark=spark,\n",
    "    paths=[data_config['raw']['base_path'] + data_config['raw']['route_mapping_data_path']],\n",
    "    fmt=\"csv\",\n",
    "    fs=data_config['raw']['filesystem'],\n",
    ")\n",
    "df_route_mapping_data.printSchema()"
   ]
  },
  {
   "cell_type": "markdown",
   "metadata": {},
   "source": [
    "### Consolidating data objects in a dictionary"
   ]
  },
  {
   "cell_type": "code",
   "execution_count": 15,
   "metadata": {},
   "outputs": [],
   "source": [
    "data = {\n",
    "    'carrier_data': df_carrier_data,\n",
    "    'fuel_prices_data':df_fuel_prices_data,\n",
    "    'market_carrier_rates_data':df_market_carrier_rates_data,\n",
    "    'route_mapping_data':df_route_mapping_data,\n",
    "}"
   ]
  },
  {
   "cell_type": "markdown",
   "metadata": {},
   "source": [
    "# Data Discovery\n",
    "\n",
    "Given the raw data from data ingestion, we would now like to explore and learn more details about the data.\n",
    "\n",
    "The output of the step would be a summary report and discussion of any pertinent findings."
   ]
  },
  {
   "cell_type": "markdown",
   "metadata": {},
   "source": [
    "## Shape of Data"
   ]
  },
  {
   "cell_type": "code",
   "execution_count": 16,
   "metadata": {},
   "outputs": [
    {
     "name": "stderr",
     "output_type": "stream",
     "text": [
      "[Stage 17:>                                                         (0 + 1) / 1]\r"
     ]
    },
    {
     "name": "stdout",
     "output_type": "stream",
     "text": [
      "CPU times: user 148 ms, sys: 3.45 ms, total: 151 ms\n",
      "Wall time: 14.7 s\n"
     ]
    },
    {
     "name": "stderr",
     "output_type": "stream",
     "text": [
      "                                                                                \r"
     ]
    },
    {
     "data": {},
     "metadata": {},
     "output_type": "display_data"
    },
    {
     "data": {
      "application/vnd.holoviews_exec.v0+json": "",
      "text/html": [
       "<div id='1002'>\n",
       "  <div class=\"bk-root\" id=\"a9b82618-05c3-4c82-8e50-399112d51ad3\" data-root-id=\"1002\"></div>\n",
       "</div>\n",
       "<script type=\"application/javascript\">(function(root) {\n",
       "  function embed_document(root) {\n",
       "    var docs_json = {\"6aa091bd-0ee0-433d-ad86-53da180875f1\":{\"defs\":[{\"extends\":null,\"module\":null,\"name\":\"ReactiveHTML1\",\"overrides\":[],\"properties\":[]},{\"extends\":null,\"module\":null,\"name\":\"FlexBox1\",\"overrides\":[],\"properties\":[{\"default\":\"flex-start\",\"kind\":null,\"name\":\"align_content\"},{\"default\":\"flex-start\",\"kind\":null,\"name\":\"align_items\"},{\"default\":\"row\",\"kind\":null,\"name\":\"flex_direction\"},{\"default\":\"wrap\",\"kind\":null,\"name\":\"flex_wrap\"},{\"default\":\"flex-start\",\"kind\":null,\"name\":\"justify_content\"}]},{\"extends\":null,\"module\":null,\"name\":\"GridStack1\",\"overrides\":[],\"properties\":[{\"default\":\"warn\",\"kind\":null,\"name\":\"mode\"},{\"default\":null,\"kind\":null,\"name\":\"ncols\"},{\"default\":null,\"kind\":null,\"name\":\"nrows\"},{\"default\":true,\"kind\":null,\"name\":\"allow_resize\"},{\"default\":true,\"kind\":null,\"name\":\"allow_drag\"},{\"default\":[],\"kind\":null,\"name\":\"state\"}]},{\"extends\":null,\"module\":null,\"name\":\"click1\",\"overrides\":[],\"properties\":[{\"default\":\"\",\"kind\":null,\"name\":\"terminal_output\"},{\"default\":\"\",\"kind\":null,\"name\":\"debug_name\"},{\"default\":0,\"kind\":null,\"name\":\"clears\"}]},{\"extends\":null,\"module\":null,\"name\":\"NotificationAreaBase1\",\"overrides\":[],\"properties\":[{\"default\":\"bottom-right\",\"kind\":null,\"name\":\"position\"},{\"default\":0,\"kind\":null,\"name\":\"_clear\"}]},{\"extends\":null,\"module\":null,\"name\":\"NotificationArea1\",\"overrides\":[],\"properties\":[{\"default\":[],\"kind\":null,\"name\":\"notifications\"},{\"default\":\"bottom-right\",\"kind\":null,\"name\":\"position\"},{\"default\":0,\"kind\":null,\"name\":\"_clear\"},{\"default\":[{\"background\":\"#ffc107\",\"icon\":{\"className\":\"fas fa-exclamation-triangle\",\"color\":\"white\",\"tagName\":\"i\"},\"type\":\"warning\"},{\"background\":\"#007bff\",\"icon\":{\"className\":\"fas fa-info-circle\",\"color\":\"white\",\"tagName\":\"i\"},\"type\":\"info\"}],\"kind\":null,\"name\":\"types\"}]},{\"extends\":null,\"module\":null,\"name\":\"Notification\",\"overrides\":[],\"properties\":[{\"default\":null,\"kind\":null,\"name\":\"background\"},{\"default\":3000,\"kind\":null,\"name\":\"duration\"},{\"default\":null,\"kind\":null,\"name\":\"icon\"},{\"default\":\"\",\"kind\":null,\"name\":\"message\"},{\"default\":null,\"kind\":null,\"name\":\"notification_type\"},{\"default\":false,\"kind\":null,\"name\":\"_destroyed\"}]},{\"extends\":null,\"module\":null,\"name\":\"TemplateActions1\",\"overrides\":[],\"properties\":[{\"default\":0,\"kind\":null,\"name\":\"open_modal\"},{\"default\":0,\"kind\":null,\"name\":\"close_modal\"}]},{\"extends\":null,\"module\":null,\"name\":\"MaterialTemplateActions1\",\"overrides\":[],\"properties\":[{\"default\":0,\"kind\":null,\"name\":\"open_modal\"},{\"default\":0,\"kind\":null,\"name\":\"close_modal\"}]}],\"roots\":{\"references\":[{\"attributes\":{\"client_comm_id\":\"01b8d1778ce4438fa809e081bf138bb0\",\"comm_id\":\"9e7891eb356646258b12414989a48ec2\",\"plot_id\":\"1002\"},\"id\":\"1011\",\"type\":\"panel.models.comm_manager.CommManager\"},{\"attributes\":{\"margin\":[5,5,5,5],\"name\":\"fuel_prices_data\",\"text\":\"&lt;pre&gt;(107, 2)&lt;/pre&gt;\"},\"id\":\"1005\",\"type\":\"panel.models.markup.HTML\"},{\"attributes\":{\"reload\":false},\"id\":\"1012\",\"type\":\"panel.models.location.Location\"},{\"attributes\":{\"child\":{\"id\":\"1005\"},\"name\":\"fuel_prices_data\",\"title\":\"fuel_prices_data\"},\"id\":\"1006\",\"type\":\"Panel\"},{\"attributes\":{\"margin\":[5,5,5,5],\"name\":\"market_carrier_rates_data\",\"text\":\"&lt;pre&gt;(2566045, 11)&lt;/pre&gt;\"},\"id\":\"1007\",\"type\":\"panel.models.markup.HTML\"},{\"attributes\":{\"margin\":[0,0,0,0],\"tabs\":[{\"id\":\"1004\"},{\"id\":\"1006\"},{\"id\":\"1008\"},{\"id\":\"1010\"}]},\"id\":\"1002\",\"type\":\"panel.models.tabs.Tabs\"},{\"attributes\":{\"margin\":[5,5,5,5],\"name\":\"carrier_data\",\"text\":\"&lt;pre&gt;(217196, 13)&lt;/pre&gt;\"},\"id\":\"1003\",\"type\":\"panel.models.markup.HTML\"},{\"attributes\":{\"child\":{\"id\":\"1009\"},\"name\":\"route_mapping_data\",\"title\":\"route_mapping_data\"},\"id\":\"1010\",\"type\":\"Panel\"},{\"attributes\":{\"margin\":[5,5,5,5],\"name\":\"route_mapping_data\",\"text\":\"&lt;pre&gt;(41243, 5)&lt;/pre&gt;\"},\"id\":\"1009\",\"type\":\"panel.models.markup.HTML\"},{\"attributes\":{\"child\":{\"id\":\"1003\"},\"name\":\"carrier_data\",\"title\":\"carrier_data\"},\"id\":\"1004\",\"type\":\"Panel\"},{\"attributes\":{\"child\":{\"id\":\"1007\"},\"name\":\"market_carrier_rates_data\",\"title\":\"market_carrier_rates_data\"},\"id\":\"1008\",\"type\":\"Panel\"}],\"root_ids\":[\"1002\",\"1011\",\"1012\"]},\"title\":\"Bokeh Application\",\"version\":\"2.4.3\"}};\n",
       "    var render_items = [{\"docid\":\"6aa091bd-0ee0-433d-ad86-53da180875f1\",\"root_ids\":[\"1002\"],\"roots\":{\"1002\":\"a9b82618-05c3-4c82-8e50-399112d51ad3\"}}];\n",
       "    root.Bokeh.embed.embed_items_notebook(docs_json, render_items);\n",
       "    for (const render_item of render_items) {\n",
       "      for (const root_id of render_item.root_ids) {\n",
       "\tconst id_el = document.getElementById(root_id)\n",
       "\tif (id_el.children.length && (id_el.children[0].className === 'bk-root')) {\n",
       "\t  const root_el = id_el.children[0]\n",
       "\t  root_el.id = root_el.id + '-rendered'\n",
       "\t}\n",
       "      }\n",
       "    }\n",
       "  }\n",
       "  if (root.Bokeh !== undefined && root.Bokeh.Panel !== undefined) {\n",
       "    embed_document(root);\n",
       "  } else {\n",
       "    var attempts = 0;\n",
       "    var timer = setInterval(function(root) {\n",
       "      if (root.Bokeh !== undefined && root.Bokeh.Panel !== undefined) {\n",
       "        clearInterval(timer);\n",
       "        embed_document(root);\n",
       "      } else if (document.readyState == \"complete\") {\n",
       "        attempts++;\n",
       "        if (attempts > 200) {\n",
       "          clearInterval(timer);\n",
       "          console.log(\"Bokeh: ERROR: Unable to run BokehJS code because BokehJS library is missing\");\n",
       "        }\n",
       "      }\n",
       "    }, 25, root)\n",
       "  }\n",
       "})(window);</script>"
      ],
      "text/plain": [
       "Tabs\n",
       "    [0] Str(tuple, name='carrier_data')\n",
       "    [1] Str(tuple, name='fuel_prices_data')\n",
       "    [2] Str(tuple, name='market_carrier_rates_data...)\n",
       "    [3] Str(tuple, name='route_mapping_data')"
      ]
     },
     "execution_count": 16,
     "metadata": {
      "application/vnd.holoviews_exec.v0+json": {
       "id": "1002"
      }
     },
     "output_type": "execute_result"
    }
   ],
   "source": [
    "%%time\n",
    "utils.display_as_tabs([(k, dp.get_shape(v)) for k,v in data.items()])"
   ]
  },
  {
   "cell_type": "markdown",
   "metadata": {},
   "source": [
    "## Clean Column Names"
   ]
  },
  {
   "cell_type": "markdown",
   "metadata": {},
   "source": [
    "Standardize the column names of the dataframe. Converts camelcase into snakecase"
   ]
  },
  {
   "cell_type": "code",
   "execution_count": 17,
   "metadata": {},
   "outputs": [
    {
     "name": "stdout",
     "output_type": "stream",
     "text": [
      "CPU times: user 68.5 ms, sys: 1.85 ms, total: 70.4 ms\n",
      "Wall time: 204 ms\n"
     ]
    },
    {
     "data": {},
     "metadata": {},
     "output_type": "display_data"
    },
    {
     "data": {
      "application/vnd.holoviews_exec.v0+json": "",
      "text/html": [
       "<div id='1013'>\n",
       "  <div class=\"bk-root\" id=\"7c3dabc6-5102-483f-bf92-359a1d620683\" data-root-id=\"1013\"></div>\n",
       "</div>\n",
       "<script type=\"application/javascript\">(function(root) {\n",
       "  function embed_document(root) {\n",
       "    var docs_json = {\"bf3d3da1-4e61-4f00-a651-b5ecff7ff318\":{\"defs\":[{\"extends\":null,\"module\":null,\"name\":\"ReactiveHTML1\",\"overrides\":[],\"properties\":[]},{\"extends\":null,\"module\":null,\"name\":\"FlexBox1\",\"overrides\":[],\"properties\":[{\"default\":\"flex-start\",\"kind\":null,\"name\":\"align_content\"},{\"default\":\"flex-start\",\"kind\":null,\"name\":\"align_items\"},{\"default\":\"row\",\"kind\":null,\"name\":\"flex_direction\"},{\"default\":\"wrap\",\"kind\":null,\"name\":\"flex_wrap\"},{\"default\":\"flex-start\",\"kind\":null,\"name\":\"justify_content\"}]},{\"extends\":null,\"module\":null,\"name\":\"GridStack1\",\"overrides\":[],\"properties\":[{\"default\":\"warn\",\"kind\":null,\"name\":\"mode\"},{\"default\":null,\"kind\":null,\"name\":\"ncols\"},{\"default\":null,\"kind\":null,\"name\":\"nrows\"},{\"default\":true,\"kind\":null,\"name\":\"allow_resize\"},{\"default\":true,\"kind\":null,\"name\":\"allow_drag\"},{\"default\":[],\"kind\":null,\"name\":\"state\"}]},{\"extends\":null,\"module\":null,\"name\":\"click1\",\"overrides\":[],\"properties\":[{\"default\":\"\",\"kind\":null,\"name\":\"terminal_output\"},{\"default\":\"\",\"kind\":null,\"name\":\"debug_name\"},{\"default\":0,\"kind\":null,\"name\":\"clears\"}]},{\"extends\":null,\"module\":null,\"name\":\"NotificationAreaBase1\",\"overrides\":[],\"properties\":[{\"default\":\"bottom-right\",\"kind\":null,\"name\":\"position\"},{\"default\":0,\"kind\":null,\"name\":\"_clear\"}]},{\"extends\":null,\"module\":null,\"name\":\"NotificationArea1\",\"overrides\":[],\"properties\":[{\"default\":[],\"kind\":null,\"name\":\"notifications\"},{\"default\":\"bottom-right\",\"kind\":null,\"name\":\"position\"},{\"default\":0,\"kind\":null,\"name\":\"_clear\"},{\"default\":[{\"background\":\"#ffc107\",\"icon\":{\"className\":\"fas fa-exclamation-triangle\",\"color\":\"white\",\"tagName\":\"i\"},\"type\":\"warning\"},{\"background\":\"#007bff\",\"icon\":{\"className\":\"fas fa-info-circle\",\"color\":\"white\",\"tagName\":\"i\"},\"type\":\"info\"}],\"kind\":null,\"name\":\"types\"}]},{\"extends\":null,\"module\":null,\"name\":\"Notification\",\"overrides\":[],\"properties\":[{\"default\":null,\"kind\":null,\"name\":\"background\"},{\"default\":3000,\"kind\":null,\"name\":\"duration\"},{\"default\":null,\"kind\":null,\"name\":\"icon\"},{\"default\":\"\",\"kind\":null,\"name\":\"message\"},{\"default\":null,\"kind\":null,\"name\":\"notification_type\"},{\"default\":false,\"kind\":null,\"name\":\"_destroyed\"}]},{\"extends\":null,\"module\":null,\"name\":\"TemplateActions1\",\"overrides\":[],\"properties\":[{\"default\":0,\"kind\":null,\"name\":\"open_modal\"},{\"default\":0,\"kind\":null,\"name\":\"close_modal\"}]},{\"extends\":null,\"module\":null,\"name\":\"MaterialTemplateActions1\",\"overrides\":[],\"properties\":[{\"default\":0,\"kind\":null,\"name\":\"open_modal\"},{\"default\":0,\"kind\":null,\"name\":\"close_modal\"}]}],\"roots\":{\"references\":[{\"attributes\":{\"margin\":[5,20,5,5],\"name\":\"fuel_prices_data\",\"text\":\"[\\\"date\\\", \\\"national_price\\\"]\"},\"id\":\"1016\",\"type\":\"panel.models.markup.JSON\"},{\"attributes\":{\"margin\":[0,0,0,0],\"tabs\":[{\"id\":\"1015\"},{\"id\":\"1017\"},{\"id\":\"1019\"},{\"id\":\"1021\"}]},\"id\":\"1013\",\"type\":\"panel.models.tabs.Tabs\"},{\"attributes\":{\"margin\":[5,20,5,5],\"name\":\"market_carrier_rates_data\",\"text\":\"[\\\"week_ending_date\\\", \\\"origin_city\\\", \\\"origin_state\\\", \\\"origin_zip\\\", \\\"destination_city\\\", \\\"destination_state\\\", \\\"destination_zip\\\", \\\"vehicle_type\\\", \\\"first_monday_of_week\\\", \\\"total_cost_all_providers\\\", \\\"total_distance_all_providers\\\"]\"},\"id\":\"1018\",\"type\":\"panel.models.markup.JSON\"},{\"attributes\":{\"client_comm_id\":\"1bc641cb34584014b0f9ec842e7aae6f\",\"comm_id\":\"f95b1582aa164adfa5836897386023fb\",\"plot_id\":\"1013\"},\"id\":\"1022\",\"type\":\"panel.models.comm_manager.CommManager\"},{\"attributes\":{\"margin\":[5,20,5,5],\"name\":\"carrier_data\",\"text\":\"[\\\"trip_id\\\", \\\"distance\\\", \\\"vehicle_type\\\", \\\"pickup_date\\\", \\\"origin_city\\\", \\\"origin_state\\\", \\\"origin_zip\\\", \\\"origin_country\\\", \\\"destination_city\\\", \\\"destination_state\\\", \\\"destination_zip\\\", \\\"destination_country\\\", \\\"carrier_price\\\"]\"},\"id\":\"1014\",\"type\":\"panel.models.markup.JSON\"},{\"attributes\":{\"child\":{\"id\":\"1016\"},\"name\":\"fuel_prices_data\",\"title\":\"fuel_prices_data\"},\"id\":\"1017\",\"type\":\"Panel\"},{\"attributes\":{\"child\":{\"id\":\"1020\"},\"name\":\"route_mapping_data\",\"title\":\"route_mapping_data\"},\"id\":\"1021\",\"type\":\"Panel\"},{\"attributes\":{\"child\":{\"id\":\"1014\"},\"name\":\"carrier_data\",\"title\":\"carrier_data\"},\"id\":\"1015\",\"type\":\"Panel\"},{\"attributes\":{\"margin\":[5,20,5,5],\"name\":\"route_mapping_data\",\"text\":\"[\\\"reference_state\\\", \\\"market_id\\\", \\\"zipcode\\\", \\\"city\\\", \\\"state\\\"]\"},\"id\":\"1020\",\"type\":\"panel.models.markup.JSON\"},{\"attributes\":{\"child\":{\"id\":\"1018\"},\"name\":\"market_carrier_rates_data\",\"title\":\"market_carrier_rates_data\"},\"id\":\"1019\",\"type\":\"Panel\"}],\"root_ids\":[\"1013\",\"1022\"]},\"title\":\"Bokeh Application\",\"version\":\"2.4.3\"}};\n",
       "    var render_items = [{\"docid\":\"bf3d3da1-4e61-4f00-a651-b5ecff7ff318\",\"root_ids\":[\"1013\"],\"roots\":{\"1013\":\"7c3dabc6-5102-483f-bf92-359a1d620683\"}}];\n",
       "    root.Bokeh.embed.embed_items_notebook(docs_json, render_items);\n",
       "    for (const render_item of render_items) {\n",
       "      for (const root_id of render_item.root_ids) {\n",
       "\tconst id_el = document.getElementById(root_id)\n",
       "\tif (id_el.children.length && (id_el.children[0].className === 'bk-root')) {\n",
       "\t  const root_el = id_el.children[0]\n",
       "\t  root_el.id = root_el.id + '-rendered'\n",
       "\t}\n",
       "      }\n",
       "    }\n",
       "  }\n",
       "  if (root.Bokeh !== undefined && root.Bokeh.Panel !== undefined) {\n",
       "    embed_document(root);\n",
       "  } else {\n",
       "    var attempts = 0;\n",
       "    var timer = setInterval(function(root) {\n",
       "      if (root.Bokeh !== undefined && root.Bokeh.Panel !== undefined) {\n",
       "        clearInterval(timer);\n",
       "        embed_document(root);\n",
       "      } else if (document.readyState == \"complete\") {\n",
       "        attempts++;\n",
       "        if (attempts > 200) {\n",
       "          clearInterval(timer);\n",
       "          console.log(\"Bokeh: ERROR: Unable to run BokehJS code because BokehJS library is missing\");\n",
       "        }\n",
       "      }\n",
       "    }, 25, root)\n",
       "  }\n",
       "})(window);</script>"
      ],
      "text/plain": [
       "Tabs\n",
       "    [0] JSON(list, name='carrier_data')\n",
       "    [1] JSON(list, name='fuel_prices_data')\n",
       "    [2] JSON(list, name='market_carrier_rates_data...)\n",
       "    [3] JSON(list, name='route_mapping_data')"
      ]
     },
     "execution_count": 17,
     "metadata": {
      "application/vnd.holoviews_exec.v0+json": {
       "id": "1013"
      }
     },
     "output_type": "execute_result"
    }
   ],
   "source": [
    "%%time\n",
    "data = {k:dp.clean_columns(v) for k,v in data.items()}\n",
    "utils.display_as_tabs([(k, v.columns) for k,v in data.items()])"
   ]
  },
  {
   "cell_type": "markdown",
   "metadata": {},
   "source": [
    "## Identification of columns types in the data\n",
    "\n",
    "Obtaining the columns by different types of data (numerical, categorical, datelike and boolean)"
   ]
  },
  {
   "cell_type": "code",
   "execution_count": 18,
   "metadata": {},
   "outputs": [
    {
     "name": "stdout",
     "output_type": "stream",
     "text": [
      "CPU times: user 54.4 ms, sys: 0 ns, total: 54.4 ms\n",
      "Wall time: 52.8 ms\n"
     ]
    },
    {
     "data": {},
     "metadata": {},
     "output_type": "display_data"
    },
    {
     "data": {
      "application/vnd.holoviews_exec.v0+json": "",
      "text/html": [
       "<div id='1023'>\n",
       "  <div class=\"bk-root\" id=\"d2e93de2-7bb1-4ed2-999d-3742aa74281d\" data-root-id=\"1023\"></div>\n",
       "</div>\n",
       "<script type=\"application/javascript\">(function(root) {\n",
       "  function embed_document(root) {\n",
       "    var docs_json = {\"4ee1e81f-9184-4c52-9b22-252c86a6ed5a\":{\"defs\":[{\"extends\":null,\"module\":null,\"name\":\"ReactiveHTML1\",\"overrides\":[],\"properties\":[]},{\"extends\":null,\"module\":null,\"name\":\"FlexBox1\",\"overrides\":[],\"properties\":[{\"default\":\"flex-start\",\"kind\":null,\"name\":\"align_content\"},{\"default\":\"flex-start\",\"kind\":null,\"name\":\"align_items\"},{\"default\":\"row\",\"kind\":null,\"name\":\"flex_direction\"},{\"default\":\"wrap\",\"kind\":null,\"name\":\"flex_wrap\"},{\"default\":\"flex-start\",\"kind\":null,\"name\":\"justify_content\"}]},{\"extends\":null,\"module\":null,\"name\":\"GridStack1\",\"overrides\":[],\"properties\":[{\"default\":\"warn\",\"kind\":null,\"name\":\"mode\"},{\"default\":null,\"kind\":null,\"name\":\"ncols\"},{\"default\":null,\"kind\":null,\"name\":\"nrows\"},{\"default\":true,\"kind\":null,\"name\":\"allow_resize\"},{\"default\":true,\"kind\":null,\"name\":\"allow_drag\"},{\"default\":[],\"kind\":null,\"name\":\"state\"}]},{\"extends\":null,\"module\":null,\"name\":\"click1\",\"overrides\":[],\"properties\":[{\"default\":\"\",\"kind\":null,\"name\":\"terminal_output\"},{\"default\":\"\",\"kind\":null,\"name\":\"debug_name\"},{\"default\":0,\"kind\":null,\"name\":\"clears\"}]},{\"extends\":null,\"module\":null,\"name\":\"NotificationAreaBase1\",\"overrides\":[],\"properties\":[{\"default\":\"bottom-right\",\"kind\":null,\"name\":\"position\"},{\"default\":0,\"kind\":null,\"name\":\"_clear\"}]},{\"extends\":null,\"module\":null,\"name\":\"NotificationArea1\",\"overrides\":[],\"properties\":[{\"default\":[],\"kind\":null,\"name\":\"notifications\"},{\"default\":\"bottom-right\",\"kind\":null,\"name\":\"position\"},{\"default\":0,\"kind\":null,\"name\":\"_clear\"},{\"default\":[{\"background\":\"#ffc107\",\"icon\":{\"className\":\"fas fa-exclamation-triangle\",\"color\":\"white\",\"tagName\":\"i\"},\"type\":\"warning\"},{\"background\":\"#007bff\",\"icon\":{\"className\":\"fas fa-info-circle\",\"color\":\"white\",\"tagName\":\"i\"},\"type\":\"info\"}],\"kind\":null,\"name\":\"types\"}]},{\"extends\":null,\"module\":null,\"name\":\"Notification\",\"overrides\":[],\"properties\":[{\"default\":null,\"kind\":null,\"name\":\"background\"},{\"default\":3000,\"kind\":null,\"name\":\"duration\"},{\"default\":null,\"kind\":null,\"name\":\"icon\"},{\"default\":\"\",\"kind\":null,\"name\":\"message\"},{\"default\":null,\"kind\":null,\"name\":\"notification_type\"},{\"default\":false,\"kind\":null,\"name\":\"_destroyed\"}]},{\"extends\":null,\"module\":null,\"name\":\"TemplateActions1\",\"overrides\":[],\"properties\":[{\"default\":0,\"kind\":null,\"name\":\"open_modal\"},{\"default\":0,\"kind\":null,\"name\":\"close_modal\"}]},{\"extends\":null,\"module\":null,\"name\":\"MaterialTemplateActions1\",\"overrides\":[],\"properties\":[{\"default\":0,\"kind\":null,\"name\":\"open_modal\"},{\"default\":0,\"kind\":null,\"name\":\"close_modal\"}]}],\"roots\":{\"references\":[{\"attributes\":{\"margin\":[5,20,5,5],\"name\":\"route_mapping_data\",\"text\":\"{\\\"numerical\\\": [\\\"zipcode\\\"], \\\"cat_cols\\\": [\\\"reference_state\\\", \\\"market_id\\\", \\\"city\\\", \\\"state\\\"], \\\"date_cols\\\": [], \\\"bool_cols\\\": []}\"},\"id\":\"1030\",\"type\":\"panel.models.markup.JSON\"},{\"attributes\":{\"margin\":[0,0,0,0],\"tabs\":[{\"id\":\"1025\"},{\"id\":\"1027\"},{\"id\":\"1029\"},{\"id\":\"1031\"}]},\"id\":\"1023\",\"type\":\"panel.models.tabs.Tabs\"},{\"attributes\":{\"child\":{\"id\":\"1030\"},\"name\":\"route_mapping_data\",\"title\":\"route_mapping_data\"},\"id\":\"1031\",\"type\":\"Panel\"},{\"attributes\":{\"margin\":[5,20,5,5],\"name\":\"fuel_prices_data\",\"text\":\"{\\\"numerical\\\": [\\\"national_price\\\"], \\\"cat_cols\\\": [\\\"date\\\"], \\\"date_cols\\\": [], \\\"bool_cols\\\": []}\"},\"id\":\"1026\",\"type\":\"panel.models.markup.JSON\"},{\"attributes\":{\"client_comm_id\":\"f2e03d3f8f354e05b79b0be2ffcff900\",\"comm_id\":\"a0e7a3d1febf4ed49a5a4ec16436edba\",\"plot_id\":\"1023\"},\"id\":\"1032\",\"type\":\"panel.models.comm_manager.CommManager\"},{\"attributes\":{\"child\":{\"id\":\"1024\"},\"name\":\"carrier_data\",\"title\":\"carrier_data\"},\"id\":\"1025\",\"type\":\"Panel\"},{\"attributes\":{\"margin\":[5,20,5,5],\"name\":\"market_carrier_rates_data\",\"text\":\"{\\\"numerical\\\": [\\\"vehicle_type\\\", \\\"total_cost_all_providers\\\", \\\"total_distance_all_providers\\\"], \\\"cat_cols\\\": [\\\"week_ending_date\\\", \\\"origin_city\\\", \\\"origin_state\\\", \\\"origin_zip\\\", \\\"destination_city\\\", \\\"destination_state\\\", \\\"destination_zip\\\", \\\"first_monday_of_week\\\"], \\\"date_cols\\\": [], \\\"bool_cols\\\": []}\"},\"id\":\"1028\",\"type\":\"panel.models.markup.JSON\"},{\"attributes\":{\"child\":{\"id\":\"1028\"},\"name\":\"market_carrier_rates_data\",\"title\":\"market_carrier_rates_data\"},\"id\":\"1029\",\"type\":\"Panel\"},{\"attributes\":{\"margin\":[5,20,5,5],\"name\":\"carrier_data\",\"text\":\"{\\\"numerical\\\": [\\\"trip_id\\\", \\\"distance\\\", \\\"vehicle_type\\\", \\\"carrier_price\\\"], \\\"cat_cols\\\": [\\\"pickup_date\\\", \\\"origin_city\\\", \\\"origin_state\\\", \\\"origin_zip\\\", \\\"origin_country\\\", \\\"destination_city\\\", \\\"destination_state\\\", \\\"destination_zip\\\", \\\"destination_country\\\"], \\\"date_cols\\\": [], \\\"bool_cols\\\": []}\"},\"id\":\"1024\",\"type\":\"panel.models.markup.JSON\"},{\"attributes\":{\"child\":{\"id\":\"1026\"},\"name\":\"fuel_prices_data\",\"title\":\"fuel_prices_data\"},\"id\":\"1027\",\"type\":\"Panel\"}],\"root_ids\":[\"1023\",\"1032\"]},\"title\":\"Bokeh Application\",\"version\":\"2.4.3\"}};\n",
       "    var render_items = [{\"docid\":\"4ee1e81f-9184-4c52-9b22-252c86a6ed5a\",\"root_ids\":[\"1023\"],\"roots\":{\"1023\":\"d2e93de2-7bb1-4ed2-999d-3742aa74281d\"}}];\n",
       "    root.Bokeh.embed.embed_items_notebook(docs_json, render_items);\n",
       "    for (const render_item of render_items) {\n",
       "      for (const root_id of render_item.root_ids) {\n",
       "\tconst id_el = document.getElementById(root_id)\n",
       "\tif (id_el.children.length && (id_el.children[0].className === 'bk-root')) {\n",
       "\t  const root_el = id_el.children[0]\n",
       "\t  root_el.id = root_el.id + '-rendered'\n",
       "\t}\n",
       "      }\n",
       "    }\n",
       "  }\n",
       "  if (root.Bokeh !== undefined && root.Bokeh.Panel !== undefined) {\n",
       "    embed_document(root);\n",
       "  } else {\n",
       "    var attempts = 0;\n",
       "    var timer = setInterval(function(root) {\n",
       "      if (root.Bokeh !== undefined && root.Bokeh.Panel !== undefined) {\n",
       "        clearInterval(timer);\n",
       "        embed_document(root);\n",
       "      } else if (document.readyState == \"complete\") {\n",
       "        attempts++;\n",
       "        if (attempts > 200) {\n",
       "          clearInterval(timer);\n",
       "          console.log(\"Bokeh: ERROR: Unable to run BokehJS code because BokehJS library is missing\");\n",
       "        }\n",
       "      }\n",
       "    }, 25, root)\n",
       "  }\n",
       "})(window);</script>"
      ],
      "text/plain": [
       "Tabs\n",
       "    [0] JSON(dict, name='carrier_data')\n",
       "    [1] JSON(dict, name='fuel_prices_data')\n",
       "    [2] JSON(dict, name='market_carrier_rates_data...)\n",
       "    [3] JSON(dict, name='route_mapping_data')"
      ]
     },
     "execution_count": 18,
     "metadata": {
      "application/vnd.holoviews_exec.v0+json": {
       "id": "1023"
      }
     },
     "output_type": "execute_result"
    }
   ],
   "source": [
    "%%time\n",
    "types = {\n",
    "    'numerical': dp.list_numerical_columns,\n",
    "    'cat_cols': dp.list_categorical_columns,\n",
    "    'date_cols': dp.list_datelike_columns,\n",
    "    'bool_cols': dp.list_boolean_columns\n",
    "}\n",
    "res = [(datakey, {typekey: typeval(dataval) for typekey, typeval in types.items()}) for datakey, dataval in data.items()]\n",
    "utils.display_as_tabs(res)"
   ]
  },
  {
   "cell_type": "markdown",
   "metadata": {},
   "source": [
    "## Check for data consistency in Columns\n",
    "\n",
    "Data consistency refers to any case related inconsistencies in an object column.\n",
    "\n",
    "> Example -  Having \"APPLE\" and \"apple\" as part of cell values in the same column is considered as an inconsistency"
   ]
  },
  {
   "cell_type": "code",
   "execution_count": 19,
   "metadata": {},
   "outputs": [
    {
     "name": "stderr",
     "output_type": "stream",
     "text": [
      "                                                                                \r"
     ]
    },
    {
     "name": "stdout",
     "output_type": "stream",
     "text": [
      "CPU times: user 1.27 s, sys: 1.24 s, total: 2.52 s\n",
      "Wall time: 3min 6s\n"
     ]
    },
    {
     "data": {},
     "metadata": {},
     "output_type": "display_data"
    },
    {
     "data": {
      "application/vnd.holoviews_exec.v0+json": "",
      "text/html": [
       "<div id='1033'>\n",
       "  <div class=\"bk-root\" id=\"576eb46e-10a1-4f7d-a69e-62ebd8cb7643\" data-root-id=\"1033\"></div>\n",
       "</div>\n",
       "<script type=\"application/javascript\">(function(root) {\n",
       "  function embed_document(root) {\n",
       "    var docs_json = {\"315ff80e-95fc-482b-a49c-aa11652e475d\":{\"defs\":[{\"extends\":null,\"module\":null,\"name\":\"ReactiveHTML1\",\"overrides\":[],\"properties\":[]},{\"extends\":null,\"module\":null,\"name\":\"FlexBox1\",\"overrides\":[],\"properties\":[{\"default\":\"flex-start\",\"kind\":null,\"name\":\"align_content\"},{\"default\":\"flex-start\",\"kind\":null,\"name\":\"align_items\"},{\"default\":\"row\",\"kind\":null,\"name\":\"flex_direction\"},{\"default\":\"wrap\",\"kind\":null,\"name\":\"flex_wrap\"},{\"default\":\"flex-start\",\"kind\":null,\"name\":\"justify_content\"}]},{\"extends\":null,\"module\":null,\"name\":\"GridStack1\",\"overrides\":[],\"properties\":[{\"default\":\"warn\",\"kind\":null,\"name\":\"mode\"},{\"default\":null,\"kind\":null,\"name\":\"ncols\"},{\"default\":null,\"kind\":null,\"name\":\"nrows\"},{\"default\":true,\"kind\":null,\"name\":\"allow_resize\"},{\"default\":true,\"kind\":null,\"name\":\"allow_drag\"},{\"default\":[],\"kind\":null,\"name\":\"state\"}]},{\"extends\":null,\"module\":null,\"name\":\"click1\",\"overrides\":[],\"properties\":[{\"default\":\"\",\"kind\":null,\"name\":\"terminal_output\"},{\"default\":\"\",\"kind\":null,\"name\":\"debug_name\"},{\"default\":0,\"kind\":null,\"name\":\"clears\"}]},{\"extends\":null,\"module\":null,\"name\":\"NotificationAreaBase1\",\"overrides\":[],\"properties\":[{\"default\":\"bottom-right\",\"kind\":null,\"name\":\"position\"},{\"default\":0,\"kind\":null,\"name\":\"_clear\"}]},{\"extends\":null,\"module\":null,\"name\":\"NotificationArea1\",\"overrides\":[],\"properties\":[{\"default\":[],\"kind\":null,\"name\":\"notifications\"},{\"default\":\"bottom-right\",\"kind\":null,\"name\":\"position\"},{\"default\":0,\"kind\":null,\"name\":\"_clear\"},{\"default\":[{\"background\":\"#ffc107\",\"icon\":{\"className\":\"fas fa-exclamation-triangle\",\"color\":\"white\",\"tagName\":\"i\"},\"type\":\"warning\"},{\"background\":\"#007bff\",\"icon\":{\"className\":\"fas fa-info-circle\",\"color\":\"white\",\"tagName\":\"i\"},\"type\":\"info\"}],\"kind\":null,\"name\":\"types\"}]},{\"extends\":null,\"module\":null,\"name\":\"Notification\",\"overrides\":[],\"properties\":[{\"default\":null,\"kind\":null,\"name\":\"background\"},{\"default\":3000,\"kind\":null,\"name\":\"duration\"},{\"default\":null,\"kind\":null,\"name\":\"icon\"},{\"default\":\"\",\"kind\":null,\"name\":\"message\"},{\"default\":null,\"kind\":null,\"name\":\"notification_type\"},{\"default\":false,\"kind\":null,\"name\":\"_destroyed\"}]},{\"extends\":null,\"module\":null,\"name\":\"TemplateActions1\",\"overrides\":[],\"properties\":[{\"default\":0,\"kind\":null,\"name\":\"open_modal\"},{\"default\":0,\"kind\":null,\"name\":\"close_modal\"}]},{\"extends\":null,\"module\":null,\"name\":\"MaterialTemplateActions1\",\"overrides\":[],\"properties\":[{\"default\":0,\"kind\":null,\"name\":\"open_modal\"},{\"default\":0,\"kind\":null,\"name\":\"close_modal\"}]}],\"roots\":{\"references\":[{\"attributes\":{\"child\":{\"id\":\"1040\"},\"name\":\"route_mapping_data\",\"title\":\"route_mapping_data\"},\"id\":\"1041\",\"type\":\"Panel\"},{\"attributes\":{\"css_classes\":[\"markdown\"],\"margin\":[5,5,5,5],\"name\":\"fuel_prices_data\",\"text\":\"&lt;p&gt;Consistency Check Passed - No inconsistency in data&lt;/p&gt;\"},\"id\":\"1036\",\"type\":\"panel.models.markup.HTML\"},{\"attributes\":{\"css_classes\":[\"markdown\"],\"margin\":[5,5,5,5],\"name\":\"carrier_data\",\"text\":\"&lt;p&gt;Consistency Check Passed - No inconsistency in data&lt;/p&gt;\"},\"id\":\"1034\",\"type\":\"panel.models.markup.HTML\"},{\"attributes\":{\"css_classes\":[\"markdown\"],\"margin\":[5,5,5,5],\"name\":\"route_mapping_data\",\"text\":\"&lt;p&gt;Consistency Check Passed - No inconsistency in data&lt;/p&gt;\"},\"id\":\"1040\",\"type\":\"panel.models.markup.HTML\"},{\"attributes\":{\"child\":{\"id\":\"1036\"},\"name\":\"fuel_prices_data\",\"title\":\"fuel_prices_data\"},\"id\":\"1037\",\"type\":\"Panel\"},{\"attributes\":{\"child\":{\"id\":\"1038\"},\"name\":\"market_carrier_rates_data\",\"title\":\"market_carrier_rates_data\"},\"id\":\"1039\",\"type\":\"Panel\"},{\"attributes\":{\"child\":{\"id\":\"1034\"},\"name\":\"carrier_data\",\"title\":\"carrier_data\"},\"id\":\"1035\",\"type\":\"Panel\"},{\"attributes\":{\"client_comm_id\":\"4e8c47dea301449cbd7a07a5834be651\",\"comm_id\":\"4d527f6e260b4accae41835310a89938\",\"plot_id\":\"1033\"},\"id\":\"1042\",\"type\":\"panel.models.comm_manager.CommManager\"},{\"attributes\":{\"margin\":[0,0,0,0],\"tabs\":[{\"id\":\"1035\"},{\"id\":\"1037\"},{\"id\":\"1039\"},{\"id\":\"1041\"}]},\"id\":\"1033\",\"type\":\"panel.models.tabs.Tabs\"},{\"attributes\":{\"css_classes\":[\"markdown\"],\"margin\":[5,5,5,5],\"name\":\"market_carrier_rates_data\",\"text\":\"&lt;p&gt;Consistency Check Passed - No inconsistency in data&lt;/p&gt;\"},\"id\":\"1038\",\"type\":\"panel.models.markup.HTML\"}],\"root_ids\":[\"1033\",\"1042\"]},\"title\":\"Bokeh Application\",\"version\":\"2.4.3\"}};\n",
       "    var render_items = [{\"docid\":\"315ff80e-95fc-482b-a49c-aa11652e475d\",\"root_ids\":[\"1033\"],\"roots\":{\"1033\":\"576eb46e-10a1-4f7d-a69e-62ebd8cb7643\"}}];\n",
       "    root.Bokeh.embed.embed_items_notebook(docs_json, render_items);\n",
       "    for (const render_item of render_items) {\n",
       "      for (const root_id of render_item.root_ids) {\n",
       "\tconst id_el = document.getElementById(root_id)\n",
       "\tif (id_el.children.length && (id_el.children[0].className === 'bk-root')) {\n",
       "\t  const root_el = id_el.children[0]\n",
       "\t  root_el.id = root_el.id + '-rendered'\n",
       "\t}\n",
       "      }\n",
       "    }\n",
       "  }\n",
       "  if (root.Bokeh !== undefined && root.Bokeh.Panel !== undefined) {\n",
       "    embed_document(root);\n",
       "  } else {\n",
       "    var attempts = 0;\n",
       "    var timer = setInterval(function(root) {\n",
       "      if (root.Bokeh !== undefined && root.Bokeh.Panel !== undefined) {\n",
       "        clearInterval(timer);\n",
       "        embed_document(root);\n",
       "      } else if (document.readyState == \"complete\") {\n",
       "        attempts++;\n",
       "        if (attempts > 200) {\n",
       "          clearInterval(timer);\n",
       "          console.log(\"Bokeh: ERROR: Unable to run BokehJS code because BokehJS library is missing\");\n",
       "        }\n",
       "      }\n",
       "    }, 25, root)\n",
       "  }\n",
       "})(window);</script>"
      ],
      "text/plain": [
       "Tabs\n",
       "    [0] Markdown(str, name='carrier_data')\n",
       "    [1] Markdown(str, name='fuel_prices_data')\n",
       "    [2] Markdown(str, name='market_carrier_rates_data...)\n",
       "    [3] Markdown(str, name='route_mapping_data')"
      ]
     },
     "execution_count": 19,
     "metadata": {
      "application/vnd.holoviews_exec.v0+json": {
       "id": "1033"
      }
     },
     "output_type": "execute_result"
    }
   ],
   "source": [
    "%%time\n",
    "utils.display_as_tabs([(k, dp.check_column_data_consistency(v)) for k,v in data.items()])"
   ]
  },
  {
   "cell_type": "markdown",
   "metadata": {},
   "source": [
    "## Columns Unique Values Summary\n",
    "\n",
    "A summary of number of distinct count and the ratio of number of unique values to the total count is obtained.\n",
    "\n",
    "This helps in identifying any categorical features sneaking in as numerical columns"
   ]
  },
  {
   "cell_type": "code",
   "execution_count": 20,
   "metadata": {},
   "outputs": [
    {
     "name": "stderr",
     "output_type": "stream",
     "text": [
      "                                                                                \r"
     ]
    },
    {
     "name": "stdout",
     "output_type": "stream",
     "text": [
      "CPU times: user 3.79 s, sys: 10.2 s, total: 14 s\n",
      "Wall time: 2min 5s\n"
     ]
    },
    {
     "data": {},
     "metadata": {},
     "output_type": "display_data"
    },
    {
     "data": {
      "application/vnd.holoviews_exec.v0+json": "",
      "text/html": [
       "<div id='1043'>\n",
       "  <div class=\"bk-root\" id=\"b8456455-56f7-4dd3-b92c-73f1325e83ee\" data-root-id=\"1043\"></div>\n",
       "</div>\n",
       "<script type=\"application/javascript\">(function(root) {\n",
       "  function embed_document(root) {\n",
       "    var docs_json = {\"3c6ca6e8-8b9c-4999-bfd2-191e57de13ed\":{\"defs\":[{\"extends\":null,\"module\":null,\"name\":\"ReactiveHTML1\",\"overrides\":[],\"properties\":[]},{\"extends\":null,\"module\":null,\"name\":\"FlexBox1\",\"overrides\":[],\"properties\":[{\"default\":\"flex-start\",\"kind\":null,\"name\":\"align_content\"},{\"default\":\"flex-start\",\"kind\":null,\"name\":\"align_items\"},{\"default\":\"row\",\"kind\":null,\"name\":\"flex_direction\"},{\"default\":\"wrap\",\"kind\":null,\"name\":\"flex_wrap\"},{\"default\":\"flex-start\",\"kind\":null,\"name\":\"justify_content\"}]},{\"extends\":null,\"module\":null,\"name\":\"GridStack1\",\"overrides\":[],\"properties\":[{\"default\":\"warn\",\"kind\":null,\"name\":\"mode\"},{\"default\":null,\"kind\":null,\"name\":\"ncols\"},{\"default\":null,\"kind\":null,\"name\":\"nrows\"},{\"default\":true,\"kind\":null,\"name\":\"allow_resize\"},{\"default\":true,\"kind\":null,\"name\":\"allow_drag\"},{\"default\":[],\"kind\":null,\"name\":\"state\"}]},{\"extends\":null,\"module\":null,\"name\":\"click1\",\"overrides\":[],\"properties\":[{\"default\":\"\",\"kind\":null,\"name\":\"terminal_output\"},{\"default\":\"\",\"kind\":null,\"name\":\"debug_name\"},{\"default\":0,\"kind\":null,\"name\":\"clears\"}]},{\"extends\":null,\"module\":null,\"name\":\"NotificationAreaBase1\",\"overrides\":[],\"properties\":[{\"default\":\"bottom-right\",\"kind\":null,\"name\":\"position\"},{\"default\":0,\"kind\":null,\"name\":\"_clear\"}]},{\"extends\":null,\"module\":null,\"name\":\"NotificationArea1\",\"overrides\":[],\"properties\":[{\"default\":[],\"kind\":null,\"name\":\"notifications\"},{\"default\":\"bottom-right\",\"kind\":null,\"name\":\"position\"},{\"default\":0,\"kind\":null,\"name\":\"_clear\"},{\"default\":[{\"background\":\"#ffc107\",\"icon\":{\"className\":\"fas fa-exclamation-triangle\",\"color\":\"white\",\"tagName\":\"i\"},\"type\":\"warning\"},{\"background\":\"#007bff\",\"icon\":{\"className\":\"fas fa-info-circle\",\"color\":\"white\",\"tagName\":\"i\"},\"type\":\"info\"}],\"kind\":null,\"name\":\"types\"}]},{\"extends\":null,\"module\":null,\"name\":\"Notification\",\"overrides\":[],\"properties\":[{\"default\":null,\"kind\":null,\"name\":\"background\"},{\"default\":3000,\"kind\":null,\"name\":\"duration\"},{\"default\":null,\"kind\":null,\"name\":\"icon\"},{\"default\":\"\",\"kind\":null,\"name\":\"message\"},{\"default\":null,\"kind\":null,\"name\":\"notification_type\"},{\"default\":false,\"kind\":null,\"name\":\"_destroyed\"}]},{\"extends\":null,\"module\":null,\"name\":\"TemplateActions1\",\"overrides\":[],\"properties\":[{\"default\":0,\"kind\":null,\"name\":\"open_modal\"},{\"default\":0,\"kind\":null,\"name\":\"close_modal\"}]},{\"extends\":null,\"module\":null,\"name\":\"MaterialTemplateActions1\",\"overrides\":[],\"properties\":[{\"default\":0,\"kind\":null,\"name\":\"open_modal\"},{\"default\":0,\"kind\":null,\"name\":\"close_modal\"}]}],\"roots\":{\"references\":[{\"attributes\":{},\"id\":\"1076\",\"type\":\"CellEditor\"},{\"attributes\":{},\"id\":\"1104\",\"type\":\"CellEditor\"},{\"attributes\":{\"data\":{\"Data type\":[\"StringType\",\"StringType\",\"IntegerType\",\"StringType\",\"StringType\"],\"Distinct count\":[\"42\",\"135\",\"41243\",\"18189\",\"46\"],\"Distinct count(%)\":[\"0.1\",\"0.33\",\"100.0\",\"44.1\",\"0.11\"],\"index\":[\"reference_state\",\"market_id\",\"zipcode\",\"city\",\"state\"]},\"selected\":{\"id\":\"1129\"},\"selection_policy\":{\"id\":\"1162\"}},\"id\":\"1128\",\"type\":\"ColumnDataSource\"},{\"attributes\":{},\"id\":\"1080\",\"type\":\"StringFormatter\"},{\"attributes\":{\"columns\":[{\"id\":\"1049\"},{\"id\":\"1054\"},{\"id\":\"1059\"},{\"id\":\"1064\"}],\"editable\":true,\"height\":300,\"index_position\":null,\"margin\":[5,10,5,10],\"name\":\"carrier_data\",\"row_height\":40,\"sizing_mode\":\"fixed\",\"source\":{\"id\":\"1044\"},\"view\":{\"id\":\"1069\"},\"width\":300},\"id\":\"1067\",\"type\":\"DataTable\"},{\"attributes\":{},\"id\":\"1132\",\"type\":\"CellEditor\"},{\"attributes\":{\"editor\":{\"id\":\"1132\"},\"field\":\"index\",\"formatter\":{\"id\":\"1130\"},\"title\":\"index\",\"width\":0},\"id\":\"1133\",\"type\":\"TableColumn\"},{\"attributes\":{},\"id\":\"1113\",\"type\":\"StringFormatter\"},{\"attributes\":{\"editor\":{\"id\":\"1081\"},\"field\":\"Data type\",\"formatter\":{\"id\":\"1080\"},\"title\":\"Data type\",\"width\":0},\"id\":\"1082\",\"type\":\"TableColumn\"},{\"attributes\":{\"indices\":[]},\"id\":\"1129\",\"type\":\"Selection\"},{\"attributes\":{\"child\":{\"id\":\"1123\"},\"name\":\"market_carrier_rates_data\",\"title\":\"market_carrier_rates_data\"},\"id\":\"1127\",\"type\":\"Panel\"},{\"attributes\":{\"editor\":{\"id\":\"1048\"},\"field\":\"index\",\"formatter\":{\"id\":\"1046\"},\"title\":\"index\",\"width\":0},\"id\":\"1049\",\"type\":\"TableColumn\"},{\"attributes\":{\"data\":{\"Data type\":[\"StringType\",\"StringType\",\"StringType\",\"StringType\",\"StringType\",\"StringType\",\"StringType\",\"IntegerType\",\"StringType\",\"DoubleType\",\"DoubleType\"],\"Distinct count\":[\"236\",\"145\",\"51\",\"148\",\"148\",\"52\",\"151\",\"3\",\"230\",\"1162369\",\"69793\"],\"Distinct count(%)\":[\"0.01\",\"0.01\",\"0.0\",\"0.01\",\"0.01\",\"0.0\",\"0.01\",\"0.0\",\"0.01\",\"45.3\",\"2.72\"],\"index\":[\"week_ending_date\",\"origin_city\",\"origin_state\",\"origin_zip\",\"destination_city\",\"destination_state\",\"destination_zip\",\"vehicle_type\",\"first_monday_of_week\",\"total_cost_all_providers\",\"total_distance_all_providers\"]},\"selected\":{\"id\":\"1101\"},\"selection_policy\":{\"id\":\"1160\"}},\"id\":\"1100\",\"type\":\"ColumnDataSource\"},{\"attributes\":{\"source\":{\"id\":\"1128\"}},\"id\":\"1153\",\"type\":\"CDSView\"},{\"attributes\":{},\"id\":\"1052\",\"type\":\"StringFormatter\"},{\"attributes\":{\"columns\":[{\"id\":\"1133\"},{\"id\":\"1138\"},{\"id\":\"1143\"},{\"id\":\"1148\"}],\"editable\":true,\"height\":300,\"index_position\":null,\"margin\":[5,10,5,10],\"name\":\"route_mapping_data\",\"row_height\":40,\"sizing_mode\":\"fixed\",\"source\":{\"id\":\"1128\"},\"view\":{\"id\":\"1153\"},\"width\":300},\"id\":\"1151\",\"type\":\"DataTable\"},{\"attributes\":{},\"id\":\"1048\",\"type\":\"CellEditor\"},{\"attributes\":{},\"id\":\"1130\",\"type\":\"StringFormatter\"},{\"attributes\":{},\"id\":\"1085\",\"type\":\"StringFormatter\"},{\"attributes\":{\"editor\":{\"id\":\"1119\"},\"field\":\"Distinct count(%)\",\"formatter\":{\"id\":\"1118\"},\"title\":\"Distinct count(%)\",\"width\":0},\"id\":\"1120\",\"type\":\"TableColumn\"},{\"attributes\":{\"child\":{\"id\":\"1067\"},\"name\":\"carrier_data\",\"title\":\"carrier_data\"},\"id\":\"1071\",\"type\":\"Panel\"},{\"attributes\":{},\"id\":\"1158\",\"type\":\"UnionRenderers\"},{\"attributes\":{},\"id\":\"1136\",\"type\":\"StringFormatter\"},{\"attributes\":{},\"id\":\"1137\",\"type\":\"StringEditor\"},{\"attributes\":{\"editor\":{\"id\":\"1137\"},\"field\":\"Data type\",\"formatter\":{\"id\":\"1136\"},\"title\":\"Data type\",\"width\":0},\"id\":\"1138\",\"type\":\"TableColumn\"},{\"attributes\":{\"indices\":[]},\"id\":\"1045\",\"type\":\"Selection\"},{\"attributes\":{\"editor\":{\"id\":\"1109\"},\"field\":\"Data type\",\"formatter\":{\"id\":\"1108\"},\"title\":\"Data type\",\"width\":0},\"id\":\"1110\",\"type\":\"TableColumn\"},{\"attributes\":{},\"id\":\"1141\",\"type\":\"StringFormatter\"},{\"attributes\":{\"editor\":{\"id\":\"1058\"},\"field\":\"Distinct count\",\"formatter\":{\"id\":\"1057\"},\"title\":\"Distinct count\",\"width\":0},\"id\":\"1059\",\"type\":\"TableColumn\"},{\"attributes\":{},\"id\":\"1142\",\"type\":\"StringEditor\"},{\"attributes\":{},\"id\":\"1109\",\"type\":\"StringEditor\"},{\"attributes\":{\"editor\":{\"id\":\"1086\"},\"field\":\"Distinct count\",\"formatter\":{\"id\":\"1085\"},\"title\":\"Distinct count\",\"width\":0},\"id\":\"1087\",\"type\":\"TableColumn\"},{\"attributes\":{\"editor\":{\"id\":\"1076\"},\"field\":\"index\",\"formatter\":{\"id\":\"1074\"},\"title\":\"index\",\"width\":0},\"id\":\"1077\",\"type\":\"TableColumn\"},{\"attributes\":{\"editor\":{\"id\":\"1142\"},\"field\":\"Distinct count\",\"formatter\":{\"id\":\"1141\"},\"title\":\"Distinct count\",\"width\":0},\"id\":\"1143\",\"type\":\"TableColumn\"},{\"attributes\":{},\"id\":\"1114\",\"type\":\"StringEditor\"},{\"attributes\":{\"source\":{\"id\":\"1044\"}},\"id\":\"1069\",\"type\":\"CDSView\"},{\"attributes\":{\"editor\":{\"id\":\"1091\"},\"field\":\"Distinct count(%)\",\"formatter\":{\"id\":\"1090\"},\"title\":\"Distinct count(%)\",\"width\":0},\"id\":\"1092\",\"type\":\"TableColumn\"},{\"attributes\":{},\"id\":\"1146\",\"type\":\"StringFormatter\"},{\"attributes\":{},\"id\":\"1108\",\"type\":\"StringFormatter\"},{\"attributes\":{},\"id\":\"1147\",\"type\":\"StringEditor\"},{\"attributes\":{\"editor\":{\"id\":\"1147\"},\"field\":\"Distinct count(%)\",\"formatter\":{\"id\":\"1146\"},\"title\":\"Distinct count(%)\",\"width\":0},\"id\":\"1148\",\"type\":\"TableColumn\"},{\"attributes\":{\"child\":{\"id\":\"1095\"},\"name\":\"fuel_prices_data\",\"title\":\"fuel_prices_data\"},\"id\":\"1099\",\"type\":\"Panel\"},{\"attributes\":{\"data\":{\"Data type\":[\"IntegerType\",\"DoubleType\",\"IntegerType\",\"StringType\",\"StringType\",\"StringType\",\"StringType\",\"StringType\",\"StringType\",\"StringType\",\"StringType\",\"StringType\",\"DoubleType\"],\"Distinct count\":[\"217196\",\"29657\",\"3\",\"644\",\"3789\",\"67\",\"6080\",\"4\",\"5047\",\"69\",\"9023\",\"7\",\"82770\"],\"Distinct count(%)\":[\"100.0\",\"13.65\",\"0.0\",\"0.3\",\"1.74\",\"0.03\",\"2.8\",\"0.0\",\"2.32\",\"0.03\",\"4.15\",\"0.0\",\"38.11\"],\"index\":[\"trip_id\",\"distance\",\"vehicle_type\",\"pickup_date\",\"origin_city\",\"origin_state\",\"origin_zip\",\"origin_country\",\"destination_city\",\"destination_state\",\"destination_zip\",\"destination_country\",\"carrier_price\"]},\"selected\":{\"id\":\"1045\"},\"selection_policy\":{\"id\":\"1156\"}},\"id\":\"1044\",\"type\":\"ColumnDataSource\"},{\"attributes\":{},\"id\":\"1046\",\"type\":\"StringFormatter\"},{\"attributes\":{},\"id\":\"1160\",\"type\":\"UnionRenderers\"},{\"attributes\":{\"child\":{\"id\":\"1151\"},\"name\":\"route_mapping_data\",\"title\":\"route_mapping_data\"},\"id\":\"1155\",\"type\":\"Panel\"},{\"attributes\":{\"source\":{\"id\":\"1100\"}},\"id\":\"1125\",\"type\":\"CDSView\"},{\"attributes\":{},\"id\":\"1086\",\"type\":\"StringEditor\"},{\"attributes\":{\"editor\":{\"id\":\"1104\"},\"field\":\"index\",\"formatter\":{\"id\":\"1102\"},\"title\":\"index\",\"width\":0},\"id\":\"1105\",\"type\":\"TableColumn\"},{\"attributes\":{\"indices\":[]},\"id\":\"1101\",\"type\":\"Selection\"},{\"attributes\":{\"columns\":[{\"id\":\"1105\"},{\"id\":\"1110\"},{\"id\":\"1115\"},{\"id\":\"1120\"}],\"editable\":true,\"height\":300,\"index_position\":null,\"margin\":[5,10,5,10],\"name\":\"market_carrier_rates_data\",\"row_height\":40,\"sizing_mode\":\"fixed\",\"source\":{\"id\":\"1100\"},\"view\":{\"id\":\"1125\"},\"width\":300},\"id\":\"1123\",\"type\":\"DataTable\"},{\"attributes\":{\"client_comm_id\":\"0259913efd0e4466b37af4638432f03c\",\"comm_id\":\"dcc67558245e433f9b8b1b0fc817a2b2\",\"plot_id\":\"1043\"},\"id\":\"1180\",\"type\":\"panel.models.comm_manager.CommManager\"},{\"attributes\":{\"source\":{\"id\":\"1072\"}},\"id\":\"1097\",\"type\":\"CDSView\"},{\"attributes\":{},\"id\":\"1090\",\"type\":\"StringFormatter\"},{\"attributes\":{},\"id\":\"1091\",\"type\":\"StringEditor\"},{\"attributes\":{},\"id\":\"1058\",\"type\":\"StringEditor\"},{\"attributes\":{\"editor\":{\"id\":\"1063\"},\"field\":\"Distinct count(%)\",\"formatter\":{\"id\":\"1062\"},\"title\":\"Distinct count(%)\",\"width\":0},\"id\":\"1064\",\"type\":\"TableColumn\"},{\"attributes\":{},\"id\":\"1162\",\"type\":\"UnionRenderers\"},{\"attributes\":{\"editor\":{\"id\":\"1114\"},\"field\":\"Distinct count\",\"formatter\":{\"id\":\"1113\"},\"title\":\"Distinct count\",\"width\":0},\"id\":\"1115\",\"type\":\"TableColumn\"},{\"attributes\":{},\"id\":\"1053\",\"type\":\"StringEditor\"},{\"attributes\":{},\"id\":\"1063\",\"type\":\"StringEditor\"},{\"attributes\":{},\"id\":\"1118\",\"type\":\"StringFormatter\"},{\"attributes\":{},\"id\":\"1102\",\"type\":\"StringFormatter\"},{\"attributes\":{},\"id\":\"1081\",\"type\":\"StringEditor\"},{\"attributes\":{\"data\":{\"Data type\":[\"StringType\",\"DoubleType\"],\"Distinct count\":[\"107\",\"93\"],\"Distinct count(%)\":[\"100.0\",\"86.92\"],\"index\":[\"date\",\"national_price\"]},\"selected\":{\"id\":\"1073\"},\"selection_policy\":{\"id\":\"1158\"}},\"id\":\"1072\",\"type\":\"ColumnDataSource\"},{\"attributes\":{},\"id\":\"1074\",\"type\":\"StringFormatter\"},{\"attributes\":{},\"id\":\"1057\",\"type\":\"StringFormatter\"},{\"attributes\":{},\"id\":\"1119\",\"type\":\"StringEditor\"},{\"attributes\":{},\"id\":\"1156\",\"type\":\"UnionRenderers\"},{\"attributes\":{\"indices\":[]},\"id\":\"1073\",\"type\":\"Selection\"},{\"attributes\":{\"editor\":{\"id\":\"1053\"},\"field\":\"Data type\",\"formatter\":{\"id\":\"1052\"},\"title\":\"Data type\",\"width\":0},\"id\":\"1054\",\"type\":\"TableColumn\"},{\"attributes\":{\"columns\":[{\"id\":\"1077\"},{\"id\":\"1082\"},{\"id\":\"1087\"},{\"id\":\"1092\"}],\"editable\":true,\"height\":300,\"index_position\":null,\"margin\":[5,10,5,10],\"name\":\"fuel_prices_data\",\"row_height\":40,\"sizing_mode\":\"fixed\",\"source\":{\"id\":\"1072\"},\"view\":{\"id\":\"1097\"},\"width\":300},\"id\":\"1095\",\"type\":\"DataTable\"},{\"attributes\":{},\"id\":\"1062\",\"type\":\"StringFormatter\"},{\"attributes\":{\"margin\":[0,0,0,0],\"tabs\":[{\"id\":\"1071\"},{\"id\":\"1099\"},{\"id\":\"1127\"},{\"id\":\"1155\"}]},\"id\":\"1043\",\"type\":\"panel.models.tabs.Tabs\"}],\"root_ids\":[\"1043\",\"1180\"]},\"title\":\"Bokeh Application\",\"version\":\"2.4.3\"}};\n",
       "    var render_items = [{\"docid\":\"3c6ca6e8-8b9c-4999-bfd2-191e57de13ed\",\"root_ids\":[\"1043\"],\"roots\":{\"1043\":\"b8456455-56f7-4dd3-b92c-73f1325e83ee\"}}];\n",
       "    root.Bokeh.embed.embed_items_notebook(docs_json, render_items);\n",
       "    for (const render_item of render_items) {\n",
       "      for (const root_id of render_item.root_ids) {\n",
       "\tconst id_el = document.getElementById(root_id)\n",
       "\tif (id_el.children.length && (id_el.children[0].className === 'bk-root')) {\n",
       "\t  const root_el = id_el.children[0]\n",
       "\t  root_el.id = root_el.id + '-rendered'\n",
       "\t}\n",
       "      }\n",
       "    }\n",
       "  }\n",
       "  if (root.Bokeh !== undefined && root.Bokeh.Panel !== undefined) {\n",
       "    embed_document(root);\n",
       "  } else {\n",
       "    var attempts = 0;\n",
       "    var timer = setInterval(function(root) {\n",
       "      if (root.Bokeh !== undefined && root.Bokeh.Panel !== undefined) {\n",
       "        clearInterval(timer);\n",
       "        embed_document(root);\n",
       "      } else if (document.readyState == \"complete\") {\n",
       "        attempts++;\n",
       "        if (attempts > 200) {\n",
       "          clearInterval(timer);\n",
       "          console.log(\"Bokeh: ERROR: Unable to run BokehJS code because BokehJS library is missing\");\n",
       "        }\n",
       "      }\n",
       "    }, 25, root)\n",
       "  }\n",
       "})(window);</script>"
      ],
      "text/plain": [
       "Tabs\n",
       "    [0] DataFrame(height=300, name='carrier_data', sizing_mode='fixed', value=              ..., width=300)\n",
       "    [1] DataFrame(height=300, name='fuel_prices_data', sizing_mode='fixed', value=              ..., width=300)\n",
       "    [2] DataFrame(height=300, name='market_carrier_rates_data..., sizing_mode='fixed', value=              ..., width=300)\n",
       "    [3] DataFrame(height=300, name='route_mapping_data', sizing_mode='fixed', value=              ..., width=300)"
      ]
     },
     "execution_count": 20,
     "metadata": {
      "application/vnd.holoviews_exec.v0+json": {
       "id": "1043"
      }
     },
     "output_type": "execute_result"
    }
   ],
   "source": [
    "%%time\n",
    "utils.display_as_tabs([(k, eda.column_values_summary(v).T) for k,v in data.items()])"
   ]
  },
  {
   "cell_type": "markdown",
   "metadata": {},
   "source": [
    "## Identification of Missing Values\n",
    "\n",
    "This step summarizes the Number of Missing Values in each column of the data."
   ]
  },
  {
   "cell_type": "code",
   "execution_count": 21,
   "metadata": {},
   "outputs": [
    {
     "name": "stderr",
     "output_type": "stream",
     "text": [
      "                                                                                \r"
     ]
    },
    {
     "name": "stdout",
     "output_type": "stream",
     "text": [
      "CPU times: user 600 ms, sys: 217 ms, total: 817 ms\n",
      "Wall time: 1min 19s\n"
     ]
    },
    {
     "data": {},
     "metadata": {},
     "output_type": "display_data"
    },
    {
     "data": {
      "application/vnd.holoviews_exec.v0+json": "",
      "text/html": [
       "<div id='1221'>\n",
       "  <div class=\"bk-root\" id=\"4aafe6ce-bff5-44f3-8ae6-034ce9aa893e\" data-root-id=\"1221\"></div>\n",
       "</div>\n",
       "<script type=\"application/javascript\">(function(root) {\n",
       "  function embed_document(root) {\n",
       "    var docs_json = {\"68ecd948-e4c6-4bf6-8464-420da9049356\":{\"defs\":[{\"extends\":null,\"module\":null,\"name\":\"ReactiveHTML1\",\"overrides\":[],\"properties\":[]},{\"extends\":null,\"module\":null,\"name\":\"FlexBox1\",\"overrides\":[],\"properties\":[{\"default\":\"flex-start\",\"kind\":null,\"name\":\"align_content\"},{\"default\":\"flex-start\",\"kind\":null,\"name\":\"align_items\"},{\"default\":\"row\",\"kind\":null,\"name\":\"flex_direction\"},{\"default\":\"wrap\",\"kind\":null,\"name\":\"flex_wrap\"},{\"default\":\"flex-start\",\"kind\":null,\"name\":\"justify_content\"}]},{\"extends\":null,\"module\":null,\"name\":\"GridStack1\",\"overrides\":[],\"properties\":[{\"default\":\"warn\",\"kind\":null,\"name\":\"mode\"},{\"default\":null,\"kind\":null,\"name\":\"ncols\"},{\"default\":null,\"kind\":null,\"name\":\"nrows\"},{\"default\":true,\"kind\":null,\"name\":\"allow_resize\"},{\"default\":true,\"kind\":null,\"name\":\"allow_drag\"},{\"default\":[],\"kind\":null,\"name\":\"state\"}]},{\"extends\":null,\"module\":null,\"name\":\"click1\",\"overrides\":[],\"properties\":[{\"default\":\"\",\"kind\":null,\"name\":\"terminal_output\"},{\"default\":\"\",\"kind\":null,\"name\":\"debug_name\"},{\"default\":0,\"kind\":null,\"name\":\"clears\"}]},{\"extends\":null,\"module\":null,\"name\":\"NotificationAreaBase1\",\"overrides\":[],\"properties\":[{\"default\":\"bottom-right\",\"kind\":null,\"name\":\"position\"},{\"default\":0,\"kind\":null,\"name\":\"_clear\"}]},{\"extends\":null,\"module\":null,\"name\":\"NotificationArea1\",\"overrides\":[],\"properties\":[{\"default\":[],\"kind\":null,\"name\":\"notifications\"},{\"default\":\"bottom-right\",\"kind\":null,\"name\":\"position\"},{\"default\":0,\"kind\":null,\"name\":\"_clear\"},{\"default\":[{\"background\":\"#ffc107\",\"icon\":{\"className\":\"fas fa-exclamation-triangle\",\"color\":\"white\",\"tagName\":\"i\"},\"type\":\"warning\"},{\"background\":\"#007bff\",\"icon\":{\"className\":\"fas fa-info-circle\",\"color\":\"white\",\"tagName\":\"i\"},\"type\":\"info\"}],\"kind\":null,\"name\":\"types\"}]},{\"extends\":null,\"module\":null,\"name\":\"Notification\",\"overrides\":[],\"properties\":[{\"default\":null,\"kind\":null,\"name\":\"background\"},{\"default\":3000,\"kind\":null,\"name\":\"duration\"},{\"default\":null,\"kind\":null,\"name\":\"icon\"},{\"default\":\"\",\"kind\":null,\"name\":\"message\"},{\"default\":null,\"kind\":null,\"name\":\"notification_type\"},{\"default\":false,\"kind\":null,\"name\":\"_destroyed\"}]},{\"extends\":null,\"module\":null,\"name\":\"TemplateActions1\",\"overrides\":[],\"properties\":[{\"default\":0,\"kind\":null,\"name\":\"open_modal\"},{\"default\":0,\"kind\":null,\"name\":\"close_modal\"}]},{\"extends\":null,\"module\":null,\"name\":\"MaterialTemplateActions1\",\"overrides\":[],\"properties\":[{\"default\":0,\"kind\":null,\"name\":\"open_modal\"},{\"default\":0,\"kind\":null,\"name\":\"close_modal\"}]}],\"roots\":{\"references\":[{\"attributes\":{},\"id\":\"1246\",\"type\":\"IntEditor\"},{\"attributes\":{\"text_align\":\"right\"},\"id\":\"1270\",\"type\":\"NumberFormatter\"},{\"attributes\":{\"text_align\":\"right\"},\"id\":\"1351\",\"type\":\"NumberFormatter\"},{\"attributes\":{\"editor\":{\"id\":\"1241\"},\"field\":\"vehicle_type\",\"formatter\":{\"id\":\"1240\"},\"title\":\"vehicle_type\",\"width\":0},\"id\":\"1242\",\"type\":\"TableColumn\"},{\"attributes\":{},\"id\":\"1352\",\"type\":\"IntEditor\"},{\"attributes\":{\"text_align\":\"right\"},\"id\":\"1250\",\"type\":\"NumberFormatter\"},{\"attributes\":{\"editor\":{\"id\":\"1352\"},\"field\":\"destination_city\",\"formatter\":{\"id\":\"1351\"},\"title\":\"destination_city\",\"width\":0},\"id\":\"1353\",\"type\":\"TableColumn\"},{\"attributes\":{},\"id\":\"1291\",\"type\":\"IntEditor\"},{\"attributes\":{},\"id\":\"1251\",\"type\":\"IntEditor\"},{\"attributes\":{\"text_align\":\"right\"},\"id\":\"1265\",\"type\":\"NumberFormatter\"},{\"attributes\":{},\"id\":\"1433\",\"type\":\"UnionRenderers\"},{\"attributes\":{\"text_align\":\"right\"},\"id\":\"1356\",\"type\":\"NumberFormatter\"},{\"attributes\":{},\"id\":\"1357\",\"type\":\"IntEditor\"},{\"attributes\":{\"text_align\":\"right\"},\"id\":\"1275\",\"type\":\"NumberFormatter\"},{\"attributes\":{\"editor\":{\"id\":\"1276\"},\"field\":\"destination_state\",\"formatter\":{\"id\":\"1275\"},\"title\":\"destination_state\",\"width\":0},\"id\":\"1277\",\"type\":\"TableColumn\"},{\"attributes\":{\"editor\":{\"id\":\"1357\"},\"field\":\"destination_state\",\"formatter\":{\"id\":\"1356\"},\"title\":\"destination_state\",\"width\":0},\"id\":\"1358\",\"type\":\"TableColumn\"},{\"attributes\":{},\"id\":\"1256\",\"type\":\"IntEditor\"},{\"attributes\":{\"editor\":{\"id\":\"1281\"},\"field\":\"destination_zip\",\"formatter\":{\"id\":\"1280\"},\"title\":\"destination_zip\",\"width\":0},\"id\":\"1282\",\"type\":\"TableColumn\"},{\"attributes\":{\"source\":{\"id\":\"1222\"}},\"id\":\"1297\",\"type\":\"CDSView\"},{\"attributes\":{\"text_align\":\"right\"},\"id\":\"1361\",\"type\":\"NumberFormatter\"},{\"attributes\":{\"columns\":[{\"id\":\"1227\"},{\"id\":\"1232\"},{\"id\":\"1237\"},{\"id\":\"1242\"},{\"id\":\"1247\"},{\"id\":\"1252\"},{\"id\":\"1257\"},{\"id\":\"1262\"},{\"id\":\"1267\"},{\"id\":\"1272\"},{\"id\":\"1277\"},{\"id\":\"1282\"},{\"id\":\"1287\"},{\"id\":\"1292\"}],\"editable\":true,\"height\":300,\"index_position\":null,\"margin\":[5,10,5,10],\"name\":\"carrier_data\",\"row_height\":40,\"sizing_mode\":\"fixed\",\"source\":{\"id\":\"1222\"},\"view\":{\"id\":\"1297\"},\"width\":300},\"id\":\"1295\",\"type\":\"DataTable\"},{\"attributes\":{},\"id\":\"1362\",\"type\":\"IntEditor\"},{\"attributes\":{\"editor\":{\"id\":\"1362\"},\"field\":\"destination_zip\",\"formatter\":{\"id\":\"1361\"},\"title\":\"destination_zip\",\"width\":0},\"id\":\"1363\",\"type\":\"TableColumn\"},{\"attributes\":{\"indices\":[]},\"id\":\"1301\",\"type\":\"Selection\"},{\"attributes\":{\"text_align\":\"right\"},\"id\":\"1245\",\"type\":\"NumberFormatter\"},{\"attributes\":{\"text_align\":\"right\"},\"id\":\"1285\",\"type\":\"NumberFormatter\"},{\"attributes\":{\"data\":{\"carrier_price\":[0],\"destination_city\":[0],\"destination_country\":[0],\"destination_state\":[2],\"destination_zip\":[0],\"distance\":[0],\"index\":[0],\"origin_city\":[1],\"origin_country\":[0],\"origin_state\":[1],\"origin_zip\":[0],\"pickup_date\":[0],\"trip_id\":[0],\"vehicle_type\":[0]},\"selected\":{\"id\":\"1223\"},\"selection_policy\":{\"id\":\"1429\"}},\"id\":\"1222\",\"type\":\"ColumnDataSource\"},{\"attributes\":{\"text_align\":\"right\"},\"id\":\"1290\",\"type\":\"NumberFormatter\"},{\"attributes\":{\"editor\":{\"id\":\"1246\"},\"field\":\"pickup_date\",\"formatter\":{\"id\":\"1245\"},\"title\":\"pickup_date\",\"width\":0},\"id\":\"1247\",\"type\":\"TableColumn\"},{\"attributes\":{\"text_align\":\"right\"},\"id\":\"1366\",\"type\":\"NumberFormatter\"},{\"attributes\":{},\"id\":\"1367\",\"type\":\"IntEditor\"},{\"attributes\":{},\"id\":\"1286\",\"type\":\"IntEditor\"},{\"attributes\":{\"editor\":{\"id\":\"1367\"},\"field\":\"vehicle_type\",\"formatter\":{\"id\":\"1366\"},\"title\":\"vehicle_type\",\"width\":0},\"id\":\"1368\",\"type\":\"TableColumn\"},{\"attributes\":{\"text_align\":\"right\"},\"id\":\"1255\",\"type\":\"NumberFormatter\"},{\"attributes\":{},\"id\":\"1435\",\"type\":\"UnionRenderers\"},{\"attributes\":{\"editor\":{\"id\":\"1291\"},\"field\":\"carrier_price\",\"formatter\":{\"id\":\"1290\"},\"title\":\"carrier_price\",\"width\":0},\"id\":\"1292\",\"type\":\"TableColumn\"},{\"attributes\":{\"source\":{\"id\":\"1323\"}},\"id\":\"1388\",\"type\":\"CDSView\"},{\"attributes\":{\"text_align\":\"right\"},\"id\":\"1371\",\"type\":\"NumberFormatter\"},{\"attributes\":{},\"id\":\"1226\",\"type\":\"CellEditor\"},{\"attributes\":{},\"id\":\"1372\",\"type\":\"IntEditor\"},{\"attributes\":{\"editor\":{\"id\":\"1372\"},\"field\":\"first_monday_of_week\",\"formatter\":{\"id\":\"1371\"},\"title\":\"first_monday_of_week\",\"width\":0},\"id\":\"1373\",\"type\":\"TableColumn\"},{\"attributes\":{},\"id\":\"1276\",\"type\":\"IntEditor\"},{\"attributes\":{},\"id\":\"1241\",\"type\":\"IntEditor\"},{\"attributes\":{\"client_comm_id\":\"377adcd560ea48a5a246dba9da297179\",\"comm_id\":\"9a4df2516d79461db0e418d81dd79c7e\",\"plot_id\":\"1221\"},\"id\":\"1453\",\"type\":\"panel.models.comm_manager.CommManager\"},{\"attributes\":{\"text_align\":\"right\"},\"id\":\"1280\",\"type\":\"NumberFormatter\"},{\"attributes\":{\"margin\":[0,0,0,0],\"tabs\":[{\"id\":\"1299\"},{\"id\":\"1322\"},{\"id\":\"1390\"},{\"id\":\"1428\"}]},\"id\":\"1221\",\"type\":\"panel.models.tabs.Tabs\"},{\"attributes\":{\"editor\":{\"id\":\"1286\"},\"field\":\"destination_country\",\"formatter\":{\"id\":\"1285\"},\"title\":\"destination_country\",\"width\":0},\"id\":\"1287\",\"type\":\"TableColumn\"},{\"attributes\":{\"text_align\":\"right\"},\"id\":\"1376\",\"type\":\"NumberFormatter\"},{\"attributes\":{},\"id\":\"1377\",\"type\":\"IntEditor\"},{\"attributes\":{\"editor\":{\"id\":\"1377\"},\"field\":\"total_cost_all_providers\",\"formatter\":{\"id\":\"1376\"},\"title\":\"total_cost_all_providers\",\"width\":0},\"id\":\"1378\",\"type\":\"TableColumn\"},{\"attributes\":{},\"id\":\"1266\",\"type\":\"IntEditor\"},{\"attributes\":{\"data\":{\"date\":[0],\"index\":[0],\"national_price\":[0]},\"selected\":{\"id\":\"1301\"},\"selection_policy\":{\"id\":\"1431\"}},\"id\":\"1300\",\"type\":\"ColumnDataSource\"},{\"attributes\":{\"editor\":{\"id\":\"1261\"},\"field\":\"origin_zip\",\"formatter\":{\"id\":\"1260\"},\"title\":\"origin_zip\",\"width\":0},\"id\":\"1262\",\"type\":\"TableColumn\"},{\"attributes\":{},\"id\":\"1261\",\"type\":\"IntEditor\"},{\"attributes\":{},\"id\":\"1271\",\"type\":\"IntEditor\"},{\"attributes\":{\"text_align\":\"right\"},\"id\":\"1381\",\"type\":\"NumberFormatter\"},{\"attributes\":{},\"id\":\"1382\",\"type\":\"IntEditor\"},{\"attributes\":{\"text_align\":\"right\"},\"id\":\"1240\",\"type\":\"NumberFormatter\"},{\"attributes\":{\"editor\":{\"id\":\"1382\"},\"field\":\"total_distance_all_providers\",\"formatter\":{\"id\":\"1381\"},\"title\":\"total_distance_all_providers\",\"width\":0},\"id\":\"1383\",\"type\":\"TableColumn\"},{\"attributes\":{\"editor\":{\"id\":\"1236\"},\"field\":\"distance\",\"formatter\":{\"id\":\"1235\"},\"title\":\"distance\",\"width\":0},\"id\":\"1237\",\"type\":\"TableColumn\"},{\"attributes\":{\"text_align\":\"left\"},\"id\":\"1393\",\"type\":\"NumberFormatter\"},{\"attributes\":{\"child\":{\"id\":\"1386\"},\"name\":\"market_carrier_rates_data\",\"title\":\"market_carrier_rates_data\"},\"id\":\"1390\",\"type\":\"Panel\"},{\"attributes\":{\"columns\":[{\"id\":\"1396\"},{\"id\":\"1401\"},{\"id\":\"1406\"},{\"id\":\"1411\"},{\"id\":\"1416\"},{\"id\":\"1421\"}],\"editable\":true,\"height\":300,\"index_position\":null,\"margin\":[5,10,5,10],\"name\":\"route_mapping_data\",\"row_height\":40,\"sizing_mode\":\"fixed\",\"source\":{\"id\":\"1391\"},\"view\":{\"id\":\"1426\"},\"width\":300},\"id\":\"1424\",\"type\":\"DataTable\"},{\"attributes\":{\"child\":{\"id\":\"1295\"},\"name\":\"carrier_data\",\"title\":\"carrier_data\"},\"id\":\"1299\",\"type\":\"Panel\"},{\"attributes\":{\"editor\":{\"id\":\"1395\"},\"field\":\"index\",\"formatter\":{\"id\":\"1393\"},\"title\":\"index\",\"width\":0},\"id\":\"1396\",\"type\":\"TableColumn\"},{\"attributes\":{\"editor\":{\"id\":\"1256\"},\"field\":\"origin_state\",\"formatter\":{\"id\":\"1255\"},\"title\":\"origin_state\",\"width\":0},\"id\":\"1257\",\"type\":\"TableColumn\"},{\"attributes\":{\"indices\":[]},\"id\":\"1392\",\"type\":\"Selection\"},{\"attributes\":{\"editor\":{\"id\":\"1251\"},\"field\":\"origin_city\",\"formatter\":{\"id\":\"1250\"},\"title\":\"origin_city\",\"width\":0},\"id\":\"1252\",\"type\":\"TableColumn\"},{\"attributes\":{},\"id\":\"1281\",\"type\":\"IntEditor\"},{\"attributes\":{\"source\":{\"id\":\"1391\"}},\"id\":\"1426\",\"type\":\"CDSView\"},{\"attributes\":{\"indices\":[]},\"id\":\"1223\",\"type\":\"Selection\"},{\"attributes\":{\"editor\":{\"id\":\"1266\"},\"field\":\"origin_country\",\"formatter\":{\"id\":\"1265\"},\"title\":\"origin_country\",\"width\":0},\"id\":\"1267\",\"type\":\"TableColumn\"},{\"attributes\":{},\"id\":\"1395\",\"type\":\"CellEditor\"},{\"attributes\":{\"editor\":{\"id\":\"1271\"},\"field\":\"destination_city\",\"formatter\":{\"id\":\"1270\"},\"title\":\"destination_city\",\"width\":0},\"id\":\"1272\",\"type\":\"TableColumn\"},{\"attributes\":{\"editor\":{\"id\":\"1226\"},\"field\":\"index\",\"formatter\":{\"id\":\"1224\"},\"title\":\"index\",\"width\":0},\"id\":\"1227\",\"type\":\"TableColumn\"},{\"attributes\":{\"text_align\":\"left\"},\"id\":\"1224\",\"type\":\"NumberFormatter\"},{\"attributes\":{\"text_align\":\"right\"},\"id\":\"1399\",\"type\":\"NumberFormatter\"},{\"attributes\":{\"text_align\":\"right\"},\"id\":\"1260\",\"type\":\"NumberFormatter\"},{\"attributes\":{},\"id\":\"1400\",\"type\":\"IntEditor\"},{\"attributes\":{\"editor\":{\"id\":\"1400\"},\"field\":\"reference_state\",\"formatter\":{\"id\":\"1399\"},\"title\":\"reference_state\",\"width\":0},\"id\":\"1401\",\"type\":\"TableColumn\"},{\"attributes\":{\"text_align\":\"right\"},\"id\":\"1331\",\"type\":\"NumberFormatter\"},{\"attributes\":{},\"id\":\"1236\",\"type\":\"IntEditor\"},{\"attributes\":{\"text_align\":\"right\"},\"id\":\"1308\",\"type\":\"NumberFormatter\"},{\"attributes\":{\"editor\":{\"id\":\"1231\"},\"field\":\"trip_id\",\"formatter\":{\"id\":\"1230\"},\"title\":\"trip_id\",\"width\":0},\"id\":\"1232\",\"type\":\"TableColumn\"},{\"attributes\":{\"editor\":{\"id\":\"1337\"},\"field\":\"origin_city\",\"formatter\":{\"id\":\"1336\"},\"title\":\"origin_city\",\"width\":0},\"id\":\"1338\",\"type\":\"TableColumn\"},{\"attributes\":{\"text_align\":\"right\"},\"id\":\"1404\",\"type\":\"NumberFormatter\"},{\"attributes\":{},\"id\":\"1405\",\"type\":\"IntEditor\"},{\"attributes\":{},\"id\":\"1337\",\"type\":\"IntEditor\"},{\"attributes\":{\"text_align\":\"right\"},\"id\":\"1336\",\"type\":\"NumberFormatter\"},{\"attributes\":{\"editor\":{\"id\":\"1405\"},\"field\":\"market_id\",\"formatter\":{\"id\":\"1404\"},\"title\":\"market_id\",\"width\":0},\"id\":\"1406\",\"type\":\"TableColumn\"},{\"attributes\":{\"editor\":{\"id\":\"1332\"},\"field\":\"week_ending_date\",\"formatter\":{\"id\":\"1331\"},\"title\":\"week_ending_date\",\"width\":0},\"id\":\"1333\",\"type\":\"TableColumn\"},{\"attributes\":{\"text_align\":\"right\"},\"id\":\"1409\",\"type\":\"NumberFormatter\"},{\"attributes\":{},\"id\":\"1410\",\"type\":\"IntEditor\"},{\"attributes\":{},\"id\":\"1332\",\"type\":\"IntEditor\"},{\"attributes\":{\"editor\":{\"id\":\"1410\"},\"field\":\"zipcode\",\"formatter\":{\"id\":\"1409\"},\"title\":\"zipcode\",\"width\":0},\"id\":\"1411\",\"type\":\"TableColumn\"},{\"attributes\":{},\"id\":\"1304\",\"type\":\"CellEditor\"},{\"attributes\":{},\"id\":\"1309\",\"type\":\"IntEditor\"},{\"attributes\":{\"text_align\":\"left\"},\"id\":\"1302\",\"type\":\"NumberFormatter\"},{\"attributes\":{\"source\":{\"id\":\"1300\"}},\"id\":\"1320\",\"type\":\"CDSView\"},{\"attributes\":{\"columns\":[{\"id\":\"1305\"},{\"id\":\"1310\"},{\"id\":\"1315\"}],\"editable\":true,\"height\":300,\"index_position\":null,\"margin\":[5,10,5,10],\"name\":\"fuel_prices_data\",\"row_height\":40,\"sizing_mode\":\"fixed\",\"source\":{\"id\":\"1300\"},\"view\":{\"id\":\"1320\"},\"width\":300},\"id\":\"1318\",\"type\":\"DataTable\"},{\"attributes\":{\"text_align\":\"right\"},\"id\":\"1414\",\"type\":\"NumberFormatter\"},{\"attributes\":{},\"id\":\"1415\",\"type\":\"IntEditor\"},{\"attributes\":{\"editor\":{\"id\":\"1309\"},\"field\":\"date\",\"formatter\":{\"id\":\"1308\"},\"title\":\"date\",\"width\":0},\"id\":\"1310\",\"type\":\"TableColumn\"},{\"attributes\":{\"editor\":{\"id\":\"1415\"},\"field\":\"city\",\"formatter\":{\"id\":\"1414\"},\"title\":\"city\",\"width\":0},\"id\":\"1416\",\"type\":\"TableColumn\"},{\"attributes\":{},\"id\":\"1429\",\"type\":\"UnionRenderers\"},{\"attributes\":{\"text_align\":\"right\"},\"id\":\"1419\",\"type\":\"NumberFormatter\"},{\"attributes\":{\"editor\":{\"id\":\"1327\"},\"field\":\"index\",\"formatter\":{\"id\":\"1325\"},\"title\":\"index\",\"width\":0},\"id\":\"1328\",\"type\":\"TableColumn\"},{\"attributes\":{},\"id\":\"1420\",\"type\":\"IntEditor\"},{\"attributes\":{\"indices\":[]},\"id\":\"1324\",\"type\":\"Selection\"},{\"attributes\":{\"editor\":{\"id\":\"1304\"},\"field\":\"index\",\"formatter\":{\"id\":\"1302\"},\"title\":\"index\",\"width\":0},\"id\":\"1305\",\"type\":\"TableColumn\"},{\"attributes\":{\"editor\":{\"id\":\"1420\"},\"field\":\"state\",\"formatter\":{\"id\":\"1419\"},\"title\":\"state\",\"width\":0},\"id\":\"1421\",\"type\":\"TableColumn\"},{\"attributes\":{\"data\":{\"destination_city\":[0],\"destination_state\":[0],\"destination_zip\":[1417],\"first_monday_of_week\":[0],\"index\":[0],\"origin_city\":[0],\"origin_state\":[0],\"origin_zip\":[810],\"total_cost_all_providers\":[0],\"total_distance_all_providers\":[0],\"vehicle_type\":[0],\"week_ending_date\":[0]},\"selected\":{\"id\":\"1324\"},\"selection_policy\":{\"id\":\"1433\"}},\"id\":\"1323\",\"type\":\"ColumnDataSource\"},{\"attributes\":{\"data\":{\"city\":[0],\"index\":[0],\"market_id\":[0],\"reference_state\":[0],\"state\":[0],\"zipcode\":[0]},\"selected\":{\"id\":\"1392\"},\"selection_policy\":{\"id\":\"1435\"}},\"id\":\"1391\",\"type\":\"ColumnDataSource\"},{\"attributes\":{\"editor\":{\"id\":\"1314\"},\"field\":\"national_price\",\"formatter\":{\"id\":\"1313\"},\"title\":\"national_price\",\"width\":0},\"id\":\"1315\",\"type\":\"TableColumn\"},{\"attributes\":{\"text_align\":\"right\"},\"id\":\"1230\",\"type\":\"NumberFormatter\"},{\"attributes\":{},\"id\":\"1314\",\"type\":\"IntEditor\"},{\"attributes\":{\"child\":{\"id\":\"1318\"},\"name\":\"fuel_prices_data\",\"title\":\"fuel_prices_data\"},\"id\":\"1322\",\"type\":\"Panel\"},{\"attributes\":{\"child\":{\"id\":\"1424\"},\"name\":\"route_mapping_data\",\"title\":\"route_mapping_data\"},\"id\":\"1428\",\"type\":\"Panel\"},{\"attributes\":{\"text_align\":\"right\"},\"id\":\"1313\",\"type\":\"NumberFormatter\"},{\"attributes\":{\"text_align\":\"right\"},\"id\":\"1235\",\"type\":\"NumberFormatter\"},{\"attributes\":{},\"id\":\"1431\",\"type\":\"UnionRenderers\"},{\"attributes\":{},\"id\":\"1327\",\"type\":\"CellEditor\"},{\"attributes\":{\"columns\":[{\"id\":\"1328\"},{\"id\":\"1333\"},{\"id\":\"1338\"},{\"id\":\"1343\"},{\"id\":\"1348\"},{\"id\":\"1353\"},{\"id\":\"1358\"},{\"id\":\"1363\"},{\"id\":\"1368\"},{\"id\":\"1373\"},{\"id\":\"1378\"},{\"id\":\"1383\"}],\"editable\":true,\"height\":300,\"index_position\":null,\"margin\":[5,10,5,10],\"name\":\"market_carrier_rates_data\",\"row_height\":40,\"sizing_mode\":\"fixed\",\"source\":{\"id\":\"1323\"},\"view\":{\"id\":\"1388\"},\"width\":300},\"id\":\"1386\",\"type\":\"DataTable\"},{\"attributes\":{\"text_align\":\"left\"},\"id\":\"1325\",\"type\":\"NumberFormatter\"},{\"attributes\":{},\"id\":\"1231\",\"type\":\"IntEditor\"},{\"attributes\":{\"text_align\":\"right\"},\"id\":\"1341\",\"type\":\"NumberFormatter\"},{\"attributes\":{},\"id\":\"1342\",\"type\":\"IntEditor\"},{\"attributes\":{\"editor\":{\"id\":\"1342\"},\"field\":\"origin_state\",\"formatter\":{\"id\":\"1341\"},\"title\":\"origin_state\",\"width\":0},\"id\":\"1343\",\"type\":\"TableColumn\"},{\"attributes\":{\"text_align\":\"right\"},\"id\":\"1346\",\"type\":\"NumberFormatter\"},{\"attributes\":{},\"id\":\"1347\",\"type\":\"IntEditor\"},{\"attributes\":{\"editor\":{\"id\":\"1347\"},\"field\":\"origin_zip\",\"formatter\":{\"id\":\"1346\"},\"title\":\"origin_zip\",\"width\":0},\"id\":\"1348\",\"type\":\"TableColumn\"}],\"root_ids\":[\"1221\",\"1453\"]},\"title\":\"Bokeh Application\",\"version\":\"2.4.3\"}};\n",
       "    var render_items = [{\"docid\":\"68ecd948-e4c6-4bf6-8464-420da9049356\",\"root_ids\":[\"1221\"],\"roots\":{\"1221\":\"4aafe6ce-bff5-44f3-8ae6-034ce9aa893e\"}}];\n",
       "    root.Bokeh.embed.embed_items_notebook(docs_json, render_items);\n",
       "    for (const render_item of render_items) {\n",
       "      for (const root_id of render_item.root_ids) {\n",
       "\tconst id_el = document.getElementById(root_id)\n",
       "\tif (id_el.children.length && (id_el.children[0].className === 'bk-root')) {\n",
       "\t  const root_el = id_el.children[0]\n",
       "\t  root_el.id = root_el.id + '-rendered'\n",
       "\t}\n",
       "      }\n",
       "    }\n",
       "  }\n",
       "  if (root.Bokeh !== undefined && root.Bokeh.Panel !== undefined) {\n",
       "    embed_document(root);\n",
       "  } else {\n",
       "    var attempts = 0;\n",
       "    var timer = setInterval(function(root) {\n",
       "      if (root.Bokeh !== undefined && root.Bokeh.Panel !== undefined) {\n",
       "        clearInterval(timer);\n",
       "        embed_document(root);\n",
       "      } else if (document.readyState == \"complete\") {\n",
       "        attempts++;\n",
       "        if (attempts > 200) {\n",
       "          clearInterval(timer);\n",
       "          console.log(\"Bokeh: ERROR: Unable to run BokehJS code because BokehJS library is missing\");\n",
       "        }\n",
       "      }\n",
       "    }, 25, root)\n",
       "  }\n",
       "})(window);</script>"
      ],
      "text/plain": [
       "Tabs\n",
       "    [0] DataFrame(height=300, name='carrier_data', sizing_mode='fixed', value=   trip_id  distance  ..., width=300)\n",
       "    [1] DataFrame(height=300, name='fuel_prices_data', sizing_mode='fixed', value=   date  national_price\n",
       "0 ..., width=300)\n",
       "    [2] DataFrame(height=300, name='market_carrier_rates_data..., sizing_mode='fixed', value=   week_ending_date  ..., width=300)\n",
       "    [3] DataFrame(height=300, name='route_mapping_data', sizing_mode='fixed', value=   reference_state  ..., width=300)"
      ]
     },
     "execution_count": 21,
     "metadata": {
      "application/vnd.holoviews_exec.v0+json": {
       "id": "1221"
      }
     },
     "output_type": "execute_result"
    }
   ],
   "source": [
    "%%time\n",
    "utils.display_as_tabs([(k, dp.identify_missing_values(v).toPandas()) for k,v in data.items()])"
   ]
  },
  {
   "cell_type": "markdown",
   "metadata": {},
   "source": [
    "## Health Analysis of the data\n",
    "\n",
    "This step generates a set of data analyses that could be useful to showcase to clients.\n",
    "\n",
    "1. % of numerical columns in the data\n",
    "\n",
    "2. % of missing values in the data\n",
    "\n",
    "2. % of duplicated data points"
   ]
  },
  {
   "cell_type": "code",
   "execution_count": 22,
   "metadata": {},
   "outputs": [
    {
     "name": "stderr",
     "output_type": "stream",
     "text": [
      "                                                                                \r"
     ]
    },
    {
     "name": "stdout",
     "output_type": "stream",
     "text": [
      "CPU times: user 1.61 s, sys: 286 ms, total: 1.89 s\n",
      "Wall time: 2min 32s\n"
     ]
    },
    {
     "data": {},
     "metadata": {},
     "output_type": "display_data"
    },
    {
     "data": {},
     "metadata": {},
     "output_type": "display_data"
    },
    {
     "data": {
      "application/vnd.holoviews_exec.v0+json": "",
      "text/html": [
       "<div id='1494'>\n",
       "  <div class=\"bk-root\" id=\"c86b2edd-f74e-4b80-be37-83936df56620\" data-root-id=\"1494\"></div>\n",
       "</div>\n",
       "<script type=\"application/javascript\">(function(root) {\n",
       "  function embed_document(root) {\n",
       "    var docs_json = {\"c946711f-231f-4043-8f3d-a5ec421c8964\":{\"defs\":[{\"extends\":null,\"module\":null,\"name\":\"ReactiveHTML1\",\"overrides\":[],\"properties\":[]},{\"extends\":null,\"module\":null,\"name\":\"FlexBox1\",\"overrides\":[],\"properties\":[{\"default\":\"flex-start\",\"kind\":null,\"name\":\"align_content\"},{\"default\":\"flex-start\",\"kind\":null,\"name\":\"align_items\"},{\"default\":\"row\",\"kind\":null,\"name\":\"flex_direction\"},{\"default\":\"wrap\",\"kind\":null,\"name\":\"flex_wrap\"},{\"default\":\"flex-start\",\"kind\":null,\"name\":\"justify_content\"}]},{\"extends\":null,\"module\":null,\"name\":\"GridStack1\",\"overrides\":[],\"properties\":[{\"default\":\"warn\",\"kind\":null,\"name\":\"mode\"},{\"default\":null,\"kind\":null,\"name\":\"ncols\"},{\"default\":null,\"kind\":null,\"name\":\"nrows\"},{\"default\":true,\"kind\":null,\"name\":\"allow_resize\"},{\"default\":true,\"kind\":null,\"name\":\"allow_drag\"},{\"default\":[],\"kind\":null,\"name\":\"state\"}]},{\"extends\":null,\"module\":null,\"name\":\"click1\",\"overrides\":[],\"properties\":[{\"default\":\"\",\"kind\":null,\"name\":\"terminal_output\"},{\"default\":\"\",\"kind\":null,\"name\":\"debug_name\"},{\"default\":0,\"kind\":null,\"name\":\"clears\"}]},{\"extends\":null,\"module\":null,\"name\":\"NotificationAreaBase1\",\"overrides\":[],\"properties\":[{\"default\":\"bottom-right\",\"kind\":null,\"name\":\"position\"},{\"default\":0,\"kind\":null,\"name\":\"_clear\"}]},{\"extends\":null,\"module\":null,\"name\":\"NotificationArea1\",\"overrides\":[],\"properties\":[{\"default\":[],\"kind\":null,\"name\":\"notifications\"},{\"default\":\"bottom-right\",\"kind\":null,\"name\":\"position\"},{\"default\":0,\"kind\":null,\"name\":\"_clear\"},{\"default\":[{\"background\":\"#ffc107\",\"icon\":{\"className\":\"fas fa-exclamation-triangle\",\"color\":\"white\",\"tagName\":\"i\"},\"type\":\"warning\"},{\"background\":\"#007bff\",\"icon\":{\"className\":\"fas fa-info-circle\",\"color\":\"white\",\"tagName\":\"i\"},\"type\":\"info\"}],\"kind\":null,\"name\":\"types\"}]},{\"extends\":null,\"module\":null,\"name\":\"Notification\",\"overrides\":[],\"properties\":[{\"default\":null,\"kind\":null,\"name\":\"background\"},{\"default\":3000,\"kind\":null,\"name\":\"duration\"},{\"default\":null,\"kind\":null,\"name\":\"icon\"},{\"default\":\"\",\"kind\":null,\"name\":\"message\"},{\"default\":null,\"kind\":null,\"name\":\"notification_type\"},{\"default\":false,\"kind\":null,\"name\":\"_destroyed\"}]},{\"extends\":null,\"module\":null,\"name\":\"TemplateActions1\",\"overrides\":[],\"properties\":[{\"default\":0,\"kind\":null,\"name\":\"open_modal\"},{\"default\":0,\"kind\":null,\"name\":\"close_modal\"}]},{\"extends\":null,\"module\":null,\"name\":\"MaterialTemplateActions1\",\"overrides\":[],\"properties\":[{\"default\":0,\"kind\":null,\"name\":\"open_modal\"},{\"default\":0,\"kind\":null,\"name\":\"close_modal\"}]}],\"roots\":{\"references\":[{\"attributes\":{\"coordinates\":null,\"data_source\":{\"id\":\"1966\"},\"glyph\":{\"id\":\"1969\"},\"group\":null,\"hover_glyph\":null,\"muted_glyph\":{\"id\":\"1971\"},\"nonselection_glyph\":{\"id\":\"1970\"},\"selection_glyph\":{\"id\":\"1986\"},\"view\":{\"id\":\"1973\"}},\"id\":\"1972\",\"type\":\"GlyphRenderer\"},{\"attributes\":{\"factors\":[\"Available\",\"Missing\"],\"palette\":[\"#30a2da\",\"#fc4f30\"]},\"id\":\"2465\",\"type\":\"CategoricalColorMapper\"},{\"attributes\":{},\"id\":\"1541\",\"type\":\"BasicTickFormatter\"},{\"attributes\":{\"fill_alpha\":{\"value\":0.2},\"fill_color\":{\"field\":\"labels\",\"transform\":{\"id\":\"2527\"}},\"hatch_alpha\":{\"value\":0.2},\"hatch_color\":{\"field\":\"labels\",\"transform\":{\"id\":\"2527\"}},\"height\":{\"value\":0.8},\"left\":{\"field\":\"bottom\"},\"line_alpha\":{\"value\":0.2},\"right\":{\"field\":\"top\"},\"y\":{\"field\":\"index\"}},\"id\":\"2533\",\"type\":\"HBar\"},{\"attributes\":{},\"id\":\"2543\",\"type\":\"UnionRenderers\"},{\"attributes\":{},\"id\":\"2379\",\"type\":\"LinearScale\"},{\"attributes\":{},\"id\":\"1514\",\"type\":\"SaveTool\"},{\"attributes\":{},\"id\":\"1976\",\"type\":\"CategoricalTickFormatter\"},{\"attributes\":{\"below\":[{\"id\":\"2383\"}],\"center\":[{\"id\":\"2386\"},{\"id\":\"2389\"},{\"id\":\"2422\"}],\"height\":100,\"left\":[{\"id\":\"2387\"}],\"margin\":null,\"min_border_bottom\":10,\"min_border_left\":10,\"min_border_right\":10,\"min_border_top\":10,\"renderers\":[{\"id\":\"2410\"}],\"right\":[{\"id\":\"2422\"}],\"sizing_mode\":\"fixed\",\"title\":{\"id\":\"2375\"},\"toolbar\":{\"id\":\"2396\"},\"toolbar_location\":null,\"width\":700,\"x_range\":{\"id\":\"1495\"},\"x_scale\":{\"id\":\"2379\"},\"y_range\":{\"id\":\"1496\"},\"y_scale\":{\"id\":\"2381\"}},\"id\":\"2374\",\"subtype\":\"Figure\",\"type\":\"Plot\"},{\"attributes\":{\"axis\":{\"id\":\"1511\"},\"coordinates\":null,\"dimension\":1,\"grid_line_color\":null,\"group\":null,\"ticker\":null},\"id\":\"1513\",\"type\":\"Grid\"},{\"attributes\":{},\"id\":\"1979\",\"type\":\"BasicTickFormatter\"},{\"attributes\":{},\"id\":\"2479\",\"type\":\"BasicTickFormatter\"},{\"attributes\":{\"source\":{\"id\":\"1528\"}},\"id\":\"1535\",\"type\":\"CDSView\"},{\"attributes\":{\"label\":{\"field\":\"labels\"},\"renderers\":[{\"id\":\"1972\"}]},\"id\":\"1985\",\"type\":\"LegendItem\"},{\"attributes\":{\"ticks\":[0]},\"id\":\"2487\",\"type\":\"FixedTicker\"},{\"attributes\":{\"fill_alpha\":{\"value\":0.1},\"fill_color\":{\"field\":\"labels\",\"transform\":{\"id\":\"2527\"}},\"hatch_alpha\":{\"value\":0.1},\"hatch_color\":{\"field\":\"labels\",\"transform\":{\"id\":\"2527\"}},\"height\":{\"value\":0.8},\"left\":{\"field\":\"bottom\"},\"line_alpha\":{\"value\":0.1},\"right\":{\"field\":\"top\"},\"y\":{\"field\":\"index\"}},\"id\":\"2532\",\"type\":\"HBar\"},{\"attributes\":{\"axis\":{\"id\":\"2387\"},\"coordinates\":null,\"dimension\":1,\"grid_line_color\":null,\"group\":null,\"ticker\":null},\"id\":\"2389\",\"type\":\"Grid\"},{\"attributes\":{\"fill_alpha\":{\"value\":0.2},\"fill_color\":{\"field\":\"labels\",\"transform\":{\"id\":\"1527\"}},\"hatch_alpha\":{\"value\":0.2},\"hatch_color\":{\"field\":\"labels\",\"transform\":{\"id\":\"1527\"}},\"height\":{\"value\":0.8},\"left\":{\"field\":\"bottom\"},\"line_alpha\":{\"value\":0.2},\"right\":{\"field\":\"top\"},\"y\":{\"field\":\"index\"}},\"id\":\"1533\",\"type\":\"HBar\"},{\"attributes\":{\"children\":[{\"id\":\"3028\"},{\"id\":\"3026\"}],\"name\":\"route_mapping_data\"},\"id\":\"3029\",\"type\":\"Column\"},{\"attributes\":{\"axis_label\":\"\",\"coordinates\":null,\"formatter\":{\"id\":\"2417\"},\"group\":null,\"major_label_policy\":{\"id\":\"2418\"},\"ticker\":{\"id\":\"2425\"}},\"id\":\"2383\",\"type\":\"LinearAxis\"},{\"attributes\":{},\"id\":\"1503\",\"type\":\"LinearScale\"},{\"attributes\":{},\"id\":\"2518\",\"type\":\"ResetTool\"},{\"attributes\":{},\"id\":\"2480\",\"type\":\"AllLabels\"},{\"attributes\":{},\"id\":\"2394\",\"type\":\"ResetTool\"},{\"attributes\":{},\"id\":\"2477\",\"type\":\"AllLabels\"},{\"attributes\":{\"coordinates\":null,\"group\":null,\"text\":\"duplicate_values\",\"text_color\":\"black\",\"text_font_size\":\"12pt\"},\"id\":\"2499\",\"type\":\"Title\"},{\"attributes\":{\"fill_alpha\":{\"value\":0.2},\"fill_color\":{\"field\":\"labels\",\"transform\":{\"id\":\"1965\"}},\"hatch_alpha\":{\"value\":0.2},\"hatch_color\":{\"field\":\"labels\",\"transform\":{\"id\":\"1965\"}},\"height\":{\"value\":0.8},\"left\":{\"field\":\"bottom\"},\"line_alpha\":{\"value\":0.2},\"right\":{\"field\":\"top\"},\"y\":{\"field\":\"index\"}},\"id\":\"1971\",\"type\":\"HBar\"},{\"attributes\":{\"coordinates\":null,\"group\":null,\"items\":[{\"id\":\"2423\"}],\"location\":[0,0]},\"id\":\"2422\",\"type\":\"Legend\"},{\"attributes\":{},\"id\":\"2476\",\"type\":\"CategoricalTickFormatter\"},{\"attributes\":{},\"id\":\"1505\",\"type\":\"CategoricalScale\"},{\"attributes\":{},\"id\":\"2539\",\"type\":\"AllLabels\"},{\"attributes\":{},\"id\":\"1518\",\"type\":\"ResetTool\"},{\"attributes\":{\"coordinates\":null,\"group\":null,\"items\":[{\"id\":\"1985\"}],\"location\":[0,0]},\"id\":\"1984\",\"type\":\"Legend\"},{\"attributes\":{},\"id\":\"2390\",\"type\":\"SaveTool\"},{\"attributes\":{\"reset_end\":1.0,\"reset_start\":0.0,\"tags\":[[[\"value\",\"value\",null]]]},\"id\":\"1495\",\"type\":\"Range1d\"},{\"attributes\":{\"below\":[{\"id\":\"1507\"}],\"center\":[{\"id\":\"1510\"},{\"id\":\"1513\"},{\"id\":\"1546\"}],\"height\":100,\"left\":[{\"id\":\"1511\"}],\"margin\":null,\"min_border_bottom\":10,\"min_border_left\":10,\"min_border_right\":10,\"min_border_top\":10,\"renderers\":[{\"id\":\"1534\"}],\"right\":[{\"id\":\"1546\"}],\"sizing_mode\":\"fixed\",\"title\":{\"id\":\"1499\"},\"toolbar\":{\"id\":\"1520\"},\"toolbar_location\":null,\"width\":700,\"x_range\":{\"id\":\"1495\"},\"x_scale\":{\"id\":\"1503\"},\"y_range\":{\"id\":\"1496\"},\"y_scale\":{\"id\":\"1505\"}},\"id\":\"1498\",\"subtype\":\"Figure\",\"type\":\"Plot\"},{\"attributes\":{\"coordinates\":null,\"data_source\":{\"id\":\"2404\"},\"glyph\":{\"id\":\"2407\"},\"group\":null,\"hover_glyph\":null,\"muted_glyph\":{\"id\":\"2409\"},\"nonselection_glyph\":{\"id\":\"2408\"},\"selection_glyph\":{\"id\":\"2424\"},\"view\":{\"id\":\"2411\"}},\"id\":\"2410\",\"type\":\"GlyphRenderer\"},{\"attributes\":{\"axis_label\":\"\",\"coordinates\":null,\"formatter\":{\"id\":\"1541\"},\"group\":null,\"major_label_policy\":{\"id\":\"1542\"},\"ticker\":{\"id\":\"1549\"}},\"id\":\"1507\",\"type\":\"LinearAxis\"},{\"attributes\":{\"source\":{\"id\":\"2528\"}},\"id\":\"2535\",\"type\":\"CDSView\"},{\"attributes\":{\"fill_alpha\":{\"value\":0.1},\"fill_color\":{\"field\":\"labels\",\"transform\":{\"id\":\"1965\"}},\"hatch_alpha\":{\"value\":0.1},\"hatch_color\":{\"field\":\"labels\",\"transform\":{\"id\":\"1965\"}},\"height\":{\"value\":0.8},\"left\":{\"field\":\"bottom\"},\"line_alpha\":{\"value\":0.1},\"right\":{\"field\":\"top\"},\"y\":{\"field\":\"index\"}},\"id\":\"1970\",\"type\":\"HBar\"},{\"attributes\":{},\"id\":\"2381\",\"type\":\"CategoricalScale\"},{\"attributes\":{\"fill_alpha\":{\"value\":0.1},\"fill_color\":{\"field\":\"labels\",\"transform\":{\"id\":\"1527\"}},\"hatch_alpha\":{\"value\":0.1},\"hatch_color\":{\"field\":\"labels\",\"transform\":{\"id\":\"1527\"}},\"height\":{\"value\":0.8},\"left\":{\"field\":\"bottom\"},\"line_alpha\":{\"value\":0.1},\"right\":{\"field\":\"top\"},\"y\":{\"field\":\"index\"}},\"id\":\"1532\",\"type\":\"HBar\"},{\"attributes\":{},\"id\":\"2391\",\"type\":\"PanTool\"},{\"attributes\":{\"coordinates\":null,\"group\":null,\"text\":\"data_types\",\"text_color\":\"black\",\"text_font_size\":\"12pt\"},\"id\":\"1499\",\"type\":\"Title\"},{\"attributes\":{\"callback\":null,\"renderers\":[{\"id\":\"2410\"}],\"tags\":[\"hv_created\"],\"tooltips\":[[\"index\",\"@{index}\"],[\"labels\",\"@{labels}\"],[\"value\",\"@{value}\"]]},\"id\":\"2373\",\"type\":\"HoverTool\"},{\"attributes\":{},\"id\":\"1515\",\"type\":\"PanTool\"},{\"attributes\":{},\"id\":\"2388\",\"type\":\"CategoricalTicker\"},{\"attributes\":{\"callback\":null,\"renderers\":[{\"id\":\"1534\"}],\"tags\":[\"hv_created\"],\"tooltips\":[[\"index\",\"@{index}\"],[\"labels\",\"@{labels}\"],[\"value\",\"@{value}\"]]},\"id\":\"1497\",\"type\":\"HoverTool\"},{\"attributes\":{\"overlay\":{\"id\":\"2395\"}},\"id\":\"2393\",\"type\":\"BoxZoomTool\"},{\"attributes\":{},\"id\":\"1538\",\"type\":\"CategoricalTickFormatter\"},{\"attributes\":{\"coordinates\":null,\"group\":null,\"items\":[{\"id\":\"2547\"}],\"location\":[0,0]},\"id\":\"2546\",\"type\":\"Legend\"},{\"attributes\":{\"axis_label\":\"\",\"coordinates\":null,\"formatter\":{\"id\":\"2541\"},\"group\":null,\"major_label_policy\":{\"id\":\"2542\"},\"ticker\":{\"id\":\"2549\"}},\"id\":\"2507\",\"type\":\"LinearAxis\"},{\"attributes\":{},\"id\":\"1512\",\"type\":\"CategoricalTicker\"},{\"attributes\":{\"overlay\":{\"id\":\"1519\"}},\"id\":\"1517\",\"type\":\"BoxZoomTool\"},{\"attributes\":{\"coordinates\":null,\"data_source\":{\"id\":\"2528\"},\"glyph\":{\"id\":\"2531\"},\"group\":null,\"hover_glyph\":null,\"muted_glyph\":{\"id\":\"2533\"},\"nonselection_glyph\":{\"id\":\"2532\"},\"selection_glyph\":{\"id\":\"2548\"},\"view\":{\"id\":\"2535\"}},\"id\":\"2534\",\"type\":\"GlyphRenderer\"},{\"attributes\":{\"axis\":{\"id\":\"2511\"},\"coordinates\":null,\"dimension\":1,\"grid_line_color\":null,\"group\":null,\"ticker\":null},\"id\":\"2513\",\"type\":\"Grid\"},{\"attributes\":{},\"id\":\"1539\",\"type\":\"AllLabels\"},{\"attributes\":{\"coordinates\":null,\"group\":null,\"text\":\"data_types\",\"text_color\":\"black\",\"text_font_size\":\"12pt\"},\"id\":\"2375\",\"type\":\"Title\"},{\"attributes\":{\"toolbars\":[{\"id\":\"2834\"},{\"id\":\"2896\"},{\"id\":\"2958\"}],\"tools\":[{\"id\":\"2811\"},{\"id\":\"2828\"},{\"id\":\"2829\"},{\"id\":\"2830\"},{\"id\":\"2831\"},{\"id\":\"2832\"},{\"id\":\"2873\"},{\"id\":\"2890\"},{\"id\":\"2891\"},{\"id\":\"2892\"},{\"id\":\"2893\"},{\"id\":\"2894\"},{\"id\":\"2935\"},{\"id\":\"2952\"},{\"id\":\"2953\"},{\"id\":\"2954\"},{\"id\":\"2955\"},{\"id\":\"2956\"}]},\"id\":\"3027\",\"type\":\"ProxyToolbar\"},{\"attributes\":{},\"id\":\"2512\",\"type\":\"CategoricalTicker\"},{\"attributes\":{\"tools\":[{\"id\":\"1497\"},{\"id\":\"1514\"},{\"id\":\"1515\"},{\"id\":\"1516\"},{\"id\":\"1517\"},{\"id\":\"1518\"}]},\"id\":\"1520\",\"type\":\"Toolbar\"},{\"attributes\":{},\"id\":\"2529\",\"type\":\"Selection\"},{\"attributes\":{},\"id\":\"1542\",\"type\":\"AllLabels\"},{\"attributes\":{},\"id\":\"2481\",\"type\":\"UnionRenderers\"},{\"attributes\":{\"callback\":null,\"renderers\":[{\"id\":\"2534\"}],\"tags\":[\"hv_created\"],\"tooltips\":[[\"index\",\"@{index}\"],[\"labels\",\"@{labels}\"],[\"value\",\"@{value}\"]]},\"id\":\"2497\",\"type\":\"HoverTool\"},{\"attributes\":{\"label\":{\"field\":\"labels\"},\"renderers\":[{\"id\":\"2534\"}]},\"id\":\"2547\",\"type\":\"LegendItem\"},{\"attributes\":{},\"id\":\"1977\",\"type\":\"AllLabels\"},{\"attributes\":{\"axis_label\":\"\",\"coordinates\":null,\"formatter\":{\"id\":\"2538\"},\"group\":null,\"major_label_policy\":{\"id\":\"2539\"},\"ticker\":{\"id\":\"2512\"}},\"id\":\"2511\",\"type\":\"CategoricalAxis\"},{\"attributes\":{\"factors\":[\"Numeric\",\"Others\"],\"palette\":[\"#30a2da\",\"#fc4f30\"]},\"id\":\"1527\",\"type\":\"CategoricalColorMapper\"},{\"attributes\":{\"factors\":[\"values\"],\"tags\":[[[\"index\",\"index\",null]]]},\"id\":\"1496\",\"type\":\"FactorRange\"},{\"attributes\":{\"tools\":[{\"id\":\"2497\"},{\"id\":\"2514\"},{\"id\":\"2515\"},{\"id\":\"2516\"},{\"id\":\"2517\"},{\"id\":\"2518\"}]},\"id\":\"2520\",\"type\":\"Toolbar\"},{\"attributes\":{},\"id\":\"2405\",\"type\":\"Selection\"},{\"attributes\":{\"source\":{\"id\":\"1966\"}},\"id\":\"1973\",\"type\":\"CDSView\"},{\"attributes\":{\"fill_alpha\":{\"value\":0.2},\"fill_color\":{\"field\":\"labels\",\"transform\":{\"id\":\"2403\"}},\"hatch_alpha\":{\"value\":0.2},\"hatch_color\":{\"field\":\"labels\",\"transform\":{\"id\":\"2403\"}},\"height\":{\"value\":0.8},\"left\":{\"field\":\"bottom\"},\"line_alpha\":{\"value\":0.2},\"right\":{\"field\":\"top\"},\"y\":{\"field\":\"index\"}},\"id\":\"2409\",\"type\":\"HBar\"},{\"attributes\":{\"coordinates\":null,\"group\":null,\"items\":[{\"id\":\"1547\"}],\"location\":[0,0]},\"id\":\"1546\",\"type\":\"Legend\"},{\"attributes\":{\"axis_label\":\"\",\"coordinates\":null,\"formatter\":{\"id\":\"2414\"},\"group\":null,\"major_label_policy\":{\"id\":\"2415\"},\"ticker\":{\"id\":\"2388\"}},\"id\":\"2387\",\"type\":\"CategoricalAxis\"},{\"attributes\":{},\"id\":\"2503\",\"type\":\"LinearScale\"},{\"attributes\":{},\"id\":\"1529\",\"type\":\"Selection\"},{\"attributes\":{\"axis\":{\"id\":\"2383\"},\"coordinates\":null,\"grid_line_color\":null,\"group\":null,\"ticker\":null},\"id\":\"2386\",\"type\":\"Grid\"},{\"attributes\":{\"axis_label\":\"\",\"coordinates\":null,\"formatter\":{\"id\":\"1538\"},\"group\":null,\"major_label_policy\":{\"id\":\"1539\"},\"ticker\":{\"id\":\"1512\"}},\"id\":\"1511\",\"type\":\"CategoricalAxis\"},{\"attributes\":{\"overlay\":{\"id\":\"2519\"}},\"id\":\"2517\",\"type\":\"BoxZoomTool\"},{\"attributes\":{\"axis\":{\"id\":\"1507\"},\"coordinates\":null,\"grid_line_color\":null,\"group\":null,\"ticker\":null},\"id\":\"1510\",\"type\":\"Grid\"},{\"attributes\":{},\"id\":\"2515\",\"type\":\"PanTool\"},{\"attributes\":{\"bottom_units\":\"screen\",\"coordinates\":null,\"fill_alpha\":0.5,\"fill_color\":\"lightgrey\",\"group\":null,\"left_units\":\"screen\",\"level\":\"overlay\",\"line_alpha\":1.0,\"line_color\":\"black\",\"line_dash\":[4,4],\"line_width\":2,\"right_units\":\"screen\",\"syncable\":false,\"top_units\":\"screen\"},\"id\":\"2395\",\"type\":\"BoxAnnotation\"},{\"attributes\":{\"below\":[{\"id\":\"2507\"}],\"center\":[{\"id\":\"2510\"},{\"id\":\"2513\"},{\"id\":\"2546\"}],\"height\":100,\"left\":[{\"id\":\"2511\"}],\"margin\":null,\"min_border_bottom\":10,\"min_border_left\":10,\"min_border_right\":10,\"min_border_top\":10,\"renderers\":[{\"id\":\"2534\"}],\"right\":[{\"id\":\"2546\"}],\"sizing_mode\":\"fixed\",\"title\":{\"id\":\"2499\"},\"toolbar\":{\"id\":\"2520\"},\"toolbar_location\":null,\"width\":700,\"x_range\":{\"id\":\"1495\"},\"x_scale\":{\"id\":\"2503\"},\"y_range\":{\"id\":\"1496\"},\"y_scale\":{\"id\":\"2505\"}},\"id\":\"2498\",\"subtype\":\"Figure\",\"type\":\"Plot\"},{\"attributes\":{\"axis\":{\"id\":\"2507\"},\"coordinates\":null,\"grid_line_color\":null,\"group\":null,\"ticker\":null},\"id\":\"2510\",\"type\":\"Grid\"},{\"attributes\":{\"bottom_units\":\"screen\",\"coordinates\":null,\"fill_alpha\":0.5,\"fill_color\":\"lightgrey\",\"group\":null,\"left_units\":\"screen\",\"level\":\"overlay\",\"line_alpha\":1.0,\"line_color\":\"black\",\"line_dash\":[4,4],\"line_width\":2,\"right_units\":\"screen\",\"syncable\":false,\"top_units\":\"screen\"},\"id\":\"1519\",\"type\":\"BoxAnnotation\"},{\"attributes\":{\"label\":{\"field\":\"labels\"},\"renderers\":[{\"id\":\"1534\"}]},\"id\":\"1547\",\"type\":\"LegendItem\"},{\"attributes\":{\"factors\":[\"Numeric\",\"Others\"],\"palette\":[\"#30a2da\",\"#fc4f30\"]},\"id\":\"1965\",\"type\":\"CategoricalColorMapper\"},{\"attributes\":{},\"id\":\"2392\",\"type\":\"WheelZoomTool\"},{\"attributes\":{},\"id\":\"1516\",\"type\":\"WheelZoomTool\"},{\"attributes\":{\"fill_alpha\":{\"value\":1.0},\"fill_color\":{\"field\":\"labels\",\"transform\":{\"id\":\"2903\"}},\"hatch_alpha\":{\"value\":1.0},\"hatch_color\":{\"field\":\"labels\",\"transform\":{\"id\":\"2903\"}},\"hatch_scale\":{\"value\":12.0},\"hatch_weight\":{\"value\":1.0},\"height\":{\"value\":0.8},\"left\":{\"field\":\"bottom\"},\"line_alpha\":{\"value\":1.0},\"line_cap\":{\"value\":\"butt\"},\"line_color\":{\"value\":\"black\"},\"line_dash\":{\"value\":[]},\"line_dash_offset\":{\"value\":0},\"line_join\":{\"value\":\"bevel\"},\"line_width\":{\"value\":1},\"right\":{\"field\":\"top\"},\"y\":{\"field\":\"index\"}},\"id\":\"2924\",\"type\":\"HBar\"},{\"attributes\":{\"bottom_units\":\"screen\",\"coordinates\":null,\"fill_alpha\":0.5,\"fill_color\":\"lightgrey\",\"group\":null,\"left_units\":\"screen\",\"level\":\"overlay\",\"line_alpha\":1.0,\"line_color\":\"black\",\"line_dash\":[4,4],\"line_width\":2,\"right_units\":\"screen\",\"syncable\":false,\"top_units\":\"screen\"},\"id\":\"2519\",\"type\":\"BoxAnnotation\"},{\"attributes\":{},\"id\":\"2538\",\"type\":\"CategoricalTickFormatter\"},{\"attributes\":{\"toolbar\":{\"id\":\"2589\"},\"toolbar_location\":\"above\"},\"id\":\"2590\",\"type\":\"ToolbarBox\"},{\"attributes\":{\"fill_alpha\":{\"value\":1.0},\"fill_color\":{\"field\":\"labels\",\"transform\":{\"id\":\"2527\"}},\"hatch_alpha\":{\"value\":1.0},\"hatch_color\":{\"field\":\"labels\",\"transform\":{\"id\":\"2527\"}},\"hatch_scale\":{\"value\":12.0},\"hatch_weight\":{\"value\":1.0},\"height\":{\"value\":0.8},\"left\":{\"field\":\"bottom\"},\"line_alpha\":{\"value\":1.0},\"line_cap\":{\"value\":\"butt\"},\"line_color\":{\"value\":\"black\"},\"line_dash\":{\"value\":[]},\"line_dash_offset\":{\"value\":0},\"line_join\":{\"value\":\"bevel\"},\"line_width\":{\"value\":1},\"right\":{\"field\":\"top\"},\"y\":{\"field\":\"index\"}},\"id\":\"2548\",\"type\":\"HBar\"},{\"attributes\":{},\"id\":\"2542\",\"type\":\"AllLabels\"},{\"attributes\":{},\"id\":\"2541\",\"type\":\"BasicTickFormatter\"},{\"attributes\":{},\"id\":\"1543\",\"type\":\"UnionRenderers\"},{\"attributes\":{\"label\":{\"field\":\"labels\"},\"renderers\":[{\"id\":\"2410\"}]},\"id\":\"2423\",\"type\":\"LegendItem\"},{\"attributes\":{\"coordinates\":null,\"data_source\":{\"id\":\"1528\"},\"glyph\":{\"id\":\"1531\"},\"group\":null,\"hover_glyph\":null,\"muted_glyph\":{\"id\":\"1533\"},\"nonselection_glyph\":{\"id\":\"1532\"},\"selection_glyph\":{\"id\":\"1548\"},\"view\":{\"id\":\"1535\"}},\"id\":\"1534\",\"type\":\"GlyphRenderer\"},{\"attributes\":{\"tools\":[{\"id\":\"2373\"},{\"id\":\"2390\"},{\"id\":\"2391\"},{\"id\":\"2392\"},{\"id\":\"2393\"},{\"id\":\"2394\"}]},\"id\":\"2396\",\"type\":\"Toolbar\"},{\"attributes\":{\"fill_color\":{\"field\":\"labels\",\"transform\":{\"id\":\"2527\"}},\"hatch_color\":{\"field\":\"labels\",\"transform\":{\"id\":\"2527\"}},\"height\":{\"value\":0.8},\"left\":{\"field\":\"bottom\"},\"right\":{\"field\":\"top\"},\"y\":{\"field\":\"index\"}},\"id\":\"2531\",\"type\":\"HBar\"},{\"attributes\":{\"factors\":[\"Unique\",\"Duplicated\"],\"palette\":[\"#30a2da\",\"#fc4f30\"]},\"id\":\"2527\",\"type\":\"CategoricalColorMapper\"},{\"attributes\":{\"ticks\":[0]},\"id\":\"2549\",\"type\":\"FixedTicker\"},{\"attributes\":{\"ticks\":[0]},\"id\":\"2925\",\"type\":\"FixedTicker\"},{\"attributes\":{\"source\":{\"id\":\"2404\"}},\"id\":\"2411\",\"type\":\"CDSView\"},{\"attributes\":{},\"id\":\"1980\",\"type\":\"AllLabels\"},{\"attributes\":{\"fill_color\":{\"field\":\"labels\",\"transform\":{\"id\":\"1527\"}},\"hatch_color\":{\"field\":\"labels\",\"transform\":{\"id\":\"1527\"}},\"height\":{\"value\":0.8},\"left\":{\"field\":\"bottom\"},\"right\":{\"field\":\"top\"},\"y\":{\"field\":\"index\"}},\"id\":\"1531\",\"type\":\"HBar\"},{\"attributes\":{},\"id\":\"2514\",\"type\":\"SaveTool\"},{\"attributes\":{},\"id\":\"2516\",\"type\":\"WheelZoomTool\"},{\"attributes\":{\"fill_alpha\":{\"value\":0.1},\"fill_color\":{\"field\":\"labels\",\"transform\":{\"id\":\"2403\"}},\"hatch_alpha\":{\"value\":0.1},\"hatch_color\":{\"field\":\"labels\",\"transform\":{\"id\":\"2403\"}},\"height\":{\"value\":0.8},\"left\":{\"field\":\"bottom\"},\"line_alpha\":{\"value\":0.1},\"right\":{\"field\":\"top\"},\"y\":{\"field\":\"index\"}},\"id\":\"2408\",\"type\":\"HBar\"},{\"attributes\":{},\"id\":\"2505\",\"type\":\"CategoricalScale\"},{\"attributes\":{\"fill_color\":{\"field\":\"labels\",\"transform\":{\"id\":\"2403\"}},\"hatch_color\":{\"field\":\"labels\",\"transform\":{\"id\":\"2403\"}},\"height\":{\"value\":0.8},\"left\":{\"field\":\"bottom\"},\"right\":{\"field\":\"top\"},\"y\":{\"field\":\"index\"}},\"id\":\"2407\",\"type\":\"HBar\"},{\"attributes\":{},\"id\":\"1576\",\"type\":\"SaveTool\"},{\"attributes\":{},\"id\":\"1577\",\"type\":\"PanTool\"},{\"attributes\":{\"factors\":[\"Available\",\"Missing\"],\"palette\":[\"#30a2da\",\"#fc4f30\"]},\"id\":\"1589\",\"type\":\"CategoricalColorMapper\"},{\"attributes\":{},\"id\":\"1578\",\"type\":\"WheelZoomTool\"},{\"attributes\":{\"overlay\":{\"id\":\"1581\"}},\"id\":\"1579\",\"type\":\"BoxZoomTool\"},{\"attributes\":{},\"id\":\"1580\",\"type\":\"ResetTool\"},{\"attributes\":{\"below\":[{\"id\":\"1945\"}],\"center\":[{\"id\":\"1948\"},{\"id\":\"1951\"},{\"id\":\"1984\"}],\"height\":100,\"left\":[{\"id\":\"1949\"}],\"margin\":null,\"min_border_bottom\":10,\"min_border_left\":10,\"min_border_right\":10,\"min_border_top\":10,\"renderers\":[{\"id\":\"1972\"}],\"right\":[{\"id\":\"1984\"}],\"sizing_mode\":\"fixed\",\"title\":{\"id\":\"1937\"},\"toolbar\":{\"id\":\"1958\"},\"toolbar_location\":null,\"width\":700,\"x_range\":{\"id\":\"1495\"},\"x_scale\":{\"id\":\"1941\"},\"y_range\":{\"id\":\"1496\"},\"y_scale\":{\"id\":\"1943\"}},\"id\":\"1936\",\"subtype\":\"Figure\",\"type\":\"Plot\"},{\"attributes\":{\"bottom_units\":\"screen\",\"coordinates\":null,\"fill_alpha\":0.5,\"fill_color\":\"lightgrey\",\"group\":null,\"left_units\":\"screen\",\"level\":\"overlay\",\"line_alpha\":1.0,\"line_color\":\"black\",\"line_dash\":[4,4],\"line_width\":2,\"right_units\":\"screen\",\"syncable\":false,\"top_units\":\"screen\"},\"id\":\"1581\",\"type\":\"BoxAnnotation\"},{\"attributes\":{},\"id\":\"1603\",\"type\":\"BasicTickFormatter\"},{\"attributes\":{\"ticks\":[0]},\"id\":\"1611\",\"type\":\"FixedTicker\"},{\"attributes\":{},\"id\":\"1591\",\"type\":\"Selection\"},{\"attributes\":{},\"id\":\"1636\",\"type\":\"CategoricalTicker\"},{\"attributes\":{},\"id\":\"1642\",\"type\":\"ResetTool\"},{\"attributes\":{},\"id\":\"1604\",\"type\":\"AllLabels\"},{\"attributes\":{\"axis\":{\"id\":\"1949\"},\"coordinates\":null,\"dimension\":1,\"grid_line_color\":null,\"group\":null,\"ticker\":null},\"id\":\"1951\",\"type\":\"Grid\"},{\"attributes\":{},\"id\":\"1601\",\"type\":\"AllLabels\"},{\"attributes\":{\"data\":{\"bottom\":{\"__ndarray__\":\"AAAAAAAAAAAAAAAAAADwPw==\",\"dtype\":\"float64\",\"order\":\"little\",\"shape\":[2]},\"index\":[\"values\",\"values\"],\"labels\":[\"Unique\",\"Duplicated\"],\"top\":{\"__ndarray__\":\"AAAAAAAA8D8AAAAAAADwPw==\",\"dtype\":\"float64\",\"order\":\"little\",\"shape\":[2]},\"value\":{\"__ndarray__\":\"AAAAAAAA8D8AAAAAAAAAAA==\",\"dtype\":\"float64\",\"order\":\"little\",\"shape\":[2]}},\"selected\":{\"id\":\"2967\"},\"selection_policy\":{\"id\":\"2981\"}},\"id\":\"2966\",\"type\":\"ColumnDataSource\"},{\"attributes\":{},\"id\":\"1952\",\"type\":\"SaveTool\"},{\"attributes\":{\"fill_color\":{\"field\":\"labels\",\"transform\":{\"id\":\"1589\"}},\"hatch_color\":{\"field\":\"labels\",\"transform\":{\"id\":\"1589\"}},\"height\":{\"value\":0.8},\"left\":{\"field\":\"bottom\"},\"right\":{\"field\":\"top\"},\"y\":{\"field\":\"index\"}},\"id\":\"1593\",\"type\":\"HBar\"},{\"attributes\":{\"children\":[[{\"id\":\"1936\"},0,0],[{\"id\":\"1998\"},1,0],[{\"id\":\"2060\"},2,0]]},\"id\":\"2150\",\"type\":\"GridBox\"},{\"attributes\":{},\"id\":\"1600\",\"type\":\"CategoricalTickFormatter\"},{\"attributes\":{\"axis_label\":\"\",\"coordinates\":null,\"formatter\":{\"id\":\"1979\"},\"group\":null,\"major_label_policy\":{\"id\":\"1980\"},\"ticker\":{\"id\":\"1987\"}},\"id\":\"1945\",\"type\":\"LinearAxis\"},{\"attributes\":{\"axis_label\":\"\",\"coordinates\":null,\"formatter\":{\"id\":\"2976\"},\"group\":null,\"major_label_policy\":{\"id\":\"2977\"},\"ticker\":{\"id\":\"2950\"}},\"id\":\"2949\",\"type\":\"CategoricalAxis\"},{\"attributes\":{\"fill_alpha\":{\"value\":1.0},\"fill_color\":{\"field\":\"labels\",\"transform\":{\"id\":\"1589\"}},\"hatch_alpha\":{\"value\":1.0},\"hatch_color\":{\"field\":\"labels\",\"transform\":{\"id\":\"1589\"}},\"hatch_scale\":{\"value\":12.0},\"hatch_weight\":{\"value\":1.0},\"height\":{\"value\":0.8},\"left\":{\"field\":\"bottom\"},\"line_alpha\":{\"value\":1.0},\"line_cap\":{\"value\":\"butt\"},\"line_color\":{\"value\":\"black\"},\"line_dash\":{\"value\":[]},\"line_dash_offset\":{\"value\":0},\"line_join\":{\"value\":\"bevel\"},\"line_width\":{\"value\":1},\"right\":{\"field\":\"top\"},\"y\":{\"field\":\"index\"}},\"id\":\"1610\",\"type\":\"HBar\"},{\"attributes\":{},\"id\":\"1941\",\"type\":\"LinearScale\"},{\"attributes\":{\"axis\":{\"id\":\"2945\"},\"coordinates\":null,\"grid_line_color\":null,\"group\":null,\"ticker\":null},\"id\":\"2948\",\"type\":\"Grid\"},{\"attributes\":{\"coordinates\":null,\"group\":null,\"text\":\"duplicate_values\",\"text_color\":\"black\",\"text_font_size\":\"12pt\"},\"id\":\"2937\",\"type\":\"Title\"},{\"attributes\":{\"tools\":[{\"id\":\"1559\"},{\"id\":\"1576\"},{\"id\":\"1577\"},{\"id\":\"1578\"},{\"id\":\"1579\"},{\"id\":\"1580\"}]},\"id\":\"1582\",\"type\":\"Toolbar\"},{\"attributes\":{},\"id\":\"1956\",\"type\":\"ResetTool\"},{\"attributes\":{},\"id\":\"2953\",\"type\":\"PanTool\"},{\"attributes\":{\"tools\":[{\"id\":\"1935\"},{\"id\":\"1952\"},{\"id\":\"1953\"},{\"id\":\"1954\"},{\"id\":\"1955\"},{\"id\":\"1956\"}]},\"id\":\"1958\",\"type\":\"Toolbar\"},{\"attributes\":{\"child\":{\"id\":\"3029\"},\"name\":\"route_mapping_data\",\"title\":\"route_mapping_data\"},\"id\":\"3246\",\"type\":\"Panel\"},{\"attributes\":{\"axis\":{\"id\":\"1631\"},\"coordinates\":null,\"grid_line_color\":null,\"group\":null,\"ticker\":null},\"id\":\"1634\",\"type\":\"Grid\"},{\"attributes\":{\"tools\":[{\"id\":\"1621\"},{\"id\":\"1638\"},{\"id\":\"1639\"},{\"id\":\"1640\"},{\"id\":\"1641\"},{\"id\":\"1642\"}]},\"id\":\"1644\",\"type\":\"Toolbar\"},{\"attributes\":{\"callback\":null,\"renderers\":[{\"id\":\"2972\"}],\"tags\":[\"hv_created\"],\"tooltips\":[[\"index\",\"@{index}\"],[\"labels\",\"@{labels}\"],[\"value\",\"@{value}\"]]},\"id\":\"2935\",\"type\":\"HoverTool\"},{\"attributes\":{\"axis\":{\"id\":\"1635\"},\"coordinates\":null,\"dimension\":1,\"grid_line_color\":null,\"group\":null,\"ticker\":null},\"id\":\"1637\",\"type\":\"Grid\"},{\"attributes\":{},\"id\":\"2954\",\"type\":\"WheelZoomTool\"},{\"attributes\":{\"callback\":null,\"renderers\":[{\"id\":\"1658\"}],\"tags\":[\"hv_created\"],\"tooltips\":[[\"index\",\"@{index}\"],[\"labels\",\"@{labels}\"],[\"value\",\"@{value}\"]]},\"id\":\"1621\",\"type\":\"HoverTool\"},{\"attributes\":{},\"id\":\"2443\",\"type\":\"CategoricalScale\"},{\"attributes\":{\"axis_label\":\"\",\"coordinates\":null,\"formatter\":{\"id\":\"2979\"},\"group\":null,\"major_label_policy\":{\"id\":\"2980\"},\"ticker\":{\"id\":\"2987\"}},\"id\":\"2945\",\"type\":\"LinearAxis\"},{\"attributes\":{},\"id\":\"1605\",\"type\":\"UnionRenderers\"},{\"attributes\":{},\"id\":\"1653\",\"type\":\"Selection\"},{\"attributes\":{},\"id\":\"2967\",\"type\":\"Selection\"},{\"attributes\":{\"fill_alpha\":{\"value\":1.0},\"fill_color\":{\"field\":\"labels\",\"transform\":{\"id\":\"2403\"}},\"hatch_alpha\":{\"value\":1.0},\"hatch_color\":{\"field\":\"labels\",\"transform\":{\"id\":\"2403\"}},\"hatch_scale\":{\"value\":12.0},\"hatch_weight\":{\"value\":1.0},\"height\":{\"value\":0.8},\"left\":{\"field\":\"bottom\"},\"line_alpha\":{\"value\":1.0},\"line_cap\":{\"value\":\"butt\"},\"line_color\":{\"value\":\"black\"},\"line_dash\":{\"value\":[]},\"line_dash_offset\":{\"value\":0},\"line_join\":{\"value\":\"bevel\"},\"line_width\":{\"value\":1},\"right\":{\"field\":\"top\"},\"y\":{\"field\":\"index\"}},\"id\":\"2424\",\"type\":\"HBar\"},{\"attributes\":{},\"id\":\"1943\",\"type\":\"CategoricalScale\"},{\"attributes\":{\"label\":{\"field\":\"labels\"},\"renderers\":[{\"id\":\"1596\"}]},\"id\":\"1609\",\"type\":\"LegendItem\"},{\"attributes\":{\"fill_color\":{\"field\":\"labels\",\"transform\":{\"id\":\"1651\"}},\"hatch_color\":{\"field\":\"labels\",\"transform\":{\"id\":\"1651\"}},\"height\":{\"value\":0.8},\"left\":{\"field\":\"bottom\"},\"right\":{\"field\":\"top\"},\"y\":{\"field\":\"index\"}},\"id\":\"1655\",\"type\":\"HBar\"},{\"attributes\":{\"below\":[{\"id\":\"2945\"}],\"center\":[{\"id\":\"2948\"},{\"id\":\"2951\"},{\"id\":\"2984\"}],\"height\":100,\"left\":[{\"id\":\"2949\"}],\"margin\":null,\"min_border_bottom\":10,\"min_border_left\":10,\"min_border_right\":10,\"min_border_top\":10,\"renderers\":[{\"id\":\"2972\"}],\"right\":[{\"id\":\"2984\"}],\"sizing_mode\":\"fixed\",\"title\":{\"id\":\"2937\"},\"toolbar\":{\"id\":\"2958\"},\"toolbar_location\":null,\"width\":700,\"x_range\":{\"id\":\"1495\"},\"x_scale\":{\"id\":\"2941\"},\"y_range\":{\"id\":\"1496\"},\"y_scale\":{\"id\":\"2943\"}},\"id\":\"2936\",\"subtype\":\"Figure\",\"type\":\"Plot\"},{\"attributes\":{},\"id\":\"1953\",\"type\":\"PanTool\"},{\"attributes\":{\"callback\":null,\"renderers\":[{\"id\":\"1972\"}],\"tags\":[\"hv_created\"],\"tooltips\":[[\"index\",\"@{index}\"],[\"labels\",\"@{labels}\"],[\"value\",\"@{value}\"]]},\"id\":\"1935\",\"type\":\"HoverTool\"},{\"attributes\":{\"overlay\":{\"id\":\"1957\"}},\"id\":\"1955\",\"type\":\"BoxZoomTool\"},{\"attributes\":{\"axis_label\":\"\",\"coordinates\":null,\"formatter\":{\"id\":\"1665\"},\"group\":null,\"major_label_policy\":{\"id\":\"1666\"},\"ticker\":{\"id\":\"1673\"}},\"id\":\"1631\",\"type\":\"LinearAxis\"},{\"attributes\":{\"coordinates\":null,\"group\":null,\"text\":\"missing\",\"text_color\":\"black\",\"text_font_size\":\"12pt\"},\"id\":\"2437\",\"type\":\"Title\"},{\"attributes\":{},\"id\":\"1950\",\"type\":\"CategoricalTicker\"},{\"attributes\":{\"ticks\":[0]},\"id\":\"2425\",\"type\":\"FixedTicker\"},{\"attributes\":{\"coordinates\":null,\"group\":null,\"text\":\"data_types\",\"text_color\":\"black\",\"text_font_size\":\"12pt\"},\"id\":\"1937\",\"type\":\"Title\"},{\"attributes\":{},\"id\":\"2956\",\"type\":\"ResetTool\"},{\"attributes\":{\"below\":[{\"id\":\"1631\"}],\"center\":[{\"id\":\"1634\"},{\"id\":\"1637\"},{\"id\":\"1670\"}],\"height\":100,\"left\":[{\"id\":\"1635\"}],\"margin\":null,\"min_border_bottom\":10,\"min_border_left\":10,\"min_border_right\":10,\"min_border_top\":10,\"renderers\":[{\"id\":\"1658\"}],\"right\":[{\"id\":\"1670\"}],\"sizing_mode\":\"fixed\",\"title\":{\"id\":\"1623\"},\"toolbar\":{\"id\":\"1644\"},\"toolbar_location\":null,\"width\":700,\"x_range\":{\"id\":\"1495\"},\"x_scale\":{\"id\":\"1627\"},\"y_range\":{\"id\":\"1496\"},\"y_scale\":{\"id\":\"1629\"}},\"id\":\"1622\",\"subtype\":\"Figure\",\"type\":\"Plot\"},{\"attributes\":{\"axis_label\":\"\",\"coordinates\":null,\"formatter\":{\"id\":\"2479\"},\"group\":null,\"major_label_policy\":{\"id\":\"2480\"},\"ticker\":{\"id\":\"2487\"}},\"id\":\"2445\",\"type\":\"LinearAxis\"},{\"attributes\":{},\"id\":\"1639\",\"type\":\"PanTool\"},{\"attributes\":{\"data\":{\"bottom\":{\"__ndarray__\":\"AAAAAAAAAAAAAAAAAADgPw==\",\"dtype\":\"float64\",\"order\":\"little\",\"shape\":[2]},\"index\":[\"values\",\"values\"],\"labels\":[\"Numeric\",\"Others\"],\"top\":{\"__ndarray__\":\"AAAAAAAA4D8AAAAAAADwPw==\",\"dtype\":\"float64\",\"order\":\"little\",\"shape\":[2]},\"value\":{\"__ndarray__\":\"AAAAAAAA4D8AAAAAAADgPw==\",\"dtype\":\"float64\",\"order\":\"little\",\"shape\":[2]}},\"selected\":{\"id\":\"1967\"},\"selection_policy\":{\"id\":\"1981\"}},\"id\":\"1966\",\"type\":\"ColumnDataSource\"},{\"attributes\":{\"child\":{\"id\":\"1715\"},\"name\":\"carrier_data\",\"title\":\"carrier_data\"},\"id\":\"1932\",\"type\":\"Panel\"},{\"attributes\":{\"fill_color\":{\"field\":\"labels\",\"transform\":{\"id\":\"1965\"}},\"hatch_color\":{\"field\":\"labels\",\"transform\":{\"id\":\"1965\"}},\"height\":{\"value\":0.8},\"left\":{\"field\":\"bottom\"},\"right\":{\"field\":\"top\"},\"y\":{\"field\":\"index\"}},\"id\":\"1969\",\"type\":\"HBar\"},{\"attributes\":{\"tools\":[{\"id\":\"2935\"},{\"id\":\"2952\"},{\"id\":\"2953\"},{\"id\":\"2954\"},{\"id\":\"2955\"},{\"id\":\"2956\"}]},\"id\":\"2958\",\"type\":\"Toolbar\"},{\"attributes\":{\"bottom_units\":\"screen\",\"coordinates\":null,\"fill_alpha\":0.5,\"fill_color\":\"lightgrey\",\"group\":null,\"left_units\":\"screen\",\"level\":\"overlay\",\"line_alpha\":1.0,\"line_color\":\"black\",\"line_dash\":[4,4],\"line_width\":2,\"right_units\":\"screen\",\"syncable\":false,\"top_units\":\"screen\"},\"id\":\"2957\",\"type\":\"BoxAnnotation\"},{\"attributes\":{\"source\":{\"id\":\"1590\"}},\"id\":\"1597\",\"type\":\"CDSView\"},{\"attributes\":{},\"id\":\"1967\",\"type\":\"Selection\"},{\"attributes\":{\"axis_label\":\"\",\"coordinates\":null,\"formatter\":{\"id\":\"1976\"},\"group\":null,\"major_label_policy\":{\"id\":\"1977\"},\"ticker\":{\"id\":\"1950\"}},\"id\":\"1949\",\"type\":\"CategoricalAxis\"},{\"attributes\":{},\"id\":\"2941\",\"type\":\"LinearScale\"},{\"attributes\":{\"bottom_units\":\"screen\",\"coordinates\":null,\"fill_alpha\":0.5,\"fill_color\":\"lightgrey\",\"group\":null,\"left_units\":\"screen\",\"level\":\"overlay\",\"line_alpha\":1.0,\"line_color\":\"black\",\"line_dash\":[4,4],\"line_width\":2,\"right_units\":\"screen\",\"syncable\":false,\"top_units\":\"screen\"},\"id\":\"1643\",\"type\":\"BoxAnnotation\"},{\"attributes\":{\"axis\":{\"id\":\"1945\"},\"coordinates\":null,\"grid_line_color\":null,\"group\":null,\"ticker\":null},\"id\":\"1948\",\"type\":\"Grid\"},{\"attributes\":{\"coordinates\":null,\"group\":null,\"text\":\"duplicate_values\",\"text_color\":\"black\",\"text_font_size\":\"12pt\"},\"id\":\"1623\",\"type\":\"Title\"},{\"attributes\":{},\"id\":\"2952\",\"type\":\"SaveTool\"},{\"attributes\":{\"below\":[{\"id\":\"2445\"}],\"center\":[{\"id\":\"2448\"},{\"id\":\"2451\"},{\"id\":\"2484\"}],\"height\":100,\"left\":[{\"id\":\"2449\"}],\"margin\":null,\"min_border_bottom\":10,\"min_border_left\":10,\"min_border_right\":10,\"min_border_top\":10,\"renderers\":[{\"id\":\"2472\"}],\"right\":[{\"id\":\"2484\"}],\"sizing_mode\":\"fixed\",\"title\":{\"id\":\"2437\"},\"toolbar\":{\"id\":\"2458\"},\"toolbar_location\":null,\"width\":700,\"x_range\":{\"id\":\"1495\"},\"x_scale\":{\"id\":\"2441\"},\"y_range\":{\"id\":\"1496\"},\"y_scale\":{\"id\":\"2443\"}},\"id\":\"2436\",\"subtype\":\"Figure\",\"type\":\"Plot\"},{\"attributes\":{\"bottom_units\":\"screen\",\"coordinates\":null,\"fill_alpha\":0.5,\"fill_color\":\"lightgrey\",\"group\":null,\"left_units\":\"screen\",\"level\":\"overlay\",\"line_alpha\":1.0,\"line_color\":\"black\",\"line_dash\":[4,4],\"line_width\":2,\"right_units\":\"screen\",\"syncable\":false,\"top_units\":\"screen\"},\"id\":\"1957\",\"type\":\"BoxAnnotation\"},{\"attributes\":{},\"id\":\"2943\",\"type\":\"CategoricalScale\"},{\"attributes\":{\"axis\":{\"id\":\"2445\"},\"coordinates\":null,\"grid_line_color\":null,\"group\":null,\"ticker\":null},\"id\":\"2448\",\"type\":\"Grid\"},{\"attributes\":{\"coordinates\":null,\"data_source\":{\"id\":\"2966\"},\"glyph\":{\"id\":\"2969\"},\"group\":null,\"hover_glyph\":null,\"muted_glyph\":{\"id\":\"2971\"},\"nonselection_glyph\":{\"id\":\"2970\"},\"selection_glyph\":{\"id\":\"2986\"},\"view\":{\"id\":\"2973\"}},\"id\":\"2972\",\"type\":\"GlyphRenderer\"},{\"attributes\":{\"fill_alpha\":{\"value\":0.1},\"fill_color\":{\"field\":\"labels\",\"transform\":{\"id\":\"1589\"}},\"hatch_alpha\":{\"value\":0.1},\"hatch_color\":{\"field\":\"labels\",\"transform\":{\"id\":\"1589\"}},\"height\":{\"value\":0.8},\"left\":{\"field\":\"bottom\"},\"line_alpha\":{\"value\":0.1},\"right\":{\"field\":\"top\"},\"y\":{\"field\":\"index\"}},\"id\":\"1594\",\"type\":\"HBar\"},{\"attributes\":{},\"id\":\"1629\",\"type\":\"CategoricalScale\"},{\"attributes\":{\"overlay\":{\"id\":\"2957\"}},\"id\":\"2955\",\"type\":\"BoxZoomTool\"},{\"attributes\":{\"axis\":{\"id\":\"2949\"},\"coordinates\":null,\"dimension\":1,\"grid_line_color\":null,\"group\":null,\"ticker\":null},\"id\":\"2951\",\"type\":\"Grid\"},{\"attributes\":{},\"id\":\"2450\",\"type\":\"CategoricalTicker\"},{\"attributes\":{},\"id\":\"1954\",\"type\":\"WheelZoomTool\"},{\"attributes\":{\"axis_label\":\"\",\"coordinates\":null,\"formatter\":{\"id\":\"1662\"},\"group\":null,\"major_label_policy\":{\"id\":\"1663\"},\"ticker\":{\"id\":\"1636\"}},\"id\":\"1635\",\"type\":\"CategoricalAxis\"},{\"attributes\":{\"axis_label\":\"\",\"coordinates\":null,\"formatter\":{\"id\":\"2476\"},\"group\":null,\"major_label_policy\":{\"id\":\"2477\"},\"ticker\":{\"id\":\"2450\"}},\"id\":\"2449\",\"type\":\"CategoricalAxis\"},{\"attributes\":{},\"id\":\"1638\",\"type\":\"SaveTool\"},{\"attributes\":{\"callback\":null,\"renderers\":[{\"id\":\"2472\"}],\"tags\":[\"hv_created\"],\"tooltips\":[[\"index\",\"@{index}\"],[\"labels\",\"@{labels}\"],[\"value\",\"@{value}\"]]},\"id\":\"2435\",\"type\":\"HoverTool\"},{\"attributes\":{},\"id\":\"1627\",\"type\":\"LinearScale\"},{\"attributes\":{\"data\":{\"bottom\":{\"__ndarray__\":\"AAAAAAAAAAAWoTmKWv/vPw==\",\"dtype\":\"float64\",\"order\":\"little\",\"shape\":[2]},\"index\":[\"values\",\"values\"],\"labels\":[\"Available\",\"Missing\"],\"top\":{\"__ndarray__\":\"FqE5ilr/7z8AAAAAAADwPw==\",\"dtype\":\"float64\",\"order\":\"little\",\"shape\":[2]},\"value\":{\"__ndarray__\":\"FqE5ilr/7z8YON3LuK4UPw==\",\"dtype\":\"float64\",\"order\":\"little\",\"shape\":[2]}},\"selected\":{\"id\":\"2467\"},\"selection_policy\":{\"id\":\"2481\"}},\"id\":\"2466\",\"type\":\"ColumnDataSource\"},{\"attributes\":{},\"id\":\"2950\",\"type\":\"CategoricalTicker\"},{\"attributes\":{},\"id\":\"2441\",\"type\":\"LinearScale\"},{\"attributes\":{\"data\":{\"bottom\":{\"__ndarray__\":\"AAAAAAAAAAAAAAAAAADwPw==\",\"dtype\":\"float64\",\"order\":\"little\",\"shape\":[2]},\"index\":[\"values\",\"values\"],\"labels\":[\"Unique\",\"Duplicated\"],\"top\":{\"__ndarray__\":\"AAAAAAAA8D8AAAAAAADwPw==\",\"dtype\":\"float64\",\"order\":\"little\",\"shape\":[2]},\"value\":{\"__ndarray__\":\"AAAAAAAA8D8AAAAAAAAAAA==\",\"dtype\":\"float64\",\"order\":\"little\",\"shape\":[2]}},\"selected\":{\"id\":\"1653\"},\"selection_policy\":{\"id\":\"1667\"}},\"id\":\"1652\",\"type\":\"ColumnDataSource\"},{\"attributes\":{},\"id\":\"1640\",\"type\":\"WheelZoomTool\"},{\"attributes\":{\"fill_color\":{\"field\":\"labels\",\"transform\":{\"id\":\"2965\"}},\"hatch_color\":{\"field\":\"labels\",\"transform\":{\"id\":\"2965\"}},\"height\":{\"value\":0.8},\"left\":{\"field\":\"bottom\"},\"right\":{\"field\":\"top\"},\"y\":{\"field\":\"index\"}},\"id\":\"2969\",\"type\":\"HBar\"},{\"attributes\":{\"overlay\":{\"id\":\"1643\"}},\"id\":\"1641\",\"type\":\"BoxZoomTool\"},{\"attributes\":{\"coordinates\":null,\"data_source\":{\"id\":\"1590\"},\"glyph\":{\"id\":\"1593\"},\"group\":null,\"hover_glyph\":null,\"muted_glyph\":{\"id\":\"1595\"},\"nonselection_glyph\":{\"id\":\"1594\"},\"selection_glyph\":{\"id\":\"1610\"},\"view\":{\"id\":\"1597\"}},\"id\":\"1596\",\"type\":\"GlyphRenderer\"},{\"attributes\":{\"axis\":{\"id\":\"2449\"},\"coordinates\":null,\"dimension\":1,\"grid_line_color\":null,\"group\":null,\"ticker\":null},\"id\":\"2451\",\"type\":\"Grid\"},{\"attributes\":{\"fill_alpha\":{\"value\":0.2},\"fill_color\":{\"field\":\"labels\",\"transform\":{\"id\":\"2965\"}},\"hatch_alpha\":{\"value\":0.2},\"hatch_color\":{\"field\":\"labels\",\"transform\":{\"id\":\"2965\"}},\"height\":{\"value\":0.8},\"left\":{\"field\":\"bottom\"},\"line_alpha\":{\"value\":0.2},\"right\":{\"field\":\"top\"},\"y\":{\"field\":\"index\"}},\"id\":\"2971\",\"type\":\"HBar\"},{\"attributes\":{\"fill_alpha\":{\"value\":0.2},\"fill_color\":{\"field\":\"labels\",\"transform\":{\"id\":\"1589\"}},\"hatch_alpha\":{\"value\":0.2},\"hatch_color\":{\"field\":\"labels\",\"transform\":{\"id\":\"1589\"}},\"height\":{\"value\":0.8},\"left\":{\"field\":\"bottom\"},\"line_alpha\":{\"value\":0.2},\"right\":{\"field\":\"top\"},\"y\":{\"field\":\"index\"}},\"id\":\"1595\",\"type\":\"HBar\"},{\"attributes\":{\"fill_alpha\":{\"value\":1.0},\"fill_color\":{\"field\":\"labels\",\"transform\":{\"id\":\"1965\"}},\"hatch_alpha\":{\"value\":1.0},\"hatch_color\":{\"field\":\"labels\",\"transform\":{\"id\":\"1965\"}},\"hatch_scale\":{\"value\":12.0},\"hatch_weight\":{\"value\":1.0},\"height\":{\"value\":0.8},\"left\":{\"field\":\"bottom\"},\"line_alpha\":{\"value\":1.0},\"line_cap\":{\"value\":\"butt\"},\"line_color\":{\"value\":\"black\"},\"line_dash\":{\"value\":[]},\"line_dash_offset\":{\"value\":0},\"line_join\":{\"value\":\"bevel\"},\"line_width\":{\"value\":1},\"right\":{\"field\":\"top\"},\"y\":{\"field\":\"index\"}},\"id\":\"1986\",\"type\":\"HBar\"},{\"attributes\":{\"fill_alpha\":{\"value\":0.1},\"fill_color\":{\"field\":\"labels\",\"transform\":{\"id\":\"2965\"}},\"hatch_alpha\":{\"value\":0.1},\"hatch_color\":{\"field\":\"labels\",\"transform\":{\"id\":\"2965\"}},\"height\":{\"value\":0.8},\"left\":{\"field\":\"bottom\"},\"line_alpha\":{\"value\":0.1},\"right\":{\"field\":\"top\"},\"y\":{\"field\":\"index\"}},\"id\":\"2970\",\"type\":\"HBar\"},{\"attributes\":{\"coordinates\":null,\"group\":null,\"items\":[{\"id\":\"1609\"}],\"location\":[0,0]},\"id\":\"1608\",\"type\":\"Legend\"},{\"attributes\":{},\"id\":\"2005\",\"type\":\"CategoricalScale\"},{\"attributes\":{},\"id\":\"2454\",\"type\":\"WheelZoomTool\"},{\"attributes\":{\"coordinates\":null,\"group\":null,\"text\":\"missing\",\"text_color\":\"black\",\"text_font_size\":\"12pt\"},\"id\":\"2875\",\"type\":\"Title\"},{\"attributes\":{},\"id\":\"2914\",\"type\":\"CategoricalTickFormatter\"},{\"attributes\":{},\"id\":\"2039\",\"type\":\"AllLabels\"},{\"attributes\":{\"axis_label\":\"\",\"coordinates\":null,\"formatter\":{\"id\":\"2917\"},\"group\":null,\"major_label_policy\":{\"id\":\"2918\"},\"ticker\":{\"id\":\"2925\"}},\"id\":\"2883\",\"type\":\"LinearAxis\"},{\"attributes\":{},\"id\":\"2105\",\"type\":\"UnionRenderers\"},{\"attributes\":{\"fill_color\":{\"field\":\"labels\",\"transform\":{\"id\":\"2089\"}},\"hatch_color\":{\"field\":\"labels\",\"transform\":{\"id\":\"2089\"}},\"height\":{\"value\":0.8},\"left\":{\"field\":\"bottom\"},\"right\":{\"field\":\"top\"},\"y\":{\"field\":\"index\"}},\"id\":\"2093\",\"type\":\"HBar\"},{\"attributes\":{},\"id\":\"2891\",\"type\":\"PanTool\"},{\"attributes\":{\"coordinates\":null,\"group\":null,\"text\":\"missing\",\"text_color\":\"black\",\"text_font_size\":\"12pt\"},\"id\":\"1999\",\"type\":\"Title\"},{\"attributes\":{},\"id\":\"2453\",\"type\":\"PanTool\"},{\"attributes\":{\"axis_label\":\"\",\"coordinates\":null,\"formatter\":{\"id\":\"2041\"},\"group\":null,\"major_label_policy\":{\"id\":\"2042\"},\"ticker\":{\"id\":\"2049\"}},\"id\":\"2007\",\"type\":\"LinearAxis\"},{\"attributes\":{\"axis\":{\"id\":\"1573\"},\"coordinates\":null,\"dimension\":1,\"grid_line_color\":null,\"group\":null,\"ticker\":null},\"id\":\"1575\",\"type\":\"Grid\"},{\"attributes\":{},\"id\":\"2452\",\"type\":\"SaveTool\"},{\"attributes\":{\"axis\":{\"id\":\"2883\"},\"coordinates\":null,\"grid_line_color\":null,\"group\":null,\"ticker\":null},\"id\":\"2886\",\"type\":\"Grid\"},{\"attributes\":{\"fill_alpha\":{\"value\":1.0},\"fill_color\":{\"field\":\"labels\",\"transform\":{\"id\":\"2089\"}},\"hatch_alpha\":{\"value\":1.0},\"hatch_color\":{\"field\":\"labels\",\"transform\":{\"id\":\"2089\"}},\"hatch_scale\":{\"value\":12.0},\"hatch_weight\":{\"value\":1.0},\"height\":{\"value\":0.8},\"left\":{\"field\":\"bottom\"},\"line_alpha\":{\"value\":1.0},\"line_cap\":{\"value\":\"butt\"},\"line_color\":{\"value\":\"black\"},\"line_dash\":{\"value\":[]},\"line_dash_offset\":{\"value\":0},\"line_join\":{\"value\":\"bevel\"},\"line_width\":{\"value\":1},\"right\":{\"field\":\"top\"},\"y\":{\"field\":\"index\"}},\"id\":\"2110\",\"type\":\"HBar\"},{\"attributes\":{},\"id\":\"2015\",\"type\":\"PanTool\"},{\"attributes\":{\"fill_alpha\":{\"value\":0.1},\"fill_color\":{\"field\":\"labels\",\"transform\":{\"id\":\"1651\"}},\"hatch_alpha\":{\"value\":0.1},\"hatch_color\":{\"field\":\"labels\",\"transform\":{\"id\":\"1651\"}},\"height\":{\"value\":0.8},\"left\":{\"field\":\"bottom\"},\"line_alpha\":{\"value\":0.1},\"right\":{\"field\":\"top\"},\"y\":{\"field\":\"index\"}},\"id\":\"1656\",\"type\":\"HBar\"},{\"attributes\":{},\"id\":\"2038\",\"type\":\"CategoricalTickFormatter\"},{\"attributes\":{},\"id\":\"2414\",\"type\":\"CategoricalTickFormatter\"},{\"attributes\":{},\"id\":\"2892\",\"type\":\"WheelZoomTool\"},{\"attributes\":{\"overlay\":{\"id\":\"2457\"}},\"id\":\"2455\",\"type\":\"BoxZoomTool\"},{\"attributes\":{\"axis\":{\"id\":\"2007\"},\"coordinates\":null,\"grid_line_color\":null,\"group\":null,\"ticker\":null},\"id\":\"2010\",\"type\":\"Grid\"},{\"attributes\":{\"axis_label\":\"\",\"coordinates\":null,\"formatter\":{\"id\":\"2914\"},\"group\":null,\"major_label_policy\":{\"id\":\"2915\"},\"ticker\":{\"id\":\"2888\"}},\"id\":\"2887\",\"type\":\"CategoricalAxis\"},{\"attributes\":{\"coordinates\":null,\"data_source\":{\"id\":\"2090\"},\"glyph\":{\"id\":\"2093\"},\"group\":null,\"hover_glyph\":null,\"muted_glyph\":{\"id\":\"2095\"},\"nonselection_glyph\":{\"id\":\"2094\"},\"selection_glyph\":{\"id\":\"2110\"},\"view\":{\"id\":\"2097\"}},\"id\":\"2096\",\"type\":\"GlyphRenderer\"},{\"attributes\":{},\"id\":\"2456\",\"type\":\"ResetTool\"},{\"attributes\":{\"axis\":{\"id\":\"2887\"},\"coordinates\":null,\"dimension\":1,\"grid_line_color\":null,\"group\":null,\"ticker\":null},\"id\":\"2889\",\"type\":\"Grid\"},{\"attributes\":{\"below\":[{\"id\":\"2069\"}],\"center\":[{\"id\":\"2072\"},{\"id\":\"2075\"},{\"id\":\"2108\"}],\"height\":100,\"left\":[{\"id\":\"2073\"}],\"margin\":null,\"min_border_bottom\":10,\"min_border_left\":10,\"min_border_right\":10,\"min_border_top\":10,\"renderers\":[{\"id\":\"2096\"}],\"right\":[{\"id\":\"2108\"}],\"sizing_mode\":\"fixed\",\"title\":{\"id\":\"2061\"},\"toolbar\":{\"id\":\"2082\"},\"toolbar_location\":null,\"width\":700,\"x_range\":{\"id\":\"1495\"},\"x_scale\":{\"id\":\"2065\"},\"y_range\":{\"id\":\"1496\"},\"y_scale\":{\"id\":\"2067\"}},\"id\":\"2060\",\"subtype\":\"Figure\",\"type\":\"Plot\"},{\"attributes\":{},\"id\":\"2016\",\"type\":\"WheelZoomTool\"},{\"attributes\":{\"fill_alpha\":{\"value\":0.2},\"fill_color\":{\"field\":\"labels\",\"transform\":{\"id\":\"1651\"}},\"hatch_alpha\":{\"value\":0.2},\"hatch_color\":{\"field\":\"labels\",\"transform\":{\"id\":\"1651\"}},\"height\":{\"value\":0.8},\"left\":{\"field\":\"bottom\"},\"line_alpha\":{\"value\":0.2},\"right\":{\"field\":\"top\"},\"y\":{\"field\":\"index\"}},\"id\":\"1657\",\"type\":\"HBar\"},{\"attributes\":{},\"id\":\"2888\",\"type\":\"CategoricalTicker\"},{\"attributes\":{\"bottom_units\":\"screen\",\"coordinates\":null,\"fill_alpha\":0.5,\"fill_color\":\"lightgrey\",\"group\":null,\"left_units\":\"screen\",\"level\":\"overlay\",\"line_alpha\":1.0,\"line_color\":\"black\",\"line_dash\":[4,4],\"line_width\":2,\"right_units\":\"screen\",\"syncable\":false,\"top_units\":\"screen\"},\"id\":\"2457\",\"type\":\"BoxAnnotation\"},{\"attributes\":{\"axis_label\":\"\",\"coordinates\":null,\"formatter\":{\"id\":\"2038\"},\"group\":null,\"major_label_policy\":{\"id\":\"2039\"},\"ticker\":{\"id\":\"2012\"}},\"id\":\"2011\",\"type\":\"CategoricalAxis\"},{\"attributes\":{\"axis\":{\"id\":\"2011\"},\"coordinates\":null,\"dimension\":1,\"grid_line_color\":null,\"group\":null,\"ticker\":null},\"id\":\"2013\",\"type\":\"Grid\"},{\"attributes\":{\"factors\":[\"Available\",\"Missing\"],\"palette\":[\"#30a2da\",\"#fc4f30\"]},\"id\":\"2027\",\"type\":\"CategoricalColorMapper\"},{\"attributes\":{},\"id\":\"2467\",\"type\":\"Selection\"},{\"attributes\":{},\"id\":\"2012\",\"type\":\"CategoricalTicker\"},{\"attributes\":{\"factors\":[\"Available\",\"Missing\"],\"palette\":[\"#30a2da\",\"#fc4f30\"]},\"id\":\"2903\",\"type\":\"CategoricalColorMapper\"},{\"attributes\":{},\"id\":\"2890\",\"type\":\"SaveTool\"},{\"attributes\":{\"label\":{\"field\":\"labels\"},\"renderers\":[{\"id\":\"2096\"}]},\"id\":\"2109\",\"type\":\"LegendItem\"},{\"attributes\":{},\"id\":\"2014\",\"type\":\"SaveTool\"},{\"attributes\":{\"overlay\":{\"id\":\"2895\"}},\"id\":\"2893\",\"type\":\"BoxZoomTool\"},{\"attributes\":{\"fill_color\":{\"field\":\"labels\",\"transform\":{\"id\":\"2465\"}},\"hatch_color\":{\"field\":\"labels\",\"transform\":{\"id\":\"2465\"}},\"height\":{\"value\":0.8},\"left\":{\"field\":\"bottom\"},\"right\":{\"field\":\"top\"},\"y\":{\"field\":\"index\"}},\"id\":\"2469\",\"type\":\"HBar\"},{\"attributes\":{},\"id\":\"2894\",\"type\":\"ResetTool\"},{\"attributes\":{\"overlay\":{\"id\":\"2019\"}},\"id\":\"2017\",\"type\":\"BoxZoomTool\"},{\"attributes\":{},\"id\":\"2018\",\"type\":\"ResetTool\"},{\"attributes\":{\"bottom_units\":\"screen\",\"coordinates\":null,\"fill_alpha\":0.5,\"fill_color\":\"lightgrey\",\"group\":null,\"left_units\":\"screen\",\"level\":\"overlay\",\"line_alpha\":1.0,\"line_color\":\"black\",\"line_dash\":[4,4],\"line_width\":2,\"right_units\":\"screen\",\"syncable\":false,\"top_units\":\"screen\"},\"id\":\"2895\",\"type\":\"BoxAnnotation\"},{\"attributes\":{},\"id\":\"2915\",\"type\":\"AllLabels\"},{\"attributes\":{},\"id\":\"2101\",\"type\":\"AllLabels\"},{\"attributes\":{},\"id\":\"2905\",\"type\":\"Selection\"},{\"attributes\":{\"bottom_units\":\"screen\",\"coordinates\":null,\"fill_alpha\":0.5,\"fill_color\":\"lightgrey\",\"group\":null,\"left_units\":\"screen\",\"level\":\"overlay\",\"line_alpha\":1.0,\"line_color\":\"black\",\"line_dash\":[4,4],\"line_width\":2,\"right_units\":\"screen\",\"syncable\":false,\"top_units\":\"screen\"},\"id\":\"2019\",\"type\":\"BoxAnnotation\"},{\"attributes\":{\"fill_alpha\":{\"value\":0.2},\"fill_color\":{\"field\":\"labels\",\"transform\":{\"id\":\"2089\"}},\"hatch_alpha\":{\"value\":0.2},\"hatch_color\":{\"field\":\"labels\",\"transform\":{\"id\":\"2089\"}},\"height\":{\"value\":0.8},\"left\":{\"field\":\"bottom\"},\"line_alpha\":{\"value\":0.2},\"right\":{\"field\":\"top\"},\"y\":{\"field\":\"index\"}},\"id\":\"2095\",\"type\":\"HBar\"},{\"attributes\":{\"label\":{\"field\":\"labels\"},\"renderers\":[{\"id\":\"1658\"}]},\"id\":\"1671\",\"type\":\"LegendItem\"},{\"attributes\":{\"fill_alpha\":{\"value\":1.0},\"fill_color\":{\"field\":\"labels\",\"transform\":{\"id\":\"2465\"}},\"hatch_alpha\":{\"value\":1.0},\"hatch_color\":{\"field\":\"labels\",\"transform\":{\"id\":\"2465\"}},\"hatch_scale\":{\"value\":12.0},\"hatch_weight\":{\"value\":1.0},\"height\":{\"value\":0.8},\"left\":{\"field\":\"bottom\"},\"line_alpha\":{\"value\":1.0},\"line_cap\":{\"value\":\"butt\"},\"line_color\":{\"value\":\"black\"},\"line_dash\":{\"value\":[]},\"line_dash_offset\":{\"value\":0},\"line_join\":{\"value\":\"bevel\"},\"line_width\":{\"value\":1},\"right\":{\"field\":\"top\"},\"y\":{\"field\":\"index\"}},\"id\":\"2486\",\"type\":\"HBar\"},{\"attributes\":{},\"id\":\"1663\",\"type\":\"AllLabels\"},{\"attributes\":{},\"id\":\"2918\",\"type\":\"AllLabels\"},{\"attributes\":{\"tools\":[{\"id\":\"2435\"},{\"id\":\"2452\"},{\"id\":\"2453\"},{\"id\":\"2454\"},{\"id\":\"2455\"},{\"id\":\"2456\"}]},\"id\":\"2458\",\"type\":\"Toolbar\"},{\"attributes\":{\"fill_alpha\":{\"value\":1.0},\"fill_color\":{\"field\":\"labels\",\"transform\":{\"id\":\"2027\"}},\"hatch_alpha\":{\"value\":1.0},\"hatch_color\":{\"field\":\"labels\",\"transform\":{\"id\":\"2027\"}},\"hatch_scale\":{\"value\":12.0},\"hatch_weight\":{\"value\":1.0},\"height\":{\"value\":0.8},\"left\":{\"field\":\"bottom\"},\"line_alpha\":{\"value\":1.0},\"line_cap\":{\"value\":\"butt\"},\"line_color\":{\"value\":\"black\"},\"line_dash\":{\"value\":[]},\"line_dash_offset\":{\"value\":0},\"line_join\":{\"value\":\"bevel\"},\"line_width\":{\"value\":1},\"right\":{\"field\":\"top\"},\"y\":{\"field\":\"index\"}},\"id\":\"2048\",\"type\":\"HBar\"},{\"attributes\":{\"coordinates\":null,\"group\":null,\"items\":[{\"id\":\"2109\"}],\"location\":[0,0]},\"id\":\"2108\",\"type\":\"Legend\"},{\"attributes\":{},\"id\":\"2917\",\"type\":\"BasicTickFormatter\"},{\"attributes\":{},\"id\":\"1665\",\"type\":\"BasicTickFormatter\"},{\"attributes\":{},\"id\":\"2415\",\"type\":\"AllLabels\"},{\"attributes\":{\"toolbar\":{\"id\":\"2151\"},\"toolbar_location\":\"above\"},\"id\":\"2152\",\"type\":\"ToolbarBox\"},{\"attributes\":{},\"id\":\"2042\",\"type\":\"AllLabels\"},{\"attributes\":{\"data\":{\"bottom\":{\"__ndarray__\":\"AAAAAAAAAAAAAAAAAADwPw==\",\"dtype\":\"float64\",\"order\":\"little\",\"shape\":[2]},\"index\":[\"values\",\"values\"],\"labels\":[\"Unique\",\"Duplicated\"],\"top\":{\"__ndarray__\":\"AAAAAAAA8D8AAAAAAADwPw==\",\"dtype\":\"float64\",\"order\":\"little\",\"shape\":[2]},\"value\":{\"__ndarray__\":\"AAAAAAAA8D8AAAAAAAAAAA==\",\"dtype\":\"float64\",\"order\":\"little\",\"shape\":[2]}},\"selected\":{\"id\":\"2091\"},\"selection_policy\":{\"id\":\"2105\"}},\"id\":\"2090\",\"type\":\"ColumnDataSource\"},{\"attributes\":{\"coordinates\":null,\"data_source\":{\"id\":\"1652\"},\"glyph\":{\"id\":\"1655\"},\"group\":null,\"hover_glyph\":null,\"muted_glyph\":{\"id\":\"1657\"},\"nonselection_glyph\":{\"id\":\"1656\"},\"selection_glyph\":{\"id\":\"1672\"},\"view\":{\"id\":\"1659\"}},\"id\":\"1658\",\"type\":\"GlyphRenderer\"},{\"attributes\":{\"ticks\":[0]},\"id\":\"2049\",\"type\":\"FixedTicker\"},{\"attributes\":{\"axis\":{\"id\":\"2073\"},\"coordinates\":null,\"dimension\":1,\"grid_line_color\":null,\"group\":null,\"ticker\":null},\"id\":\"2075\",\"type\":\"Grid\"},{\"attributes\":{\"fill_alpha\":{\"value\":0.1},\"fill_color\":{\"field\":\"labels\",\"transform\":{\"id\":\"2089\"}},\"hatch_alpha\":{\"value\":0.1},\"hatch_color\":{\"field\":\"labels\",\"transform\":{\"id\":\"2089\"}},\"height\":{\"value\":0.8},\"left\":{\"field\":\"bottom\"},\"line_alpha\":{\"value\":0.1},\"right\":{\"field\":\"top\"},\"y\":{\"field\":\"index\"}},\"id\":\"2094\",\"type\":\"HBar\"},{\"attributes\":{\"coordinates\":null,\"data_source\":{\"id\":\"2904\"},\"glyph\":{\"id\":\"2907\"},\"group\":null,\"hover_glyph\":null,\"muted_glyph\":{\"id\":\"2909\"},\"nonselection_glyph\":{\"id\":\"2908\"},\"selection_glyph\":{\"id\":\"2924\"},\"view\":{\"id\":\"2911\"}},\"id\":\"2910\",\"type\":\"GlyphRenderer\"},{\"attributes\":{\"label\":{\"field\":\"labels\"},\"renderers\":[{\"id\":\"2034\"}]},\"id\":\"2047\",\"type\":\"LegendItem\"},{\"attributes\":{\"tools\":[{\"id\":\"2873\"},{\"id\":\"2890\"},{\"id\":\"2891\"},{\"id\":\"2892\"},{\"id\":\"2893\"},{\"id\":\"2894\"}]},\"id\":\"2896\",\"type\":\"Toolbar\"},{\"attributes\":{},\"id\":\"2417\",\"type\":\"BasicTickFormatter\"},{\"attributes\":{\"source\":{\"id\":\"2466\"}},\"id\":\"2473\",\"type\":\"CDSView\"},{\"attributes\":{\"label\":{\"field\":\"labels\"},\"renderers\":[{\"id\":\"2472\"}]},\"id\":\"2485\",\"type\":\"LegendItem\"},{\"attributes\":{\"fill_alpha\":{\"value\":0.1},\"fill_color\":{\"field\":\"labels\",\"transform\":{\"id\":\"2903\"}},\"hatch_alpha\":{\"value\":0.1},\"hatch_color\":{\"field\":\"labels\",\"transform\":{\"id\":\"2903\"}},\"height\":{\"value\":0.8},\"left\":{\"field\":\"bottom\"},\"line_alpha\":{\"value\":0.1},\"right\":{\"field\":\"top\"},\"y\":{\"field\":\"index\"}},\"id\":\"2908\",\"type\":\"HBar\"},{\"attributes\":{\"factors\":[\"Numeric\",\"Others\"],\"palette\":[\"#30a2da\",\"#fc4f30\"]},\"id\":\"2403\",\"type\":\"CategoricalColorMapper\"},{\"attributes\":{\"fill_alpha\":{\"value\":0.2},\"fill_color\":{\"field\":\"labels\",\"transform\":{\"id\":\"2027\"}},\"hatch_alpha\":{\"value\":0.2},\"hatch_color\":{\"field\":\"labels\",\"transform\":{\"id\":\"2027\"}},\"height\":{\"value\":0.8},\"left\":{\"field\":\"bottom\"},\"line_alpha\":{\"value\":0.2},\"right\":{\"field\":\"top\"},\"y\":{\"field\":\"index\"}},\"id\":\"2033\",\"type\":\"HBar\"},{\"attributes\":{\"source\":{\"id\":\"2028\"}},\"id\":\"2035\",\"type\":\"CDSView\"},{\"attributes\":{\"fill_alpha\":{\"value\":1.0},\"fill_color\":{\"field\":\"labels\",\"transform\":{\"id\":\"2965\"}},\"hatch_alpha\":{\"value\":1.0},\"hatch_color\":{\"field\":\"labels\",\"transform\":{\"id\":\"2965\"}},\"hatch_scale\":{\"value\":12.0},\"hatch_weight\":{\"value\":1.0},\"height\":{\"value\":0.8},\"left\":{\"field\":\"bottom\"},\"line_alpha\":{\"value\":1.0},\"line_cap\":{\"value\":\"butt\"},\"line_color\":{\"value\":\"black\"},\"line_dash\":{\"value\":[]},\"line_dash_offset\":{\"value\":0},\"line_join\":{\"value\":\"bevel\"},\"line_width\":{\"value\":1},\"right\":{\"field\":\"top\"},\"y\":{\"field\":\"index\"}},\"id\":\"2986\",\"type\":\"HBar\"},{\"attributes\":{},\"id\":\"2043\",\"type\":\"UnionRenderers\"},{\"attributes\":{},\"id\":\"2879\",\"type\":\"LinearScale\"},{\"attributes\":{},\"id\":\"2919\",\"type\":\"UnionRenderers\"},{\"attributes\":{\"source\":{\"id\":\"2090\"}},\"id\":\"2097\",\"type\":\"CDSView\"},{\"attributes\":{\"coordinates\":null,\"data_source\":{\"id\":\"2028\"},\"glyph\":{\"id\":\"2031\"},\"group\":null,\"hover_glyph\":null,\"muted_glyph\":{\"id\":\"2033\"},\"nonselection_glyph\":{\"id\":\"2032\"},\"selection_glyph\":{\"id\":\"2048\"},\"view\":{\"id\":\"2035\"}},\"id\":\"2034\",\"type\":\"GlyphRenderer\"},{\"attributes\":{\"fill_alpha\":{\"value\":0.2},\"fill_color\":{\"field\":\"labels\",\"transform\":{\"id\":\"2465\"}},\"hatch_alpha\":{\"value\":0.2},\"hatch_color\":{\"field\":\"labels\",\"transform\":{\"id\":\"2465\"}},\"height\":{\"value\":0.8},\"left\":{\"field\":\"bottom\"},\"line_alpha\":{\"value\":0.2},\"right\":{\"field\":\"top\"},\"y\":{\"field\":\"index\"}},\"id\":\"2471\",\"type\":\"HBar\"},{\"attributes\":{\"fill_alpha\":{\"value\":1.0},\"fill_color\":{\"field\":\"labels\",\"transform\":{\"id\":\"2841\"}},\"hatch_alpha\":{\"value\":1.0},\"hatch_color\":{\"field\":\"labels\",\"transform\":{\"id\":\"2841\"}},\"hatch_scale\":{\"value\":12.0},\"hatch_weight\":{\"value\":1.0},\"height\":{\"value\":0.8},\"left\":{\"field\":\"bottom\"},\"line_alpha\":{\"value\":1.0},\"line_cap\":{\"value\":\"butt\"},\"line_color\":{\"value\":\"black\"},\"line_dash\":{\"value\":[]},\"line_dash_offset\":{\"value\":0},\"line_join\":{\"value\":\"bevel\"},\"line_width\":{\"value\":1},\"right\":{\"field\":\"top\"},\"y\":{\"field\":\"index\"}},\"id\":\"2862\",\"type\":\"HBar\"},{\"attributes\":{},\"id\":\"2418\",\"type\":\"AllLabels\"},{\"attributes\":{\"ticks\":[0]},\"id\":\"2987\",\"type\":\"FixedTicker\"},{\"attributes\":{\"ticks\":[0]},\"id\":\"2111\",\"type\":\"FixedTicker\"},{\"attributes\":{\"fill_alpha\":{\"value\":0.1},\"fill_color\":{\"field\":\"labels\",\"transform\":{\"id\":\"2027\"}},\"hatch_alpha\":{\"value\":0.1},\"hatch_color\":{\"field\":\"labels\",\"transform\":{\"id\":\"2027\"}},\"height\":{\"value\":0.8},\"left\":{\"field\":\"bottom\"},\"line_alpha\":{\"value\":0.1},\"right\":{\"field\":\"top\"},\"y\":{\"field\":\"index\"}},\"id\":\"2032\",\"type\":\"HBar\"},{\"attributes\":{},\"id\":\"2103\",\"type\":\"BasicTickFormatter\"},{\"attributes\":{\"margin\":[0,0,0,0],\"tabs\":[{\"id\":\"1932\"},{\"id\":\"2370\"},{\"id\":\"2808\"},{\"id\":\"3246\"}]},\"id\":\"1494\",\"type\":\"panel.models.tabs.Tabs\"},{\"attributes\":{\"toolbars\":[{\"id\":\"2396\"},{\"id\":\"2458\"},{\"id\":\"2520\"}],\"tools\":[{\"id\":\"2373\"},{\"id\":\"2390\"},{\"id\":\"2391\"},{\"id\":\"2392\"},{\"id\":\"2393\"},{\"id\":\"2394\"},{\"id\":\"2435\"},{\"id\":\"2452\"},{\"id\":\"2453\"},{\"id\":\"2454\"},{\"id\":\"2455\"},{\"id\":\"2456\"},{\"id\":\"2497\"},{\"id\":\"2514\"},{\"id\":\"2515\"},{\"id\":\"2516\"},{\"id\":\"2517\"},{\"id\":\"2518\"}]},\"id\":\"2589\",\"type\":\"ProxyToolbar\"},{\"attributes\":{\"source\":{\"id\":\"1652\"}},\"id\":\"1659\",\"type\":\"CDSView\"},{\"attributes\":{\"ticks\":[0]},\"id\":\"2863\",\"type\":\"FixedTicker\"},{\"attributes\":{},\"id\":\"2074\",\"type\":\"CategoricalTicker\"},{\"attributes\":{},\"id\":\"2104\",\"type\":\"AllLabels\"},{\"attributes\":{\"toolbar\":{\"id\":\"1713\"},\"toolbar_location\":\"above\"},\"id\":\"1714\",\"type\":\"ToolbarBox\"},{\"attributes\":{\"data\":{\"bottom\":{\"__ndarray__\":\"AAAAAAAAAAB00UUXXXTRPw==\",\"dtype\":\"float64\",\"order\":\"little\",\"shape\":[2]},\"index\":[\"values\",\"values\"],\"labels\":[\"Numeric\",\"Others\"],\"top\":{\"__ndarray__\":\"dNFFF1100T8AAAAAAADwPw==\",\"dtype\":\"float64\",\"order\":\"little\",\"shape\":[2]},\"value\":{\"__ndarray__\":\"dNFFF1100T9GF1100UXnPw==\",\"dtype\":\"float64\",\"order\":\"little\",\"shape\":[2]}},\"selected\":{\"id\":\"2405\"},\"selection_policy\":{\"id\":\"2419\"}},\"id\":\"2404\",\"type\":\"ColumnDataSource\"},{\"attributes\":{\"factors\":[\"Unique\",\"Duplicated\"],\"palette\":[\"#30a2da\",\"#fc4f30\"]},\"id\":\"2089\",\"type\":\"CategoricalColorMapper\"},{\"attributes\":{},\"id\":\"1662\",\"type\":\"CategoricalTickFormatter\"},{\"attributes\":{\"axis_label\":\"\",\"coordinates\":null,\"formatter\":{\"id\":\"2100\"},\"group\":null,\"major_label_policy\":{\"id\":\"2101\"},\"ticker\":{\"id\":\"2074\"}},\"id\":\"2073\",\"type\":\"CategoricalAxis\"},{\"attributes\":{},\"id\":\"1666\",\"type\":\"AllLabels\"},{\"attributes\":{\"tools\":[{\"id\":\"1997\"},{\"id\":\"2014\"},{\"id\":\"2015\"},{\"id\":\"2016\"},{\"id\":\"2017\"},{\"id\":\"2018\"}]},\"id\":\"2020\",\"type\":\"Toolbar\"},{\"attributes\":{\"coordinates\":null,\"group\":null,\"items\":[{\"id\":\"1671\"}],\"location\":[0,0]},\"id\":\"1670\",\"type\":\"Legend\"},{\"attributes\":{},\"id\":\"2078\",\"type\":\"WheelZoomTool\"},{\"attributes\":{},\"id\":\"2419\",\"type\":\"UnionRenderers\"},{\"attributes\":{\"children\":[[{\"id\":\"2374\"},0,0],[{\"id\":\"2436\"},1,0],[{\"id\":\"2498\"},2,0]]},\"id\":\"2588\",\"type\":\"GridBox\"},{\"attributes\":{\"factors\":[\"Unique\",\"Duplicated\"],\"palette\":[\"#30a2da\",\"#fc4f30\"]},\"id\":\"1651\",\"type\":\"CategoricalColorMapper\"},{\"attributes\":{},\"id\":\"2100\",\"type\":\"CategoricalTickFormatter\"},{\"attributes\":{},\"id\":\"2091\",\"type\":\"Selection\"},{\"attributes\":{\"source\":{\"id\":\"2904\"}},\"id\":\"2911\",\"type\":\"CDSView\"},{\"attributes\":{},\"id\":\"2029\",\"type\":\"Selection\"},{\"attributes\":{\"coordinates\":null,\"group\":null,\"items\":[{\"id\":\"2923\"}],\"location\":[0,0]},\"id\":\"2922\",\"type\":\"Legend\"},{\"attributes\":{\"children\":[[{\"id\":\"1498\"},0,0],[{\"id\":\"1560\"},1,0],[{\"id\":\"1622\"},2,0]]},\"id\":\"1712\",\"type\":\"GridBox\"},{\"attributes\":{\"coordinates\":null,\"group\":null,\"items\":[{\"id\":\"2047\"}],\"location\":[0,0]},\"id\":\"2046\",\"type\":\"Legend\"},{\"attributes\":{\"overlay\":{\"id\":\"2081\"}},\"id\":\"2079\",\"type\":\"BoxZoomTool\"},{\"attributes\":{\"toolbars\":[{\"id\":\"1958\"},{\"id\":\"2020\"},{\"id\":\"2082\"}],\"tools\":[{\"id\":\"1935\"},{\"id\":\"1952\"},{\"id\":\"1953\"},{\"id\":\"1954\"},{\"id\":\"1955\"},{\"id\":\"1956\"},{\"id\":\"1997\"},{\"id\":\"2014\"},{\"id\":\"2015\"},{\"id\":\"2016\"},{\"id\":\"2017\"},{\"id\":\"2018\"},{\"id\":\"2059\"},{\"id\":\"2076\"},{\"id\":\"2077\"},{\"id\":\"2078\"},{\"id\":\"2079\"},{\"id\":\"2080\"}]},\"id\":\"2151\",\"type\":\"ProxyToolbar\"},{\"attributes\":{\"fill_alpha\":{\"value\":0.2},\"fill_color\":{\"field\":\"labels\",\"transform\":{\"id\":\"2903\"}},\"hatch_alpha\":{\"value\":0.2},\"hatch_color\":{\"field\":\"labels\",\"transform\":{\"id\":\"2903\"}},\"height\":{\"value\":0.8},\"left\":{\"field\":\"bottom\"},\"line_alpha\":{\"value\":0.2},\"right\":{\"field\":\"top\"},\"y\":{\"field\":\"index\"}},\"id\":\"2909\",\"type\":\"HBar\"},{\"attributes\":{},\"id\":\"2881\",\"type\":\"CategoricalScale\"},{\"attributes\":{},\"id\":\"2077\",\"type\":\"PanTool\"},{\"attributes\":{\"data\":{\"bottom\":{\"__ndarray__\":\"AAAAAAAAAAAAAAAAAADwPw==\",\"dtype\":\"float64\",\"order\":\"little\",\"shape\":[2]},\"index\":[\"values\",\"values\"],\"labels\":[\"Unique\",\"Duplicated\"],\"top\":{\"__ndarray__\":\"AAAAAAAA8D8AAAAAAADwPw==\",\"dtype\":\"float64\",\"order\":\"little\",\"shape\":[2]},\"value\":{\"__ndarray__\":\"AAAAAAAA8D8AAAAAAAAAAA==\",\"dtype\":\"float64\",\"order\":\"little\",\"shape\":[2]}},\"selected\":{\"id\":\"2529\"},\"selection_policy\":{\"id\":\"2543\"}},\"id\":\"2528\",\"type\":\"ColumnDataSource\"},{\"attributes\":{},\"id\":\"2067\",\"type\":\"CategoricalScale\"},{\"attributes\":{\"below\":[{\"id\":\"2883\"}],\"center\":[{\"id\":\"2886\"},{\"id\":\"2889\"},{\"id\":\"2922\"}],\"height\":100,\"left\":[{\"id\":\"2887\"}],\"margin\":null,\"min_border_bottom\":10,\"min_border_left\":10,\"min_border_right\":10,\"min_border_top\":10,\"renderers\":[{\"id\":\"2910\"}],\"right\":[{\"id\":\"2922\"}],\"sizing_mode\":\"fixed\",\"title\":{\"id\":\"2875\"},\"toolbar\":{\"id\":\"2896\"},\"toolbar_location\":null,\"width\":700,\"x_range\":{\"id\":\"1495\"},\"x_scale\":{\"id\":\"2879\"},\"y_range\":{\"id\":\"1496\"},\"y_scale\":{\"id\":\"2881\"}},\"id\":\"2874\",\"subtype\":\"Figure\",\"type\":\"Plot\"},{\"attributes\":{},\"id\":\"2080\",\"type\":\"ResetTool\"},{\"attributes\":{\"coordinates\":null,\"data_source\":{\"id\":\"2466\"},\"glyph\":{\"id\":\"2469\"},\"group\":null,\"hover_glyph\":null,\"muted_glyph\":{\"id\":\"2471\"},\"nonselection_glyph\":{\"id\":\"2470\"},\"selection_glyph\":{\"id\":\"2486\"},\"view\":{\"id\":\"2473\"}},\"id\":\"2472\",\"type\":\"GlyphRenderer\"},{\"attributes\":{\"callback\":null,\"renderers\":[{\"id\":\"2910\"}],\"tags\":[\"hv_created\"],\"tooltips\":[[\"index\",\"@{index}\"],[\"labels\",\"@{labels}\"],[\"value\",\"@{value}\"]]},\"id\":\"2873\",\"type\":\"HoverTool\"},{\"attributes\":{\"fill_color\":{\"field\":\"labels\",\"transform\":{\"id\":\"2903\"}},\"hatch_color\":{\"field\":\"labels\",\"transform\":{\"id\":\"2903\"}},\"height\":{\"value\":0.8},\"left\":{\"field\":\"bottom\"},\"right\":{\"field\":\"top\"},\"y\":{\"field\":\"index\"}},\"id\":\"2907\",\"type\":\"HBar\"},{\"attributes\":{\"tools\":[{\"id\":\"2059\"},{\"id\":\"2076\"},{\"id\":\"2077\"},{\"id\":\"2078\"},{\"id\":\"2079\"},{\"id\":\"2080\"}]},\"id\":\"2082\",\"type\":\"Toolbar\"},{\"attributes\":{\"fill_color\":{\"field\":\"labels\",\"transform\":{\"id\":\"2027\"}},\"hatch_color\":{\"field\":\"labels\",\"transform\":{\"id\":\"2027\"}},\"height\":{\"value\":0.8},\"left\":{\"field\":\"bottom\"},\"right\":{\"field\":\"top\"},\"y\":{\"field\":\"index\"}},\"id\":\"2031\",\"type\":\"HBar\"},{\"attributes\":{\"data\":{\"bottom\":{\"__ndarray__\":\"AAAAAAAAAAAUO7ETO7HTPw==\",\"dtype\":\"float64\",\"order\":\"little\",\"shape\":[2]},\"index\":[\"values\",\"values\"],\"labels\":[\"Numeric\",\"Others\"],\"top\":{\"__ndarray__\":\"FDuxEzux0z8AAAAAAADwPw==\",\"dtype\":\"float64\",\"order\":\"little\",\"shape\":[2]},\"value\":{\"__ndarray__\":\"FDuxEzux0z92Yid2YifmPw==\",\"dtype\":\"float64\",\"order\":\"little\",\"shape\":[2]}},\"selected\":{\"id\":\"1529\"},\"selection_policy\":{\"id\":\"1543\"}},\"id\":\"1528\",\"type\":\"ColumnDataSource\"},{\"attributes\":{\"fill_alpha\":{\"value\":0.1},\"fill_color\":{\"field\":\"labels\",\"transform\":{\"id\":\"2465\"}},\"hatch_alpha\":{\"value\":0.1},\"hatch_color\":{\"field\":\"labels\",\"transform\":{\"id\":\"2465\"}},\"height\":{\"value\":0.8},\"left\":{\"field\":\"bottom\"},\"line_alpha\":{\"value\":0.1},\"right\":{\"field\":\"top\"},\"y\":{\"field\":\"index\"}},\"id\":\"2470\",\"type\":\"HBar\"},{\"attributes\":{\"label\":{\"field\":\"labels\"},\"renderers\":[{\"id\":\"2910\"}]},\"id\":\"2923\",\"type\":\"LegendItem\"},{\"attributes\":{},\"id\":\"2076\",\"type\":\"SaveTool\"},{\"attributes\":{\"axis_label\":\"\",\"coordinates\":null,\"formatter\":{\"id\":\"2103\"},\"group\":null,\"major_label_policy\":{\"id\":\"2104\"},\"ticker\":{\"id\":\"2111\"}},\"id\":\"2069\",\"type\":\"LinearAxis\"},{\"attributes\":{\"coordinates\":null,\"group\":null,\"items\":[{\"id\":\"2485\"}],\"location\":[0,0]},\"id\":\"2484\",\"type\":\"Legend\"},{\"attributes\":{\"toolbar\":{\"id\":\"3027\"},\"toolbar_location\":\"above\"},\"id\":\"3028\",\"type\":\"ToolbarBox\"},{\"attributes\":{},\"id\":\"1981\",\"type\":\"UnionRenderers\"},{\"attributes\":{\"source\":{\"id\":\"2966\"}},\"id\":\"2973\",\"type\":\"CDSView\"},{\"attributes\":{},\"id\":\"2828\",\"type\":\"SaveTool\"},{\"attributes\":{\"coordinates\":null,\"group\":null,\"items\":[{\"id\":\"2985\"}],\"location\":[0,0]},\"id\":\"2984\",\"type\":\"Legend\"},{\"attributes\":{},\"id\":\"1667\",\"type\":\"UnionRenderers\"},{\"attributes\":{},\"id\":\"2977\",\"type\":\"AllLabels\"},{\"attributes\":{\"label\":{\"field\":\"labels\"},\"renderers\":[{\"id\":\"2972\"}]},\"id\":\"2985\",\"type\":\"LegendItem\"},{\"attributes\":{\"coordinates\":null,\"group\":null,\"items\":[{\"id\":\"2861\"}],\"location\":[0,0]},\"id\":\"2860\",\"type\":\"Legend\"},{\"attributes\":{},\"id\":\"2852\",\"type\":\"CategoricalTickFormatter\"},{\"attributes\":{},\"id\":\"2853\",\"type\":\"AllLabels\"},{\"attributes\":{\"coordinates\":null,\"group\":null,\"text\":\"duplicate_values\",\"text_color\":\"black\",\"text_font_size\":\"12pt\"},\"id\":\"2061\",\"type\":\"Title\"},{\"attributes\":{\"axis\":{\"id\":\"2069\"},\"coordinates\":null,\"grid_line_color\":null,\"group\":null,\"ticker\":null},\"id\":\"2072\",\"type\":\"Grid\"},{\"attributes\":{},\"id\":\"2832\",\"type\":\"ResetTool\"},{\"attributes\":{},\"id\":\"2817\",\"type\":\"LinearScale\"},{\"attributes\":{\"children\":[{\"id\":\"2152\"},{\"id\":\"2150\"}],\"name\":\"fuel_prices_data\"},\"id\":\"2153\",\"type\":\"Column\"},{\"attributes\":{\"below\":[{\"id\":\"2821\"}],\"center\":[{\"id\":\"2824\"},{\"id\":\"2827\"},{\"id\":\"2860\"}],\"height\":100,\"left\":[{\"id\":\"2825\"}],\"margin\":null,\"min_border_bottom\":10,\"min_border_left\":10,\"min_border_right\":10,\"min_border_top\":10,\"renderers\":[{\"id\":\"2848\"}],\"right\":[{\"id\":\"2860\"}],\"sizing_mode\":\"fixed\",\"title\":{\"id\":\"2813\"},\"toolbar\":{\"id\":\"2834\"},\"toolbar_location\":null,\"width\":700,\"x_range\":{\"id\":\"1495\"},\"x_scale\":{\"id\":\"2817\"},\"y_range\":{\"id\":\"1496\"},\"y_scale\":{\"id\":\"2819\"}},\"id\":\"2812\",\"subtype\":\"Figure\",\"type\":\"Plot\"},{\"attributes\":{},\"id\":\"2855\",\"type\":\"BasicTickFormatter\"},{\"attributes\":{\"tools\":[{\"id\":\"2811\"},{\"id\":\"2828\"},{\"id\":\"2829\"},{\"id\":\"2830\"},{\"id\":\"2831\"},{\"id\":\"2832\"}]},\"id\":\"2834\",\"type\":\"Toolbar\"},{\"attributes\":{\"label\":{\"field\":\"labels\"},\"renderers\":[{\"id\":\"2848\"}]},\"id\":\"2861\",\"type\":\"LegendItem\"},{\"attributes\":{\"data\":{\"bottom\":{\"__ndarray__\":\"AAAAAAAAAACamZmZmZnJPw==\",\"dtype\":\"float64\",\"order\":\"little\",\"shape\":[2]},\"index\":[\"values\",\"values\"],\"labels\":[\"Numeric\",\"Others\"],\"top\":{\"__ndarray__\":\"mpmZmZmZyT8AAAAAAADwPw==\",\"dtype\":\"float64\",\"order\":\"little\",\"shape\":[2]},\"value\":{\"__ndarray__\":\"mpmZmZmZyT+amZmZmZnpPw==\",\"dtype\":\"float64\",\"order\":\"little\",\"shape\":[2]}},\"selected\":{\"id\":\"2843\"},\"selection_policy\":{\"id\":\"2857\"}},\"id\":\"2842\",\"type\":\"ColumnDataSource\"},{\"attributes\":{\"axis_label\":\"\",\"coordinates\":null,\"formatter\":{\"id\":\"2855\"},\"group\":null,\"major_label_policy\":{\"id\":\"2856\"},\"ticker\":{\"id\":\"2863\"}},\"id\":\"2821\",\"type\":\"LinearAxis\"},{\"attributes\":{\"axis\":{\"id\":\"2825\"},\"coordinates\":null,\"dimension\":1,\"grid_line_color\":null,\"group\":null,\"ticker\":null},\"id\":\"2827\",\"type\":\"Grid\"},{\"attributes\":{\"callback\":null,\"renderers\":[{\"id\":\"2096\"}],\"tags\":[\"hv_created\"],\"tooltips\":[[\"index\",\"@{index}\"],[\"labels\",\"@{labels}\"],[\"value\",\"@{value}\"]]},\"id\":\"2059\",\"type\":\"HoverTool\"},{\"attributes\":{},\"id\":\"2041\",\"type\":\"BasicTickFormatter\"},{\"attributes\":{\"client_comm_id\":\"7785470729ca4fcf822bf80fb52cb192\",\"comm_id\":\"85dc8e0683a14ae884e26de8c03cfd57\",\"plot_id\":\"1494\"},\"id\":\"3571\",\"type\":\"panel.models.comm_manager.CommManager\"},{\"attributes\":{},\"id\":\"2065\",\"type\":\"LinearScale\"},{\"attributes\":{\"bottom_units\":\"screen\",\"coordinates\":null,\"fill_alpha\":0.5,\"fill_color\":\"lightgrey\",\"group\":null,\"left_units\":\"screen\",\"level\":\"overlay\",\"line_alpha\":1.0,\"line_color\":\"black\",\"line_dash\":[4,4],\"line_width\":2,\"right_units\":\"screen\",\"syncable\":false,\"top_units\":\"screen\"},\"id\":\"2081\",\"type\":\"BoxAnnotation\"},{\"attributes\":{\"children\":[{\"id\":\"1714\"},{\"id\":\"1712\"}],\"name\":\"carrier_data\"},\"id\":\"1715\",\"type\":\"Column\"},{\"attributes\":{},\"id\":\"2819\",\"type\":\"CategoricalScale\"},{\"attributes\":{},\"id\":\"2829\",\"type\":\"PanTool\"},{\"attributes\":{\"callback\":null,\"renderers\":[{\"id\":\"2848\"}],\"tags\":[\"hv_created\"],\"tooltips\":[[\"index\",\"@{index}\"],[\"labels\",\"@{labels}\"],[\"value\",\"@{value}\"]]},\"id\":\"2811\",\"type\":\"HoverTool\"},{\"attributes\":{},\"id\":\"2826\",\"type\":\"CategoricalTicker\"},{\"attributes\":{\"fill_alpha\":{\"value\":1.0},\"fill_color\":{\"field\":\"labels\",\"transform\":{\"id\":\"1527\"}},\"hatch_alpha\":{\"value\":1.0},\"hatch_color\":{\"field\":\"labels\",\"transform\":{\"id\":\"1527\"}},\"hatch_scale\":{\"value\":12.0},\"hatch_weight\":{\"value\":1.0},\"height\":{\"value\":0.8},\"left\":{\"field\":\"bottom\"},\"line_alpha\":{\"value\":1.0},\"line_cap\":{\"value\":\"butt\"},\"line_color\":{\"value\":\"black\"},\"line_dash\":{\"value\":[]},\"line_dash_offset\":{\"value\":0},\"line_join\":{\"value\":\"bevel\"},\"line_width\":{\"value\":1},\"right\":{\"field\":\"top\"},\"y\":{\"field\":\"index\"}},\"id\":\"1548\",\"type\":\"HBar\"},{\"attributes\":{\"child\":{\"id\":\"2153\"},\"name\":\"fuel_prices_data\",\"title\":\"fuel_prices_data\"},\"id\":\"2370\",\"type\":\"Panel\"},{\"attributes\":{\"overlay\":{\"id\":\"2833\"}},\"id\":\"2831\",\"type\":\"BoxZoomTool\"},{\"attributes\":{\"below\":[{\"id\":\"1569\"}],\"center\":[{\"id\":\"1572\"},{\"id\":\"1575\"},{\"id\":\"1608\"}],\"height\":100,\"left\":[{\"id\":\"1573\"}],\"margin\":null,\"min_border_bottom\":10,\"min_border_left\":10,\"min_border_right\":10,\"min_border_top\":10,\"renderers\":[{\"id\":\"1596\"}],\"right\":[{\"id\":\"1608\"}],\"sizing_mode\":\"fixed\",\"title\":{\"id\":\"1561\"},\"toolbar\":{\"id\":\"1582\"},\"toolbar_location\":null,\"width\":700,\"x_range\":{\"id\":\"1495\"},\"x_scale\":{\"id\":\"1565\"},\"y_range\":{\"id\":\"1496\"},\"y_scale\":{\"id\":\"1567\"}},\"id\":\"1560\",\"subtype\":\"Figure\",\"type\":\"Plot\"},{\"attributes\":{\"fill_color\":{\"field\":\"labels\",\"transform\":{\"id\":\"2841\"}},\"hatch_color\":{\"field\":\"labels\",\"transform\":{\"id\":\"2841\"}},\"height\":{\"value\":0.8},\"left\":{\"field\":\"bottom\"},\"right\":{\"field\":\"top\"},\"y\":{\"field\":\"index\"}},\"id\":\"2845\",\"type\":\"HBar\"},{\"attributes\":{},\"id\":\"2843\",\"type\":\"Selection\"},{\"attributes\":{\"ticks\":[0]},\"id\":\"1549\",\"type\":\"FixedTicker\"},{\"attributes\":{\"coordinates\":null,\"group\":null,\"text\":\"data_types\",\"text_color\":\"black\",\"text_font_size\":\"12pt\"},\"id\":\"2813\",\"type\":\"Title\"},{\"attributes\":{\"children\":[{\"id\":\"2590\"},{\"id\":\"2588\"}],\"name\":\"market_carrier_rates_data\"},\"id\":\"2591\",\"type\":\"Column\"},{\"attributes\":{},\"id\":\"1567\",\"type\":\"CategoricalScale\"},{\"attributes\":{\"child\":{\"id\":\"2591\"},\"name\":\"market_carrier_rates_data\",\"title\":\"market_carrier_rates_data\"},\"id\":\"2808\",\"type\":\"Panel\"},{\"attributes\":{\"fill_alpha\":{\"value\":0.2},\"fill_color\":{\"field\":\"labels\",\"transform\":{\"id\":\"2841\"}},\"hatch_alpha\":{\"value\":0.2},\"hatch_color\":{\"field\":\"labels\",\"transform\":{\"id\":\"2841\"}},\"height\":{\"value\":0.8},\"left\":{\"field\":\"bottom\"},\"line_alpha\":{\"value\":0.2},\"right\":{\"field\":\"top\"},\"y\":{\"field\":\"index\"}},\"id\":\"2847\",\"type\":\"HBar\"},{\"attributes\":{},\"id\":\"2976\",\"type\":\"CategoricalTickFormatter\"},{\"attributes\":{},\"id\":\"2980\",\"type\":\"AllLabels\"},{\"attributes\":{\"data\":{\"bottom\":{\"__ndarray__\":\"AAAAAAAAAAAEGXAH/f/vPw==\",\"dtype\":\"float64\",\"order\":\"little\",\"shape\":[2]},\"index\":[\"values\",\"values\"],\"labels\":[\"Available\",\"Missing\"],\"top\":{\"__ndarray__\":\"BBlwB/3/7z8AAAAAAADwPw==\",\"dtype\":\"float64\",\"order\":\"little\",\"shape\":[2]},\"value\":{\"__ndarray__\":\"BBlwB/3/7z/VAuE3f8S3Pg==\",\"dtype\":\"float64\",\"order\":\"little\",\"shape\":[2]}},\"selected\":{\"id\":\"1591\"},\"selection_policy\":{\"id\":\"1605\"}},\"id\":\"1590\",\"type\":\"ColumnDataSource\"},{\"attributes\":{\"coordinates\":null,\"data_source\":{\"id\":\"2842\"},\"glyph\":{\"id\":\"2845\"},\"group\":null,\"hover_glyph\":null,\"muted_glyph\":{\"id\":\"2847\"},\"nonselection_glyph\":{\"id\":\"2846\"},\"selection_glyph\":{\"id\":\"2862\"},\"view\":{\"id\":\"2849\"}},\"id\":\"2848\",\"type\":\"GlyphRenderer\"},{\"attributes\":{},\"id\":\"2979\",\"type\":\"BasicTickFormatter\"},{\"attributes\":{\"factors\":[\"Numeric\",\"Others\"],\"palette\":[\"#30a2da\",\"#fc4f30\"]},\"id\":\"2841\",\"type\":\"CategoricalColorMapper\"},{\"attributes\":{\"factors\":[\"Unique\",\"Duplicated\"],\"palette\":[\"#30a2da\",\"#fc4f30\"]},\"id\":\"2965\",\"type\":\"CategoricalColorMapper\"},{\"attributes\":{\"callback\":null,\"renderers\":[{\"id\":\"2034\"}],\"tags\":[\"hv_created\"],\"tooltips\":[[\"index\",\"@{index}\"],[\"labels\",\"@{labels}\"],[\"value\",\"@{value}\"]]},\"id\":\"1997\",\"type\":\"HoverTool\"},{\"attributes\":{\"data\":{\"bottom\":{\"__ndarray__\":\"AAAAAAAAAAAAAAAAAADwPw==\",\"dtype\":\"float64\",\"order\":\"little\",\"shape\":[2]},\"index\":[\"values\",\"values\"],\"labels\":[\"Available\",\"Missing\"],\"top\":{\"__ndarray__\":\"AAAAAAAA8D8AAAAAAADwPw==\",\"dtype\":\"float64\",\"order\":\"little\",\"shape\":[2]},\"value\":{\"__ndarray__\":\"AAAAAAAA8D8AAAAAAAAAAA==\",\"dtype\":\"float64\",\"order\":\"little\",\"shape\":[2]}},\"selected\":{\"id\":\"2905\"},\"selection_policy\":{\"id\":\"2919\"}},\"id\":\"2904\",\"type\":\"ColumnDataSource\"},{\"attributes\":{\"axis_label\":\"\",\"coordinates\":null,\"formatter\":{\"id\":\"2852\"},\"group\":null,\"major_label_policy\":{\"id\":\"2853\"},\"ticker\":{\"id\":\"2826\"}},\"id\":\"2825\",\"type\":\"CategoricalAxis\"},{\"attributes\":{\"axis\":{\"id\":\"2821\"},\"coordinates\":null,\"grid_line_color\":null,\"group\":null,\"ticker\":null},\"id\":\"2824\",\"type\":\"Grid\"},{\"attributes\":{\"ticks\":[0]},\"id\":\"1987\",\"type\":\"FixedTicker\"},{\"attributes\":{\"bottom_units\":\"screen\",\"coordinates\":null,\"fill_alpha\":0.5,\"fill_color\":\"lightgrey\",\"group\":null,\"left_units\":\"screen\",\"level\":\"overlay\",\"line_alpha\":1.0,\"line_color\":\"black\",\"line_dash\":[4,4],\"line_width\":2,\"right_units\":\"screen\",\"syncable\":false,\"top_units\":\"screen\"},\"id\":\"2833\",\"type\":\"BoxAnnotation\"},{\"attributes\":{\"source\":{\"id\":\"2842\"}},\"id\":\"2849\",\"type\":\"CDSView\"},{\"attributes\":{\"fill_alpha\":{\"value\":1.0},\"fill_color\":{\"field\":\"labels\",\"transform\":{\"id\":\"1651\"}},\"hatch_alpha\":{\"value\":1.0},\"hatch_color\":{\"field\":\"labels\",\"transform\":{\"id\":\"1651\"}},\"hatch_scale\":{\"value\":12.0},\"hatch_weight\":{\"value\":1.0},\"height\":{\"value\":0.8},\"left\":{\"field\":\"bottom\"},\"line_alpha\":{\"value\":1.0},\"line_cap\":{\"value\":\"butt\"},\"line_color\":{\"value\":\"black\"},\"line_dash\":{\"value\":[]},\"line_dash_offset\":{\"value\":0},\"line_join\":{\"value\":\"bevel\"},\"line_width\":{\"value\":1},\"right\":{\"field\":\"top\"},\"y\":{\"field\":\"index\"}},\"id\":\"1672\",\"type\":\"HBar\"},{\"attributes\":{\"toolbars\":[{\"id\":\"1520\"},{\"id\":\"1582\"},{\"id\":\"1644\"}],\"tools\":[{\"id\":\"1497\"},{\"id\":\"1514\"},{\"id\":\"1515\"},{\"id\":\"1516\"},{\"id\":\"1517\"},{\"id\":\"1518\"},{\"id\":\"1559\"},{\"id\":\"1576\"},{\"id\":\"1577\"},{\"id\":\"1578\"},{\"id\":\"1579\"},{\"id\":\"1580\"},{\"id\":\"1621\"},{\"id\":\"1638\"},{\"id\":\"1639\"},{\"id\":\"1640\"},{\"id\":\"1641\"},{\"id\":\"1642\"}]},\"id\":\"1713\",\"type\":\"ProxyToolbar\"},{\"attributes\":{\"children\":[[{\"id\":\"2812\"},0,0],[{\"id\":\"2874\"},1,0],[{\"id\":\"2936\"},2,0]]},\"id\":\"3026\",\"type\":\"GridBox\"},{\"attributes\":{},\"id\":\"2830\",\"type\":\"WheelZoomTool\"},{\"attributes\":{},\"id\":\"1574\",\"type\":\"CategoricalTicker\"},{\"attributes\":{},\"id\":\"2856\",\"type\":\"AllLabels\"},{\"attributes\":{\"axis_label\":\"\",\"coordinates\":null,\"formatter\":{\"id\":\"1603\"},\"group\":null,\"major_label_policy\":{\"id\":\"1604\"},\"ticker\":{\"id\":\"1611\"}},\"id\":\"1569\",\"type\":\"LinearAxis\"},{\"attributes\":{\"ticks\":[0]},\"id\":\"1673\",\"type\":\"FixedTicker\"},{\"attributes\":{\"callback\":null,\"renderers\":[{\"id\":\"1596\"}],\"tags\":[\"hv_created\"],\"tooltips\":[[\"index\",\"@{index}\"],[\"labels\",\"@{labels}\"],[\"value\",\"@{value}\"]]},\"id\":\"1559\",\"type\":\"HoverTool\"},{\"attributes\":{},\"id\":\"2981\",\"type\":\"UnionRenderers\"},{\"attributes\":{\"fill_alpha\":{\"value\":0.1},\"fill_color\":{\"field\":\"labels\",\"transform\":{\"id\":\"2841\"}},\"hatch_alpha\":{\"value\":0.1},\"hatch_color\":{\"field\":\"labels\",\"transform\":{\"id\":\"2841\"}},\"height\":{\"value\":0.8},\"left\":{\"field\":\"bottom\"},\"line_alpha\":{\"value\":0.1},\"right\":{\"field\":\"top\"},\"y\":{\"field\":\"index\"}},\"id\":\"2846\",\"type\":\"HBar\"},{\"attributes\":{},\"id\":\"1565\",\"type\":\"LinearScale\"},{\"attributes\":{\"data\":{\"bottom\":{\"__ndarray__\":\"AAAAAAAAAAAAAAAAAADwPw==\",\"dtype\":\"float64\",\"order\":\"little\",\"shape\":[2]},\"index\":[\"values\",\"values\"],\"labels\":[\"Available\",\"Missing\"],\"top\":{\"__ndarray__\":\"AAAAAAAA8D8AAAAAAADwPw==\",\"dtype\":\"float64\",\"order\":\"little\",\"shape\":[2]},\"value\":{\"__ndarray__\":\"AAAAAAAA8D8AAAAAAAAAAA==\",\"dtype\":\"float64\",\"order\":\"little\",\"shape\":[2]}},\"selected\":{\"id\":\"2029\"},\"selection_policy\":{\"id\":\"2043\"}},\"id\":\"2028\",\"type\":\"ColumnDataSource\"},{\"attributes\":{\"coordinates\":null,\"group\":null,\"text\":\"missing\",\"text_color\":\"black\",\"text_font_size\":\"12pt\"},\"id\":\"1561\",\"type\":\"Title\"},{\"attributes\":{},\"id\":\"2857\",\"type\":\"UnionRenderers\"},{\"attributes\":{\"axis\":{\"id\":\"1569\"},\"coordinates\":null,\"grid_line_color\":null,\"group\":null,\"ticker\":null},\"id\":\"1572\",\"type\":\"Grid\"},{\"attributes\":{},\"id\":\"2003\",\"type\":\"LinearScale\"},{\"attributes\":{\"axis_label\":\"\",\"coordinates\":null,\"formatter\":{\"id\":\"1600\"},\"group\":null,\"major_label_policy\":{\"id\":\"1601\"},\"ticker\":{\"id\":\"1574\"}},\"id\":\"1573\",\"type\":\"CategoricalAxis\"},{\"attributes\":{\"below\":[{\"id\":\"2007\"}],\"center\":[{\"id\":\"2010\"},{\"id\":\"2013\"},{\"id\":\"2046\"}],\"height\":100,\"left\":[{\"id\":\"2011\"}],\"margin\":null,\"min_border_bottom\":10,\"min_border_left\":10,\"min_border_right\":10,\"min_border_top\":10,\"renderers\":[{\"id\":\"2034\"}],\"right\":[{\"id\":\"2046\"}],\"sizing_mode\":\"fixed\",\"title\":{\"id\":\"1999\"},\"toolbar\":{\"id\":\"2020\"},\"toolbar_location\":null,\"width\":700,\"x_range\":{\"id\":\"1495\"},\"x_scale\":{\"id\":\"2003\"},\"y_range\":{\"id\":\"1496\"},\"y_scale\":{\"id\":\"2005\"}},\"id\":\"1998\",\"subtype\":\"Figure\",\"type\":\"Plot\"}],\"root_ids\":[\"1494\",\"3571\"]},\"title\":\"Bokeh Application\",\"version\":\"2.4.3\"}};\n",
       "    var render_items = [{\"docid\":\"c946711f-231f-4043-8f3d-a5ec421c8964\",\"root_ids\":[\"1494\"],\"roots\":{\"1494\":\"c86b2edd-f74e-4b80-be37-83936df56620\"}}];\n",
       "    root.Bokeh.embed.embed_items_notebook(docs_json, render_items);\n",
       "    for (const render_item of render_items) {\n",
       "      for (const root_id of render_item.root_ids) {\n",
       "\tconst id_el = document.getElementById(root_id)\n",
       "\tif (id_el.children.length && (id_el.children[0].className === 'bk-root')) {\n",
       "\t  const root_el = id_el.children[0]\n",
       "\t  root_el.id = root_el.id + '-rendered'\n",
       "\t}\n",
       "      }\n",
       "    }\n",
       "  }\n",
       "  if (root.Bokeh !== undefined && root.Bokeh.Panel !== undefined) {\n",
       "    embed_document(root);\n",
       "  } else {\n",
       "    var attempts = 0;\n",
       "    var timer = setInterval(function(root) {\n",
       "      if (root.Bokeh !== undefined && root.Bokeh.Panel !== undefined) {\n",
       "        clearInterval(timer);\n",
       "        embed_document(root);\n",
       "      } else if (document.readyState == \"complete\") {\n",
       "        attempts++;\n",
       "        if (attempts > 200) {\n",
       "          clearInterval(timer);\n",
       "          console.log(\"Bokeh: ERROR: Unable to run BokehJS code because BokehJS library is missing\");\n",
       "        }\n",
       "      }\n",
       "    }, 25, root)\n",
       "  }\n",
       "})(window);</script>"
      ],
      "text/plain": [
       "Tabs\n",
       "    [0] HoloViews(Layout, name='carrier_data')\n",
       "    [1] HoloViews(Layout, name='fuel_prices_data')\n",
       "    [2] HoloViews(Layout, name='market_carrier_rates_data...)\n",
       "    [3] HoloViews(Layout, name='route_mapping_data')"
      ]
     },
     "execution_count": 22,
     "metadata": {
      "application/vnd.holoviews_exec.v0+json": {
       "id": "1494"
      }
     },
     "output_type": "execute_result"
    }
   ],
   "source": [
    "%%time\n",
    "utils.display_as_tabs([(k, eda.plot_health(v)) for k,v in data.items()])"
   ]
  },
  {
   "cell_type": "markdown",
   "metadata": {},
   "source": [
    "# Missing values Plot"
   ]
  },
  {
   "cell_type": "code",
   "execution_count": 23,
   "metadata": {},
   "outputs": [
    {
     "name": "stderr",
     "output_type": "stream",
     "text": [
      "[Stage 269:>                                                        (0 + 1) / 1]\r"
     ]
    },
    {
     "name": "stdout",
     "output_type": "stream",
     "text": [
      "CPU times: user 980 ms, sys: 620 ms, total: 1.6 s\n",
      "Wall time: 1min 16s\n"
     ]
    },
    {
     "name": "stderr",
     "output_type": "stream",
     "text": [
      "                                                                                \r"
     ]
    },
    {
     "data": {},
     "metadata": {},
     "output_type": "display_data"
    },
    {
     "data": {},
     "metadata": {},
     "output_type": "display_data"
    },
    {
     "data": {
      "application/vnd.holoviews_exec.v0+json": "",
      "text/html": [
       "<div id='4112'>\n",
       "  <div class=\"bk-root\" id=\"54354840-818a-4502-b0e3-1416f6c56c89\" data-root-id=\"4112\"></div>\n",
       "</div>\n",
       "<script type=\"application/javascript\">(function(root) {\n",
       "  function embed_document(root) {\n",
       "    var docs_json = {\"4e7c7940-4d62-4b3e-a94b-22060226c9e9\":{\"defs\":[{\"extends\":null,\"module\":null,\"name\":\"ReactiveHTML1\",\"overrides\":[],\"properties\":[]},{\"extends\":null,\"module\":null,\"name\":\"FlexBox1\",\"overrides\":[],\"properties\":[{\"default\":\"flex-start\",\"kind\":null,\"name\":\"align_content\"},{\"default\":\"flex-start\",\"kind\":null,\"name\":\"align_items\"},{\"default\":\"row\",\"kind\":null,\"name\":\"flex_direction\"},{\"default\":\"wrap\",\"kind\":null,\"name\":\"flex_wrap\"},{\"default\":\"flex-start\",\"kind\":null,\"name\":\"justify_content\"}]},{\"extends\":null,\"module\":null,\"name\":\"GridStack1\",\"overrides\":[],\"properties\":[{\"default\":\"warn\",\"kind\":null,\"name\":\"mode\"},{\"default\":null,\"kind\":null,\"name\":\"ncols\"},{\"default\":null,\"kind\":null,\"name\":\"nrows\"},{\"default\":true,\"kind\":null,\"name\":\"allow_resize\"},{\"default\":true,\"kind\":null,\"name\":\"allow_drag\"},{\"default\":[],\"kind\":null,\"name\":\"state\"}]},{\"extends\":null,\"module\":null,\"name\":\"click1\",\"overrides\":[],\"properties\":[{\"default\":\"\",\"kind\":null,\"name\":\"terminal_output\"},{\"default\":\"\",\"kind\":null,\"name\":\"debug_name\"},{\"default\":0,\"kind\":null,\"name\":\"clears\"}]},{\"extends\":null,\"module\":null,\"name\":\"NotificationAreaBase1\",\"overrides\":[],\"properties\":[{\"default\":\"bottom-right\",\"kind\":null,\"name\":\"position\"},{\"default\":0,\"kind\":null,\"name\":\"_clear\"}]},{\"extends\":null,\"module\":null,\"name\":\"NotificationArea1\",\"overrides\":[],\"properties\":[{\"default\":[],\"kind\":null,\"name\":\"notifications\"},{\"default\":\"bottom-right\",\"kind\":null,\"name\":\"position\"},{\"default\":0,\"kind\":null,\"name\":\"_clear\"},{\"default\":[{\"background\":\"#ffc107\",\"icon\":{\"className\":\"fas fa-exclamation-triangle\",\"color\":\"white\",\"tagName\":\"i\"},\"type\":\"warning\"},{\"background\":\"#007bff\",\"icon\":{\"className\":\"fas fa-info-circle\",\"color\":\"white\",\"tagName\":\"i\"},\"type\":\"info\"}],\"kind\":null,\"name\":\"types\"}]},{\"extends\":null,\"module\":null,\"name\":\"Notification\",\"overrides\":[],\"properties\":[{\"default\":null,\"kind\":null,\"name\":\"background\"},{\"default\":3000,\"kind\":null,\"name\":\"duration\"},{\"default\":null,\"kind\":null,\"name\":\"icon\"},{\"default\":\"\",\"kind\":null,\"name\":\"message\"},{\"default\":null,\"kind\":null,\"name\":\"notification_type\"},{\"default\":false,\"kind\":null,\"name\":\"_destroyed\"}]},{\"extends\":null,\"module\":null,\"name\":\"TemplateActions1\",\"overrides\":[],\"properties\":[{\"default\":0,\"kind\":null,\"name\":\"open_modal\"},{\"default\":0,\"kind\":null,\"name\":\"close_modal\"}]},{\"extends\":null,\"module\":null,\"name\":\"MaterialTemplateActions1\",\"overrides\":[],\"properties\":[{\"default\":0,\"kind\":null,\"name\":\"open_modal\"},{\"default\":0,\"kind\":null,\"name\":\"close_modal\"}]}],\"roots\":{\"references\":[{\"attributes\":{\"end\":11.0,\"reset_end\":11.0,\"reset_start\":0.0,\"tags\":[[[\"0\",\"0\",null]]]},\"id\":\"4114\",\"type\":\"Range1d\"},{\"attributes\":{},\"id\":\"4283\",\"type\":\"UnionRenderers\"},{\"attributes\":{\"below\":[{\"id\":\"4299\"}],\"center\":[{\"id\":\"4301\"},{\"id\":\"4305\"}],\"height\":300,\"left\":[{\"id\":\"4302\"}],\"margin\":[5,5,5,5],\"min_border_bottom\":10,\"min_border_left\":10,\"min_border_right\":10,\"min_border_top\":10,\"name\":\"route_mapping_data\",\"renderers\":[{\"id\":\"4325\"}],\"sizing_mode\":\"fixed\",\"title\":{\"id\":\"4291\"},\"toolbar\":{\"id\":\"4312\"},\"width\":700,\"x_range\":{\"id\":\"4113\"},\"x_scale\":{\"id\":\"4295\"},\"y_range\":{\"id\":\"4114\"},\"y_scale\":{\"id\":\"4297\"}},\"id\":\"4290\",\"subtype\":\"Figure\",\"type\":\"Plot\"},{\"attributes\":{},\"id\":\"4295\",\"type\":\"CategoricalScale\"},{\"attributes\":{},\"id\":\"4217\",\"type\":\"AllLabels\"},{\"attributes\":{\"callback\":null,\"renderers\":[{\"id\":\"4325\"}],\"tags\":[\"hv_created\"],\"tooltips\":[[\"index\",\"@{index}\"],[\"0\",\"@{A_0}\"]]},\"id\":\"4289\",\"type\":\"HoverTool\"},{\"attributes\":{},\"id\":\"4297\",\"type\":\"LinearScale\"},{\"attributes\":{\"coordinates\":null,\"group\":null,\"text\":\"Missing Variables\",\"text_color\":\"black\",\"text_font_size\":\"12pt\"},\"id\":\"4291\",\"type\":\"Title\"},{\"attributes\":{},\"id\":\"4300\",\"type\":\"CategoricalTicker\"},{\"attributes\":{\"axis\":{\"id\":\"4299\"},\"coordinates\":null,\"grid_line_color\":null,\"group\":null,\"ticker\":null},\"id\":\"4301\",\"type\":\"Grid\"},{\"attributes\":{},\"id\":\"4307\",\"type\":\"PanTool\"},{\"attributes\":{\"axis_label\":\"# of missing observations\",\"coordinates\":null,\"formatter\":{\"id\":\"4329\"},\"group\":null,\"major_label_policy\":{\"id\":\"4330\"},\"ticker\":{\"id\":\"4300\"}},\"id\":\"4299\",\"type\":\"CategoricalAxis\"},{\"attributes\":{\"axis\":{\"id\":\"4302\"},\"coordinates\":null,\"dimension\":1,\"grid_line_color\":null,\"group\":null,\"ticker\":null},\"id\":\"4305\",\"type\":\"Grid\"},{\"attributes\":{},\"id\":\"4225\",\"type\":\"UnionRenderers\"},{\"attributes\":{\"axis_label\":\"# of variables\",\"coordinates\":null,\"formatter\":{\"id\":\"4332\"},\"group\":null,\"major_label_policy\":{\"id\":\"4333\"},\"ticker\":{\"id\":\"4303\"}},\"id\":\"4302\",\"type\":\"LinearAxis\"},{\"attributes\":{},\"id\":\"4303\",\"type\":\"BasicTicker\"},{\"attributes\":{},\"id\":\"4308\",\"type\":\"WheelZoomTool\"},{\"attributes\":{},\"id\":\"4306\",\"type\":\"SaveTool\"},{\"attributes\":{\"overlay\":{\"id\":\"4311\"}},\"id\":\"4309\",\"type\":\"BoxZoomTool\"},{\"attributes\":{},\"id\":\"4310\",\"type\":\"ResetTool\"},{\"attributes\":{\"bottom_units\":\"screen\",\"coordinates\":null,\"fill_alpha\":0.5,\"fill_color\":\"lightgrey\",\"group\":null,\"left_units\":\"screen\",\"level\":\"overlay\",\"line_alpha\":1.0,\"line_color\":\"black\",\"line_dash\":[4,4],\"line_width\":2,\"right_units\":\"screen\",\"syncable\":false,\"top_units\":\"screen\"},\"id\":\"4311\",\"type\":\"BoxAnnotation\"},{\"attributes\":{},\"id\":\"4320\",\"type\":\"Selection\"},{\"attributes\":{\"data\":{\"A_0\":[5,0,0,0,0,0,0,0],\"index\":[\"No Missing\",\"0-5%\",\"5-10%\",\"10-20%\",\"20-30%\",\"30-40%\",\"40-50%\",\"50-100%\"]},\"selected\":{\"id\":\"4320\"},\"selection_policy\":{\"id\":\"4341\"}},\"id\":\"4319\",\"type\":\"ColumnDataSource\"},{\"attributes\":{\"tools\":[{\"id\":\"4289\"},{\"id\":\"4306\"},{\"id\":\"4307\"},{\"id\":\"4308\"},{\"id\":\"4309\"},{\"id\":\"4310\"}]},\"id\":\"4312\",\"type\":\"Toolbar\"},{\"attributes\":{},\"id\":\"4121\",\"type\":\"CategoricalScale\"},{\"attributes\":{},\"id\":\"4341\",\"type\":\"UnionRenderers\"},{\"attributes\":{},\"id\":\"4192\",\"type\":\"WheelZoomTool\"},{\"attributes\":{\"fill_alpha\":{\"value\":0.1},\"fill_color\":{\"value\":\"#30a2da\"},\"hatch_alpha\":{\"value\":0.1},\"hatch_color\":{\"value\":\"#30a2da\"},\"line_alpha\":{\"value\":0.1},\"top\":{\"field\":\"A_0\"},\"width\":{\"value\":0.8},\"x\":{\"field\":\"index\"}},\"id\":\"4323\",\"type\":\"VBar\"},{\"attributes\":{},\"id\":\"4191\",\"type\":\"PanTool\"},{\"attributes\":{\"fill_color\":{\"value\":\"#30a2da\"},\"hatch_color\":{\"value\":\"#30a2da\"},\"top\":{\"field\":\"A_0\"},\"width\":{\"value\":0.8},\"x\":{\"field\":\"index\"}},\"id\":\"4322\",\"type\":\"VBar\"},{\"attributes\":{\"callback\":null,\"renderers\":[{\"id\":\"4151\"}],\"tags\":[\"hv_created\"],\"tooltips\":[[\"index\",\"@{index}\"],[\"0\",\"@{A_0}\"]]},\"id\":\"4115\",\"type\":\"HoverTool\"},{\"attributes\":{\"overlay\":{\"id\":\"4195\"}},\"id\":\"4193\",\"type\":\"BoxZoomTool\"},{\"attributes\":{},\"id\":\"4123\",\"type\":\"LinearScale\"},{\"attributes\":{},\"id\":\"4194\",\"type\":\"ResetTool\"},{\"attributes\":{\"coordinates\":null,\"group\":null,\"text\":\"Missing Variables\",\"text_color\":\"black\",\"text_font_size\":\"12pt\"},\"id\":\"4117\",\"type\":\"Title\"},{\"attributes\":{\"bottom\":{\"value\":0},\"fill_alpha\":{\"value\":1.0},\"fill_color\":{\"value\":\"#30a2da\"},\"hatch_alpha\":{\"value\":1.0},\"hatch_color\":{\"value\":\"#30a2da\"},\"hatch_scale\":{\"value\":12.0},\"hatch_weight\":{\"value\":1.0},\"line_alpha\":{\"value\":1.0},\"line_cap\":{\"value\":\"butt\"},\"line_color\":{\"value\":\"black\"},\"line_dash\":{\"value\":[]},\"line_dash_offset\":{\"value\":0},\"line_join\":{\"value\":\"bevel\"},\"line_width\":{\"value\":1},\"top\":{\"field\":\"A_0\"},\"width\":{\"value\":0.8},\"x\":{\"field\":\"index\"}},\"id\":\"4327\",\"type\":\"VBar\"},{\"attributes\":{\"bottom_units\":\"screen\",\"coordinates\":null,\"fill_alpha\":0.5,\"fill_color\":\"lightgrey\",\"group\":null,\"left_units\":\"screen\",\"level\":\"overlay\",\"line_alpha\":1.0,\"line_color\":\"black\",\"line_dash\":[4,4],\"line_width\":2,\"right_units\":\"screen\",\"syncable\":false,\"top_units\":\"screen\"},\"id\":\"4195\",\"type\":\"BoxAnnotation\"},{\"attributes\":{\"below\":[{\"id\":\"4125\"}],\"center\":[{\"id\":\"4127\"},{\"id\":\"4131\"}],\"height\":300,\"left\":[{\"id\":\"4128\"}],\"margin\":[5,5,5,5],\"min_border_bottom\":10,\"min_border_left\":10,\"min_border_right\":10,\"min_border_top\":10,\"name\":\"carrier_data\",\"renderers\":[{\"id\":\"4151\"}],\"sizing_mode\":\"fixed\",\"title\":{\"id\":\"4117\"},\"toolbar\":{\"id\":\"4138\"},\"width\":700,\"x_range\":{\"id\":\"4113\"},\"x_scale\":{\"id\":\"4121\"},\"y_range\":{\"id\":\"4114\"},\"y_scale\":{\"id\":\"4123\"}},\"id\":\"4116\",\"subtype\":\"Figure\",\"type\":\"Plot\"},{\"attributes\":{\"coordinates\":null,\"data_source\":{\"id\":\"4319\"},\"glyph\":{\"id\":\"4322\"},\"group\":null,\"hover_glyph\":null,\"muted_glyph\":{\"id\":\"4324\"},\"nonselection_glyph\":{\"id\":\"4323\"},\"selection_glyph\":{\"id\":\"4327\"},\"view\":{\"id\":\"4326\"}},\"id\":\"4325\",\"type\":\"GlyphRenderer\"},{\"attributes\":{},\"id\":\"4159\",\"type\":\"AllLabels\"},{\"attributes\":{},\"id\":\"4126\",\"type\":\"CategoricalTicker\"},{\"attributes\":{\"source\":{\"id\":\"4319\"}},\"id\":\"4326\",\"type\":\"CDSView\"},{\"attributes\":{},\"id\":\"4262\",\"type\":\"Selection\"},{\"attributes\":{\"axis\":{\"id\":\"4125\"},\"coordinates\":null,\"grid_line_color\":null,\"group\":null,\"ticker\":null},\"id\":\"4127\",\"type\":\"Grid\"},{\"attributes\":{\"fill_alpha\":{\"value\":0.2},\"fill_color\":{\"value\":\"#30a2da\"},\"hatch_alpha\":{\"value\":0.2},\"hatch_color\":{\"value\":\"#30a2da\"},\"line_alpha\":{\"value\":0.2},\"top\":{\"field\":\"A_0\"},\"width\":{\"value\":0.8},\"x\":{\"field\":\"index\"}},\"id\":\"4324\",\"type\":\"VBar\"},{\"attributes\":{\"bottom_units\":\"screen\",\"coordinates\":null,\"fill_alpha\":0.5,\"fill_color\":\"lightgrey\",\"group\":null,\"left_units\":\"screen\",\"level\":\"overlay\",\"line_alpha\":1.0,\"line_color\":\"black\",\"line_dash\":[4,4],\"line_width\":2,\"right_units\":\"screen\",\"syncable\":false,\"top_units\":\"screen\"},\"id\":\"4253\",\"type\":\"BoxAnnotation\"},{\"attributes\":{},\"id\":\"4216\",\"type\":\"BasicTickFormatter\"},{\"attributes\":{},\"id\":\"4133\",\"type\":\"PanTool\"},{\"attributes\":{\"axis_label\":\"# of missing observations\",\"coordinates\":null,\"formatter\":{\"id\":\"4155\"},\"group\":null,\"major_label_policy\":{\"id\":\"4156\"},\"ticker\":{\"id\":\"4126\"}},\"id\":\"4125\",\"type\":\"CategoricalAxis\"},{\"attributes\":{\"fill_color\":{\"value\":\"#30a2da\"},\"hatch_color\":{\"value\":\"#30a2da\"},\"top\":{\"field\":\"A_0\"},\"width\":{\"value\":0.8},\"x\":{\"field\":\"index\"}},\"id\":\"4264\",\"type\":\"VBar\"},{\"attributes\":{\"axis\":{\"id\":\"4128\"},\"coordinates\":null,\"dimension\":1,\"grid_line_color\":null,\"group\":null,\"ticker\":null},\"id\":\"4131\",\"type\":\"Grid\"},{\"attributes\":{},\"id\":\"4330\",\"type\":\"AllLabels\"},{\"attributes\":{\"fill_color\":{\"value\":\"#30a2da\"},\"hatch_color\":{\"value\":\"#30a2da\"},\"top\":{\"field\":\"A_0\"},\"width\":{\"value\":0.8},\"x\":{\"field\":\"index\"}},\"id\":\"4148\",\"type\":\"VBar\"},{\"attributes\":{},\"id\":\"4204\",\"type\":\"Selection\"},{\"attributes\":{\"axis_label\":\"# of variables\",\"coordinates\":null,\"formatter\":{\"id\":\"4158\"},\"group\":null,\"major_label_policy\":{\"id\":\"4159\"},\"ticker\":{\"id\":\"4129\"}},\"id\":\"4128\",\"type\":\"LinearAxis\"},{\"attributes\":{\"tools\":[{\"id\":\"4231\"},{\"id\":\"4248\"},{\"id\":\"4249\"},{\"id\":\"4250\"},{\"id\":\"4251\"},{\"id\":\"4252\"}]},\"id\":\"4254\",\"type\":\"Toolbar\"},{\"attributes\":{},\"id\":\"4129\",\"type\":\"BasicTicker\"},{\"attributes\":{},\"id\":\"4158\",\"type\":\"BasicTickFormatter\"},{\"attributes\":{},\"id\":\"4134\",\"type\":\"WheelZoomTool\"},{\"attributes\":{},\"id\":\"4333\",\"type\":\"AllLabels\"},{\"attributes\":{},\"id\":\"4132\",\"type\":\"SaveTool\"},{\"attributes\":{\"tools\":[{\"id\":\"4173\"},{\"id\":\"4190\"},{\"id\":\"4191\"},{\"id\":\"4192\"},{\"id\":\"4193\"},{\"id\":\"4194\"}]},\"id\":\"4196\",\"type\":\"Toolbar\"},{\"attributes\":{},\"id\":\"4272\",\"type\":\"AllLabels\"},{\"attributes\":{\"overlay\":{\"id\":\"4137\"}},\"id\":\"4135\",\"type\":\"BoxZoomTool\"},{\"attributes\":{\"fill_alpha\":{\"value\":0.1},\"fill_color\":{\"value\":\"#30a2da\"},\"hatch_alpha\":{\"value\":0.1},\"hatch_color\":{\"value\":\"#30a2da\"},\"line_alpha\":{\"value\":0.1},\"top\":{\"field\":\"A_0\"},\"width\":{\"value\":0.8},\"x\":{\"field\":\"index\"}},\"id\":\"4265\",\"type\":\"VBar\"},{\"attributes\":{},\"id\":\"4136\",\"type\":\"ResetTool\"},{\"attributes\":{},\"id\":\"4214\",\"type\":\"AllLabels\"},{\"attributes\":{\"fill_color\":{\"value\":\"#30a2da\"},\"hatch_color\":{\"value\":\"#30a2da\"},\"top\":{\"field\":\"A_0\"},\"width\":{\"value\":0.8},\"x\":{\"field\":\"index\"}},\"id\":\"4206\",\"type\":\"VBar\"},{\"attributes\":{\"bottom_units\":\"screen\",\"coordinates\":null,\"fill_alpha\":0.5,\"fill_color\":\"lightgrey\",\"group\":null,\"left_units\":\"screen\",\"level\":\"overlay\",\"line_alpha\":1.0,\"line_color\":\"black\",\"line_dash\":[4,4],\"line_width\":2,\"right_units\":\"screen\",\"syncable\":false,\"top_units\":\"screen\"},\"id\":\"4137\",\"type\":\"BoxAnnotation\"},{\"attributes\":{\"bottom\":{\"value\":0},\"fill_alpha\":{\"value\":1.0},\"fill_color\":{\"value\":\"#30a2da\"},\"hatch_alpha\":{\"value\":1.0},\"hatch_color\":{\"value\":\"#30a2da\"},\"hatch_scale\":{\"value\":12.0},\"hatch_weight\":{\"value\":1.0},\"line_alpha\":{\"value\":1.0},\"line_cap\":{\"value\":\"butt\"},\"line_color\":{\"value\":\"black\"},\"line_dash\":{\"value\":[]},\"line_dash_offset\":{\"value\":0},\"line_join\":{\"value\":\"bevel\"},\"line_width\":{\"value\":1},\"top\":{\"field\":\"A_0\"},\"width\":{\"value\":0.8},\"x\":{\"field\":\"index\"}},\"id\":\"4269\",\"type\":\"VBar\"},{\"attributes\":{\"coordinates\":null,\"data_source\":{\"id\":\"4261\"},\"glyph\":{\"id\":\"4264\"},\"group\":null,\"hover_glyph\":null,\"muted_glyph\":{\"id\":\"4266\"},\"nonselection_glyph\":{\"id\":\"4265\"},\"selection_glyph\":{\"id\":\"4269\"},\"view\":{\"id\":\"4268\"}},\"id\":\"4267\",\"type\":\"GlyphRenderer\"},{\"attributes\":{\"data\":{\"A_0\":[9,2,0,0,0,0,0,0],\"index\":[\"No Missing\",\"0-5%\",\"5-10%\",\"10-20%\",\"20-30%\",\"30-40%\",\"40-50%\",\"50-100%\"]},\"selected\":{\"id\":\"4262\"},\"selection_policy\":{\"id\":\"4283\"}},\"id\":\"4261\",\"type\":\"ColumnDataSource\"},{\"attributes\":{\"source\":{\"id\":\"4261\"}},\"id\":\"4268\",\"type\":\"CDSView\"},{\"attributes\":{\"fill_alpha\":{\"value\":0.2},\"fill_color\":{\"value\":\"#30a2da\"},\"hatch_alpha\":{\"value\":0.2},\"hatch_color\":{\"value\":\"#30a2da\"},\"line_alpha\":{\"value\":0.2},\"top\":{\"field\":\"A_0\"},\"width\":{\"value\":0.8},\"x\":{\"field\":\"index\"}},\"id\":\"4266\",\"type\":\"VBar\"},{\"attributes\":{},\"id\":\"4146\",\"type\":\"Selection\"},{\"attributes\":{\"bottom\":{\"value\":0},\"fill_alpha\":{\"value\":1.0},\"fill_color\":{\"value\":\"#30a2da\"},\"hatch_alpha\":{\"value\":1.0},\"hatch_color\":{\"value\":\"#30a2da\"},\"hatch_scale\":{\"value\":12.0},\"hatch_weight\":{\"value\":1.0},\"line_alpha\":{\"value\":1.0},\"line_cap\":{\"value\":\"butt\"},\"line_color\":{\"value\":\"black\"},\"line_dash\":{\"value\":[]},\"line_dash_offset\":{\"value\":0},\"line_join\":{\"value\":\"bevel\"},\"line_width\":{\"value\":1},\"top\":{\"field\":\"A_0\"},\"width\":{\"value\":0.8},\"x\":{\"field\":\"index\"}},\"id\":\"4211\",\"type\":\"VBar\"},{\"attributes\":{\"margin\":[0,0,0,0],\"tabs\":[{\"id\":\"4170\"},{\"id\":\"4228\"},{\"id\":\"4286\"},{\"id\":\"4344\"}]},\"id\":\"4112\",\"type\":\"panel.models.tabs.Tabs\"},{\"attributes\":{\"coordinates\":null,\"data_source\":{\"id\":\"4203\"},\"glyph\":{\"id\":\"4206\"},\"group\":null,\"hover_glyph\":null,\"muted_glyph\":{\"id\":\"4208\"},\"nonselection_glyph\":{\"id\":\"4207\"},\"selection_glyph\":{\"id\":\"4211\"},\"view\":{\"id\":\"4210\"}},\"id\":\"4209\",\"type\":\"GlyphRenderer\"},{\"attributes\":{\"source\":{\"id\":\"4203\"}},\"id\":\"4210\",\"type\":\"CDSView\"},{\"attributes\":{},\"id\":\"4275\",\"type\":\"AllLabels\"},{\"attributes\":{\"fill_alpha\":{\"value\":0.2},\"fill_color\":{\"value\":\"#30a2da\"},\"hatch_alpha\":{\"value\":0.2},\"hatch_color\":{\"value\":\"#30a2da\"},\"line_alpha\":{\"value\":0.2},\"top\":{\"field\":\"A_0\"},\"width\":{\"value\":0.8},\"x\":{\"field\":\"index\"}},\"id\":\"4208\",\"type\":\"VBar\"},{\"attributes\":{\"data\":{\"A_0\":[10,3,0,0,0,0,0,0],\"index\":[\"No Missing\",\"0-5%\",\"5-10%\",\"10-20%\",\"20-30%\",\"30-40%\",\"40-50%\",\"50-100%\"]},\"selected\":{\"id\":\"4146\"},\"selection_policy\":{\"id\":\"4167\"}},\"id\":\"4145\",\"type\":\"ColumnDataSource\"},{\"attributes\":{},\"id\":\"4155\",\"type\":\"CategoricalTickFormatter\"},{\"attributes\":{\"below\":[{\"id\":\"4241\"}],\"center\":[{\"id\":\"4243\"},{\"id\":\"4247\"}],\"height\":300,\"left\":[{\"id\":\"4244\"}],\"margin\":[5,5,5,5],\"min_border_bottom\":10,\"min_border_left\":10,\"min_border_right\":10,\"min_border_top\":10,\"name\":\"market_carrier_rates_data\",\"renderers\":[{\"id\":\"4267\"}],\"sizing_mode\":\"fixed\",\"title\":{\"id\":\"4233\"},\"toolbar\":{\"id\":\"4254\"},\"width\":700,\"x_range\":{\"id\":\"4113\"},\"x_scale\":{\"id\":\"4237\"},\"y_range\":{\"id\":\"4114\"},\"y_scale\":{\"id\":\"4239\"}},\"id\":\"4232\",\"subtype\":\"Figure\",\"type\":\"Plot\"},{\"attributes\":{},\"id\":\"4329\",\"type\":\"CategoricalTickFormatter\"},{\"attributes\":{},\"id\":\"4237\",\"type\":\"CategoricalScale\"},{\"attributes\":{},\"id\":\"4271\",\"type\":\"CategoricalTickFormatter\"},{\"attributes\":{},\"id\":\"4332\",\"type\":\"BasicTickFormatter\"},{\"attributes\":{\"child\":{\"id\":\"4290\"},\"name\":\"route_mapping_data\",\"title\":\"route_mapping_data\"},\"id\":\"4344\",\"type\":\"Panel\"},{\"attributes\":{\"below\":[{\"id\":\"4183\"}],\"center\":[{\"id\":\"4185\"},{\"id\":\"4189\"}],\"height\":300,\"left\":[{\"id\":\"4186\"}],\"margin\":[5,5,5,5],\"min_border_bottom\":10,\"min_border_left\":10,\"min_border_right\":10,\"min_border_top\":10,\"name\":\"fuel_prices_data\",\"renderers\":[{\"id\":\"4209\"}],\"sizing_mode\":\"fixed\",\"title\":{\"id\":\"4175\"},\"toolbar\":{\"id\":\"4196\"},\"width\":700,\"x_range\":{\"id\":\"4113\"},\"x_scale\":{\"id\":\"4179\"},\"y_range\":{\"id\":\"4114\"},\"y_scale\":{\"id\":\"4181\"}},\"id\":\"4174\",\"subtype\":\"Figure\",\"type\":\"Plot\"},{\"attributes\":{\"callback\":null,\"renderers\":[{\"id\":\"4267\"}],\"tags\":[\"hv_created\"],\"tooltips\":[[\"index\",\"@{index}\"],[\"0\",\"@{A_0}\"]]},\"id\":\"4231\",\"type\":\"HoverTool\"},{\"attributes\":{\"fill_alpha\":{\"value\":0.2},\"fill_color\":{\"value\":\"#30a2da\"},\"hatch_alpha\":{\"value\":0.2},\"hatch_color\":{\"value\":\"#30a2da\"},\"line_alpha\":{\"value\":0.2},\"top\":{\"field\":\"A_0\"},\"width\":{\"value\":0.8},\"x\":{\"field\":\"index\"}},\"id\":\"4150\",\"type\":\"VBar\"},{\"attributes\":{},\"id\":\"4239\",\"type\":\"LinearScale\"},{\"attributes\":{\"source\":{\"id\":\"4145\"}},\"id\":\"4152\",\"type\":\"CDSView\"},{\"attributes\":{\"coordinates\":null,\"group\":null,\"text\":\"Missing Variables\",\"text_color\":\"black\",\"text_font_size\":\"12pt\"},\"id\":\"4233\",\"type\":\"Title\"},{\"attributes\":{},\"id\":\"4213\",\"type\":\"CategoricalTickFormatter\"},{\"attributes\":{\"child\":{\"id\":\"4232\"},\"name\":\"market_carrier_rates_data\",\"title\":\"market_carrier_rates_data\"},\"id\":\"4286\",\"type\":\"Panel\"},{\"attributes\":{\"client_comm_id\":\"b48213364b8e4debb776d022b7d02a05\",\"comm_id\":\"e0616c95f45246c99e6e51d0080029c9\",\"plot_id\":\"4112\"},\"id\":\"4465\",\"type\":\"panel.models.comm_manager.CommManager\"},{\"attributes\":{},\"id\":\"4242\",\"type\":\"CategoricalTicker\"},{\"attributes\":{\"axis\":{\"id\":\"4241\"},\"coordinates\":null,\"grid_line_color\":null,\"group\":null,\"ticker\":null},\"id\":\"4243\",\"type\":\"Grid\"},{\"attributes\":{},\"id\":\"4179\",\"type\":\"CategoricalScale\"},{\"attributes\":{},\"id\":\"4249\",\"type\":\"PanTool\"},{\"attributes\":{\"axis_label\":\"# of missing observations\",\"coordinates\":null,\"formatter\":{\"id\":\"4271\"},\"group\":null,\"major_label_policy\":{\"id\":\"4272\"},\"ticker\":{\"id\":\"4242\"}},\"id\":\"4241\",\"type\":\"CategoricalAxis\"},{\"attributes\":{\"coordinates\":null,\"data_source\":{\"id\":\"4145\"},\"glyph\":{\"id\":\"4148\"},\"group\":null,\"hover_glyph\":null,\"muted_glyph\":{\"id\":\"4150\"},\"nonselection_glyph\":{\"id\":\"4149\"},\"selection_glyph\":{\"id\":\"4153\"},\"view\":{\"id\":\"4152\"}},\"id\":\"4151\",\"type\":\"GlyphRenderer\"},{\"attributes\":{\"axis\":{\"id\":\"4244\"},\"coordinates\":null,\"dimension\":1,\"grid_line_color\":null,\"group\":null,\"ticker\":null},\"id\":\"4247\",\"type\":\"Grid\"},{\"attributes\":{\"bottom\":{\"value\":0},\"fill_alpha\":{\"value\":1.0},\"fill_color\":{\"value\":\"#30a2da\"},\"hatch_alpha\":{\"value\":1.0},\"hatch_color\":{\"value\":\"#30a2da\"},\"hatch_scale\":{\"value\":12.0},\"hatch_weight\":{\"value\":1.0},\"line_alpha\":{\"value\":1.0},\"line_cap\":{\"value\":\"butt\"},\"line_color\":{\"value\":\"black\"},\"line_dash\":{\"value\":[]},\"line_dash_offset\":{\"value\":0},\"line_join\":{\"value\":\"bevel\"},\"line_width\":{\"value\":1},\"top\":{\"field\":\"A_0\"},\"width\":{\"value\":0.8},\"x\":{\"field\":\"index\"}},\"id\":\"4153\",\"type\":\"VBar\"},{\"attributes\":{},\"id\":\"4187\",\"type\":\"BasicTicker\"},{\"attributes\":{\"axis_label\":\"# of variables\",\"coordinates\":null,\"formatter\":{\"id\":\"4274\"},\"group\":null,\"major_label_policy\":{\"id\":\"4275\"},\"ticker\":{\"id\":\"4245\"}},\"id\":\"4244\",\"type\":\"LinearAxis\"},{\"attributes\":{\"callback\":null,\"renderers\":[{\"id\":\"4209\"}],\"tags\":[\"hv_created\"],\"tooltips\":[[\"index\",\"@{index}\"],[\"0\",\"@{A_0}\"]]},\"id\":\"4173\",\"type\":\"HoverTool\"},{\"attributes\":{},\"id\":\"4245\",\"type\":\"BasicTicker\"},{\"attributes\":{},\"id\":\"4167\",\"type\":\"UnionRenderers\"},{\"attributes\":{},\"id\":\"4181\",\"type\":\"LinearScale\"},{\"attributes\":{},\"id\":\"4250\",\"type\":\"WheelZoomTool\"},{\"attributes\":{\"coordinates\":null,\"group\":null,\"text\":\"Missing Variables\",\"text_color\":\"black\",\"text_font_size\":\"12pt\"},\"id\":\"4175\",\"type\":\"Title\"},{\"attributes\":{},\"id\":\"4248\",\"type\":\"SaveTool\"},{\"attributes\":{\"overlay\":{\"id\":\"4253\"}},\"id\":\"4251\",\"type\":\"BoxZoomTool\"},{\"attributes\":{},\"id\":\"4252\",\"type\":\"ResetTool\"},{\"attributes\":{},\"id\":\"4184\",\"type\":\"CategoricalTicker\"},{\"attributes\":{\"axis\":{\"id\":\"4183\"},\"coordinates\":null,\"grid_line_color\":null,\"group\":null,\"ticker\":null},\"id\":\"4185\",\"type\":\"Grid\"},{\"attributes\":{\"child\":{\"id\":\"4116\"},\"name\":\"carrier_data\",\"title\":\"carrier_data\"},\"id\":\"4170\",\"type\":\"Panel\"},{\"attributes\":{},\"id\":\"4274\",\"type\":\"BasicTickFormatter\"},{\"attributes\":{\"axis_label\":\"# of missing observations\",\"coordinates\":null,\"formatter\":{\"id\":\"4213\"},\"group\":null,\"major_label_policy\":{\"id\":\"4214\"},\"ticker\":{\"id\":\"4184\"}},\"id\":\"4183\",\"type\":\"CategoricalAxis\"},{\"attributes\":{\"axis\":{\"id\":\"4186\"},\"coordinates\":null,\"dimension\":1,\"grid_line_color\":null,\"group\":null,\"ticker\":null},\"id\":\"4189\",\"type\":\"Grid\"},{\"attributes\":{},\"id\":\"4156\",\"type\":\"AllLabels\"},{\"attributes\":{},\"id\":\"4190\",\"type\":\"SaveTool\"},{\"attributes\":{\"child\":{\"id\":\"4174\"},\"name\":\"fuel_prices_data\",\"title\":\"fuel_prices_data\"},\"id\":\"4228\",\"type\":\"Panel\"},{\"attributes\":{\"factors\":[\"No Missing\",\"0-5%\",\"5-10%\",\"10-20%\",\"20-30%\",\"30-40%\",\"40-50%\",\"50-100%\"],\"tags\":[[[\"index\",\"index\",null]]]},\"id\":\"4113\",\"type\":\"FactorRange\"},{\"attributes\":{\"fill_alpha\":{\"value\":0.1},\"fill_color\":{\"value\":\"#30a2da\"},\"hatch_alpha\":{\"value\":0.1},\"hatch_color\":{\"value\":\"#30a2da\"},\"line_alpha\":{\"value\":0.1},\"top\":{\"field\":\"A_0\"},\"width\":{\"value\":0.8},\"x\":{\"field\":\"index\"}},\"id\":\"4149\",\"type\":\"VBar\"},{\"attributes\":{\"fill_alpha\":{\"value\":0.1},\"fill_color\":{\"value\":\"#30a2da\"},\"hatch_alpha\":{\"value\":0.1},\"hatch_color\":{\"value\":\"#30a2da\"},\"line_alpha\":{\"value\":0.1},\"top\":{\"field\":\"A_0\"},\"width\":{\"value\":0.8},\"x\":{\"field\":\"index\"}},\"id\":\"4207\",\"type\":\"VBar\"},{\"attributes\":{\"data\":{\"A_0\":[2,0,0,0,0,0,0,0],\"index\":[\"No Missing\",\"0-5%\",\"5-10%\",\"10-20%\",\"20-30%\",\"30-40%\",\"40-50%\",\"50-100%\"]},\"selected\":{\"id\":\"4204\"},\"selection_policy\":{\"id\":\"4225\"}},\"id\":\"4203\",\"type\":\"ColumnDataSource\"},{\"attributes\":{\"axis_label\":\"# of variables\",\"coordinates\":null,\"formatter\":{\"id\":\"4216\"},\"group\":null,\"major_label_policy\":{\"id\":\"4217\"},\"ticker\":{\"id\":\"4187\"}},\"id\":\"4186\",\"type\":\"LinearAxis\"},{\"attributes\":{\"tools\":[{\"id\":\"4115\"},{\"id\":\"4132\"},{\"id\":\"4133\"},{\"id\":\"4134\"},{\"id\":\"4135\"},{\"id\":\"4136\"}]},\"id\":\"4138\",\"type\":\"Toolbar\"}],\"root_ids\":[\"4112\",\"4465\"]},\"title\":\"Bokeh Application\",\"version\":\"2.4.3\"}};\n",
       "    var render_items = [{\"docid\":\"4e7c7940-4d62-4b3e-a94b-22060226c9e9\",\"root_ids\":[\"4112\"],\"roots\":{\"4112\":\"54354840-818a-4502-b0e3-1416f6c56c89\"}}];\n",
       "    root.Bokeh.embed.embed_items_notebook(docs_json, render_items);\n",
       "    for (const render_item of render_items) {\n",
       "      for (const root_id of render_item.root_ids) {\n",
       "\tconst id_el = document.getElementById(root_id)\n",
       "\tif (id_el.children.length && (id_el.children[0].className === 'bk-root')) {\n",
       "\t  const root_el = id_el.children[0]\n",
       "\t  root_el.id = root_el.id + '-rendered'\n",
       "\t}\n",
       "      }\n",
       "    }\n",
       "  }\n",
       "  if (root.Bokeh !== undefined && root.Bokeh.Panel !== undefined) {\n",
       "    embed_document(root);\n",
       "  } else {\n",
       "    var attempts = 0;\n",
       "    var timer = setInterval(function(root) {\n",
       "      if (root.Bokeh !== undefined && root.Bokeh.Panel !== undefined) {\n",
       "        clearInterval(timer);\n",
       "        embed_document(root);\n",
       "      } else if (document.readyState == \"complete\") {\n",
       "        attempts++;\n",
       "        if (attempts > 200) {\n",
       "          clearInterval(timer);\n",
       "          console.log(\"Bokeh: ERROR: Unable to run BokehJS code because BokehJS library is missing\");\n",
       "        }\n",
       "      }\n",
       "    }, 25, root)\n",
       "  }\n",
       "})(window);</script>"
      ],
      "text/plain": [
       "Tabs\n",
       "    [0] HoloViews(Bars, height=300, name='carrier_data', sizing_mode='fixed', width=700)\n",
       "    [1] HoloViews(Bars, height=300, name='fuel_prices_data', sizing_mode='fixed', width=700)\n",
       "    [2] HoloViews(Bars, height=300, name='market_carrier_rates_data..., sizing_mode='fixed', width=700)\n",
       "    [3] HoloViews(Bars, height=300, name='route_mapping_data', sizing_mode='fixed', width=700)"
      ]
     },
     "execution_count": 23,
     "metadata": {
      "application/vnd.holoviews_exec.v0+json": {
       "id": "4112"
      }
     },
     "output_type": "execute_result"
    }
   ],
   "source": [
    "%%time\n",
    "utils.display_as_tabs([(k, eda.missing_plot(v)) for k,v in data.items()])"
   ]
  },
  {
   "cell_type": "markdown",
   "metadata": {},
   "source": [
    "## Missing data summary"
   ]
  },
  {
   "cell_type": "code",
   "execution_count": 24,
   "metadata": {},
   "outputs": [
    {
     "name": "stderr",
     "output_type": "stream",
     "text": [
      "                                                                                \r"
     ]
    },
    {
     "name": "stdout",
     "output_type": "stream",
     "text": [
      "CPU times: user 688 ms, sys: 586 ms, total: 1.27 s\n",
      "Wall time: 1min 10s\n"
     ]
    },
    {
     "data": {},
     "metadata": {},
     "output_type": "display_data"
    },
    {
     "data": {
      "application/vnd.holoviews_exec.v0+json": "",
      "text/html": [
       "<div id='4666'>\n",
       "  <div class=\"bk-root\" id=\"59e119c7-56ef-4d3f-94ed-946d550bb3a3\" data-root-id=\"4666\"></div>\n",
       "</div>\n",
       "<script type=\"application/javascript\">(function(root) {\n",
       "  function embed_document(root) {\n",
       "    var docs_json = {\"25126874-0f27-4695-93a1-6b49391dcb66\":{\"defs\":[{\"extends\":null,\"module\":null,\"name\":\"ReactiveHTML1\",\"overrides\":[],\"properties\":[]},{\"extends\":null,\"module\":null,\"name\":\"FlexBox1\",\"overrides\":[],\"properties\":[{\"default\":\"flex-start\",\"kind\":null,\"name\":\"align_content\"},{\"default\":\"flex-start\",\"kind\":null,\"name\":\"align_items\"},{\"default\":\"row\",\"kind\":null,\"name\":\"flex_direction\"},{\"default\":\"wrap\",\"kind\":null,\"name\":\"flex_wrap\"},{\"default\":\"flex-start\",\"kind\":null,\"name\":\"justify_content\"}]},{\"extends\":null,\"module\":null,\"name\":\"GridStack1\",\"overrides\":[],\"properties\":[{\"default\":\"warn\",\"kind\":null,\"name\":\"mode\"},{\"default\":null,\"kind\":null,\"name\":\"ncols\"},{\"default\":null,\"kind\":null,\"name\":\"nrows\"},{\"default\":true,\"kind\":null,\"name\":\"allow_resize\"},{\"default\":true,\"kind\":null,\"name\":\"allow_drag\"},{\"default\":[],\"kind\":null,\"name\":\"state\"}]},{\"extends\":null,\"module\":null,\"name\":\"click1\",\"overrides\":[],\"properties\":[{\"default\":\"\",\"kind\":null,\"name\":\"terminal_output\"},{\"default\":\"\",\"kind\":null,\"name\":\"debug_name\"},{\"default\":0,\"kind\":null,\"name\":\"clears\"}]},{\"extends\":null,\"module\":null,\"name\":\"NotificationAreaBase1\",\"overrides\":[],\"properties\":[{\"default\":\"bottom-right\",\"kind\":null,\"name\":\"position\"},{\"default\":0,\"kind\":null,\"name\":\"_clear\"}]},{\"extends\":null,\"module\":null,\"name\":\"NotificationArea1\",\"overrides\":[],\"properties\":[{\"default\":[],\"kind\":null,\"name\":\"notifications\"},{\"default\":\"bottom-right\",\"kind\":null,\"name\":\"position\"},{\"default\":0,\"kind\":null,\"name\":\"_clear\"},{\"default\":[{\"background\":\"#ffc107\",\"icon\":{\"className\":\"fas fa-exclamation-triangle\",\"color\":\"white\",\"tagName\":\"i\"},\"type\":\"warning\"},{\"background\":\"#007bff\",\"icon\":{\"className\":\"fas fa-info-circle\",\"color\":\"white\",\"tagName\":\"i\"},\"type\":\"info\"}],\"kind\":null,\"name\":\"types\"}]},{\"extends\":null,\"module\":null,\"name\":\"Notification\",\"overrides\":[],\"properties\":[{\"default\":null,\"kind\":null,\"name\":\"background\"},{\"default\":3000,\"kind\":null,\"name\":\"duration\"},{\"default\":null,\"kind\":null,\"name\":\"icon\"},{\"default\":\"\",\"kind\":null,\"name\":\"message\"},{\"default\":null,\"kind\":null,\"name\":\"notification_type\"},{\"default\":false,\"kind\":null,\"name\":\"_destroyed\"}]},{\"extends\":null,\"module\":null,\"name\":\"TemplateActions1\",\"overrides\":[],\"properties\":[{\"default\":0,\"kind\":null,\"name\":\"open_modal\"},{\"default\":0,\"kind\":null,\"name\":\"close_modal\"}]},{\"extends\":null,\"module\":null,\"name\":\"MaterialTemplateActions1\",\"overrides\":[],\"properties\":[{\"default\":0,\"kind\":null,\"name\":\"open_modal\"},{\"default\":0,\"kind\":null,\"name\":\"close_modal\"}]}],\"roots\":{\"references\":[{\"attributes\":{\"client_comm_id\":\"462324a4d00b476b8d1d810bee227ef4\",\"comm_id\":\"f4685b925a9d45048a5a299be1c72f17\",\"plot_id\":\"4666\"},\"id\":\"4739\",\"type\":\"panel.models.comm_manager.CommManager\"},{\"attributes\":{\"format\":\"0,0.0[00000]\",\"text_align\":\"right\"},\"id\":\"4715\",\"type\":\"NumberFormatter\"},{\"attributes\":{},\"id\":\"4716\",\"type\":\"NumberEditor\"},{\"attributes\":{\"editor\":{\"id\":\"4716\"},\"field\":\"Percentage Missing\",\"formatter\":{\"id\":\"4715\"},\"title\":\"Percentage Missing\",\"width\":0},\"id\":\"4717\",\"type\":\"TableColumn\"},{\"attributes\":{},\"id\":\"4686\",\"type\":\"NumberEditor\"},{\"attributes\":{\"data\":{\"No of Missing\":[810,1417],\"Percentage Missing\":{\"__ndarray__\":\"3jqbH24poD+lC2Lm8kWsPw==\",\"dtype\":\"float64\",\"order\":\"little\",\"shape\":[2]},\"Variable Name\":[\"origin_zip\",\"destination_zip\"],\"index\":[0,1]},\"selected\":{\"id\":\"4698\"},\"selection_policy\":{\"id\":\"4729\"}},\"id\":\"4697\",\"type\":\"ColumnDataSource\"},{\"attributes\":{},\"id\":\"4681\",\"type\":\"IntEditor\"},{\"attributes\":{\"text_align\":\"left\"},\"id\":\"4669\",\"type\":\"NumberFormatter\"},{\"attributes\":{\"indices\":[]},\"id\":\"4698\",\"type\":\"Selection\"},{\"attributes\":{\"editor\":{\"id\":\"4701\"},\"field\":\"index\",\"formatter\":{\"id\":\"4699\"},\"title\":\"index\",\"width\":0},\"id\":\"4702\",\"type\":\"TableColumn\"},{\"attributes\":{\"child\":{\"id\":\"4720\"},\"name\":\"market_carrier_rates_data\",\"title\":\"market_carrier_rates_data\"},\"id\":\"4724\",\"type\":\"Panel\"},{\"attributes\":{\"child\":{\"id\":\"4695\"},\"name\":\"fuel_prices_data\",\"title\":\"fuel_prices_data\"},\"id\":\"4696\",\"type\":\"Panel\"},{\"attributes\":{},\"id\":\"4727\",\"type\":\"UnionRenderers\"},{\"attributes\":{\"editor\":{\"id\":\"4676\"},\"field\":\"Variable Name\",\"formatter\":{\"id\":\"4675\"},\"title\":\"Variable Name\",\"width\":0},\"id\":\"4677\",\"type\":\"TableColumn\"},{\"attributes\":{\"text_align\":\"right\"},\"id\":\"4680\",\"type\":\"NumberFormatter\"},{\"attributes\":{\"css_classes\":[\"markdown\"],\"margin\":[5,5,5,5],\"name\":\"fuel_prices_data\",\"text\":\"&lt;p&gt;No Missing Values&lt;/p&gt;\"},\"id\":\"4695\",\"type\":\"panel.models.markup.HTML\"},{\"attributes\":{\"source\":{\"id\":\"4697\"}},\"id\":\"4722\",\"type\":\"CDSView\"},{\"attributes\":{},\"id\":\"4675\",\"type\":\"StringFormatter\"},{\"attributes\":{\"columns\":[{\"id\":\"4702\"},{\"id\":\"4707\"},{\"id\":\"4712\"},{\"id\":\"4717\"}],\"editable\":true,\"height\":300,\"index_position\":null,\"margin\":[5,10,5,10],\"name\":\"market_carrier_rates_data\",\"row_height\":40,\"sizing_mode\":\"fixed\",\"source\":{\"id\":\"4697\"},\"view\":{\"id\":\"4722\"},\"width\":300},\"id\":\"4720\",\"type\":\"DataTable\"},{\"attributes\":{\"editor\":{\"id\":\"4686\"},\"field\":\"Percentage Missing\",\"formatter\":{\"id\":\"4685\"},\"title\":\"Percentage Missing\",\"width\":0},\"id\":\"4687\",\"type\":\"TableColumn\"},{\"attributes\":{\"text_align\":\"left\"},\"id\":\"4699\",\"type\":\"NumberFormatter\"},{\"attributes\":{\"source\":{\"id\":\"4667\"}},\"id\":\"4692\",\"type\":\"CDSView\"},{\"attributes\":{\"editor\":{\"id\":\"4681\"},\"field\":\"No of Missing\",\"formatter\":{\"id\":\"4680\"},\"title\":\"No of Missing\",\"width\":0},\"id\":\"4682\",\"type\":\"TableColumn\"},{\"attributes\":{},\"id\":\"4701\",\"type\":\"CellEditor\"},{\"attributes\":{\"format\":\"0,0.0[00000]\",\"text_align\":\"right\"},\"id\":\"4685\",\"type\":\"NumberFormatter\"},{\"attributes\":{\"data\":{\"No of Missing\":[1,1,2],\"Percentage Missing\":{\"__ndarray__\":\"mKjwgXUsPj+YqPCBdSw+P5io8IF1LE4/\",\"dtype\":\"float64\",\"order\":\"little\",\"shape\":[3]},\"Variable Name\":[\"origin_city\",\"origin_state\",\"destination_state\"],\"index\":[0,1,2]},\"selected\":{\"id\":\"4668\"},\"selection_policy\":{\"id\":\"4727\"}},\"id\":\"4667\",\"type\":\"ColumnDataSource\"},{\"attributes\":{\"child\":{\"id\":\"4690\"},\"name\":\"carrier_data\",\"title\":\"carrier_data\"},\"id\":\"4694\",\"type\":\"Panel\"},{\"attributes\":{\"columns\":[{\"id\":\"4672\"},{\"id\":\"4677\"},{\"id\":\"4682\"},{\"id\":\"4687\"}],\"editable\":true,\"height\":300,\"index_position\":null,\"margin\":[5,10,5,10],\"name\":\"carrier_data\",\"row_height\":40,\"sizing_mode\":\"fixed\",\"source\":{\"id\":\"4667\"},\"view\":{\"id\":\"4692\"},\"width\":300},\"id\":\"4690\",\"type\":\"DataTable\"},{\"attributes\":{\"editor\":{\"id\":\"4671\"},\"field\":\"index\",\"formatter\":{\"id\":\"4669\"},\"title\":\"index\",\"width\":0},\"id\":\"4672\",\"type\":\"TableColumn\"},{\"attributes\":{},\"id\":\"4729\",\"type\":\"UnionRenderers\"},{\"attributes\":{},\"id\":\"4705\",\"type\":\"StringFormatter\"},{\"attributes\":{},\"id\":\"4706\",\"type\":\"StringEditor\"},{\"attributes\":{\"editor\":{\"id\":\"4706\"},\"field\":\"Variable Name\",\"formatter\":{\"id\":\"4705\"},\"title\":\"Variable Name\",\"width\":0},\"id\":\"4707\",\"type\":\"TableColumn\"},{\"attributes\":{},\"id\":\"4671\",\"type\":\"CellEditor\"},{\"attributes\":{\"indices\":[]},\"id\":\"4668\",\"type\":\"Selection\"},{\"attributes\":{\"css_classes\":[\"markdown\"],\"margin\":[5,5,5,5],\"name\":\"route_mapping_data\",\"text\":\"&lt;p&gt;No Missing Values&lt;/p&gt;\"},\"id\":\"4725\",\"type\":\"panel.models.markup.HTML\"},{\"attributes\":{\"margin\":[0,0,0,0],\"tabs\":[{\"id\":\"4694\"},{\"id\":\"4696\"},{\"id\":\"4724\"},{\"id\":\"4726\"}]},\"id\":\"4666\",\"type\":\"panel.models.tabs.Tabs\"},{\"attributes\":{\"text_align\":\"right\"},\"id\":\"4710\",\"type\":\"NumberFormatter\"},{\"attributes\":{},\"id\":\"4676\",\"type\":\"StringEditor\"},{\"attributes\":{},\"id\":\"4711\",\"type\":\"IntEditor\"},{\"attributes\":{\"child\":{\"id\":\"4725\"},\"name\":\"route_mapping_data\",\"title\":\"route_mapping_data\"},\"id\":\"4726\",\"type\":\"Panel\"},{\"attributes\":{\"editor\":{\"id\":\"4711\"},\"field\":\"No of Missing\",\"formatter\":{\"id\":\"4710\"},\"title\":\"No of Missing\",\"width\":0},\"id\":\"4712\",\"type\":\"TableColumn\"}],\"root_ids\":[\"4666\",\"4739\"]},\"title\":\"Bokeh Application\",\"version\":\"2.4.3\"}};\n",
       "    var render_items = [{\"docid\":\"25126874-0f27-4695-93a1-6b49391dcb66\",\"root_ids\":[\"4666\"],\"roots\":{\"4666\":\"59e119c7-56ef-4d3f-94ed-946d550bb3a3\"}}];\n",
       "    root.Bokeh.embed.embed_items_notebook(docs_json, render_items);\n",
       "    for (const render_item of render_items) {\n",
       "      for (const root_id of render_item.root_ids) {\n",
       "\tconst id_el = document.getElementById(root_id)\n",
       "\tif (id_el.children.length && (id_el.children[0].className === 'bk-root')) {\n",
       "\t  const root_el = id_el.children[0]\n",
       "\t  root_el.id = root_el.id + '-rendered'\n",
       "\t}\n",
       "      }\n",
       "    }\n",
       "  }\n",
       "  if (root.Bokeh !== undefined && root.Bokeh.Panel !== undefined) {\n",
       "    embed_document(root);\n",
       "  } else {\n",
       "    var attempts = 0;\n",
       "    var timer = setInterval(function(root) {\n",
       "      if (root.Bokeh !== undefined && root.Bokeh.Panel !== undefined) {\n",
       "        clearInterval(timer);\n",
       "        embed_document(root);\n",
       "      } else if (document.readyState == \"complete\") {\n",
       "        attempts++;\n",
       "        if (attempts > 200) {\n",
       "          clearInterval(timer);\n",
       "          console.log(\"Bokeh: ERROR: Unable to run BokehJS code because BokehJS library is missing\");\n",
       "        }\n",
       "      }\n",
       "    }, 25, root)\n",
       "  }\n",
       "})(window);</script>"
      ],
      "text/plain": [
       "Tabs\n",
       "    [0] DataFrame(height=300, name='carrier_data', sizing_mode='fixed', value=       Variable N..., width=300)\n",
       "    [1] Markdown(str, name='fuel_prices_data')\n",
       "    [2] DataFrame(height=300, name='market_carrier_rates_data..., sizing_mode='fixed', value=     Variable N..., width=300)\n",
       "    [3] Markdown(str, name='route_mapping_data')"
      ]
     },
     "execution_count": 24,
     "metadata": {
      "application/vnd.holoviews_exec.v0+json": {
       "id": "4666"
      }
     },
     "output_type": "execute_result"
    }
   ],
   "source": [
    "%%time\n",
    "utils.display_as_tabs([(k, eda.missing_value_summary(v)) for k,v in data.items()])"
   ]
  },
  {
   "cell_type": "markdown",
   "metadata": {},
   "source": [
    "## Cardinality check of tables wrt consumer data"
   ]
  },
  {
   "cell_type": "code",
   "execution_count": 25,
   "metadata": {},
   "outputs": [],
   "source": [
    "data_to_check = {\n",
    "    'carrier_data': df_carrier_data,\n",
    "    'market_carrier_rates_data':df_market_carrier_rates_data,\n",
    "}\n"
   ]
  },
  {
   "cell_type": "code",
   "execution_count": 26,
   "metadata": {},
   "outputs": [
    {
     "name": "stderr",
     "output_type": "stream",
     "text": [
      "                                                                                \r"
     ]
    },
    {
     "name": "stdout",
     "output_type": "stream",
     "text": [
      "CPU times: user 52.3 s, sys: 9.67 s, total: 1min 1s\n",
      "Wall time: 1min 46s\n"
     ]
    },
    {
     "data": {},
     "metadata": {},
     "output_type": "display_data"
    },
    {
     "data": {
      "application/vnd.holoviews_exec.v0+json": "",
      "text/html": [
       "<div id='4760'>\n",
       "  <div class=\"bk-root\" id=\"1df16c11-15f6-4e1f-a255-facd79a5f6a3\" data-root-id=\"4760\"></div>\n",
       "</div>\n",
       "<script type=\"application/javascript\">(function(root) {\n",
       "  function embed_document(root) {\n",
       "    var docs_json = {\"523f4c32-7b61-400d-87af-b6a8b25e1fe3\":{\"defs\":[{\"extends\":null,\"module\":null,\"name\":\"ReactiveHTML1\",\"overrides\":[],\"properties\":[]},{\"extends\":null,\"module\":null,\"name\":\"FlexBox1\",\"overrides\":[],\"properties\":[{\"default\":\"flex-start\",\"kind\":null,\"name\":\"align_content\"},{\"default\":\"flex-start\",\"kind\":null,\"name\":\"align_items\"},{\"default\":\"row\",\"kind\":null,\"name\":\"flex_direction\"},{\"default\":\"wrap\",\"kind\":null,\"name\":\"flex_wrap\"},{\"default\":\"flex-start\",\"kind\":null,\"name\":\"justify_content\"}]},{\"extends\":null,\"module\":null,\"name\":\"GridStack1\",\"overrides\":[],\"properties\":[{\"default\":\"warn\",\"kind\":null,\"name\":\"mode\"},{\"default\":null,\"kind\":null,\"name\":\"ncols\"},{\"default\":null,\"kind\":null,\"name\":\"nrows\"},{\"default\":true,\"kind\":null,\"name\":\"allow_resize\"},{\"default\":true,\"kind\":null,\"name\":\"allow_drag\"},{\"default\":[],\"kind\":null,\"name\":\"state\"}]},{\"extends\":null,\"module\":null,\"name\":\"click1\",\"overrides\":[],\"properties\":[{\"default\":\"\",\"kind\":null,\"name\":\"terminal_output\"},{\"default\":\"\",\"kind\":null,\"name\":\"debug_name\"},{\"default\":0,\"kind\":null,\"name\":\"clears\"}]},{\"extends\":null,\"module\":null,\"name\":\"NotificationAreaBase1\",\"overrides\":[],\"properties\":[{\"default\":\"bottom-right\",\"kind\":null,\"name\":\"position\"},{\"default\":0,\"kind\":null,\"name\":\"_clear\"}]},{\"extends\":null,\"module\":null,\"name\":\"NotificationArea1\",\"overrides\":[],\"properties\":[{\"default\":[],\"kind\":null,\"name\":\"notifications\"},{\"default\":\"bottom-right\",\"kind\":null,\"name\":\"position\"},{\"default\":0,\"kind\":null,\"name\":\"_clear\"},{\"default\":[{\"background\":\"#ffc107\",\"icon\":{\"className\":\"fas fa-exclamation-triangle\",\"color\":\"white\",\"tagName\":\"i\"},\"type\":\"warning\"},{\"background\":\"#007bff\",\"icon\":{\"className\":\"fas fa-info-circle\",\"color\":\"white\",\"tagName\":\"i\"},\"type\":\"info\"}],\"kind\":null,\"name\":\"types\"}]},{\"extends\":null,\"module\":null,\"name\":\"Notification\",\"overrides\":[],\"properties\":[{\"default\":null,\"kind\":null,\"name\":\"background\"},{\"default\":3000,\"kind\":null,\"name\":\"duration\"},{\"default\":null,\"kind\":null,\"name\":\"icon\"},{\"default\":\"\",\"kind\":null,\"name\":\"message\"},{\"default\":null,\"kind\":null,\"name\":\"notification_type\"},{\"default\":false,\"kind\":null,\"name\":\"_destroyed\"}]},{\"extends\":null,\"module\":null,\"name\":\"TemplateActions1\",\"overrides\":[],\"properties\":[{\"default\":0,\"kind\":null,\"name\":\"open_modal\"},{\"default\":0,\"kind\":null,\"name\":\"close_modal\"}]},{\"extends\":null,\"module\":null,\"name\":\"MaterialTemplateActions1\",\"overrides\":[],\"properties\":[{\"default\":0,\"kind\":null,\"name\":\"open_modal\"},{\"default\":0,\"kind\":null,\"name\":\"close_modal\"}]}],\"roots\":{\"references\":[{\"attributes\":{\"margin\":[5,20,5,5],\"name\":\"carrier_data\",\"text\":\"{\\\"A-B\\\": 0, \\\"B-A\\\": 0, \\\"AuB\\\": 6080, \\\"A^B\\\": 6080}\"},\"id\":\"4761\",\"type\":\"panel.models.markup.JSON\"},{\"attributes\":{\"child\":{\"id\":\"4763\"},\"name\":\"market_carrier_rates_data\",\"title\":\"market_carrier_rates_data\"},\"id\":\"4764\",\"type\":\"Panel\"},{\"attributes\":{\"margin\":[0,0,0,0],\"tabs\":[{\"id\":\"4762\"},{\"id\":\"4764\"}]},\"id\":\"4760\",\"type\":\"panel.models.tabs.Tabs\"},{\"attributes\":{\"margin\":[5,20,5,5],\"name\":\"market_carrier_rates_data\",\"text\":\"{\\\"A-B\\\": 6029, \\\"B-A\\\": 98, \\\"AuB\\\": 6178, \\\"A^B\\\": 51}\"},\"id\":\"4763\",\"type\":\"panel.models.markup.JSON\"},{\"attributes\":{\"child\":{\"id\":\"4761\"},\"name\":\"carrier_data\",\"title\":\"carrier_data\"},\"id\":\"4762\",\"type\":\"Panel\"},{\"attributes\":{\"client_comm_id\":\"a122b7bfee0040bf80285604f4cbe4ed\",\"comm_id\":\"b8ee375985e0480fae7731df1bcec291\",\"plot_id\":\"4760\"},\"id\":\"4765\",\"type\":\"panel.models.comm_manager.CommManager\"}],\"root_ids\":[\"4760\",\"4765\"]},\"title\":\"Bokeh Application\",\"version\":\"2.4.3\"}};\n",
       "    var render_items = [{\"docid\":\"523f4c32-7b61-400d-87af-b6a8b25e1fe3\",\"root_ids\":[\"4760\"],\"roots\":{\"4760\":\"1df16c11-15f6-4e1f-a255-facd79a5f6a3\"}}];\n",
       "    root.Bokeh.embed.embed_items_notebook(docs_json, render_items);\n",
       "    for (const render_item of render_items) {\n",
       "      for (const root_id of render_item.root_ids) {\n",
       "\tconst id_el = document.getElementById(root_id)\n",
       "\tif (id_el.children.length && (id_el.children[0].className === 'bk-root')) {\n",
       "\t  const root_el = id_el.children[0]\n",
       "\t  root_el.id = root_el.id + '-rendered'\n",
       "\t}\n",
       "      }\n",
       "    }\n",
       "  }\n",
       "  if (root.Bokeh !== undefined && root.Bokeh.Panel !== undefined) {\n",
       "    embed_document(root);\n",
       "  } else {\n",
       "    var attempts = 0;\n",
       "    var timer = setInterval(function(root) {\n",
       "      if (root.Bokeh !== undefined && root.Bokeh.Panel !== undefined) {\n",
       "        clearInterval(timer);\n",
       "        embed_document(root);\n",
       "      } else if (document.readyState == \"complete\") {\n",
       "        attempts++;\n",
       "        if (attempts > 200) {\n",
       "          clearInterval(timer);\n",
       "          console.log(\"Bokeh: ERROR: Unable to run BokehJS code because BokehJS library is missing\");\n",
       "        }\n",
       "      }\n",
       "    }, 25, root)\n",
       "  }\n",
       "})(window);</script>"
      ],
      "text/plain": [
       "Tabs\n",
       "    [0] JSON(dict, name='carrier_data')\n",
       "    [1] JSON(dict, name='market_carrier_rates_data...)"
      ]
     },
     "execution_count": 26,
     "metadata": {
      "application/vnd.holoviews_exec.v0+json": {
       "id": "4760"
      }
     },
     "output_type": "execute_result"
    }
   ],
   "source": [
    "%%time\n",
    "utils.display_as_tabs([(k, eda.setanalyse(df_carrier_data, v,\"origin_zip\")) for k,v in data_to_check.items()])"
   ]
  }
 ],
 "metadata": {
  "kernelspec": {
   "display_name": "ta-lib-1.1.2-dev",
   "language": "python",
   "name": "python3"
  },
  "language_info": {
   "codemirror_mode": {
    "name": "ipython",
    "version": 3
   },
   "file_extension": ".py",
   "mimetype": "text/x-python",
   "name": "python",
   "nbconvert_exporter": "python",
   "pygments_lexer": "ipython3",
   "version": "3.9.15"
  }
 },
 "nbformat": 4,
 "nbformat_minor": 4
}
