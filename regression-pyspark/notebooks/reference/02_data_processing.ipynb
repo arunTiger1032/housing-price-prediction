{
    "cells": [
        {
            "cell_type": "markdown",
            "metadata": {},
            "source": [
                "# Purpose\n",
                "\n",
                "\n",
                "This notebook demonstrates the data pipeline from raw tables to analytical datasets. At the end of this activity, train & test data sets are created from raw data."
            ]
        },
        {
            "cell_type": "markdown",
            "metadata": {},
            "source": [
                "# Imports"
            ]
        },
        {
            "cell_type": "code",
            "execution_count": 5,
            "metadata": {},
            "outputs": [
                {
                    "name": "stderr",
                    "output_type": "stream",
                    "text": [
                        "WARNING:param.panel_extension: bokeh extension not recognized and will be skipped.\n"
                    ]
                },
                {
                    "data": {
                        "application/javascript": "(function(root) {\n  function now() {\n    return new Date();\n  }\n\n  var force = true;\n\n  if (typeof root._bokeh_onload_callbacks === \"undefined\" || force === true) {\n    root._bokeh_onload_callbacks = [];\n    root._bokeh_is_loading = undefined;\n  }\n\n  if (typeof (root._bokeh_timeout) === \"undefined\" || force === true) {\n    root._bokeh_timeout = Date.now() + 5000;\n    root._bokeh_failed_load = false;\n  }\n\n  function run_callbacks() {\n    try {\n      root._bokeh_onload_callbacks.forEach(function(callback) {\n        if (callback != null)\n          callback();\n      });\n    } finally {\n      delete root._bokeh_onload_callbacks\n    }\n    console.debug(\"Bokeh: all callbacks have finished\");\n  }\n\n  function load_libs(css_urls, js_urls, js_modules, callback) {\n    if (css_urls == null) css_urls = [];\n    if (js_urls == null) js_urls = [];\n    if (js_modules == null) js_modules = [];\n\n    root._bokeh_onload_callbacks.push(callback);\n    if (root._bokeh_is_loading > 0) {\n      console.debug(\"Bokeh: BokehJS is being loaded, scheduling callback at\", now());\n      return null;\n    }\n    if (js_urls.length === 0 && js_modules.length === 0) {\n      run_callbacks();\n      return null;\n    }\n    console.debug(\"Bokeh: BokehJS not loaded, scheduling load and callback at\", now());\n\n    function on_load() {\n      root._bokeh_is_loading--;\n      if (root._bokeh_is_loading === 0) {\n        console.debug(\"Bokeh: all BokehJS libraries/stylesheets loaded\");\n        run_callbacks()\n      }\n    }\n\n    function on_error() {\n      console.error(\"failed to load \" + url);\n    }\n\n    for (var i = 0; i < css_urls.length; i++) {\n      var url = css_urls[i];\n      const element = document.createElement(\"link\");\n      element.onload = on_load;\n      element.onerror = on_error;\n      element.rel = \"stylesheet\";\n      element.type = \"text/css\";\n      element.href = url;\n      console.debug(\"Bokeh: injecting link tag for BokehJS stylesheet: \", url);\n      document.body.appendChild(element);\n    }\n\n    var skip = [];\n    if (window.requirejs) {\n      window.requirejs.config({'packages': {}, 'paths': {'gridstack': 'https://cdn.jsdelivr.net/npm/gridstack@4.2.5/dist/gridstack-h5', 'notyf': 'https://cdn.jsdelivr.net/npm/notyf@3/notyf.min'}, 'shim': {'gridstack': {'exports': 'GridStack'}}});\n      require([\"gridstack\"], function(GridStack) {\n\twindow.GridStack = GridStack\n\ton_load()\n      })\n      require([\"notyf\"], function() {\n\ton_load()\n      })\n      root._bokeh_is_loading = css_urls.length + 2;\n    } else {\n      root._bokeh_is_loading = css_urls.length + js_urls.length + js_modules.length;\n    }    if (((window['GridStack'] !== undefined) && (!(window['GridStack'] instanceof HTMLElement))) || window.requirejs) {\n      var urls = ['https://cdn.holoviz.org/panel/0.14.4/dist/bundled/gridstack/gridstack@4.2.5/dist/gridstack-h5.js'];\n      for (var i = 0; i < urls.length; i++) {\n        skip.push(urls[i])\n      }\n    }    if (((window['Notyf'] !== undefined) && (!(window['Notyf'] instanceof HTMLElement))) || window.requirejs) {\n      var urls = ['https://cdn.holoviz.org/panel/0.14.4/dist/bundled/notificationarea/notyf@3/notyf.min.js'];\n      for (var i = 0; i < urls.length; i++) {\n        skip.push(urls[i])\n      }\n    }    for (var i = 0; i < js_urls.length; i++) {\n      var url = js_urls[i];\n      if (skip.indexOf(url) >= 0) {\n\tif (!window.requirejs) {\n\t  on_load();\n\t}\n\tcontinue;\n      }\n      var element = document.createElement('script');\n      element.onload = on_load;\n      element.onerror = on_error;\n      element.async = false;\n      element.src = url;\n      console.debug(\"Bokeh: injecting script tag for BokehJS library: \", url);\n      document.head.appendChild(element);\n    }\n    for (var i = 0; i < js_modules.length; i++) {\n      var url = js_modules[i];\n      if (skip.indexOf(url) >= 0) {\n\tif (!window.requirejs) {\n\t  on_load();\n\t}\n\tcontinue;\n      }\n      var element = document.createElement('script');\n      element.onload = on_load;\n      element.onerror = on_error;\n      element.async = false;\n      element.src = url;\n      element.type = \"module\";\n      console.debug(\"Bokeh: injecting script tag for BokehJS library: \", url);\n      document.head.appendChild(element);\n    }\n    if (!js_urls.length && !js_modules.length) {\n      on_load()\n    }\n  };\n\n  function inject_raw_css(css) {\n    const element = document.createElement(\"style\");\n    element.appendChild(document.createTextNode(css));\n    document.body.appendChild(element);\n  }\n\n  var js_urls = [\"https://cdn.bokeh.org/bokeh/release/bokeh-2.4.3.min.js\", \"https://cdn.bokeh.org/bokeh/release/bokeh-gl-2.4.3.min.js\", \"https://cdn.bokeh.org/bokeh/release/bokeh-widgets-2.4.3.min.js\", \"https://cdn.bokeh.org/bokeh/release/bokeh-tables-2.4.3.min.js\", \"https://cdn.bokeh.org/bokeh/release/bokeh-mathjax-2.4.3.min.js\", \"https://unpkg.com/@holoviz/panel@0.14.4/dist/panel.min.js\"];\n  var js_modules = [];\n  var css_urls = [\"https://cdn.holoviz.org/panel/0.14.4/dist/css/card.css\", \"https://cdn.holoviz.org/panel/0.14.4/dist/css/loading.css\", \"https://cdn.holoviz.org/panel/0.14.4/dist/css/dataframe.css\", \"https://cdn.holoviz.org/panel/0.14.4/dist/css/alerts.css\", \"https://cdn.holoviz.org/panel/0.14.4/dist/css/json.css\", \"https://cdn.holoviz.org/panel/0.14.4/dist/css/widgets.css\", \"https://cdn.holoviz.org/panel/0.14.4/dist/css/markdown.css\", \"https://cdn.holoviz.org/panel/0.14.4/dist/css/debugger.css\"];\n  var inline_js = [    function(Bokeh) {\n      inject_raw_css(\"\\n    .bk.pn-loading.arc:before {\\n      background-image: url(\\\"data:image/svg+xml;base64,PHN2ZyB4bWxucz0iaHR0cDovL3d3dy53My5vcmcvMjAwMC9zdmciIHN0eWxlPSJtYXJnaW46IGF1dG87IGJhY2tncm91bmQ6IG5vbmU7IGRpc3BsYXk6IGJsb2NrOyBzaGFwZS1yZW5kZXJpbmc6IGF1dG87IiB2aWV3Qm94PSIwIDAgMTAwIDEwMCIgcHJlc2VydmVBc3BlY3RSYXRpbz0ieE1pZFlNaWQiPiAgPGNpcmNsZSBjeD0iNTAiIGN5PSI1MCIgZmlsbD0ibm9uZSIgc3Ryb2tlPSIjYzNjM2MzIiBzdHJva2Utd2lkdGg9IjEwIiByPSIzNSIgc3Ryb2tlLWRhc2hhcnJheT0iMTY0LjkzMzYxNDMxMzQ2NDE1IDU2Ljk3Nzg3MTQzNzgyMTM4Ij4gICAgPGFuaW1hdGVUcmFuc2Zvcm0gYXR0cmlidXRlTmFtZT0idHJhbnNmb3JtIiB0eXBlPSJyb3RhdGUiIHJlcGVhdENvdW50PSJpbmRlZmluaXRlIiBkdXI9IjFzIiB2YWx1ZXM9IjAgNTAgNTA7MzYwIDUwIDUwIiBrZXlUaW1lcz0iMDsxIj48L2FuaW1hdGVUcmFuc2Zvcm0+ICA8L2NpcmNsZT48L3N2Zz4=\\\");\\n      background-size: auto calc(min(50%, 400px));\\n    }\\n    \");\n    },    function(Bokeh) {\n      Bokeh.set_log_level(\"info\");\n    },\nfunction(Bokeh) {} // ensure no trailing comma for IE\n  ];\n\n  function run_inline_js() {\n    if ((root.Bokeh !== undefined) || (force === true)) {\n      for (var i = 0; i < inline_js.length; i++) {\n        inline_js[i].call(root, root.Bokeh);\n      }} else if (Date.now() < root._bokeh_timeout) {\n      setTimeout(run_inline_js, 100);\n    } else if (!root._bokeh_failed_load) {\n      console.log(\"Bokeh: BokehJS failed to load within specified timeout.\");\n      root._bokeh_failed_load = true;\n    }\n  }\n\n  if (root._bokeh_is_loading === 0) {\n    console.debug(\"Bokeh: BokehJS loaded, going straight to plotting\");\n    run_inline_js();\n  } else {\n    load_libs(css_urls, js_urls, js_modules, function() {\n      console.debug(\"Bokeh: BokehJS plotting callback run at\", now());\n      run_inline_js();\n    });\n  }\n}(window));",
                        "application/vnd.holoviews_load.v0+json": ""
                    },
                    "metadata": {},
                    "output_type": "display_data"
                },
                {
                    "data": {
                        "application/javascript": "\nif ((window.PyViz === undefined) || (window.PyViz instanceof HTMLElement)) {\n  window.PyViz = {comms: {}, comm_status:{}, kernels:{}, receivers: {}, plot_index: []}\n}\n\n\n    function JupyterCommManager() {\n    }\n\n    JupyterCommManager.prototype.register_target = function(plot_id, comm_id, msg_handler) {\n      if (window.comm_manager || ((window.Jupyter !== undefined) && (Jupyter.notebook.kernel != null))) {\n        var comm_manager = window.comm_manager || Jupyter.notebook.kernel.comm_manager;\n        comm_manager.register_target(comm_id, function(comm) {\n          comm.on_msg(msg_handler);\n        });\n      } else if ((plot_id in window.PyViz.kernels) && (window.PyViz.kernels[plot_id])) {\n        window.PyViz.kernels[plot_id].registerCommTarget(comm_id, function(comm) {\n          comm.onMsg = msg_handler;\n        });\n      } else if (typeof google != 'undefined' && google.colab.kernel != null) {\n        google.colab.kernel.comms.registerTarget(comm_id, (comm) => {\n          var messages = comm.messages[Symbol.asyncIterator]();\n          function processIteratorResult(result) {\n            var message = result.value;\n            console.log(message)\n            var content = {data: message.data, comm_id};\n            var buffers = []\n            for (var buffer of message.buffers || []) {\n              buffers.push(new DataView(buffer))\n            }\n            var metadata = message.metadata || {};\n            var msg = {content, buffers, metadata}\n            msg_handler(msg);\n            return messages.next().then(processIteratorResult);\n          }\n          return messages.next().then(processIteratorResult);\n        })\n      }\n    }\n\n    JupyterCommManager.prototype.get_client_comm = function(plot_id, comm_id, msg_handler) {\n      if (comm_id in window.PyViz.comms) {\n        return window.PyViz.comms[comm_id];\n      } else if (window.comm_manager || ((window.Jupyter !== undefined) && (Jupyter.notebook.kernel != null))) {\n        var comm_manager = window.comm_manager || Jupyter.notebook.kernel.comm_manager;\n        var comm = comm_manager.new_comm(comm_id, {}, {}, {}, comm_id);\n        if (msg_handler) {\n          comm.on_msg(msg_handler);\n        }\n      } else if ((plot_id in window.PyViz.kernels) && (window.PyViz.kernels[plot_id])) {\n        var comm = window.PyViz.kernels[plot_id].connectToComm(comm_id);\n        comm.open();\n        if (msg_handler) {\n          comm.onMsg = msg_handler;\n        }\n      } else if (typeof google != 'undefined' && google.colab.kernel != null) {\n        var comm_promise = google.colab.kernel.comms.open(comm_id)\n        comm_promise.then((comm) => {\n          window.PyViz.comms[comm_id] = comm;\n          if (msg_handler) {\n            var messages = comm.messages[Symbol.asyncIterator]();\n            function processIteratorResult(result) {\n              var message = result.value;\n              var content = {data: message.data};\n              var metadata = message.metadata || {comm_id};\n              var msg = {content, metadata}\n              msg_handler(msg);\n              return messages.next().then(processIteratorResult);\n            }\n            return messages.next().then(processIteratorResult);\n          }\n        }) \n        var sendClosure = (data, metadata, buffers, disposeOnDone) => {\n          return comm_promise.then((comm) => {\n            comm.send(data, metadata, buffers, disposeOnDone);\n          });\n        };\n        var comm = {\n          send: sendClosure\n        };\n      }\n      window.PyViz.comms[comm_id] = comm;\n      return comm;\n    }\n    window.PyViz.comm_manager = new JupyterCommManager();\n    \n\n\nvar JS_MIME_TYPE = 'application/javascript';\nvar HTML_MIME_TYPE = 'text/html';\nvar EXEC_MIME_TYPE = 'application/vnd.holoviews_exec.v0+json';\nvar CLASS_NAME = 'output';\n\n/**\n * Render data to the DOM node\n */\nfunction render(props, node) {\n  var div = document.createElement(\"div\");\n  var script = document.createElement(\"script\");\n  node.appendChild(div);\n  node.appendChild(script);\n}\n\n/**\n * Handle when a new output is added\n */\nfunction handle_add_output(event, handle) {\n  var output_area = handle.output_area;\n  var output = handle.output;\n  if ((output.data == undefined) || (!output.data.hasOwnProperty(EXEC_MIME_TYPE))) {\n    return\n  }\n  var id = output.metadata[EXEC_MIME_TYPE][\"id\"];\n  var toinsert = output_area.element.find(\".\" + CLASS_NAME.split(' ')[0]);\n  if (id !== undefined) {\n    var nchildren = toinsert.length;\n    var html_node = toinsert[nchildren-1].children[0];\n    html_node.innerHTML = output.data[HTML_MIME_TYPE];\n    var scripts = [];\n    var nodelist = html_node.querySelectorAll(\"script\");\n    for (var i in nodelist) {\n      if (nodelist.hasOwnProperty(i)) {\n        scripts.push(nodelist[i])\n      }\n    }\n\n    scripts.forEach( function (oldScript) {\n      var newScript = document.createElement(\"script\");\n      var attrs = [];\n      var nodemap = oldScript.attributes;\n      for (var j in nodemap) {\n        if (nodemap.hasOwnProperty(j)) {\n          attrs.push(nodemap[j])\n        }\n      }\n      attrs.forEach(function(attr) { newScript.setAttribute(attr.name, attr.value) });\n      newScript.appendChild(document.createTextNode(oldScript.innerHTML));\n      oldScript.parentNode.replaceChild(newScript, oldScript);\n    });\n    if (JS_MIME_TYPE in output.data) {\n      toinsert[nchildren-1].children[1].textContent = output.data[JS_MIME_TYPE];\n    }\n    output_area._hv_plot_id = id;\n    if ((window.Bokeh !== undefined) && (id in Bokeh.index)) {\n      window.PyViz.plot_index[id] = Bokeh.index[id];\n    } else {\n      window.PyViz.plot_index[id] = null;\n    }\n  } else if (output.metadata[EXEC_MIME_TYPE][\"server_id\"] !== undefined) {\n    var bk_div = document.createElement(\"div\");\n    bk_div.innerHTML = output.data[HTML_MIME_TYPE];\n    var script_attrs = bk_div.children[0].attributes;\n    for (var i = 0; i < script_attrs.length; i++) {\n      toinsert[toinsert.length - 1].childNodes[1].setAttribute(script_attrs[i].name, script_attrs[i].value);\n    }\n    // store reference to server id on output_area\n    output_area._bokeh_server_id = output.metadata[EXEC_MIME_TYPE][\"server_id\"];\n  }\n}\n\n/**\n * Handle when an output is cleared or removed\n */\nfunction handle_clear_output(event, handle) {\n  var id = handle.cell.output_area._hv_plot_id;\n  var server_id = handle.cell.output_area._bokeh_server_id;\n  if (((id === undefined) || !(id in PyViz.plot_index)) && (server_id !== undefined)) { return; }\n  var comm = window.PyViz.comm_manager.get_client_comm(\"hv-extension-comm\", \"hv-extension-comm\", function () {});\n  if (server_id !== null) {\n    comm.send({event_type: 'server_delete', 'id': server_id});\n    return;\n  } else if (comm !== null) {\n    comm.send({event_type: 'delete', 'id': id});\n  }\n  delete PyViz.plot_index[id];\n  if ((window.Bokeh !== undefined) & (id in window.Bokeh.index)) {\n    var doc = window.Bokeh.index[id].model.document\n    doc.clear();\n    const i = window.Bokeh.documents.indexOf(doc);\n    if (i > -1) {\n      window.Bokeh.documents.splice(i, 1);\n    }\n  }\n}\n\n/**\n * Handle kernel restart event\n */\nfunction handle_kernel_cleanup(event, handle) {\n  delete PyViz.comms[\"hv-extension-comm\"];\n  window.PyViz.plot_index = {}\n}\n\n/**\n * Handle update_display_data messages\n */\nfunction handle_update_output(event, handle) {\n  handle_clear_output(event, {cell: {output_area: handle.output_area}})\n  handle_add_output(event, handle)\n}\n\nfunction register_renderer(events, OutputArea) {\n  function append_mime(data, metadata, element) {\n    // create a DOM node to render to\n    var toinsert = this.create_output_subarea(\n    metadata,\n    CLASS_NAME,\n    EXEC_MIME_TYPE\n    );\n    this.keyboard_manager.register_events(toinsert);\n    // Render to node\n    var props = {data: data, metadata: metadata[EXEC_MIME_TYPE]};\n    render(props, toinsert[0]);\n    element.append(toinsert);\n    return toinsert\n  }\n\n  events.on('output_added.OutputArea', handle_add_output);\n  events.on('output_updated.OutputArea', handle_update_output);\n  events.on('clear_output.CodeCell', handle_clear_output);\n  events.on('delete.Cell', handle_clear_output);\n  events.on('kernel_ready.Kernel', handle_kernel_cleanup);\n\n  OutputArea.prototype.register_mime_type(EXEC_MIME_TYPE, append_mime, {\n    safe: true,\n    index: 0\n  });\n}\n\nif (window.Jupyter !== undefined) {\n  try {\n    var events = require('base/js/events');\n    var OutputArea = require('notebook/js/outputarea').OutputArea;\n    if (OutputArea.prototype.mime_types().indexOf(EXEC_MIME_TYPE) == -1) {\n      register_renderer(events, OutputArea);\n    }\n  } catch(err) {\n  }\n}\n",
                        "application/vnd.holoviews_load.v0+json": ""
                    },
                    "metadata": {},
                    "output_type": "display_data"
                },
                {
                    "data": {
                        "text/html": [
                            "<style>.bk-root, .bk-root .bk:before, .bk-root .bk:after {\n",
                            "  font-family: var(--jp-ui-font-size1);\n",
                            "  font-size: var(--jp-ui-font-size1);\n",
                            "  color: var(--jp-ui-font-color1);\n",
                            "}\n",
                            "</style>"
                        ]
                    },
                    "metadata": {},
                    "output_type": "display_data"
                }
            ],
            "source": [
                "# Standard Library Imports\n",
                "import sys\n",
                "import time\n",
                "import os.path as op\n",
                "import os\n",
                "import re\n",
                "import random\n",
                "import time\n",
                "import warnings\n",
                "\n",
                "# Third Party Imports\n",
                "import yaml\n",
                "import hvplot\n",
                "import panel as pn\n",
                "import pandas as pd\n",
                "import numpy as np\n",
                "import holoviews as hv\n",
                "\n",
                "from pyspark_dist_explore import (\n",
                "    Histogram,\n",
                "    hist,\n",
                "    distplot,\n",
                "    pandas_histogram\n",
                ")\n",
                "\n",
                "from IPython.display import (\n",
                "    display,\n",
                "    display_html\n",
                ")\n",
                "\n",
                "# Spark Imports\n",
                "from pyspark.sql import (\n",
                "    types as DT,\n",
                "    functions as F,\n",
                "    Window\n",
                ")\n",
                "from pyspark.ml import Pipeline\n",
                "from pyspark.ml.regression import LinearRegression\n",
                "from pyspark.ml.evaluation import RegressionEvaluator\n",
                "from pyspark.ml.tuning import (\n",
                "    ParamGridBuilder,\n",
                "    CrossValidator,\n",
                "    CrossValidatorModel\n",
                ")\n",
                "from pyspark.ml.feature import (\n",
                "    VectorAssembler,\n",
                "    StandardScaler,\n",
                "    StringIndexer,\n",
                "    OneHotEncoder,\n",
                "    Imputer\n",
                ")\n",
                "from pyspark.mllib.evaluation import RegressionMetrics\n",
                "\n",
                "# Project Imports\n",
                "from ta_lib.pyspark import (\n",
                "    dp,\n",
                "    features,\n",
                "    eda,\n",
                ")\n",
                "# Project Imports\n",
                "from ta_lib.pyspark.core import (\n",
                "    utils,\n",
                "    context\n",
                ")\n",
                "# options\n",
                "random_seed = 0\n",
                "pn.extension('bokeh')\n",
                "warnings.filterwarnings('ignore')\n",
                "pd.set_option('display.max_columns', None)"
            ]
        },
        {
            "cell_type": "markdown",
            "metadata": {},
            "source": [
                "# Initialization\n",
                "\n",
                "`config.yml` is used to store all the parameters required for the template"
            ]
        },
        {
            "cell_type": "code",
            "execution_count": 6,
            "metadata": {},
            "outputs": [
                {
                    "data": {
                        "text/plain": [
                            "{'all': {'core': 'default',\n",
                            "  'log_catalog': 'production',\n",
                            "  'data_catalog': 'remote',\n",
                            "  'job_catalog': 'local'},\n",
                            " 'spark': {'spark.executer.cores': 4, 'spark.cores.max': 4}}"
                        ]
                    },
                    "execution_count": 6,
                    "metadata": {},
                    "output_type": "execute_result"
                }
            ],
            "source": [
                "config_path = op.join(os.getcwd(),'conf', 'config.yml')\n",
                "with open(config_path, 'r') as fp:\n",
                "    config = yaml.safe_load(fp)\n",
                "config"
            ]
        },
        {
            "cell_type": "code",
            "execution_count": 7,
            "metadata": {},
            "outputs": [
                {
                    "data": {
                        "text/plain": [
                            "{'reference_date': datetime.date(2020, 8, 31),\n",
                            " 'num_days_prediction': 7,\n",
                            " 'raw': {'filesystem': 'file',\n",
                            "  'base_path': './../../data/raw/',\n",
                            "  'carrier_data_path': 'carrier_data.csv',\n",
                            "  'fuel_prices_data_path': 'fuel_prices.csv',\n",
                            "  'market_carrier_rates_data_path': 'market_carrier_rates_data.csv',\n",
                            "  'route_mapping_data_path': 'route_mapping.csv'},\n",
                            " 'clean': {'filesystem': 'file',\n",
                            "  'base_path': './../../data/cleaned/',\n",
                            "  'carrier_data_path': 'carrier_data',\n",
                            "  'fuel_prices_data_path': 'fuel_prices',\n",
                            "  'market_carrier_rates_data_path': 'market_carrier_rates',\n",
                            "  'final_routes_data_path': 'final_data',\n",
                            "  'trasnformed_routes_data_path': 'transformed_data'},\n",
                            " 'processed': {'filesystem': 'file',\n",
                            "  'base_path': './../../data/processed/',\n",
                            "  'train': 'train_carrier',\n",
                            "  'test': 'test_carrier',\n",
                            "  'preds': 'predictions_carrier'},\n",
                            " 'spark': {'spark.executer.cores': 4, 'spark.cores.max': 4}}"
                        ]
                    },
                    "execution_count": 7,
                    "metadata": {},
                    "output_type": "execute_result"
                }
            ],
            "source": [
                "data_config_path = op.join(os.getcwd(),'conf/data_catalog', 'local.yml')\n",
                "with open(data_config_path, 'r') as fp:\n",
                "    data_config = yaml.safe_load(fp)\n",
                "data_config"
            ]
        },
        {
            "cell_type": "markdown",
            "metadata": {},
            "source": [
                "## Create spark session\n",
                "\n",
                "`talib.pyspark.context` module is leveraged to build the sparksession so as to consider the spark session related params in the config file while building the session."
            ]
        },
        {
            "cell_type": "code",
            "execution_count": 8,
            "metadata": {},
            "outputs": [
                {
                    "name": "stdout",
                    "output_type": "stream",
                    "text": [
                        "CPU times: user 20.9 ms, sys: 20.9 ms, total: 41.8 ms\n",
                        "Wall time: 74.2 ms\n"
                    ]
                }
            ],
            "source": [
                "%%time\n",
                "session = context.CustomSparkSession(config)\n",
                "session.CreateSparkSession()\n",
                "spark = session.spark\n",
                "sc = session.sc.setLogLevel(\"ERROR\")"
            ]
        },
        {
            "cell_type": "markdown",
            "metadata": {},
            "source": [
                "# Data Read"
            ]
        },
        {
            "cell_type": "code",
            "execution_count": 9,
            "metadata": {},
            "outputs": [
                {
                    "name": "stderr",
                    "output_type": "stream",
                    "text": [
                        "[Stage 7:>                                                          (0 + 1) / 1]\r"
                    ]
                },
                {
                    "name": "stdout",
                    "output_type": "stream",
                    "text": [
                        "CPU times: user 366 ms, sys: 94.1 ms, total: 460 ms\n",
                        "Wall time: 1min 26s\n"
                    ]
                },
                {
                    "name": "stderr",
                    "output_type": "stream",
                    "text": [
                        "                                                                                \r"
                    ]
                }
            ],
            "source": [
                "%%time\n",
                "carrier_df = utils.read_data(\n",
                "    spark=spark,\n",
                "    paths=[data_config['raw']['base_path'] + data_config['raw']['carrier_data_path']],\n",
                "    fs=data_config['raw']['filesystem'],\n",
                "    fmt=\"csv\",\n",
                "    header=\"true\",\n",
                "    inferschema=\"true\"\n",
                ")\n",
                "fuelprices_df = utils.read_data(\n",
                "    spark=spark,\n",
                "    paths=[data_config['raw']['base_path'] + data_config['raw']['fuel_prices_data_path']],\n",
                "    fs=data_config['raw']['filesystem'],\n",
                "    fmt=\"csv\",\n",
                "    header=\"true\",\n",
                "    inferschema=\"true\"\n",
                ")\n",
                "market_carrier_rates_df = utils.read_data(\n",
                "    spark=spark,\n",
                "    paths=[data_config['raw']['base_path'] + data_config['raw']['market_carrier_rates_data_path']],\n",
                "    fs=data_config['raw']['filesystem'],\n",
                "    fmt=\"csv\",\n",
                "    header=\"true\",\n",
                "    inferschema=\"true\"\n",
                ")\n",
                "route_mapping_df = utils.read_data(\n",
                "    spark=spark,\n",
                "    paths=[data_config['raw']['base_path'] + data_config['raw']['route_mapping_data_path']],\n",
                "    fs=data_config['raw']['filesystem'],\n",
                "    fmt=\"csv\",\n",
                "    header=\"true\",\n",
                "    inferschema=\"true\"\n",
                ")"
            ]
        },
        {
            "cell_type": "markdown",
            "metadata": {},
            "source": [
                "# Data Processing\n",
                "\n",
                "The focus here is to create a cleaned dataset that is appropriate for solving the DS problem at hand from the raw data.\n",
                "\n",
                "**Do's**\n",
                "\n",
                "* Clean dataframe column names\n",
                "* Ensure dtypes are set properly\n",
                "* Join with other tables etc to create features\n",
                "* Transform, if appropriate, datetime like columns to generate additional features (weekday etc)\n",
                "* Discard cols that are not useful for training the model (IDs, constant cols, duplicate cols etc) additional features generated from existing columns\n",
                "\n",
                "**Dont's**\n",
                "\n",
                "* Handle missing values or outliers here. Mark them and leave them for processing downstream."
            ]
        },
        {
            "attachments": {},
            "cell_type": "markdown",
            "metadata": {},
            "source": [
                "### Reference Dates\n",
                "\n",
                "`reference_date` - date of reference for consideration for historical data.<br>"
            ]
        },
        {
            "cell_type": "code",
            "execution_count": 10,
            "metadata": {},
            "outputs": [
                {
                    "name": "stdout",
                    "output_type": "stream",
                    "text": [
                        "Reference date: 2020-08-31 00:00:00\n"
                    ]
                }
            ],
            "source": [
                "reference_date = pd.to_datetime(data_config['reference_date'])\n",
                "print(f\"Reference date: {reference_date}\")"
            ]
        },
        {
            "cell_type": "markdown",
            "metadata": {},
            "source": [
                "#### Carrier data "
            ]
        },
        {
            "cell_type": "code",
            "execution_count": 11,
            "metadata": {},
            "outputs": [
                {
                    "name": "stderr",
                    "output_type": "stream",
                    "text": [
                        "                                                                                \r"
                    ]
                },
                {
                    "data": {
                        "text/html": [
                            "<div>\n",
                            "<style scoped>\n",
                            "    .dataframe tbody tr th:only-of-type {\n",
                            "        vertical-align: middle;\n",
                            "    }\n",
                            "\n",
                            "    .dataframe tbody tr th {\n",
                            "        vertical-align: top;\n",
                            "    }\n",
                            "\n",
                            "    .dataframe thead th {\n",
                            "        text-align: right;\n",
                            "    }\n",
                            "</style>\n",
                            "<table border=\"1\" class=\"dataframe\">\n",
                            "  <thead>\n",
                            "    <tr style=\"text-align: right;\">\n",
                            "      <th></th>\n",
                            "      <th>trip_id</th>\n",
                            "      <th>distance</th>\n",
                            "      <th>vehicle_type</th>\n",
                            "      <th>pickup_date</th>\n",
                            "      <th>origin_city</th>\n",
                            "      <th>origin_state</th>\n",
                            "      <th>origin_zip</th>\n",
                            "      <th>origin_country</th>\n",
                            "      <th>destination_city</th>\n",
                            "      <th>destination_state</th>\n",
                            "      <th>destination_zip</th>\n",
                            "      <th>destination_country</th>\n",
                            "      <th>carrier_price</th>\n",
                            "    </tr>\n",
                            "  </thead>\n",
                            "  <tbody>\n",
                            "    <tr>\n",
                            "      <th>0</th>\n",
                            "      <td>23099</td>\n",
                            "      <td>626.54</td>\n",
                            "      <td>1</td>\n",
                            "      <td>2019-01-17</td>\n",
                            "      <td>BURLINGTAN</td>\n",
                            "      <td>WI</td>\n",
                            "      <td>53105</td>\n",
                            "      <td>USA</td>\n",
                            "      <td>MEMPYIS</td>\n",
                            "      <td>TN</td>\n",
                            "      <td>38141</td>\n",
                            "      <td>USA</td>\n",
                            "      <td>1527.60</td>\n",
                            "    </tr>\n",
                            "    <tr>\n",
                            "      <th>1</th>\n",
                            "      <td>23105</td>\n",
                            "      <td>2253.50</td>\n",
                            "      <td>1</td>\n",
                            "      <td>2019-01-18</td>\n",
                            "      <td>MCCERREN</td>\n",
                            "      <td>NV</td>\n",
                            "      <td>89434</td>\n",
                            "      <td>USA</td>\n",
                            "      <td>YEBRAN</td>\n",
                            "      <td>AY</td>\n",
                            "      <td>43025</td>\n",
                            "      <td>USA</td>\n",
                            "      <td>3855.10</td>\n",
                            "    </tr>\n",
                            "    <tr>\n",
                            "      <th>2</th>\n",
                            "      <td>23107</td>\n",
                            "      <td>473.62</td>\n",
                            "      <td>1</td>\n",
                            "      <td>2019-01-21</td>\n",
                            "      <td>BURLINGTAN</td>\n",
                            "      <td>WI</td>\n",
                            "      <td>53105</td>\n",
                            "      <td>USA</td>\n",
                            "      <td>YEBRAN</td>\n",
                            "      <td>AY</td>\n",
                            "      <td>43025</td>\n",
                            "      <td>USA</td>\n",
                            "      <td>1297.25</td>\n",
                            "    </tr>\n",
                            "  </tbody>\n",
                            "</table>\n",
                            "</div>"
                        ],
                        "text/plain": [
                            "   trip_id  distance  vehicle_type pickup_date origin_city origin_state  \\\n",
                            "0    23099    626.54             1  2019-01-17  BURLINGTAN           WI   \n",
                            "1    23105   2253.50             1  2019-01-18    MCCERREN           NV   \n",
                            "2    23107    473.62             1  2019-01-21  BURLINGTAN           WI   \n",
                            "\n",
                            "  origin_zip origin_country destination_city destination_state  \\\n",
                            "0      53105            USA          MEMPYIS                TN   \n",
                            "1      89434            USA           YEBRAN                AY   \n",
                            "2      53105            USA           YEBRAN                AY   \n",
                            "\n",
                            "  destination_zip destination_country  carrier_price  \n",
                            "0           38141                 USA        1527.60  \n",
                            "1           43025                 USA        3855.10  \n",
                            "2           43025                 USA        1297.25  "
                        ]
                    },
                    "execution_count": 11,
                    "metadata": {},
                    "output_type": "execute_result"
                }
            ],
            "source": [
                "# # Filter carrier data dataframe\n",
                "\n",
                "carrier_df = carrier_df.withColumn(\n",
                "        \"pickup_date\",\n",
                "        F.to_date(\n",
                "            F.unix_timestamp(F.col(\"pickup_date\"), \"dd/MM/yyyy\").cast(\"timestamp\")\n",
                "        ),\n",
                "    ).filter(F.col(\"pickup_date\") <= reference_date)\n",
                "\n",
                "# Save the dataset\n",
                "utils.save_data(carrier_df, path=data_config[\"clean\"][\"base_path\"]\n",
                "        + data_config[\"clean\"][\"carrier_data_path\"])\n",
                "carrier_df.limit(3).toPandas()"
            ]
        },
        {
            "cell_type": "markdown",
            "metadata": {},
            "source": [
                "For every start and end zip code in the carrier_data, let's add the corresponding `market_id` as `origin_market_id` and `destination_market_id`, respectively. Drop unnecessaryy columns."
            ]
        },
        {
            "cell_type": "code",
            "execution_count": 12,
            "metadata": {},
            "outputs": [
                {
                    "name": "stderr",
                    "output_type": "stream",
                    "text": [
                        "                                                                                \r"
                    ]
                },
                {
                    "data": {
                        "text/html": [
                            "<div>\n",
                            "<style scoped>\n",
                            "    .dataframe tbody tr th:only-of-type {\n",
                            "        vertical-align: middle;\n",
                            "    }\n",
                            "\n",
                            "    .dataframe tbody tr th {\n",
                            "        vertical-align: top;\n",
                            "    }\n",
                            "\n",
                            "    .dataframe thead th {\n",
                            "        text-align: right;\n",
                            "    }\n",
                            "</style>\n",
                            "<table border=\"1\" class=\"dataframe\">\n",
                            "  <thead>\n",
                            "    <tr style=\"text-align: right;\">\n",
                            "      <th></th>\n",
                            "      <th>trip_id</th>\n",
                            "      <th>distance</th>\n",
                            "      <th>vehicle_type</th>\n",
                            "      <th>pickup_date</th>\n",
                            "      <th>origin_zip</th>\n",
                            "      <th>destination_zip</th>\n",
                            "      <th>carrier_price</th>\n",
                            "      <th>origin_market_id</th>\n",
                            "      <th>destination_market_id</th>\n",
                            "    </tr>\n",
                            "  </thead>\n",
                            "  <tbody>\n",
                            "    <tr>\n",
                            "      <th>0</th>\n",
                            "      <td>23099</td>\n",
                            "      <td>626.54</td>\n",
                            "      <td>1</td>\n",
                            "      <td>2019-01-17</td>\n",
                            "      <td>53105</td>\n",
                            "      <td>38141</td>\n",
                            "      <td>1527.60</td>\n",
                            "      <td>WI_MIL</td>\n",
                            "      <td>TN_MEM</td>\n",
                            "    </tr>\n",
                            "    <tr>\n",
                            "      <th>1</th>\n",
                            "      <td>23105</td>\n",
                            "      <td>2253.50</td>\n",
                            "      <td>1</td>\n",
                            "      <td>2019-01-18</td>\n",
                            "      <td>89434</td>\n",
                            "      <td>43025</td>\n",
                            "      <td>3855.10</td>\n",
                            "      <td>NV_REN</td>\n",
                            "      <td>OH_COL</td>\n",
                            "    </tr>\n",
                            "    <tr>\n",
                            "      <th>2</th>\n",
                            "      <td>23107</td>\n",
                            "      <td>473.62</td>\n",
                            "      <td>1</td>\n",
                            "      <td>2019-01-21</td>\n",
                            "      <td>53105</td>\n",
                            "      <td>43025</td>\n",
                            "      <td>1297.25</td>\n",
                            "      <td>WI_MIL</td>\n",
                            "      <td>OH_COL</td>\n",
                            "    </tr>\n",
                            "  </tbody>\n",
                            "</table>\n",
                            "</div>"
                        ],
                        "text/plain": [
                            "   trip_id  distance  vehicle_type pickup_date origin_zip destination_zip  \\\n",
                            "0    23099    626.54             1  2019-01-17      53105           38141   \n",
                            "1    23105   2253.50             1  2019-01-18      89434           43025   \n",
                            "2    23107    473.62             1  2019-01-21      53105           43025   \n",
                            "\n",
                            "   carrier_price origin_market_id destination_market_id  \n",
                            "0        1527.60           WI_MIL                TN_MEM  \n",
                            "1        3855.10           NV_REN                OH_COL  \n",
                            "2        1297.25           WI_MIL                OH_COL  "
                        ]
                    },
                    "execution_count": 12,
                    "metadata": {},
                    "output_type": "execute_result"
                }
            ],
            "source": [
                "carrier_df = carrier_df.join(route_mapping_df.select(['zipcode', 'market_id'])\n",
                "                                       .withColumnRenamed(\"market_id\", \"origin_market_id\"),\n",
                "                                       carrier_df.origin_zip == route_mapping_df.zipcode,\n",
                "                                      how='left').drop('zipcode')\n",
                "carrier_df = carrier_df.join(route_mapping_df.select(['zipcode', 'market_id'])\n",
                "                                       .withColumnRenamed(\"market_id\", \"destination_market_id\"),\n",
                "                                       carrier_df.destination_zip == route_mapping_df.zipcode,\n",
                "                                      how='left').drop('zipcode')\n",
                "\n",
                "carrier_df = carrier_df.where((F.col('origin_market_id').isNotNull())\n",
                "                                     & (F.col('destination_market_id').isNotNull()))\n",
                "\n",
                "droplist = ['origin_city', 'origin_state', 'origin_country', 'destination_city', \n",
                "            'destination_state', 'destination_country']\n",
                "carrier_df = carrier_df.drop(*droplist)\n",
                "carrier_df.limit(3).toPandas()"
            ]
        },
        {
            "cell_type": "markdown",
            "metadata": {},
            "source": [
                "Create a column for first Monday of the week in order to join with the weekly fuel prices data "
            ]
        },
        {
            "cell_type": "code",
            "execution_count": 13,
            "metadata": {},
            "outputs": [
                {
                    "name": "stderr",
                    "output_type": "stream",
                    "text": [
                        "                                                                                \r"
                    ]
                },
                {
                    "data": {
                        "text/html": [
                            "<div>\n",
                            "<style scoped>\n",
                            "    .dataframe tbody tr th:only-of-type {\n",
                            "        vertical-align: middle;\n",
                            "    }\n",
                            "\n",
                            "    .dataframe tbody tr th {\n",
                            "        vertical-align: top;\n",
                            "    }\n",
                            "\n",
                            "    .dataframe thead th {\n",
                            "        text-align: right;\n",
                            "    }\n",
                            "</style>\n",
                            "<table border=\"1\" class=\"dataframe\">\n",
                            "  <thead>\n",
                            "    <tr style=\"text-align: right;\">\n",
                            "      <th></th>\n",
                            "      <th>trip_id</th>\n",
                            "      <th>distance</th>\n",
                            "      <th>vehicle_type</th>\n",
                            "      <th>pickup_date</th>\n",
                            "      <th>origin_zip</th>\n",
                            "      <th>destination_zip</th>\n",
                            "      <th>carrier_price</th>\n",
                            "      <th>origin_market_id</th>\n",
                            "      <th>destination_market_id</th>\n",
                            "      <th>day_of_week</th>\n",
                            "      <th>first_monday_of_week</th>\n",
                            "    </tr>\n",
                            "  </thead>\n",
                            "  <tbody>\n",
                            "    <tr>\n",
                            "      <th>0</th>\n",
                            "      <td>23099</td>\n",
                            "      <td>626.54</td>\n",
                            "      <td>1</td>\n",
                            "      <td>2019-01-17</td>\n",
                            "      <td>53105</td>\n",
                            "      <td>38141</td>\n",
                            "      <td>1527.60</td>\n",
                            "      <td>WI_MIL</td>\n",
                            "      <td>TN_MEM</td>\n",
                            "      <td>3</td>\n",
                            "      <td>2019-01-14</td>\n",
                            "    </tr>\n",
                            "    <tr>\n",
                            "      <th>1</th>\n",
                            "      <td>23105</td>\n",
                            "      <td>2253.50</td>\n",
                            "      <td>1</td>\n",
                            "      <td>2019-01-18</td>\n",
                            "      <td>89434</td>\n",
                            "      <td>43025</td>\n",
                            "      <td>3855.10</td>\n",
                            "      <td>NV_REN</td>\n",
                            "      <td>OH_COL</td>\n",
                            "      <td>4</td>\n",
                            "      <td>2019-01-14</td>\n",
                            "    </tr>\n",
                            "    <tr>\n",
                            "      <th>2</th>\n",
                            "      <td>23107</td>\n",
                            "      <td>473.62</td>\n",
                            "      <td>1</td>\n",
                            "      <td>2019-01-21</td>\n",
                            "      <td>53105</td>\n",
                            "      <td>43025</td>\n",
                            "      <td>1297.25</td>\n",
                            "      <td>WI_MIL</td>\n",
                            "      <td>OH_COL</td>\n",
                            "      <td>0</td>\n",
                            "      <td>2019-01-21</td>\n",
                            "    </tr>\n",
                            "  </tbody>\n",
                            "</table>\n",
                            "</div>"
                        ],
                        "text/plain": [
                            "   trip_id  distance  vehicle_type pickup_date origin_zip destination_zip  \\\n",
                            "0    23099    626.54             1  2019-01-17      53105           38141   \n",
                            "1    23105   2253.50             1  2019-01-18      89434           43025   \n",
                            "2    23107    473.62             1  2019-01-21      53105           43025   \n",
                            "\n",
                            "   carrier_price origin_market_id destination_market_id  day_of_week  \\\n",
                            "0        1527.60           WI_MIL                TN_MEM            3   \n",
                            "1        3855.10           NV_REN                OH_COL            4   \n",
                            "2        1297.25           WI_MIL                OH_COL            0   \n",
                            "\n",
                            "  first_monday_of_week  \n",
                            "0           2019-01-14  \n",
                            "1           2019-01-14  \n",
                            "2           2019-01-21  "
                        ]
                    },
                    "execution_count": 13,
                    "metadata": {},
                    "output_type": "execute_result"
                }
            ],
            "source": [
                "carrier_df = carrier_df.withColumn(\n",
                "        \"day_of_week\", F.dayofweek(F.col(\"pickup_date\")) - 2\n",
                "    ).withColumn(\"first_monday_of_week\", F.expr(\"date_sub(pickup_date, day_of_week)\"))\n",
                "carrier_df.limit(3).toPandas()"
            ]
        },
        {
            "cell_type": "markdown",
            "metadata": {},
            "source": [
                "#### Market carrier rates data\n",
                "The market carrier rates data contains data collected over various carrier providers in the market, with details of total cost and total distance over all providers on a given route for a given date.\n",
                "\n",
                "We need to aggregate the information upto a weekly level so that we report the prices on the first Monday of each week for each vehicle type on a route.\n",
                "\n",
                "Then we calculate the market Rate per Mile (RPM) averaged over all carrier providers as $\\frac{\\text{Sum of cost over all providers}}{\\text{Sum of dist over all providers}}$"
            ]
        },
        {
            "cell_type": "code",
            "execution_count": 14,
            "metadata": {},
            "outputs": [
                {
                    "name": "stderr",
                    "output_type": "stream",
                    "text": [
                        "                                                                                \r"
                    ]
                },
                {
                    "data": {
                        "text/html": [
                            "<div>\n",
                            "<style scoped>\n",
                            "    .dataframe tbody tr th:only-of-type {\n",
                            "        vertical-align: middle;\n",
                            "    }\n",
                            "\n",
                            "    .dataframe tbody tr th {\n",
                            "        vertical-align: top;\n",
                            "    }\n",
                            "\n",
                            "    .dataframe thead th {\n",
                            "        text-align: right;\n",
                            "    }\n",
                            "</style>\n",
                            "<table border=\"1\" class=\"dataframe\">\n",
                            "  <thead>\n",
                            "    <tr style=\"text-align: right;\">\n",
                            "      <th></th>\n",
                            "      <th>week_ending_date</th>\n",
                            "      <th>origin_city</th>\n",
                            "      <th>origin_state</th>\n",
                            "      <th>origin_zip</th>\n",
                            "      <th>destination_city</th>\n",
                            "      <th>destination_state</th>\n",
                            "      <th>destination_zip</th>\n",
                            "      <th>vehicle_type</th>\n",
                            "      <th>first_monday_of_week</th>\n",
                            "      <th>total_cost_all_providers</th>\n",
                            "      <th>total_distance_all_providers</th>\n",
                            "    </tr>\n",
                            "  </thead>\n",
                            "  <tbody>\n",
                            "    <tr>\n",
                            "      <th>0</th>\n",
                            "      <td>2020-02-24</td>\n",
                            "      <td>WINCYESTER</td>\n",
                            "      <td>VE</td>\n",
                            "      <td>22601</td>\n",
                            "      <td>ANTERIA</td>\n",
                            "      <td>CE</td>\n",
                            "      <td>91758</td>\n",
                            "      <td>2</td>\n",
                            "      <td>2020-02-24</td>\n",
                            "      <td>92108.80</td>\n",
                            "      <td>71960.0</td>\n",
                            "    </tr>\n",
                            "    <tr>\n",
                            "      <th>1</th>\n",
                            "      <td>2016-02-28</td>\n",
                            "      <td>TEYLARVILLE</td>\n",
                            "      <td>IL</td>\n",
                            "      <td>62568</td>\n",
                            "      <td>KENSES CITY</td>\n",
                            "      <td>MA</td>\n",
                            "      <td>64101</td>\n",
                            "      <td>3</td>\n",
                            "      <td>2016-02-22</td>\n",
                            "      <td>7141.32</td>\n",
                            "      <td>2988.0</td>\n",
                            "    </tr>\n",
                            "    <tr>\n",
                            "      <th>2</th>\n",
                            "      <td>2016-04-10</td>\n",
                            "      <td>BLAAMINGTAN</td>\n",
                            "      <td>IL</td>\n",
                            "      <td>61702</td>\n",
                            "      <td>MINNEEPALIS</td>\n",
                            "      <td>MN</td>\n",
                            "      <td>55440</td>\n",
                            "      <td>2</td>\n",
                            "      <td>2016-04-04</td>\n",
                            "      <td>7452.00</td>\n",
                            "      <td>4140.0</td>\n",
                            "    </tr>\n",
                            "  </tbody>\n",
                            "</table>\n",
                            "</div>"
                        ],
                        "text/plain": [
                            "  week_ending_date  origin_city origin_state origin_zip destination_city  \\\n",
                            "0       2020-02-24   WINCYESTER           VE      22601          ANTERIA   \n",
                            "1       2016-02-28  TEYLARVILLE           IL      62568      KENSES CITY   \n",
                            "2       2016-04-10  BLAAMINGTAN           IL      61702      MINNEEPALIS   \n",
                            "\n",
                            "  destination_state destination_zip  vehicle_type first_monday_of_week  \\\n",
                            "0                CE           91758             2           2020-02-24   \n",
                            "1                MA           64101             3           2016-02-22   \n",
                            "2                MN           55440             2           2016-04-04   \n",
                            "\n",
                            "   total_cost_all_providers  total_distance_all_providers  \n",
                            "0                  92108.80                       71960.0  \n",
                            "1                   7141.32                        2988.0  \n",
                            "2                   7452.00                        4140.0  "
                        ]
                    },
                    "execution_count": 14,
                    "metadata": {},
                    "output_type": "execute_result"
                }
            ],
            "source": [
                "market_carrier_rates_df = (\n",
                "    market_carrier_rates_df.withColumn(\n",
                "        \"week_ending_date\",\n",
                "        F.to_date(\n",
                "            F.unix_timestamp(F.col(\"week_ending_date\"), \"yyyy-MM-dd\").cast(\n",
                "                \"timestamp\"\n",
                "            )\n",
                "        ),\n",
                "    )\n",
                "    .filter(F.col(\"week_ending_date\") <= reference_date)\n",
                "    .withColumn(\n",
                "        \"first_monday_of_week\",\n",
                "        F.to_date(\n",
                "            F.unix_timestamp(\n",
                "                F.col(\"first_monday_of_week\"), \"yyyy-MM-dd\"\n",
                "            ).cast(\"timestamp\")\n",
                "        ),\n",
                "    )\n",
                ")\n",
                "market_carrier_rates_df.limit(3).toPandas()"
            ]
        },
        {
            "cell_type": "code",
            "execution_count": 15,
            "metadata": {},
            "outputs": [
                {
                    "name": "stderr",
                    "output_type": "stream",
                    "text": [
                        "                                                                                \r"
                    ]
                }
            ],
            "source": [
                "utils.save_data(market_carrier_rates_df, path=data_config[\"clean\"][\"base_path\"]\n",
                "        + data_config[\"clean\"][\"market_carrier_rates_data_path\"])"
            ]
        },
        {
            "cell_type": "code",
            "execution_count": 16,
            "metadata": {},
            "outputs": [],
            "source": [
                "market_carrier_rates_df = (market_carrier_rates_df.\n",
                "                                     join(route_mapping_df.select(['zipcode', 'market_id'])\n",
                "                                       .withColumnRenamed(\"market_id\", \"origin_market_id\"),\n",
                "                                       market_carrier_rates_df.origin_zip == route_mapping_df.zipcode,\n",
                "                                      how='left').drop('zipcode'))\n",
                "\n",
                "market_carrier_rates_df = (market_carrier_rates_df.\n",
                "                                      withColumn('first_monday_of_week', F.to_date(F.unix_timestamp(F.col(\"first_monday_of_week\"), \"yyyy-MM-dd\").\n",
                "                                      cast(\"timestamp\"))).\n",
                "                                     join(route_mapping_df.select(['zipcode', 'market_id'])\n",
                "                                       .withColumnRenamed(\"market_id\", \"destination_market_id\"),\n",
                "                                       market_carrier_rates_df.destination_zip == route_mapping_df.zipcode,\n",
                "                                      how='left').drop('zipcode'))"
            ]
        },
        {
            "cell_type": "code",
            "execution_count": 17,
            "metadata": {},
            "outputs": [],
            "source": [
                "market_carrier_rates_df = (market_carrier_rates_df.\n",
                "                                      groupby(['first_monday_of_week', 'origin_market_id', 'destination_market_id', 'vehicle_type']).\n",
                "                                      agg(F.sum('total_cost_all_providers').alias('sum_of_cost_all_providers'),\n",
                "                                          F.sum('total_distance_all_providers').alias('sum_of_dist_all_providers')))\n",
                "\n",
                "market_carrier_rates_df = (market_carrier_rates_df.\n",
                "                                      withColumn('market_rate_per_mile', \n",
                "                                                 F.col('sum_of_cost_all_providers')\n",
                "                                                 /F.col('sum_of_dist_all_providers')))\n",
                "dropcols = ['sum_of_cost_all_providers', 'sum_of_dist_all_providers']\n",
                "market_carrier_rates_df = market_carrier_rates_df.drop(*dropcols)"
            ]
        },
        {
            "cell_type": "markdown",
            "metadata": {},
            "source": [
                "#### Fuel prices data"
            ]
        },
        {
            "cell_type": "code",
            "execution_count": 18,
            "metadata": {},
            "outputs": [
                {
                    "name": "stderr",
                    "output_type": "stream",
                    "text": [
                        "                                                                                \r"
                    ]
                },
                {
                    "data": {
                        "text/html": [
                            "<div>\n",
                            "<style scoped>\n",
                            "    .dataframe tbody tr th:only-of-type {\n",
                            "        vertical-align: middle;\n",
                            "    }\n",
                            "\n",
                            "    .dataframe tbody tr th {\n",
                            "        vertical-align: top;\n",
                            "    }\n",
                            "\n",
                            "    .dataframe thead th {\n",
                            "        text-align: right;\n",
                            "    }\n",
                            "</style>\n",
                            "<table border=\"1\" class=\"dataframe\">\n",
                            "  <thead>\n",
                            "    <tr style=\"text-align: right;\">\n",
                            "      <th></th>\n",
                            "      <th>date</th>\n",
                            "      <th>national_price</th>\n",
                            "      <th>first_monday_of_week</th>\n",
                            "    </tr>\n",
                            "  </thead>\n",
                            "  <tbody>\n",
                            "    <tr>\n",
                            "      <th>0</th>\n",
                            "      <td>31-08-2020</td>\n",
                            "      <td>2.441</td>\n",
                            "      <td>2020-08-31</td>\n",
                            "    </tr>\n",
                            "    <tr>\n",
                            "      <th>1</th>\n",
                            "      <td>24-08-2020</td>\n",
                            "      <td>2.426</td>\n",
                            "      <td>2020-08-24</td>\n",
                            "    </tr>\n",
                            "    <tr>\n",
                            "      <th>2</th>\n",
                            "      <td>17-08-2020</td>\n",
                            "      <td>2.427</td>\n",
                            "      <td>2020-08-17</td>\n",
                            "    </tr>\n",
                            "    <tr>\n",
                            "      <th>3</th>\n",
                            "      <td>10-08-2020</td>\n",
                            "      <td>2.428</td>\n",
                            "      <td>2020-08-10</td>\n",
                            "    </tr>\n",
                            "    <tr>\n",
                            "      <th>4</th>\n",
                            "      <td>03-08-2020</td>\n",
                            "      <td>2.424</td>\n",
                            "      <td>2020-08-03</td>\n",
                            "    </tr>\n",
                            "  </tbody>\n",
                            "</table>\n",
                            "</div>"
                        ],
                        "text/plain": [
                            "         date  national_price first_monday_of_week\n",
                            "0  31-08-2020           2.441           2020-08-31\n",
                            "1  24-08-2020           2.426           2020-08-24\n",
                            "2  17-08-2020           2.427           2020-08-17\n",
                            "3  10-08-2020           2.428           2020-08-10\n",
                            "4  03-08-2020           2.424           2020-08-03"
                        ]
                    },
                    "execution_count": 18,
                    "metadata": {},
                    "output_type": "execute_result"
                }
            ],
            "source": [
                "fuelprices_df = fuelprices_df.withColumn('first_monday_of_week', \n",
                "                                                     F.to_date(F.unix_timestamp(\n",
                "                                                         F.col(\"date\"),\"dd-MM-yyyy\")\n",
                "                                                               .cast(\"timestamp\")))\n",
                "fuelprices_df = fuelprices_df.filter(F.col('first_monday_of_week')<=reference_date)\n",
                "utils.save_data(fuelprices_df, path=data_config[\"clean\"][\"base_path\"]\n",
                "        + data_config[\"clean\"][\"fuel_prices_data_path\"])\n",
                "fuelprices_df.limit(5).toPandas()"
            ]
        },
        {
            "cell_type": "markdown",
            "metadata": {},
            "source": [
                "### Target & Feature Generation\n",
                "\n",
                "Find the routes that have historical rates present in market rates data over the dates available in fuel price data "
            ]
        },
        {
            "cell_type": "code",
            "execution_count": 19,
            "metadata": {},
            "outputs": [
                {
                    "name": "stderr",
                    "output_type": "stream",
                    "text": [
                        "                                                                                \r"
                    ]
                }
            ],
            "source": [
                "final_df = (\n",
                "        carrier_df.select(\n",
                "            [\n",
                "                \"trip_id\",\n",
                "                \"pickup_date\",\n",
                "                \"first_monday_of_week\",\n",
                "                \"origin_zip\",\n",
                "                \"destination_zip\",\n",
                "                \"origin_market_id\",\n",
                "                \"destination_market_id\",\n",
                "                \"vehicle_type\",\n",
                "                \"distance\",\n",
                "                \"carrier_price\",\n",
                "            ]\n",
                "        )\n",
                "        .join(\n",
                "            market_carrier_rates_df,\n",
                "            on=[\n",
                "                \"origin_market_id\",\n",
                "                \"destination_market_id\",\n",
                "                \"vehicle_type\",\n",
                "                \"first_monday_of_week\",\n",
                "            ],\n",
                "            how=\"left\",\n",
                "        )\n",
                "        .where(F.col(\"market_rate_per_mile\").isNotNull())\n",
                "        .join(fuelprices_df, on=[\"first_monday_of_week\"], how=\"left\")\n",
                "        .where(F.col(\"national_price\").isNotNull())\n",
                "    )\n",
                "\n",
                "# Save the dataset\n",
                "utils.save_data(final_df, path=data_config[\"clean\"][\"base_path\"]\n",
                "        + data_config[\"clean\"][\"final_routes_data_path\"])"
            ]
        },
        {
            "cell_type": "markdown",
            "metadata": {},
            "source": [
                "### Independant Features Generation"
            ]
        },
        {
            "cell_type": "code",
            "execution_count": 20,
            "metadata": {},
            "outputs": [],
            "source": [
                "# Average historical prices for route \n",
                "w = Window.partitionBy(['origin_zip', 'destination_zip', 'vehicle_type']).orderBy('pickup_date').rowsBetween(-1,30)\n",
                "final_df=final_df.withColumn('pastmonth_avg', F.avg('carrier_price').over(w))\n",
                "w = Window.partitionBy(['origin_zip', 'destination_zip', 'vehicle_type']).orderBy('pickup_date').rowsBetween(-1,7)\n",
                "final_df=final_df.withColumn('pastweek_avg', F.avg('carrier_price').over(w))"
            ]
        },
        {
            "cell_type": "markdown",
            "metadata": {},
            "source": [
                "# Model Data Creation"
            ]
        },
        {
            "cell_type": "code",
            "execution_count": 21,
            "metadata": {},
            "outputs": [
                {
                    "name": "stderr",
                    "output_type": "stream",
                    "text": [
                        "[Stage 31:===================================================>      (8 + 1) / 9]\r"
                    ]
                },
                {
                    "name": "stdout",
                    "output_type": "stream",
                    "text": [
                        "Total number of rows:\t143948\n",
                        "Total number of columns:\t13\n",
                        "CPU times: user 225 ms, sys: 144 ms, total: 369 ms\n",
                        "Wall time: 1min 17s\n"
                    ]
                },
                {
                    "name": "stderr",
                    "output_type": "stream",
                    "text": [
                        "                                                                                \r"
                    ]
                }
            ],
            "source": [
                "%%time\n",
                "# Filtering the columns from the primary dataframe where all other feature tables would be merged\n",
                "final_df = final_df.select('trip_id', 'pickup_date','vehicle_type','origin_zip', 'destination_zip',\n",
                "                                           'origin_market_id','destination_market_id',\n",
                "                                           'distance', 'market_rate_per_mile', 'national_price', 'pastmonth_avg',\n",
                "                                         'pastweek_avg', 'carrier_price')\n",
                "final_df = final_df.withColumn('vehicle_type', F.col('vehicle_type').cast('string'))\n",
                "\n",
                "print(f\"Total number of rows:\\t{final_df.count()}\")\n",
                "print(f\"Total number of columns:\\t{len(final_df.columns)}\")"
            ]
        },
        {
            "cell_type": "markdown",
            "metadata": {},
            "source": [
                "### Columns type identification in the Final dataframe"
            ]
        },
        {
            "cell_type": "code",
            "execution_count": 22,
            "metadata": {},
            "outputs": [
                {
                    "name": "stdout",
                    "output_type": "stream",
                    "text": [
                        "CPU times: user 57.8 ms, sys: 14.2 ms, total: 72 ms\n",
                        "Wall time: 64.9 ms\n"
                    ]
                },
                {
                    "data": {},
                    "metadata": {},
                    "output_type": "display_data"
                },
                {
                    "data": {
                        "application/vnd.holoviews_exec.v0+json": "",
                        "text/html": [
                            "<div id='1002'>\n",
                            "  <div class=\"bk-root\" id=\"3fc97e94-5c0b-4179-9e35-4e625792ec31\" data-root-id=\"1002\"></div>\n",
                            "</div>\n",
                            "<script type=\"application/javascript\">(function(root) {\n",
                            "  function embed_document(root) {\n",
                            "    var docs_json = {\"be2f154f-b97a-495e-a926-96549ccef117\":{\"defs\":[{\"extends\":null,\"module\":null,\"name\":\"ReactiveHTML1\",\"overrides\":[],\"properties\":[]},{\"extends\":null,\"module\":null,\"name\":\"FlexBox1\",\"overrides\":[],\"properties\":[{\"default\":\"flex-start\",\"kind\":null,\"name\":\"align_content\"},{\"default\":\"flex-start\",\"kind\":null,\"name\":\"align_items\"},{\"default\":\"row\",\"kind\":null,\"name\":\"flex_direction\"},{\"default\":\"wrap\",\"kind\":null,\"name\":\"flex_wrap\"},{\"default\":\"flex-start\",\"kind\":null,\"name\":\"justify_content\"}]},{\"extends\":null,\"module\":null,\"name\":\"GridStack1\",\"overrides\":[],\"properties\":[{\"default\":\"warn\",\"kind\":null,\"name\":\"mode\"},{\"default\":null,\"kind\":null,\"name\":\"ncols\"},{\"default\":null,\"kind\":null,\"name\":\"nrows\"},{\"default\":true,\"kind\":null,\"name\":\"allow_resize\"},{\"default\":true,\"kind\":null,\"name\":\"allow_drag\"},{\"default\":[],\"kind\":null,\"name\":\"state\"}]},{\"extends\":null,\"module\":null,\"name\":\"click1\",\"overrides\":[],\"properties\":[{\"default\":\"\",\"kind\":null,\"name\":\"terminal_output\"},{\"default\":\"\",\"kind\":null,\"name\":\"debug_name\"},{\"default\":0,\"kind\":null,\"name\":\"clears\"}]},{\"extends\":null,\"module\":null,\"name\":\"NotificationAreaBase1\",\"overrides\":[],\"properties\":[{\"default\":\"bottom-right\",\"kind\":null,\"name\":\"position\"},{\"default\":0,\"kind\":null,\"name\":\"_clear\"}]},{\"extends\":null,\"module\":null,\"name\":\"NotificationArea1\",\"overrides\":[],\"properties\":[{\"default\":[],\"kind\":null,\"name\":\"notifications\"},{\"default\":\"bottom-right\",\"kind\":null,\"name\":\"position\"},{\"default\":0,\"kind\":null,\"name\":\"_clear\"},{\"default\":[{\"background\":\"#ffc107\",\"icon\":{\"className\":\"fas fa-exclamation-triangle\",\"color\":\"white\",\"tagName\":\"i\"},\"type\":\"warning\"},{\"background\":\"#007bff\",\"icon\":{\"className\":\"fas fa-info-circle\",\"color\":\"white\",\"tagName\":\"i\"},\"type\":\"info\"}],\"kind\":null,\"name\":\"types\"}]},{\"extends\":null,\"module\":null,\"name\":\"Notification\",\"overrides\":[],\"properties\":[{\"default\":null,\"kind\":null,\"name\":\"background\"},{\"default\":3000,\"kind\":null,\"name\":\"duration\"},{\"default\":null,\"kind\":null,\"name\":\"icon\"},{\"default\":\"\",\"kind\":null,\"name\":\"message\"},{\"default\":null,\"kind\":null,\"name\":\"notification_type\"},{\"default\":false,\"kind\":null,\"name\":\"_destroyed\"}]},{\"extends\":null,\"module\":null,\"name\":\"TemplateActions1\",\"overrides\":[],\"properties\":[{\"default\":0,\"kind\":null,\"name\":\"open_modal\"},{\"default\":0,\"kind\":null,\"name\":\"close_modal\"}]},{\"extends\":null,\"module\":null,\"name\":\"MaterialTemplateActions1\",\"overrides\":[],\"properties\":[{\"default\":0,\"kind\":null,\"name\":\"open_modal\"},{\"default\":0,\"kind\":null,\"name\":\"close_modal\"}]}],\"roots\":{\"references\":[{\"attributes\":{\"client_comm_id\":\"3f984e89b71043aa92a1d3a46378145a\",\"comm_id\":\"d49c1aa6ea9f48ed86999d89525695b6\",\"plot_id\":\"1002\"},\"id\":\"1011\",\"type\":\"panel.models.comm_manager.CommManager\"},{\"attributes\":{\"margin\":[0,0,0,0],\"tabs\":[{\"id\":\"1004\"},{\"id\":\"1006\"},{\"id\":\"1008\"},{\"id\":\"1010\"}]},\"id\":\"1002\",\"type\":\"panel.models.tabs.Tabs\"},{\"attributes\":{\"margin\":[5,20,5,5],\"name\":\"cat_cols\",\"text\":\"[\\\"vehicle_type\\\", \\\"origin_zip\\\", \\\"destination_zip\\\", \\\"origin_market_id\\\", \\\"destination_market_id\\\"]\"},\"id\":\"1005\",\"type\":\"panel.models.markup.JSON\"},{\"attributes\":{\"margin\":[5,20,5,5],\"name\":\"date_cols\",\"text\":\"[\\\"pickup_date\\\"]\"},\"id\":\"1007\",\"type\":\"panel.models.markup.JSON\"},{\"attributes\":{\"child\":{\"id\":\"1009\"},\"name\":\"bool_cols\",\"title\":\"bool_cols\"},\"id\":\"1010\",\"type\":\"Panel\"},{\"attributes\":{\"margin\":[5,20,5,5],\"name\":\"bool_cols\",\"text\":\"{}\"},\"id\":\"1009\",\"type\":\"panel.models.markup.JSON\"},{\"attributes\":{\"margin\":[5,20,5,5],\"name\":\"numerical\",\"text\":\"[\\\"trip_id\\\", \\\"distance\\\", \\\"market_rate_per_mile\\\", \\\"national_price\\\", \\\"pastmonth_avg\\\", \\\"pastweek_avg\\\", \\\"carrier_price\\\"]\"},\"id\":\"1003\",\"type\":\"panel.models.markup.JSON\"},{\"attributes\":{\"child\":{\"id\":\"1005\"},\"name\":\"cat_cols\",\"title\":\"cat_cols\"},\"id\":\"1006\",\"type\":\"Panel\"},{\"attributes\":{\"child\":{\"id\":\"1007\"},\"name\":\"date_cols\",\"title\":\"date_cols\"},\"id\":\"1008\",\"type\":\"Panel\"},{\"attributes\":{\"reload\":false},\"id\":\"1012\",\"type\":\"panel.models.location.Location\"},{\"attributes\":{\"child\":{\"id\":\"1003\"},\"name\":\"numerical\",\"title\":\"numerical\"},\"id\":\"1004\",\"type\":\"Panel\"}],\"root_ids\":[\"1002\",\"1011\",\"1012\"]},\"title\":\"Bokeh Application\",\"version\":\"2.4.3\"}};\n",
                            "    var render_items = [{\"docid\":\"be2f154f-b97a-495e-a926-96549ccef117\",\"root_ids\":[\"1002\"],\"roots\":{\"1002\":\"3fc97e94-5c0b-4179-9e35-4e625792ec31\"}}];\n",
                            "    root.Bokeh.embed.embed_items_notebook(docs_json, render_items);\n",
                            "    for (const render_item of render_items) {\n",
                            "      for (const root_id of render_item.root_ids) {\n",
                            "\tconst id_el = document.getElementById(root_id)\n",
                            "\tif (id_el.children.length && (id_el.children[0].className === 'bk-root')) {\n",
                            "\t  const root_el = id_el.children[0]\n",
                            "\t  root_el.id = root_el.id + '-rendered'\n",
                            "\t}\n",
                            "      }\n",
                            "    }\n",
                            "  }\n",
                            "  if (root.Bokeh !== undefined && root.Bokeh.Panel !== undefined) {\n",
                            "    embed_document(root);\n",
                            "  } else {\n",
                            "    var attempts = 0;\n",
                            "    var timer = setInterval(function(root) {\n",
                            "      if (root.Bokeh !== undefined && root.Bokeh.Panel !== undefined) {\n",
                            "        clearInterval(timer);\n",
                            "        embed_document(root);\n",
                            "      } else if (document.readyState == \"complete\") {\n",
                            "        attempts++;\n",
                            "        if (attempts > 200) {\n",
                            "          clearInterval(timer);\n",
                            "          console.log(\"Bokeh: ERROR: Unable to run BokehJS code because BokehJS library is missing\");\n",
                            "        }\n",
                            "      }\n",
                            "    }, 25, root)\n",
                            "  }\n",
                            "})(window);</script>"
                        ],
                        "text/plain": [
                            "Tabs\n",
                            "    [0] JSON(list, name='numerical')\n",
                            "    [1] JSON(list, name='cat_cols')\n",
                            "    [2] JSON(list, name='date_cols')\n",
                            "    [3] JSON(list, name='bool_cols')"
                        ]
                    },
                    "execution_count": 22,
                    "metadata": {
                        "application/vnd.holoviews_exec.v0+json": {
                            "id": "1002"
                        }
                    },
                    "output_type": "execute_result"
                }
            ],
            "source": [
                "%%time\n",
                "types = {\n",
                "    'numerical': dp.list_numerical_columns,\n",
                "    'cat_cols': dp.list_categorical_columns,\n",
                "    'date_cols': dp.list_datelike_columns,\n",
                "    'bool_cols': dp.list_boolean_columns\n",
                "}\n",
                "utils.display_as_tabs([(k,v(final_df)) for k,v in types.items()])"
            ]
        },
        {
            "cell_type": "markdown",
            "metadata": {},
            "source": [
                "# Missing values Handling \n",
                "\n",
                "Handling them pre train-test-split as the features here are historic and can be imputed by considering the entire data"
            ]
        },
        {
            "cell_type": "code",
            "execution_count": 23,
            "metadata": {},
            "outputs": [
                {
                    "name": "stderr",
                    "output_type": "stream",
                    "text": [
                        "[Stage 46:==============================================>           (4 + 1) / 5]\r"
                    ]
                },
                {
                    "name": "stdout",
                    "output_type": "stream",
                    "text": [
                        "CPU times: user 405 ms, sys: 74.8 ms, total: 480 ms\n",
                        "Wall time: 47.6 s\n"
                    ]
                },
                {
                    "name": "stderr",
                    "output_type": "stream",
                    "text": [
                        "                                                                                \r"
                    ]
                },
                {
                    "data": {
                        "text/html": [
                            "<div>\n",
                            "<style scoped>\n",
                            "    .dataframe tbody tr th:only-of-type {\n",
                            "        vertical-align: middle;\n",
                            "    }\n",
                            "\n",
                            "    .dataframe tbody tr th {\n",
                            "        vertical-align: top;\n",
                            "    }\n",
                            "\n",
                            "    .dataframe thead th {\n",
                            "        text-align: right;\n",
                            "    }\n",
                            "</style>\n",
                            "<table border=\"1\" class=\"dataframe\">\n",
                            "  <thead>\n",
                            "    <tr style=\"text-align: right;\">\n",
                            "      <th></th>\n",
                            "      <th>trip_id</th>\n",
                            "      <th>pickup_date</th>\n",
                            "      <th>vehicle_type</th>\n",
                            "      <th>origin_zip</th>\n",
                            "      <th>destination_zip</th>\n",
                            "      <th>origin_market_id</th>\n",
                            "      <th>destination_market_id</th>\n",
                            "      <th>distance</th>\n",
                            "      <th>market_rate_per_mile</th>\n",
                            "      <th>national_price</th>\n",
                            "      <th>pastmonth_avg</th>\n",
                            "      <th>pastweek_avg</th>\n",
                            "      <th>carrier_price</th>\n",
                            "    </tr>\n",
                            "  </thead>\n",
                            "  <tbody>\n",
                            "    <tr>\n",
                            "      <th>0</th>\n",
                            "      <td>0</td>\n",
                            "      <td>0</td>\n",
                            "      <td>0</td>\n",
                            "      <td>0</td>\n",
                            "      <td>0</td>\n",
                            "      <td>0</td>\n",
                            "      <td>0</td>\n",
                            "      <td>0</td>\n",
                            "      <td>0</td>\n",
                            "      <td>0</td>\n",
                            "      <td>0</td>\n",
                            "      <td>0</td>\n",
                            "      <td>0</td>\n",
                            "    </tr>\n",
                            "  </tbody>\n",
                            "</table>\n",
                            "</div>"
                        ],
                        "text/plain": [
                            "   trip_id  pickup_date  vehicle_type  origin_zip  destination_zip  \\\n",
                            "0        0            0             0           0                0   \n",
                            "\n",
                            "   origin_market_id  destination_market_id  distance  market_rate_per_mile  \\\n",
                            "0                 0                      0         0                     0   \n",
                            "\n",
                            "   national_price  pastmonth_avg  pastweek_avg  carrier_price  \n",
                            "0               0              0             0              0  "
                        ]
                    },
                    "execution_count": 23,
                    "metadata": {},
                    "output_type": "execute_result"
                }
            ],
            "source": [
                "%%time\n",
                "dp.identify_missing_values(final_df).toPandas()"
            ]
        },
        {
            "attachments": {},
            "cell_type": "markdown",
            "metadata": {},
            "source": [
                "### Missing value imputation using Pyspark ml Imputer for the \"numerical\" columns.\n",
                "Below code block performs missing value imputation using Pyspark ml Imputer ( https://spark.apache.org/docs/latest/api/python/reference/api/pyspark.ml.feature.Imputer.html) for the \"numerical\" columns of a given DataFrame `final_df`. This function handles isnan() and  isNull() values.\n",
                "\n",
                "\n",
                "1. An `Imputer` object is created with the `inputCols`, `outputCols` and `strategy` parameters. Here, `inputCols` and `outputCols` are set to `national_price` since we want to impute missing values for the this columns only, and the imputation strategy is set to \"mean\".\n",
                "\n",
                "2. The `fit()` method is called on the `Imputer` object to create an imputation model based on the given DataFrame `final_df`. \n",
                "\n",
                "3. Finally, the `transform()` method is called on the imputer model to impute missing values in the original DataFrame `final_df`, and the imputed DataFrame is stored in the `imputed_data` variable."
            ]
        },
        {
            "cell_type": "code",
            "execution_count": 24,
            "metadata": {},
            "outputs": [
                {
                    "name": "stderr",
                    "output_type": "stream",
                    "text": [
                        "                                                                                \r"
                    ]
                },
                {
                    "name": "stdout",
                    "output_type": "stream",
                    "text": [
                        "Total number of rows:\t143948\n",
                        "Total number of columns:\t13\n"
                    ]
                },
                {
                    "name": "stderr",
                    "output_type": "stream",
                    "text": [
                        "[Stage 87:==============================================>           (4 + 1) / 5]\r"
                    ]
                },
                {
                    "name": "stdout",
                    "output_type": "stream",
                    "text": [
                        "CPU times: user 634 ms, sys: 191 ms, total: 825 ms\n",
                        "Wall time: 1min 42s\n"
                    ]
                },
                {
                    "name": "stderr",
                    "output_type": "stream",
                    "text": [
                        "                                                                                \r"
                    ]
                },
                {
                    "data": {
                        "text/html": [
                            "<div>\n",
                            "<style scoped>\n",
                            "    .dataframe tbody tr th:only-of-type {\n",
                            "        vertical-align: middle;\n",
                            "    }\n",
                            "\n",
                            "    .dataframe tbody tr th {\n",
                            "        vertical-align: top;\n",
                            "    }\n",
                            "\n",
                            "    .dataframe thead th {\n",
                            "        text-align: right;\n",
                            "    }\n",
                            "</style>\n",
                            "<table border=\"1\" class=\"dataframe\">\n",
                            "  <thead>\n",
                            "    <tr style=\"text-align: right;\">\n",
                            "      <th></th>\n",
                            "      <th>trip_id</th>\n",
                            "      <th>pickup_date</th>\n",
                            "      <th>vehicle_type</th>\n",
                            "      <th>origin_zip</th>\n",
                            "      <th>destination_zip</th>\n",
                            "      <th>origin_market_id</th>\n",
                            "      <th>destination_market_id</th>\n",
                            "      <th>distance</th>\n",
                            "      <th>market_rate_per_mile</th>\n",
                            "      <th>national_price</th>\n",
                            "      <th>pastmonth_avg</th>\n",
                            "      <th>pastweek_avg</th>\n",
                            "      <th>carrier_price</th>\n",
                            "    </tr>\n",
                            "  </thead>\n",
                            "  <tbody>\n",
                            "    <tr>\n",
                            "      <th>0</th>\n",
                            "      <td>0</td>\n",
                            "      <td>0</td>\n",
                            "      <td>0</td>\n",
                            "      <td>0</td>\n",
                            "      <td>0</td>\n",
                            "      <td>0</td>\n",
                            "      <td>0</td>\n",
                            "      <td>0</td>\n",
                            "      <td>0</td>\n",
                            "      <td>0</td>\n",
                            "      <td>0</td>\n",
                            "      <td>0</td>\n",
                            "      <td>0</td>\n",
                            "    </tr>\n",
                            "  </tbody>\n",
                            "</table>\n",
                            "</div>"
                        ],
                        "text/plain": [
                            "   trip_id  pickup_date  vehicle_type  origin_zip  destination_zip  \\\n",
                            "0        0            0             0           0                0   \n",
                            "\n",
                            "   origin_market_id  destination_market_id  distance  market_rate_per_mile  \\\n",
                            "0                 0                      0         0                     0   \n",
                            "\n",
                            "   national_price  pastmonth_avg  pastweek_avg  carrier_price  \n",
                            "0               0              0             0              0  "
                        ]
                    },
                    "execution_count": 24,
                    "metadata": {},
                    "output_type": "execute_result"
                }
            ],
            "source": [
                "%%time\n",
                "imputer = Imputer(inputCol=\"national_price\", outputCol=\"national_price\", strategy='mean')\n",
                "imputer_transform = imputer.fit(final_df)\n",
                "imputed_data = imputer_transform.transform(final_df)\n",
                "print(f\"Total number of rows:\\t{imputed_data.count()}\")\n",
                "print(f\"Total number of columns:\\t{len(imputed_data.columns)}\")\n",
                "dp.identify_missing_values(imputed_data).toPandas()"
            ]
        },
        {
            "cell_type": "markdown",
            "metadata": {},
            "source": [
                "# Train Test Split of the Model Data\n",
                "\n",
                "We split the data into train, test (optionally, also a validation dataset).\n",
                "In this example, we are stratifying the data by target variable classes and split the data with 70% in train and remaining in test data."
            ]
        },
        {
            "cell_type": "code",
            "execution_count": 25,
            "metadata": {},
            "outputs": [
                {
                    "name": "stdout",
                    "output_type": "stream",
                    "text": [
                        "CPU times: user 13.6 ms, sys: 1.47 ms, total: 15.1 ms\n",
                        "Wall time: 138 ms\n"
                    ]
                }
            ],
            "source": [
                "%%time\n",
                "train_df, test_df = dp.test_train_split(\n",
                "    spark,\n",
                "    data=final_df,\n",
                "    target_col=\"carrier_price\",\n",
                "    train_prop=0.7,\n",
                "    random_seed=random_seed,\n",
                "    stratify=True,\n",
                "    target_type=\"continuous\"\n",
                ")"
            ]
        },
        {
            "cell_type": "markdown",
            "metadata": {},
            "source": [
                "### Saving the train and test data\n",
                "We save the data into the Databricks filestore as per the path specified in the data config file."
            ]
        },
        {
            "cell_type": "code",
            "execution_count": 26,
            "metadata": {},
            "outputs": [
                {
                    "name": "stderr",
                    "output_type": "stream",
                    "text": [
                        "                                                                                \r"
                    ]
                },
                {
                    "name": "stdout",
                    "output_type": "stream",
                    "text": [
                        "CPU times: user 213 ms, sys: 131 ms, total: 344 ms\n",
                        "Wall time: 2min 8s\n"
                    ]
                }
            ],
            "source": [
                "%%time\n",
                "train_data_path = data_config['processed']['base_path'] + data_config['processed']['train']\n",
                "test_data_path = data_config['processed']['base_path'] + data_config['processed']['test']\n",
                "\n",
                "train_df.write.mode(\"overwrite\").parquet(train_data_path)\n",
                "test_df.write.mode(\"overwrite\").parquet(test_data_path)"
            ]
        }
    ],
    "metadata": {
        "kernelspec": {
            "display_name": "ta-lib-pyspark-test-1.1.4-dev",
            "language": "python",
            "name": "python3"
        },
        "language_info": {
            "codemirror_mode": {
                "name": "ipython",
                "version": 3
            },
            "file_extension": ".py",
            "mimetype": "text/x-python",
            "name": "python",
            "nbconvert_exporter": "python",
            "pygments_lexer": "ipython3",
            "version": "3.9.16"
        }
    },
    "nbformat": 4,
    "nbformat_minor": 4
}
